{
  "cells": [
    {
      "cell_type": "markdown",
      "metadata": {
        "id": "IwymkzhzYoPa"
      },
      "source": [
        "# Softmax Regression PyTorch with MNIST\n",
        "- **Task**: Classification\n",
        "- **Data**: MNIST Dataset\n",
        "- **Model**: Softmax Regression\n",
        "- **Loss function**: Cross Entropy Loss\n",
        "- **Optimization**: Stochastic Gradient Descent"
      ]
    },
    {
      "cell_type": "code",
      "execution_count": 15,
      "metadata": {
        "colab": {
          "base_uri": "https://localhost:8080/"
        },
        "id": "Ao8nws0Unz3B",
        "outputId": "7b8dd704-5a85-4873-cf6c-98028ace094e"
      },
      "outputs": [
        {
          "name": "stdout",
          "output_type": "stream",
          "text": [
            "Author: Nguyen Van Sy Thinh\n",
            "\n",
            "Python implementation: CPython\n",
            "Python version       : 3.10.12\n",
            "IPython version      : 7.34.0\n",
            "\n",
            "torch: 2.3.0+cu121\n",
            "\n"
          ]
        }
      ],
      "source": [
        "%load_ext watermark\n",
        "%watermark -a 'Nguyen Van Sy Thinh' -v -p torch"
      ]
    },
    {
      "cell_type": "markdown",
      "metadata": {
        "id": "k4Fm8LFQYxJi"
      },
      "source": [
        "## 1. Import Library"
      ]
    },
    {
      "cell_type": "code",
      "execution_count": 2,
      "metadata": {
        "id": "hdWQADB0ZFYP"
      },
      "outputs": [],
      "source": [
        "import torch\n",
        "import torchvision.transforms as transforms\n",
        "from torchvision import datasets\n",
        "import matplotlib.pyplot as plt\n",
        "import time"
      ]
    },
    {
      "cell_type": "markdown",
      "metadata": {
        "id": "DkYKMYX8YygA"
      },
      "source": [
        "## 2. Data"
      ]
    },
    {
      "cell_type": "markdown",
      "metadata": {
        "id": "sXZrwCVrZIWw"
      },
      "source": [
        "### 2.1. MNIST Dataset"
      ]
    },
    {
      "cell_type": "code",
      "execution_count": 3,
      "metadata": {
        "colab": {
          "base_uri": "https://localhost:8080/"
        },
        "id": "wZlmQGmpYPcr",
        "outputId": "7048db92-0fea-4ac8-d290-34a3213a3a54"
      },
      "outputs": [
        {
          "name": "stdout",
          "output_type": "stream",
          "text": [
            "Downloading http://yann.lecun.com/exdb/mnist/train-images-idx3-ubyte.gz\n",
            "Failed to download (trying next):\n",
            "HTTP Error 403: Forbidden\n",
            "\n",
            "Downloading https://ossci-datasets.s3.amazonaws.com/mnist/train-images-idx3-ubyte.gz\n",
            "Downloading https://ossci-datasets.s3.amazonaws.com/mnist/train-images-idx3-ubyte.gz to ./data/MNIST/raw/train-images-idx3-ubyte.gz\n"
          ]
        },
        {
          "name": "stderr",
          "output_type": "stream",
          "text": [
            "100%|██████████| 9912422/9912422 [00:00<00:00, 15862374.27it/s]\n"
          ]
        },
        {
          "name": "stdout",
          "output_type": "stream",
          "text": [
            "Extracting ./data/MNIST/raw/train-images-idx3-ubyte.gz to ./data/MNIST/raw\n",
            "\n",
            "Downloading http://yann.lecun.com/exdb/mnist/train-labels-idx1-ubyte.gz\n",
            "Failed to download (trying next):\n",
            "HTTP Error 403: Forbidden\n",
            "\n",
            "Downloading https://ossci-datasets.s3.amazonaws.com/mnist/train-labels-idx1-ubyte.gz\n",
            "Downloading https://ossci-datasets.s3.amazonaws.com/mnist/train-labels-idx1-ubyte.gz to ./data/MNIST/raw/train-labels-idx1-ubyte.gz\n"
          ]
        },
        {
          "name": "stderr",
          "output_type": "stream",
          "text": [
            "100%|██████████| 28881/28881 [00:00<00:00, 481279.70it/s]\n"
          ]
        },
        {
          "name": "stdout",
          "output_type": "stream",
          "text": [
            "Extracting ./data/MNIST/raw/train-labels-idx1-ubyte.gz to ./data/MNIST/raw\n",
            "\n",
            "Downloading http://yann.lecun.com/exdb/mnist/t10k-images-idx3-ubyte.gz\n",
            "Failed to download (trying next):\n",
            "HTTP Error 403: Forbidden\n",
            "\n",
            "Downloading https://ossci-datasets.s3.amazonaws.com/mnist/t10k-images-idx3-ubyte.gz\n",
            "Downloading https://ossci-datasets.s3.amazonaws.com/mnist/t10k-images-idx3-ubyte.gz to ./data/MNIST/raw/t10k-images-idx3-ubyte.gz\n"
          ]
        },
        {
          "name": "stderr",
          "output_type": "stream",
          "text": [
            "100%|██████████| 1648877/1648877 [00:00<00:00, 4422819.06it/s]\n"
          ]
        },
        {
          "name": "stdout",
          "output_type": "stream",
          "text": [
            "Extracting ./data/MNIST/raw/t10k-images-idx3-ubyte.gz to ./data/MNIST/raw\n",
            "\n",
            "Downloading http://yann.lecun.com/exdb/mnist/t10k-labels-idx1-ubyte.gz\n",
            "Failed to download (trying next):\n",
            "HTTP Error 403: Forbidden\n",
            "\n",
            "Downloading https://ossci-datasets.s3.amazonaws.com/mnist/t10k-labels-idx1-ubyte.gz\n",
            "Downloading https://ossci-datasets.s3.amazonaws.com/mnist/t10k-labels-idx1-ubyte.gz to ./data/MNIST/raw/t10k-labels-idx1-ubyte.gz\n"
          ]
        },
        {
          "name": "stderr",
          "output_type": "stream",
          "text": [
            "100%|██████████| 4542/4542 [00:00<00:00, 3992984.44it/s]"
          ]
        },
        {
          "name": "stdout",
          "output_type": "stream",
          "text": [
            "Extracting ./data/MNIST/raw/t10k-labels-idx1-ubyte.gz to ./data/MNIST/raw\n",
            "\n"
          ]
        },
        {
          "name": "stderr",
          "output_type": "stream",
          "text": [
            "\n"
          ]
        }
      ],
      "source": [
        "# Loading training data\n",
        "train_dataset = datasets.MNIST(root='./data',\n",
        "                               train=True,\n",
        "                               transform=transforms.ToTensor(),\n",
        "                               download=True)\n",
        "# Loading test data\n",
        "test_dataset = datasets.MNIST(root='./data',\n",
        "                              train=False,\n",
        "                              transform=transforms.ToTensor())"
      ]
    },
    {
      "cell_type": "markdown",
      "metadata": {
        "id": "zu2xayHAZ6px"
      },
      "source": [
        "### 2.2. Data Information"
      ]
    },
    {
      "cell_type": "code",
      "execution_count": 4,
      "metadata": {
        "colab": {
          "base_uri": "https://localhost:8080/"
        },
        "id": "NKGIXwVkZLJl",
        "outputId": "a92c8488-48be-4fb9-d31b-84c52d7d411b"
      },
      "outputs": [
        {
          "name": "stdout",
          "output_type": "stream",
          "text": [
            "Number of training samples: 60000\n",
            "Number of testing samples: 10000\n"
          ]
        }
      ],
      "source": [
        "print(f\"Number of training samples: {len(train_dataset)}\")\n",
        "print(f\"Number of testing samples: {len(test_dataset)}\")"
      ]
    },
    {
      "cell_type": "code",
      "execution_count": 5,
      "metadata": {
        "colab": {
          "base_uri": "https://localhost:8080/"
        },
        "id": "mEchSn6wZw3d",
        "outputId": "60cf7d60-f52b-4edb-8d3e-b7c3b3c820c3"
      },
      "outputs": [
        {
          "name": "stdout",
          "output_type": "stream",
          "text": [
            "Datatype of the 1st training sample: torch.FloatTensor\n",
            "Size of the 1st training sample: torch.Size([1, 28, 28])\n"
          ]
        }
      ],
      "source": [
        "print(f\"Datatype of the 1st training sample: {train_dataset[0][0].type()}\")\n",
        "print(f\"Size of the 1st training sample: {train_dataset[0][0].size()}\")"
      ]
    },
    {
      "cell_type": "markdown",
      "metadata": {
        "id": "VMYEKrRLZ8ht"
      },
      "source": [
        "### 2.3. Data Visualization"
      ]
    },
    {
      "cell_type": "code",
      "execution_count": 6,
      "metadata": {
        "colab": {
          "base_uri": "https://localhost:8080/",
          "height": 430
        },
        "id": "mZMW-Ox-Z9pv",
        "outputId": "12ab8c15-4469-4a54-81e3-e10d65652ca3"
      },
      "outputs": [
        {
          "data": {
            "image/png": "[encoded data removed]",
            "text/plain": [
              "<Figure size 640x480 with 1 Axes>"
            ]
          },
          "metadata": {},
          "output_type": "display_data"
        }
      ],
      "source": [
        "img_5 = train_dataset[0][0].numpy().reshape(28, 28)\n",
        "plt.imshow(img_5, cmap='gray')\n",
        "plt.show()"
      ]
    },
    {
      "cell_type": "markdown",
      "metadata": {
        "id": "D5vH5DHDaSpE"
      },
      "source": [
        "### 2.4. Load Dataset into DataLoader"
      ]
    },
    {
      "cell_type": "code",
      "execution_count": 7,
      "metadata": {
        "id": "xsZmSX64aVF4"
      },
      "outputs": [],
      "source": [
        "from torch.utils.data import DataLoader\n",
        "\n",
        "# Load train and test data samples into dataloader\n",
        "batach_size = 32\n",
        "train_loader = DataLoader(dataset=train_dataset, batch_size=batach_size, shuffle=True)\n",
        "test_loader = DataLoader(dataset=test_dataset, batch_size=batach_size, shuffle=False)"
      ]
    },
    {
      "cell_type": "markdown",
      "metadata": {
        "id": "32MkQnmuaZT4"
      },
      "source": [
        "## 3. Model"
      ]
    },
    {
      "cell_type": "code",
      "execution_count": 8,
      "metadata": {
        "id": "-k6pAeghaaGv"
      },
      "outputs": [],
      "source": [
        "import torch\n",
        "import torch.nn as nn\n",
        "\n",
        "class SoftmaxRegressionModel(nn.Module):\n",
        "    def __init__(self, n_inputs, n_outputs):\n",
        "        super().__init__()\n",
        "        self.linear = nn.Linear(n_inputs, n_outputs)\n",
        "\n",
        "    def forward(self, x):\n",
        "        output = self.linear(x)\n",
        "        return output"
      ]
    },
    {
      "cell_type": "code",
      "execution_count": 9,
      "metadata": {
        "id": "gNOq0pHdjmeY"
      },
      "outputs": [],
      "source": [
        "N_INPUTS = 28*28 # makes a 1D vector of 784\n",
        "N_OUTPUTS = 10"
      ]
    },
    {
      "cell_type": "code",
      "execution_count": 11,
      "metadata": {
        "id": "vdmDzHLUjWjh"
      },
      "outputs": [],
      "source": [
        "model = SoftmaxRegressionModel(n_inputs=N_INPUTS, n_outputs=N_OUTPUTS)"
      ]
    },
    {
      "cell_type": "markdown",
      "metadata": {
        "id": "LSc4P6BLjtGd"
      },
      "source": [
        "## 4. Loss Function and Optimization"
      ]
    },
    {
      "cell_type": "code",
      "execution_count": 12,
      "metadata": {
        "id": "5e5mUCrqjvo6"
      },
      "outputs": [],
      "source": [
        "LR = 0.001\n",
        "EPOCHS = 50"
      ]
    },
    {
      "cell_type": "code",
      "execution_count": 13,
      "metadata": {
        "id": "HyefEJxQjyOs"
      },
      "outputs": [],
      "source": [
        "criterion = torch.nn.CrossEntropyLoss()\n",
        "optimizer = torch.optim.SGD(model.parameters(), lr=LR)"
      ]
    },
    {
      "cell_type": "markdown",
      "metadata": {
        "id": "zMIMDD5sj4EO"
      },
      "source": [
        "## 5. Train"
      ]
    },
    {
      "cell_type": "code",
      "execution_count": 16,
      "metadata": {
        "colab": {
          "base_uri": "https://localhost:8080/"
        },
        "id": "eALWXZMTj3PR",
        "outputId": "708068a4-e1f3-4a7a-8b0e-80833adbe0f2"
      },
      "outputs": [
        {
          "name": "stdout",
          "output_type": "stream",
          "text": [
            "[1/50] Epoch, Loss 1.1627, Accuracy 80.4500, Time: 12.6259s\n",
            "[2/50] Epoch, Loss 1.0198, Accuracy 83.8200, Time: 9.0285s\n",
            "[3/50] Epoch, Loss 0.7184, Accuracy 85.1300, Time: 8.2322s\n",
            "[4/50] Epoch, Loss 0.5811, Accuracy 86.1800, Time: 8.4397s\n",
            "[5/50] Epoch, Loss 0.6802, Accuracy 86.9600, Time: 8.7937s\n",
            "[6/50] Epoch, Loss 0.8986, Accuracy 87.4100, Time: 8.7303s\n",
            "[7/50] Epoch, Loss 0.4496, Accuracy 87.7500, Time: 8.0176s\n",
            "[8/50] Epoch, Loss 0.4439, Accuracy 87.9700, Time: 8.8434s\n",
            "[9/50] Epoch, Loss 0.6221, Accuracy 88.1300, Time: 8.9268s\n",
            "[10/50] Epoch, Loss 0.4692, Accuracy 88.3900, Time: 8.1867s\n",
            "[11/50] Epoch, Loss 0.3726, Accuracy 88.5100, Time: 8.7819s\n",
            "[12/50] Epoch, Loss 0.5051, Accuracy 88.6900, Time: 9.6966s\n",
            "[13/50] Epoch, Loss 0.3861, Accuracy 88.8300, Time: 8.8526s\n",
            "[14/50] Epoch, Loss 0.3735, Accuracy 88.9900, Time: 8.1104s\n",
            "[15/50] Epoch, Loss 0.3313, Accuracy 89.1200, Time: 8.8381s\n",
            "[16/50] Epoch, Loss 0.4876, Accuracy 89.3100, Time: 8.8599s\n",
            "[17/50] Epoch, Loss 0.4023, Accuracy 89.4200, Time: 8.4432s\n",
            "[18/50] Epoch, Loss 0.6260, Accuracy 89.4700, Time: 8.6289s\n",
            "[19/50] Epoch, Loss 0.3442, Accuracy 89.5600, Time: 8.8962s\n",
            "[20/50] Epoch, Loss 0.5290, Accuracy 89.6500, Time: 8.9061s\n",
            "[21/50] Epoch, Loss 0.2135, Accuracy 89.7000, Time: 8.2024s\n",
            "[22/50] Epoch, Loss 0.4191, Accuracy 89.8100, Time: 8.7548s\n",
            "[23/50] Epoch, Loss 0.7869, Accuracy 89.8100, Time: 8.8708s\n",
            "[24/50] Epoch, Loss 0.3202, Accuracy 89.9500, Time: 8.3583s\n",
            "[25/50] Epoch, Loss 0.2397, Accuracy 89.9800, Time: 8.6732s\n",
            "[26/50] Epoch, Loss 0.4228, Accuracy 90.0700, Time: 8.8761s\n",
            "[27/50] Epoch, Loss 0.3241, Accuracy 90.0600, Time: 8.8677s\n",
            "[28/50] Epoch, Loss 0.5089, Accuracy 90.1600, Time: 8.1553s\n",
            "[29/50] Epoch, Loss 0.4413, Accuracy 90.2300, Time: 8.8541s\n",
            "[30/50] Epoch, Loss 0.4314, Accuracy 90.2400, Time: 8.8712s\n",
            "[31/50] Epoch, Loss 0.3495, Accuracy 90.3500, Time: 8.3918s\n",
            "[32/50] Epoch, Loss 0.4973, Accuracy 90.3600, Time: 8.6301s\n",
            "[33/50] Epoch, Loss 0.4462, Accuracy 90.4700, Time: 8.8690s\n",
            "[34/50] Epoch, Loss 0.4431, Accuracy 90.4200, Time: 8.7843s\n",
            "[35/50] Epoch, Loss 0.3454, Accuracy 90.4400, Time: 8.1219s\n",
            "[36/50] Epoch, Loss 0.2156, Accuracy 90.4800, Time: 8.8029s\n",
            "[37/50] Epoch, Loss 0.4631, Accuracy 90.4800, Time: 8.8317s\n",
            "[38/50] Epoch, Loss 0.2040, Accuracy 90.5500, Time: 8.1045s\n",
            "[39/50] Epoch, Loss 0.5239, Accuracy 90.5700, Time: 8.8585s\n",
            "[40/50] Epoch, Loss 0.2508, Accuracy 90.5900, Time: 8.8534s\n",
            "[41/50] Epoch, Loss 0.1981, Accuracy 90.6600, Time: 8.8674s\n",
            "[42/50] Epoch, Loss 0.4168, Accuracy 90.6300, Time: 8.1902s\n",
            "[43/50] Epoch, Loss 0.2499, Accuracy 90.6900, Time: 8.8217s\n",
            "[44/50] Epoch, Loss 0.2488, Accuracy 90.7000, Time: 8.8461s\n",
            "[45/50] Epoch, Loss 0.5406, Accuracy 90.7400, Time: 8.0824s\n",
            "[46/50] Epoch, Loss 0.4851, Accuracy 90.7900, Time: 8.7903s\n",
            "[47/50] Epoch, Loss 0.3577, Accuracy 90.8300, Time: 8.8326s\n",
            "[48/50] Epoch, Loss 0.4297, Accuracy 90.8300, Time: 8.7248s\n",
            "[49/50] Epoch, Loss 0.2990, Accuracy 90.9100, Time: 8.1815s\n",
            "[50/50] Epoch, Loss 0.2673, Accuracy 90.8900, Time: 8.7530s\n"
          ]
        }
      ],
      "source": [
        "losses = []\n",
        "accs = []\n",
        "for epoch in range(EPOCHS):\n",
        "    start_time = time.time()\n",
        "    # Train\n",
        "    for i, (images, labels) in enumerate(train_loader):\n",
        "        outputs = model(images.view(-1, 28*28))\n",
        "        loss = criterion(outputs, labels)\n",
        "        optimizer.zero_grad()\n",
        "        loss.backward()\n",
        "        optimizer.step()\n",
        "\n",
        "    # Validation\n",
        "    losses.append(loss.item())\n",
        "    correct = 0\n",
        "    for images, labels in test_loader:\n",
        "        outputs = model(images.view(-1, 28*28))\n",
        "        _, predicted = torch.max(outputs.data, 1)\n",
        "        correct += (predicted == labels).sum().item()\n",
        "    accuracy = 100 * correct / len(test_dataset)\n",
        "    accs.append(accuracy)\n",
        "    print(f'[{epoch + 1}/{EPOCHS}] Epoch, Loss {loss.item():.4f}, Accuracy {accuracy:.4f}, Time: {time.time() - start_time:.4f}s')"
      ]
    },
    {
      "cell_type": "markdown",
      "metadata": {
        "id": "vzDA7QbbluVY"
      },
      "source": [
        "## 6. Inference"
      ]
    },
    {
      "cell_type": "markdown",
      "metadata": {
        "id": "kdPXIboQmA0U"
      },
      "source": [
        "### 6.1. Loss Visualization"
      ]
    },
    {
      "cell_type": "code",
      "execution_count": 17,
      "metadata": {
        "colab": {
          "base_uri": "https://localhost:8080/",
          "height": 472
        },
        "id": "_LN5ErfolFuA",
        "outputId": "cbfe2cea-df2e-4075-8537-ec589604df9a"
      },
      "outputs": [
        {
          "data": {
            "image/png": "[encoded data removed]",
            "text/plain": [
              "<Figure size 640x480 with 1 Axes>"
            ]
          },
          "metadata": {},
          "output_type": "display_data"
        }
      ],
      "source": [
        "plt.plot(losses)\n",
        "plt.xlabel(\"no. of epochs\")\n",
        "plt.ylabel(\"total loss\")\n",
        "plt.title(\"Loss\")\n",
        "plt.show()"
      ]
    },
    {
      "cell_type": "markdown",
      "metadata": {
        "id": "K2WdvMVomFp7"
      },
      "source": [
        "### 6.2. Accuracy"
      ]
    },
    {
      "cell_type": "code",
      "execution_count": 18,
      "metadata": {
        "colab": {
          "base_uri": "https://localhost:8080/",
          "height": 472
        },
        "id": "vZhkDhgrmEcS",
        "outputId": "13d050b5-f3e2-4957-af32-64193f6e9fab"
      },
      "outputs": [
        {
          "data": {
            "image/png": "[encoded data removed]",
            "text/plain": [
              "<Figure size 640x480 with 1 Axes>"
            ]
          },
          "metadata": {},
          "output_type": "display_data"
        }
      ],
      "source": [
        "plt.plot(accs)\n",
        "plt.xlabel(\"no. of epochs\")\n",
        "plt.ylabel(\"total accuracy\")\n",
        "plt.title(\"Accuracy\")\n",
        "plt.show()"
      ]
    },
    {
      "cell_type": "markdown",
      "metadata": {},
      "source": [
        "## 7. Conclusion\n",
        "- **Accuracy**: 90.91%"
      ]
    }
  ],
  "metadata": {
    "accelerator": "GPU",
    "colab": {
      "gpuType": "T4",
      "provenance": []
    },
    "kernelspec": {
      "display_name": "Python 3",
      "name": "python3"
    },
    "language_info": {
      "name": "python"
    }
  },
  "nbformat": 4,
  "nbformat_minor": 0
}
