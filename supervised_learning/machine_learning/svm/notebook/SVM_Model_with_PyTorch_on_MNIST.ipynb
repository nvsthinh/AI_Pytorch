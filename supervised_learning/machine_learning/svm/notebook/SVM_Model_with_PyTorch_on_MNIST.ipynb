{
  "nbformat": 4,
  "nbformat_minor": 0,
  "metadata": {
    "colab": {
      "provenance": []
    },
    "kernelspec": {
      "name": "python3",
      "display_name": "Python 3"
    },
    "language_info": {
      "name": "python"
    }
  },
  "cells": [
    {
      "cell_type": "markdown",
      "source": [
        "# SVM PyTorch with MNIST [0 and 1]\n",
        "- **Task**: Classification\n",
        "- **Data**: MNIST Dataset\n",
        "- **Model**: SVM\n",
        "- **Loss function**: SVM Loss\n",
        "- **Optimization**: Stochastic Gradient Descent"
      ],
      "metadata": {
        "id": "IwymkzhzYoPa"
      }
    },
    {
      "cell_type": "code",
      "source": [
        "!pip install -q watermark"
      ],
      "metadata": {
        "id": "hbDpUbP4VJFo",
        "colab": {
          "base_uri": "https://localhost:8080/"
        },
        "outputId": "f8174dc2-396e-4d4a-8783-6fcb463e3160"
      },
      "execution_count": 1,
      "outputs": [
        {
          "output_type": "stream",
          "name": "stdout",
          "text": [
            "\u001b[2K     \u001b[90m━━━━━━━━━━━━━━━━━━━━━━━━━━━━━━━━━━━━━━━━\u001b[0m \u001b[32m1.6/1.6 MB\u001b[0m \u001b[31m11.3 MB/s\u001b[0m eta \u001b[36m0:00:00\u001b[0m\n",
            "\u001b[?25h"
          ]
        }
      ]
    },
    {
      "cell_type": "code",
      "source": [
        "%load_ext watermark\n",
        "%watermark -a 'Nguyen Van Sy Thinh' -v -p torch"
      ],
      "metadata": {
        "colab": {
          "base_uri": "https://localhost:8080/"
        },
        "id": "Ao8nws0Unz3B",
        "outputId": "053683b5-212a-488c-c0cc-860aa9735b5a"
      },
      "execution_count": 2,
      "outputs": [
        {
          "output_type": "stream",
          "name": "stdout",
          "text": [
            "Author: Nguyen Van Sy Thinh\n",
            "\n",
            "Python implementation: CPython\n",
            "Python version       : 3.10.12\n",
            "IPython version      : 7.34.0\n",
            "\n",
            "torch: 2.3.0+cu121\n",
            "\n"
          ]
        }
      ]
    },
    {
      "cell_type": "markdown",
      "source": [
        "## 1. Import Library"
      ],
      "metadata": {
        "id": "k4Fm8LFQYxJi"
      }
    },
    {
      "cell_type": "code",
      "source": [
        "import torch\n",
        "import torch.nn as nn\n",
        "import torchvision.transforms as transforms\n",
        "from torch.utils.data.sampler import SubsetRandomSampler\n",
        "from torchvision import datasets\n",
        "import matplotlib.pyplot as plt\n",
        "import time\n",
        "device = torch.device(\"cuda\" if torch.cuda.is_available() else \"cpu\")"
      ],
      "metadata": {
        "id": "hdWQADB0ZFYP"
      },
      "execution_count": 23,
      "outputs": []
    },
    {
      "cell_type": "markdown",
      "source": [
        "## 2. Data"
      ],
      "metadata": {
        "id": "DkYKMYX8YygA"
      }
    },
    {
      "cell_type": "markdown",
      "source": [
        "### 2.1. MNIST Dataset"
      ],
      "metadata": {
        "id": "sXZrwCVrZIWw"
      }
    },
    {
      "cell_type": "code",
      "execution_count": 3,
      "metadata": {
        "id": "wZlmQGmpYPcr",
        "colab": {
          "base_uri": "https://localhost:8080/"
        },
        "outputId": "bd2c705b-22ff-4882-9dae-514c27ae1342"
      },
      "outputs": [
        {
          "output_type": "stream",
          "name": "stdout",
          "text": [
            "Downloading http://yann.lecun.com/exdb/mnist/train-images-idx3-ubyte.gz\n",
            "Failed to download (trying next):\n",
            "HTTP Error 403: Forbidden\n",
            "\n",
            "Downloading https://ossci-datasets.s3.amazonaws.com/mnist/train-images-idx3-ubyte.gz\n",
            "Downloading https://ossci-datasets.s3.amazonaws.com/mnist/train-images-idx3-ubyte.gz to ./data/MNIST/raw/train-images-idx3-ubyte.gz\n"
          ]
        },
        {
          "output_type": "stream",
          "name": "stderr",
          "text": [
            "100%|██████████| 9912422/9912422 [00:00<00:00, 45609957.60it/s]\n"
          ]
        },
        {
          "output_type": "stream",
          "name": "stdout",
          "text": [
            "Extracting ./data/MNIST/raw/train-images-idx3-ubyte.gz to ./data/MNIST/raw\n",
            "\n",
            "Downloading http://yann.lecun.com/exdb/mnist/train-labels-idx1-ubyte.gz\n",
            "Failed to download (trying next):\n",
            "HTTP Error 403: Forbidden\n",
            "\n",
            "Downloading https://ossci-datasets.s3.amazonaws.com/mnist/train-labels-idx1-ubyte.gz\n",
            "Downloading https://ossci-datasets.s3.amazonaws.com/mnist/train-labels-idx1-ubyte.gz to ./data/MNIST/raw/train-labels-idx1-ubyte.gz\n"
          ]
        },
        {
          "output_type": "stream",
          "name": "stderr",
          "text": [
            "100%|██████████| 28881/28881 [00:00<00:00, 1637588.46it/s]\n"
          ]
        },
        {
          "output_type": "stream",
          "name": "stdout",
          "text": [
            "Extracting ./data/MNIST/raw/train-labels-idx1-ubyte.gz to ./data/MNIST/raw\n",
            "\n",
            "Downloading http://yann.lecun.com/exdb/mnist/t10k-images-idx3-ubyte.gz\n",
            "Failed to download (trying next):\n",
            "HTTP Error 403: Forbidden\n",
            "\n",
            "Downloading https://ossci-datasets.s3.amazonaws.com/mnist/t10k-images-idx3-ubyte.gz\n",
            "Downloading https://ossci-datasets.s3.amazonaws.com/mnist/t10k-images-idx3-ubyte.gz to ./data/MNIST/raw/t10k-images-idx3-ubyte.gz\n"
          ]
        },
        {
          "output_type": "stream",
          "name": "stderr",
          "text": [
            "100%|██████████| 1648877/1648877 [00:00<00:00, 13299791.15it/s]\n"
          ]
        },
        {
          "output_type": "stream",
          "name": "stdout",
          "text": [
            "Extracting ./data/MNIST/raw/t10k-images-idx3-ubyte.gz to ./data/MNIST/raw\n",
            "\n",
            "Downloading http://yann.lecun.com/exdb/mnist/t10k-labels-idx1-ubyte.gz\n",
            "Failed to download (trying next):\n",
            "HTTP Error 403: Forbidden\n",
            "\n",
            "Downloading https://ossci-datasets.s3.amazonaws.com/mnist/t10k-labels-idx1-ubyte.gz\n",
            "Downloading https://ossci-datasets.s3.amazonaws.com/mnist/t10k-labels-idx1-ubyte.gz to ./data/MNIST/raw/t10k-labels-idx1-ubyte.gz\n"
          ]
        },
        {
          "output_type": "stream",
          "name": "stderr",
          "text": [
            "100%|██████████| 4542/4542 [00:00<00:00, 8225616.91it/s]"
          ]
        },
        {
          "output_type": "stream",
          "name": "stdout",
          "text": [
            "Extracting ./data/MNIST/raw/t10k-labels-idx1-ubyte.gz to ./data/MNIST/raw\n",
            "\n"
          ]
        },
        {
          "output_type": "stream",
          "name": "stderr",
          "text": [
            "\n"
          ]
        }
      ],
      "source": [
        "# Loading training data\n",
        "train_dataset = datasets.MNIST(root='./data',\n",
        "                               train=True,\n",
        "                               transform=transforms.Compose([\n",
        "                                transforms.ToTensor(),\n",
        "                                transforms.Normalize((0.1307,), (0.3081,))\n",
        "                               ]),\n",
        "                               download=True)\n",
        "# Loading test data\n",
        "test_dataset = datasets.MNIST(root='./data',\n",
        "                              train=False,\n",
        "                              transform=transforms.Compose([\n",
        "                                transforms.ToTensor(),\n",
        "                                transforms.Normalize((0.1307,), (0.3081,))\n",
        "                              ]))"
      ]
    },
    {
      "cell_type": "markdown",
      "source": [
        "### 2.2. Data Information"
      ],
      "metadata": {
        "id": "zu2xayHAZ6px"
      }
    },
    {
      "cell_type": "code",
      "source": [
        "print(f\"Number of training samples: {len(train_dataset)}\")\n",
        "print(f\"Number of testing samples: {len(test_dataset)}\")"
      ],
      "metadata": {
        "colab": {
          "base_uri": "https://localhost:8080/"
        },
        "id": "NKGIXwVkZLJl",
        "outputId": "2f4a99a6-1e1a-4ae7-b7f3-eba30f7d0a67"
      },
      "execution_count": 4,
      "outputs": [
        {
          "output_type": "stream",
          "name": "stdout",
          "text": [
            "Number of training samples: 60000\n",
            "Number of testing samples: 10000\n"
          ]
        }
      ]
    },
    {
      "cell_type": "code",
      "source": [
        "print(f\"Datatype of the 1st training sample: {train_dataset[0][0].type()}\")\n",
        "print(f\"Size of the 1st training sample: {train_dataset[0][0].size()}\")"
      ],
      "metadata": {
        "colab": {
          "base_uri": "https://localhost:8080/"
        },
        "id": "mEchSn6wZw3d",
        "outputId": "d116a5f5-b472-4225-f5ff-420d045ef1cc"
      },
      "execution_count": 5,
      "outputs": [
        {
          "output_type": "stream",
          "name": "stdout",
          "text": [
            "Datatype of the 1st training sample: torch.FloatTensor\n",
            "Size of the 1st training sample: torch.Size([1, 28, 28])\n"
          ]
        }
      ]
    },
    {
      "cell_type": "markdown",
      "source": [
        "### 2.3. Data Visualization"
      ],
      "metadata": {
        "id": "VMYEKrRLZ8ht"
      }
    },
    {
      "cell_type": "code",
      "source": [
        "img_5 = train_dataset[0][0].numpy().reshape(28, 28)\n",
        "plt.imshow(img_5, cmap='gray')\n",
        "plt.show()"
      ],
      "metadata": {
        "colab": {
          "base_uri": "https://localhost:8080/",
          "height": 430
        },
        "id": "mZMW-Ox-Z9pv",
        "outputId": "7d6a350d-02d6-469f-bc62-4c8e3e40d366"
      },
      "execution_count": 6,
      "outputs": [
        {
          "output_type": "display_data",
          "data": {
            "text/plain": [
              "<Figure size 640x480 with 1 Axes>"
            ],
            "image/png": "[encoded data removed]"
          },
          "metadata": {}
        }
      ]
    },
    {
      "cell_type": "markdown",
      "source": [
        "### 2.4. Load Dataset into DataLoader"
      ],
      "metadata": {
        "id": "D5vH5DHDaSpE"
      }
    },
    {
      "cell_type": "code",
      "source": [
        "from torch.utils.data import DataLoader\n",
        "\n",
        "# Load train and test data samples into dataloader\n",
        "batch_size = 64\n",
        "\n",
        "# Only select all samples with labels is 0 and 1\n",
        "train_indices = ((train_dataset.targets == 0) + (train_dataset.targets == 1)).nonzero().view(-1)\n",
        "test_indices = ((test_dataset.targets == 0) + (test_dataset.targets == 1)).nonzero().view(-1)\n",
        "train_dataset.targets[train_dataset.targets == 0] = -1\n",
        "train_dataset.targets[train_dataset.targets == 1] = 1\n",
        "test_dataset.targets[test_dataset.targets == 0] = -1\n",
        "test_dataset.targets[test_dataset.targets == 1] = 1\n",
        "train_loader = DataLoader(dataset=train_dataset, batch_size=batch_size, shuffle=False, sampler=SubsetRandomSampler(train_indices))\n",
        "test_loader = DataLoader(dataset=test_dataset, batch_size=batch_size, shuffle=False, sampler=SubsetRandomSampler(test_indices))"
      ],
      "metadata": {
        "id": "xsZmSX64aVF4"
      },
      "execution_count": 49,
      "outputs": []
    },
    {
      "cell_type": "code",
      "source": [
        "print(f\"Number of training samples: {len(train_loader)}\")\n",
        "print(f\"Number of testing samples: {len(test_loader)}\")"
      ],
      "metadata": {
        "colab": {
          "base_uri": "https://localhost:8080/"
        },
        "id": "ql5zSGbeS4z7",
        "outputId": "edaff5cb-5b98-490b-ca83-1f7de3c07af9"
      },
      "execution_count": 50,
      "outputs": [
        {
          "output_type": "stream",
          "name": "stdout",
          "text": [
            "Number of training samples: 106\n",
            "Number of testing samples: 18\n"
          ]
        }
      ]
    },
    {
      "cell_type": "markdown",
      "source": [
        "## 3. Model"
      ],
      "metadata": {
        "id": "32MkQnmuaZT4"
      }
    },
    {
      "cell_type": "code",
      "source": [
        "class SVM(nn.Module):\n",
        "    def __init__(self, input_dim):\n",
        "        super(SVM, self).__init__()\n",
        "        self.linear = nn.Linear(input_dim, 1)\n",
        "\n",
        "    def forward(self, x):\n",
        "        return self.linear(x)"
      ],
      "metadata": {
        "id": "-k6pAeghaaGv"
      },
      "execution_count": 51,
      "outputs": []
    },
    {
      "cell_type": "code",
      "source": [
        "INPUT_DIM = 28*28 # makes a 1D vector of 784"
      ],
      "metadata": {
        "id": "gNOq0pHdjmeY"
      },
      "execution_count": 52,
      "outputs": []
    },
    {
      "cell_type": "code",
      "source": [
        "model = SVM(input_dim=INPUT_DIM)"
      ],
      "metadata": {
        "id": "vdmDzHLUjWjh"
      },
      "execution_count": 53,
      "outputs": []
    },
    {
      "cell_type": "markdown",
      "source": [
        "## 4. Loss Function and Optimization"
      ],
      "metadata": {
        "id": "LSc4P6BLjtGd"
      }
    },
    {
      "cell_type": "code",
      "source": [
        "LR = 0.001\n",
        "EPOCHS = 50"
      ],
      "metadata": {
        "id": "5e5mUCrqjvo6"
      },
      "execution_count": 54,
      "outputs": []
    },
    {
      "cell_type": "code",
      "source": [
        "class SVMLoss(nn.modules.Module):\n",
        "    def __init__(self):\n",
        "        super(SVMLoss,self).__init__()\n",
        "    def forward(self, outputs, labels):\n",
        "         return torch.sum(torch.clamp(1 - outputs.t()*labels, min=0))/batch_size"
      ],
      "metadata": {
        "id": "J3MmBD9POkE7"
      },
      "execution_count": 55,
      "outputs": []
    },
    {
      "cell_type": "code",
      "source": [
        "criterion = SVMLoss()\n",
        "optimizer = torch.optim.SGD(model.parameters(), lr=LR)"
      ],
      "metadata": {
        "id": "HyefEJxQjyOs"
      },
      "execution_count": 56,
      "outputs": []
    },
    {
      "cell_type": "markdown",
      "source": [
        "## 5. Train"
      ],
      "metadata": {
        "id": "zMIMDD5sj4EO"
      }
    },
    {
      "cell_type": "code",
      "source": [
        "for epoch in range(1, EPOCHS + 1):\n",
        "    model.train()\n",
        "    for batch_idx, (data, target) in enumerate(train_loader):\n",
        "        data, target = data.view(data.size(0), -1).to(device), target.to(device)\n",
        "        optimizer.zero_grad()\n",
        "        output = model(data)\n",
        "        loss = criterion(output, target)\n",
        "        loss.backward()\n",
        "        optimizer.step()\n",
        "        if batch_idx % 100 == 0:\n",
        "            print(f'Train Epoch: {epoch} [{batch_idx * len(data)}/{len(train_loader.dataset)}]\\tLoss: {loss.item():.6f}')\n",
        "\n",
        "    model.eval()\n",
        "    test_loss = 0\n",
        "    correct = 0\n",
        "    with torch.no_grad():\n",
        "        for data, target in test_loader:\n",
        "            data, target = data.view(data.size(0), -1).to(device), target.to(device)\n",
        "            output = model(data)\n",
        "            test_loss += criterion(output, target).item()\n",
        "            pred = output.sign()\n",
        "            correct += pred.eq(target.view_as(pred)).sum().item()\n",
        "\n",
        "    test_loss /= len(test_loader.dataset)\n",
        "    accuracy = 100. * correct / len(test_loader.dataset)\n",
        "    print(f'\\nTest set: Average loss: {test_loss:.4f}, Accuracy: {correct}/{len(test_loader.dataset)} ({accuracy:.2f}%)\\n')"
      ],
      "metadata": {
        "colab": {
          "base_uri": "https://localhost:8080/"
        },
        "id": "cqjy2NyMTK5U",
        "outputId": "b6b03400-16ca-44b6-80f6-cd275e88d849"
      },
      "execution_count": 57,
      "outputs": [
        {
          "output_type": "stream",
          "name": "stdout",
          "text": [
            "Train Epoch: 1 [0/60000]\tLoss: 1.289393\n",
            "Train Epoch: 1 [6400/60000]\tLoss: 0.000000\n",
            "\n",
            "Test set: Average loss: 0.0000, Accuracy: 1135/10000 (11.35%)\n",
            "\n",
            "Train Epoch: 2 [0/60000]\tLoss: 0.000000\n",
            "Train Epoch: 2 [6400/60000]\tLoss: 0.000000\n",
            "\n",
            "Test set: Average loss: 0.0000, Accuracy: 1135/10000 (11.35%)\n",
            "\n",
            "Train Epoch: 3 [0/60000]\tLoss: 0.000000\n",
            "Train Epoch: 3 [6400/60000]\tLoss: 0.000000\n",
            "\n",
            "Test set: Average loss: 0.0000, Accuracy: 1135/10000 (11.35%)\n",
            "\n",
            "Train Epoch: 4 [0/60000]\tLoss: 0.000000\n",
            "Train Epoch: 4 [6400/60000]\tLoss: 0.000882\n",
            "\n",
            "Test set: Average loss: 0.0000, Accuracy: 1135/10000 (11.35%)\n",
            "\n",
            "Train Epoch: 5 [0/60000]\tLoss: 0.000000\n",
            "Train Epoch: 5 [6400/60000]\tLoss: 0.004925\n",
            "\n",
            "Test set: Average loss: 0.0000, Accuracy: 1135/10000 (11.35%)\n",
            "\n",
            "Train Epoch: 6 [0/60000]\tLoss: 0.000000\n",
            "Train Epoch: 6 [6400/60000]\tLoss: 0.000000\n",
            "\n",
            "Test set: Average loss: 0.0000, Accuracy: 1135/10000 (11.35%)\n",
            "\n",
            "Train Epoch: 7 [0/60000]\tLoss: 0.000000\n",
            "Train Epoch: 7 [6400/60000]\tLoss: 0.000000\n",
            "\n",
            "Test set: Average loss: 0.0000, Accuracy: 1135/10000 (11.35%)\n",
            "\n",
            "Train Epoch: 8 [0/60000]\tLoss: 0.000000\n",
            "Train Epoch: 8 [6400/60000]\tLoss: 0.000000\n",
            "\n",
            "Test set: Average loss: 0.0000, Accuracy: 1135/10000 (11.35%)\n",
            "\n",
            "Train Epoch: 9 [0/60000]\tLoss: 0.000000\n",
            "Train Epoch: 9 [6400/60000]\tLoss: 0.002923\n",
            "\n",
            "Test set: Average loss: 0.0000, Accuracy: 1135/10000 (11.35%)\n",
            "\n",
            "Train Epoch: 10 [0/60000]\tLoss: 0.000000\n",
            "Train Epoch: 10 [6400/60000]\tLoss: 0.000000\n",
            "\n",
            "Test set: Average loss: 0.0000, Accuracy: 1135/10000 (11.35%)\n",
            "\n",
            "Train Epoch: 11 [0/60000]\tLoss: 0.000000\n",
            "Train Epoch: 11 [6400/60000]\tLoss: 0.000000\n",
            "\n",
            "Test set: Average loss: 0.0000, Accuracy: 1135/10000 (11.35%)\n",
            "\n",
            "Train Epoch: 12 [0/60000]\tLoss: 0.000000\n",
            "Train Epoch: 12 [6400/60000]\tLoss: 0.000000\n",
            "\n",
            "Test set: Average loss: 0.0000, Accuracy: 1135/10000 (11.35%)\n",
            "\n",
            "Train Epoch: 13 [0/60000]\tLoss: 0.000000\n",
            "Train Epoch: 13 [6400/60000]\tLoss: 0.000000\n",
            "\n",
            "Test set: Average loss: 0.0000, Accuracy: 1135/10000 (11.35%)\n",
            "\n",
            "Train Epoch: 14 [0/60000]\tLoss: 0.000000\n",
            "Train Epoch: 14 [6400/60000]\tLoss: 0.000000\n",
            "\n",
            "Test set: Average loss: 0.0000, Accuracy: 1135/10000 (11.35%)\n",
            "\n",
            "Train Epoch: 15 [0/60000]\tLoss: 0.000000\n",
            "Train Epoch: 15 [6400/60000]\tLoss: 0.000000\n",
            "\n",
            "Test set: Average loss: 0.0000, Accuracy: 1135/10000 (11.35%)\n",
            "\n",
            "Train Epoch: 16 [0/60000]\tLoss: 0.000000\n",
            "Train Epoch: 16 [6400/60000]\tLoss: 0.000000\n",
            "\n",
            "Test set: Average loss: 0.0000, Accuracy: 1135/10000 (11.35%)\n",
            "\n",
            "Train Epoch: 17 [0/60000]\tLoss: 0.000000\n",
            "Train Epoch: 17 [6400/60000]\tLoss: 0.000000\n",
            "\n",
            "Test set: Average loss: 0.0000, Accuracy: 1135/10000 (11.35%)\n",
            "\n",
            "Train Epoch: 18 [0/60000]\tLoss: 0.000000\n",
            "Train Epoch: 18 [6400/60000]\tLoss: 0.000000\n",
            "\n",
            "Test set: Average loss: 0.0000, Accuracy: 1135/10000 (11.35%)\n",
            "\n",
            "Train Epoch: 19 [0/60000]\tLoss: 0.000000\n",
            "Train Epoch: 19 [6400/60000]\tLoss: 0.000000\n",
            "\n",
            "Test set: Average loss: 0.0000, Accuracy: 1135/10000 (11.35%)\n",
            "\n",
            "Train Epoch: 20 [0/60000]\tLoss: 0.000000\n",
            "Train Epoch: 20 [6400/60000]\tLoss: 0.000000\n",
            "\n",
            "Test set: Average loss: 0.0000, Accuracy: 1135/10000 (11.35%)\n",
            "\n",
            "Train Epoch: 21 [0/60000]\tLoss: 0.000000\n",
            "Train Epoch: 21 [6400/60000]\tLoss: 0.000000\n",
            "\n",
            "Test set: Average loss: 0.0000, Accuracy: 1135/10000 (11.35%)\n",
            "\n",
            "Train Epoch: 22 [0/60000]\tLoss: 0.000000\n",
            "Train Epoch: 22 [6400/60000]\tLoss: 0.000000\n",
            "\n",
            "Test set: Average loss: 0.0000, Accuracy: 1135/10000 (11.35%)\n",
            "\n",
            "Train Epoch: 23 [0/60000]\tLoss: 0.000000\n",
            "Train Epoch: 23 [6400/60000]\tLoss: 0.000000\n",
            "\n",
            "Test set: Average loss: 0.0000, Accuracy: 1135/10000 (11.35%)\n",
            "\n",
            "Train Epoch: 24 [0/60000]\tLoss: 0.000000\n",
            "Train Epoch: 24 [6400/60000]\tLoss: 0.000000\n",
            "\n",
            "Test set: Average loss: 0.0000, Accuracy: 1135/10000 (11.35%)\n",
            "\n",
            "Train Epoch: 25 [0/60000]\tLoss: 0.000000\n",
            "Train Epoch: 25 [6400/60000]\tLoss: 0.000000\n",
            "\n",
            "Test set: Average loss: 0.0000, Accuracy: 1135/10000 (11.35%)\n",
            "\n",
            "Train Epoch: 26 [0/60000]\tLoss: 0.000000\n",
            "Train Epoch: 26 [6400/60000]\tLoss: 0.000000\n",
            "\n",
            "Test set: Average loss: 0.0000, Accuracy: 1135/10000 (11.35%)\n",
            "\n",
            "Train Epoch: 27 [0/60000]\tLoss: 0.000000\n",
            "Train Epoch: 27 [6400/60000]\tLoss: 0.000000\n",
            "\n",
            "Test set: Average loss: 0.0000, Accuracy: 1135/10000 (11.35%)\n",
            "\n",
            "Train Epoch: 28 [0/60000]\tLoss: 0.000000\n",
            "Train Epoch: 28 [6400/60000]\tLoss: 0.000000\n",
            "\n",
            "Test set: Average loss: 0.0000, Accuracy: 1135/10000 (11.35%)\n",
            "\n",
            "Train Epoch: 29 [0/60000]\tLoss: 0.000000\n",
            "Train Epoch: 29 [6400/60000]\tLoss: 0.000000\n",
            "\n",
            "Test set: Average loss: 0.0000, Accuracy: 1135/10000 (11.35%)\n",
            "\n",
            "Train Epoch: 30 [0/60000]\tLoss: 0.000000\n",
            "Train Epoch: 30 [6400/60000]\tLoss: 0.000000\n",
            "\n",
            "Test set: Average loss: 0.0000, Accuracy: 1135/10000 (11.35%)\n",
            "\n",
            "Train Epoch: 31 [0/60000]\tLoss: 0.000000\n",
            "Train Epoch: 31 [6400/60000]\tLoss: 0.000000\n",
            "\n",
            "Test set: Average loss: 0.0000, Accuracy: 1135/10000 (11.35%)\n",
            "\n",
            "Train Epoch: 32 [0/60000]\tLoss: 0.000000\n",
            "Train Epoch: 32 [6400/60000]\tLoss: 0.000000\n",
            "\n",
            "Test set: Average loss: 0.0000, Accuracy: 1135/10000 (11.35%)\n",
            "\n",
            "Train Epoch: 33 [0/60000]\tLoss: 0.000000\n",
            "Train Epoch: 33 [6400/60000]\tLoss: 0.000000\n",
            "\n",
            "Test set: Average loss: 0.0000, Accuracy: 1135/10000 (11.35%)\n",
            "\n",
            "Train Epoch: 34 [0/60000]\tLoss: 0.000000\n",
            "Train Epoch: 34 [6400/60000]\tLoss: 0.000000\n",
            "\n",
            "Test set: Average loss: 0.0000, Accuracy: 1135/10000 (11.35%)\n",
            "\n",
            "Train Epoch: 35 [0/60000]\tLoss: 0.000000\n",
            "Train Epoch: 35 [6400/60000]\tLoss: 0.000000\n",
            "\n",
            "Test set: Average loss: 0.0000, Accuracy: 1135/10000 (11.35%)\n",
            "\n",
            "Train Epoch: 36 [0/60000]\tLoss: 0.000000\n",
            "Train Epoch: 36 [6400/60000]\tLoss: 0.000000\n",
            "\n",
            "Test set: Average loss: 0.0000, Accuracy: 1135/10000 (11.35%)\n",
            "\n",
            "Train Epoch: 37 [0/60000]\tLoss: 0.000000\n",
            "Train Epoch: 37 [6400/60000]\tLoss: 0.000000\n",
            "\n",
            "Test set: Average loss: 0.0000, Accuracy: 1135/10000 (11.35%)\n",
            "\n",
            "Train Epoch: 38 [0/60000]\tLoss: 0.000000\n",
            "Train Epoch: 38 [6400/60000]\tLoss: 0.000000\n",
            "\n",
            "Test set: Average loss: 0.0000, Accuracy: 1135/10000 (11.35%)\n",
            "\n",
            "Train Epoch: 39 [0/60000]\tLoss: 0.000000\n",
            "Train Epoch: 39 [6400/60000]\tLoss: 0.000000\n",
            "\n",
            "Test set: Average loss: 0.0000, Accuracy: 1135/10000 (11.35%)\n",
            "\n",
            "Train Epoch: 40 [0/60000]\tLoss: 0.000000\n",
            "Train Epoch: 40 [6400/60000]\tLoss: 0.000000\n",
            "\n",
            "Test set: Average loss: 0.0000, Accuracy: 1135/10000 (11.35%)\n",
            "\n",
            "Train Epoch: 41 [0/60000]\tLoss: 0.000000\n",
            "Train Epoch: 41 [6400/60000]\tLoss: 0.000000\n",
            "\n",
            "Test set: Average loss: 0.0000, Accuracy: 1135/10000 (11.35%)\n",
            "\n",
            "Train Epoch: 42 [0/60000]\tLoss: 0.000000\n",
            "Train Epoch: 42 [6400/60000]\tLoss: 0.000000\n",
            "\n",
            "Test set: Average loss: 0.0000, Accuracy: 1135/10000 (11.35%)\n",
            "\n",
            "Train Epoch: 43 [0/60000]\tLoss: 0.000000\n",
            "Train Epoch: 43 [6400/60000]\tLoss: 0.005206\n",
            "\n",
            "Test set: Average loss: 0.0000, Accuracy: 1135/10000 (11.35%)\n",
            "\n",
            "Train Epoch: 44 [0/60000]\tLoss: 0.000000\n",
            "Train Epoch: 44 [6400/60000]\tLoss: 0.000000\n",
            "\n",
            "Test set: Average loss: 0.0000, Accuracy: 1135/10000 (11.35%)\n",
            "\n",
            "Train Epoch: 45 [0/60000]\tLoss: 0.000000\n",
            "Train Epoch: 45 [6400/60000]\tLoss: 0.005009\n",
            "\n",
            "Test set: Average loss: 0.0000, Accuracy: 1135/10000 (11.35%)\n",
            "\n",
            "Train Epoch: 46 [0/60000]\tLoss: 0.000000\n",
            "Train Epoch: 46 [6400/60000]\tLoss: 0.000000\n",
            "\n",
            "Test set: Average loss: 0.0000, Accuracy: 1135/10000 (11.35%)\n",
            "\n",
            "Train Epoch: 47 [0/60000]\tLoss: 0.000000\n",
            "Train Epoch: 47 [6400/60000]\tLoss: 0.000000\n",
            "\n",
            "Test set: Average loss: 0.0000, Accuracy: 1135/10000 (11.35%)\n",
            "\n",
            "Train Epoch: 48 [0/60000]\tLoss: 0.000000\n",
            "Train Epoch: 48 [6400/60000]\tLoss: 0.000000\n",
            "\n",
            "Test set: Average loss: 0.0000, Accuracy: 1135/10000 (11.35%)\n",
            "\n",
            "Train Epoch: 49 [0/60000]\tLoss: 0.000000\n",
            "Train Epoch: 49 [6400/60000]\tLoss: 0.000000\n",
            "\n",
            "Test set: Average loss: 0.0000, Accuracy: 1135/10000 (11.35%)\n",
            "\n",
            "Train Epoch: 50 [0/60000]\tLoss: 0.000000\n",
            "Train Epoch: 50 [6400/60000]\tLoss: 0.000000\n",
            "\n",
            "Test set: Average loss: 0.0000, Accuracy: 1135/10000 (11.35%)\n",
            "\n"
          ]
        }
      ]
    },
    {
      "cell_type": "markdown",
      "source": [
        "## 6. Conclusion\n",
        "- **Accuracy**: 11.35% with two labels 0 and 1"
      ],
      "metadata": {
        "id": "rchetQ3DK6Lk"
      }
    }
  ]
}