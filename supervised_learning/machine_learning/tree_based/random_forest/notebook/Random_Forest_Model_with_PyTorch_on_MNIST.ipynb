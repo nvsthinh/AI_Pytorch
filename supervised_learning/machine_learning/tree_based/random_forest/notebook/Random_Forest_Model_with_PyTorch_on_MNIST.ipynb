{
  "nbformat": 4,
  "nbformat_minor": 0,
  "metadata": {
    "colab": {
      "provenance": []
    },
    "kernelspec": {
      "name": "python3",
      "display_name": "Python 3"
    },
    "language_info": {
      "name": "python"
    }
  },
  "cells": [
    {
      "cell_type": "markdown",
      "source": [
        "# Random Forest PyTorch with MNIST 1000\n",
        "- **Task**: Classification\n",
        "- **Data**: MNIST 1000 Dataset\n",
        "- **Model**: Random Forest\n",
        "- **Criterion**: Entropy"
      ],
      "metadata": {
        "id": "IwymkzhzYoPa"
      }
    },
    {
      "cell_type": "code",
      "source": [
        "!pip install -q watermark"
      ],
      "metadata": {
        "id": "FNIoDYe9jagE",
        "colab": {
          "base_uri": "https://localhost:8080/"
        },
        "outputId": "bf295c4c-a8bf-4f98-961a-abaa579b7fa7"
      },
      "execution_count": 1,
      "outputs": [
        {
          "output_type": "stream",
          "name": "stdout",
          "text": [
            "\u001b[2K     \u001b[90m━━━━━━━━━━━━━━━━━━━━━━━━━━━━━━━━━━━━━━━━\u001b[0m \u001b[32m1.6/1.6 MB\u001b[0m \u001b[31m6.0 MB/s\u001b[0m eta \u001b[36m0:00:00\u001b[0m\n",
            "\u001b[?25h"
          ]
        }
      ]
    },
    {
      "cell_type": "code",
      "source": [
        "%load_ext watermark\n",
        "%watermark -a 'Nguyen Van Sy Thinh' -v -p torch"
      ],
      "metadata": {
        "colab": {
          "base_uri": "https://localhost:8080/"
        },
        "outputId": "dcf4f462-79ec-444e-9246-61996efeebd0",
        "id": "qhCkB6xkjY6A"
      },
      "execution_count": 2,
      "outputs": [
        {
          "output_type": "stream",
          "name": "stdout",
          "text": [
            "Author: Nguyen Van Sy Thinh\n",
            "\n",
            "Python implementation: CPython\n",
            "Python version       : 3.10.12\n",
            "IPython version      : 7.34.0\n",
            "\n",
            "torch: 2.3.0+cu121\n",
            "\n"
          ]
        }
      ]
    },
    {
      "cell_type": "markdown",
      "source": [
        "## 1. Import Library"
      ],
      "metadata": {
        "id": "k4Fm8LFQYxJi"
      }
    },
    {
      "cell_type": "code",
      "source": [
        "import torch\n",
        "import torchvision\n",
        "import torch.nn as nn\n",
        "import torchvision.transforms as transforms\n",
        "from torchvision import datasets\n",
        "import matplotlib.pyplot as plt\n",
        "import time\n",
        "from sklearn.metrics import accuracy_score\n",
        "import numpy as np\n",
        "from typing import List\n",
        "device = torch.device('cuda' if torch.cuda.is_available() else 'cpu')"
      ],
      "metadata": {
        "id": "hdWQADB0ZFYP"
      },
      "execution_count": 3,
      "outputs": []
    },
    {
      "cell_type": "markdown",
      "source": [
        "## 2. Data"
      ],
      "metadata": {
        "id": "DkYKMYX8YygA"
      }
    },
    {
      "cell_type": "markdown",
      "source": [
        "### 2.1. MNIST Dataset"
      ],
      "metadata": {
        "id": "sXZrwCVrZIWw"
      }
    },
    {
      "cell_type": "code",
      "execution_count": 4,
      "metadata": {
        "id": "wZlmQGmpYPcr",
        "colab": {
          "base_uri": "https://localhost:8080/"
        },
        "outputId": "f0a72a05-e66f-4c98-dd5d-fa4e66ffb0b1"
      },
      "outputs": [
        {
          "output_type": "stream",
          "name": "stdout",
          "text": [
            "Downloading http://yann.lecun.com/exdb/mnist/train-images-idx3-ubyte.gz\n",
            "Failed to download (trying next):\n",
            "HTTP Error 403: Forbidden\n",
            "\n",
            "Downloading https://ossci-datasets.s3.amazonaws.com/mnist/train-images-idx3-ubyte.gz\n",
            "Downloading https://ossci-datasets.s3.amazonaws.com/mnist/train-images-idx3-ubyte.gz to ./data/MNIST/raw/train-images-idx3-ubyte.gz\n"
          ]
        },
        {
          "output_type": "stream",
          "name": "stderr",
          "text": [
            "100%|██████████| 9912422/9912422 [00:00<00:00, 113785414.49it/s]\n"
          ]
        },
        {
          "output_type": "stream",
          "name": "stdout",
          "text": [
            "Extracting ./data/MNIST/raw/train-images-idx3-ubyte.gz to ./data/MNIST/raw\n",
            "\n",
            "Downloading http://yann.lecun.com/exdb/mnist/train-labels-idx1-ubyte.gz\n",
            "Failed to download (trying next):\n",
            "HTTP Error 403: Forbidden\n",
            "\n",
            "Downloading https://ossci-datasets.s3.amazonaws.com/mnist/train-labels-idx1-ubyte.gz\n",
            "Downloading https://ossci-datasets.s3.amazonaws.com/mnist/train-labels-idx1-ubyte.gz to ./data/MNIST/raw/train-labels-idx1-ubyte.gz\n"
          ]
        },
        {
          "output_type": "stream",
          "name": "stderr",
          "text": [
            "100%|██████████| 28881/28881 [00:00<00:00, 20222987.28it/s]"
          ]
        },
        {
          "output_type": "stream",
          "name": "stdout",
          "text": [
            "Extracting ./data/MNIST/raw/train-labels-idx1-ubyte.gz to ./data/MNIST/raw\n",
            "\n",
            "Downloading http://yann.lecun.com/exdb/mnist/t10k-images-idx3-ubyte.gz\n",
            "Failed to download (trying next):\n",
            "HTTP Error 403: Forbidden\n",
            "\n",
            "Downloading https://ossci-datasets.s3.amazonaws.com/mnist/t10k-images-idx3-ubyte.gz\n"
          ]
        },
        {
          "output_type": "stream",
          "name": "stderr",
          "text": [
            "\n"
          ]
        },
        {
          "output_type": "stream",
          "name": "stdout",
          "text": [
            "Downloading https://ossci-datasets.s3.amazonaws.com/mnist/t10k-images-idx3-ubyte.gz to ./data/MNIST/raw/t10k-images-idx3-ubyte.gz\n"
          ]
        },
        {
          "output_type": "stream",
          "name": "stderr",
          "text": [
            "100%|██████████| 1648877/1648877 [00:00<00:00, 20864683.33it/s]"
          ]
        },
        {
          "output_type": "stream",
          "name": "stdout",
          "text": [
            "Extracting ./data/MNIST/raw/t10k-images-idx3-ubyte.gz to ./data/MNIST/raw\n"
          ]
        },
        {
          "output_type": "stream",
          "name": "stderr",
          "text": [
            "\n"
          ]
        },
        {
          "output_type": "stream",
          "name": "stdout",
          "text": [
            "\n",
            "Downloading http://yann.lecun.com/exdb/mnist/t10k-labels-idx1-ubyte.gz\n",
            "Failed to download (trying next):\n",
            "HTTP Error 403: Forbidden\n",
            "\n",
            "Downloading https://ossci-datasets.s3.amazonaws.com/mnist/t10k-labels-idx1-ubyte.gz\n",
            "Downloading https://ossci-datasets.s3.amazonaws.com/mnist/t10k-labels-idx1-ubyte.gz to ./data/MNIST/raw/t10k-labels-idx1-ubyte.gz\n"
          ]
        },
        {
          "output_type": "stream",
          "name": "stderr",
          "text": [
            "100%|██████████| 4542/4542 [00:00<00:00, 1127784.09it/s]"
          ]
        },
        {
          "output_type": "stream",
          "name": "stdout",
          "text": [
            "Extracting ./data/MNIST/raw/t10k-labels-idx1-ubyte.gz to ./data/MNIST/raw\n",
            "\n"
          ]
        },
        {
          "output_type": "stream",
          "name": "stderr",
          "text": [
            "\n"
          ]
        }
      ],
      "source": [
        "transform = transforms.Compose([transforms.ToTensor(), transforms.Normalize((0.5,), (0.5,))])\n",
        "\n",
        "# Loading training data\n",
        "train_dataset = datasets.MNIST(root='./data',\n",
        "                               train=True,\n",
        "                               transform=transform,\n",
        "                               download=True)\n",
        "# Loading test data\n",
        "test_dataset = datasets.MNIST(root='./data',\n",
        "                              train=False,\n",
        "                              transform=transform)"
      ]
    },
    {
      "cell_type": "markdown",
      "source": [
        "### 2.2. Data Information"
      ],
      "metadata": {
        "id": "zu2xayHAZ6px"
      }
    },
    {
      "cell_type": "code",
      "source": [
        "print(f\"Number of training samples: {len(train_dataset)}\")\n",
        "print(f\"Number of testing samples: {len(test_dataset)}\")"
      ],
      "metadata": {
        "colab": {
          "base_uri": "https://localhost:8080/"
        },
        "id": "NKGIXwVkZLJl",
        "outputId": "e154b7ec-2a40-4996-b212-c532a88aaecc"
      },
      "execution_count": 5,
      "outputs": [
        {
          "output_type": "stream",
          "name": "stdout",
          "text": [
            "Number of training samples: 60000\n",
            "Number of testing samples: 10000\n"
          ]
        }
      ]
    },
    {
      "cell_type": "code",
      "source": [
        "print(f\"Datatype of the 1st training sample: {train_dataset[0][0].type()}\")\n",
        "print(f\"Size of the 1st training sample: {train_dataset[0][0].size()}\")"
      ],
      "metadata": {
        "colab": {
          "base_uri": "https://localhost:8080/"
        },
        "id": "mEchSn6wZw3d",
        "outputId": "ab3514a6-78f9-44ae-daeb-8f989156af03"
      },
      "execution_count": 6,
      "outputs": [
        {
          "output_type": "stream",
          "name": "stdout",
          "text": [
            "Datatype of the 1st training sample: torch.FloatTensor\n",
            "Size of the 1st training sample: torch.Size([1, 28, 28])\n"
          ]
        }
      ]
    },
    {
      "cell_type": "markdown",
      "source": [
        "### 2.3. Data Visualization"
      ],
      "metadata": {
        "id": "VMYEKrRLZ8ht"
      }
    },
    {
      "cell_type": "code",
      "source": [
        "img_5 = train_dataset[0][0].numpy().reshape(28, 28)\n",
        "plt.imshow(img_5, cmap='gray')\n",
        "plt.show()"
      ],
      "metadata": {
        "colab": {
          "base_uri": "https://localhost:8080/",
          "height": 430
        },
        "id": "mZMW-Ox-Z9pv",
        "outputId": "358a571b-7b06-4e95-8f2e-7dce7faa499d"
      },
      "execution_count": 7,
      "outputs": [
        {
          "output_type": "display_data",
          "data": {
            "text/plain": [
              "<Figure size 640x480 with 1 Axes>"
            ],
            "image/png": "[encoded data removed]"
          },
          "metadata": {}
        }
      ]
    },
    {
      "cell_type": "markdown",
      "source": [
        "### 2.4. Subset the Dataset"
      ],
      "metadata": {
        "id": "D5vH5DHDaSpE"
      }
    },
    {
      "cell_type": "code",
      "source": [
        "# Subset the dataset\n",
        "subset_train_size = 500  # Number of samples to use for training\n",
        "subset_test_size = 200  # Number of samples to use for testing\n",
        "\n",
        "train_indices = np.random.choice(len(train_dataset), subset_train_size, replace=False)\n",
        "test_indices = np.random.choice(len(test_dataset), subset_test_size, replace=False)\n",
        "\n",
        "train_subset = torch.utils.data.Subset(train_dataset, train_indices)\n",
        "test_subset = torch.utils.data.Subset(test_dataset, test_indices)"
      ],
      "metadata": {
        "id": "mTWtQ-EumxHL"
      },
      "execution_count": 8,
      "outputs": []
    },
    {
      "cell_type": "code",
      "source": [
        "# Data loaders\n",
        "trainloader = torch.utils.data.DataLoader(train_subset, batch_size=subset_train_size, shuffle=True)\n",
        "testloader = torch.utils.data.DataLoader(test_subset, batch_size=subset_test_size, shuffle=False)\n",
        "\n",
        "# Extract data and labels\n",
        "train_data, train_labels = next(iter(trainloader))\n",
        "test_data, test_labels = next(iter(testloader))\n",
        "\n",
        "# Flatten the images for the Decision Tree input\n",
        "train_data = train_data.view(subset_train_size, -1)\n",
        "test_data = test_data.view(subset_test_size, -1)"
      ],
      "metadata": {
        "id": "xsZmSX64aVF4"
      },
      "execution_count": 9,
      "outputs": []
    },
    {
      "cell_type": "code",
      "source": [
        "print(f\"Number of training samples: {train_data.shape[0]}\")\n",
        "print(f\"Number of testing samples: {test_data.shape[0]}\")\n",
        "print(f\"Size of the 1st training sample: {train_data[0].size()}\")\n",
        "print(f\"Size of the 1st testing sample: {test_data[0].size()}\")"
      ],
      "metadata": {
        "colab": {
          "base_uri": "https://localhost:8080/"
        },
        "id": "V9weiDEKm-eH",
        "outputId": "9446a13e-61f5-403c-c085-743f51de436b"
      },
      "execution_count": 10,
      "outputs": [
        {
          "output_type": "stream",
          "name": "stdout",
          "text": [
            "Number of training samples: 500\n",
            "Number of testing samples: 200\n",
            "Size of the 1st training sample: torch.Size([784])\n",
            "Size of the 1st testing sample: torch.Size([784])\n"
          ]
        }
      ]
    },
    {
      "cell_type": "markdown",
      "source": [
        "## 3. Model"
      ],
      "metadata": {
        "id": "32MkQnmuaZT4"
      }
    },
    {
      "cell_type": "markdown",
      "source": [
        "### 3.1. Decision Node"
      ],
      "metadata": {
        "id": "zSwOCAlxiEHO"
      }
    },
    {
      "cell_type": "code",
      "source": [
        "class Node:\n",
        "    def __init__(self, feature_index=None, threshold=None, left=None, right=None, value=None):\n",
        "        self.feature_index = feature_index\n",
        "        self.threshold = threshold\n",
        "        self.left = left\n",
        "        self.right = right\n",
        "        self.value = value"
      ],
      "metadata": {
        "id": "7L_31pSn1q5-"
      },
      "execution_count": 11,
      "outputs": []
    },
    {
      "cell_type": "markdown",
      "source": [
        "### 3.2. Decision Tree Classifier"
      ],
      "metadata": {
        "id": "N1E1Su4yiFrF"
      }
    },
    {
      "cell_type": "code",
      "source": [
        "class DecisionTree:\n",
        "    def __init__(self, depth=10, min_samples_split=2):\n",
        "        self.depth = depth\n",
        "        self.min_samples_split = min_samples_split\n",
        "        self.tree = {}\n",
        "\n",
        "    def fit(self, X, y):\n",
        "        self.tree = self._build_tree(X, y, depth=0)\n",
        "\n",
        "    def _build_tree(self, X, y, depth):\n",
        "        num_samples, num_features = X.shape\n",
        "        if num_samples >= self.min_samples_split and depth <= self.depth:\n",
        "            best_split = self._best_split(X, y, num_samples, num_features)\n",
        "            if best_split[\"info_gain\"] > 0:\n",
        "                left_tree = self._build_tree(best_split[\"X_left\"], best_split[\"y_left\"], depth + 1)\n",
        "                right_tree = self._build_tree(best_split[\"X_right\"], best_split[\"y_right\"], depth + 1)\n",
        "                return Node(best_split[\"feature_index\"], best_split[\"threshold\"], left_tree, right_tree)\n",
        "\n",
        "        leaf_value = self._calculate_leaf_value(y)\n",
        "        return Node(value=leaf_value)\n",
        "\n",
        "    def _best_split(self, X, y, num_samples, num_features):\n",
        "        best_split = {}\n",
        "        max_info_gain = -float(\"inf\")\n",
        "        for feature_index in range(num_features):\n",
        "            feature_values = X[:, feature_index]\n",
        "            possible_thresholds = torch.unique(feature_values)\n",
        "            for threshold in possible_thresholds:\n",
        "                X_left, y_left, X_right, y_right = self._split(X, y, feature_index, threshold)\n",
        "                if len(X_left) > 0 and len(X_right) > 0:\n",
        "                    info_gain = self._information_gain(y, y_left, y_right)\n",
        "                    if info_gain > max_info_gain:\n",
        "                        best_split[\"feature_index\"] = feature_index\n",
        "                        best_split[\"threshold\"] = threshold\n",
        "                        best_split[\"X_left\"] = X_left\n",
        "                        best_split[\"y_left\"] = y_left\n",
        "                        best_split[\"X_right\"] = X_right\n",
        "                        best_split[\"y_right\"] = y_right\n",
        "                        best_split[\"info_gain\"] = info_gain\n",
        "                        max_info_gain = info_gain\n",
        "        return best_split\n",
        "\n",
        "    def _split(self, X, y, feature_index, threshold):\n",
        "        left_indices = torch.where(X[:, feature_index] <= threshold)[0]\n",
        "        right_indices = torch.where(X[:, feature_index] > threshold)[0]\n",
        "        X_left, y_left = X[left_indices], y[left_indices]\n",
        "        X_right, y_right = X[right_indices], y[right_indices]\n",
        "        return X_left, y_left, X_right, y_right\n",
        "\n",
        "    def _information_gain(self, y, y_left, y_right):\n",
        "        weight_left = len(y_left) / len(y)\n",
        "        weight_right = len(y_right) / len(y)\n",
        "        gain = self._entropy(y) - (weight_left * self._entropy(y_left) + weight_right * self._entropy(y_right))\n",
        "        return gain\n",
        "\n",
        "    def _entropy(self, y):\n",
        "        class_labels = torch.unique(y)\n",
        "        entropy = 0\n",
        "        for cls in class_labels:\n",
        "            p_cls = len(torch.where(y == cls)[0]) / len(y)\n",
        "            if p_cls > 0:\n",
        "                entropy += -p_cls * torch.log2(torch.tensor(p_cls, dtype=torch.float32))\n",
        "        return entropy\n",
        "\n",
        "    def _calculate_leaf_value(self, y):\n",
        "        return torch.mode(y)[0].item()\n",
        "\n",
        "    def predict(self, X):\n",
        "        predictions = [self._make_prediction(x, self.tree) for x in X]\n",
        "        return predictions\n",
        "\n",
        "    def _make_prediction(self, x, tree):\n",
        "        if tree.value is not None:\n",
        "            return tree.value\n",
        "        feature_val = x[tree.feature_index]\n",
        "        if feature_val <= tree.threshold:\n",
        "            return self._make_prediction(x, tree.left)\n",
        "        else:\n",
        "            return self._make_prediction(x, tree.right)"
      ],
      "metadata": {
        "id": "8u-rmvgP1uxX"
      },
      "execution_count": 12,
      "outputs": []
    },
    {
      "cell_type": "markdown",
      "source": [
        "### 3.3. Random Forest Classifier"
      ],
      "metadata": {
        "id": "Z80e21Qh9G85"
      }
    },
    {
      "cell_type": "code",
      "source": [
        "class RandomForest:\n",
        "    def __init__(self, n_trees=10, depth=10, min_samples_split=2):\n",
        "        self.n_trees = n_trees\n",
        "        self.depth = depth\n",
        "        self.min_samples_split = min_samples_split\n",
        "        self.trees: List[DecisionTree] = []\n",
        "\n",
        "    def fit(self, X, y):\n",
        "        for _ in range(self.n_trees):\n",
        "            bootstrap_X, bootstrap_y = self._bootstrap_sample(X, y)\n",
        "            tree = DecisionTree(depth=self.depth, min_samples_split=self.min_samples_split)\n",
        "            tree.fit(bootstrap_X, bootstrap_y)\n",
        "            self.trees.append(tree)\n",
        "\n",
        "    def _bootstrap_sample(self, X, y):\n",
        "        n_samples = X.shape[0]\n",
        "        indices = np.random.choice(n_samples, n_samples, replace=True)\n",
        "        return X[indices], y[indices]\n",
        "\n",
        "    def predict(self, X):\n",
        "        tree_predictions = np.array([tree.predict(X) for tree in self.trees])\n",
        "        return [torch.mode(torch.tensor(tree_predictions[:, i]))[0].item() for i in range(X.shape[0])]"
      ],
      "metadata": {
        "id": "JSU0RDFh9K3A"
      },
      "execution_count": 13,
      "outputs": []
    },
    {
      "cell_type": "markdown",
      "source": [
        "## 4. Fit model"
      ],
      "metadata": {
        "id": "zMIMDD5sj4EO"
      }
    },
    {
      "cell_type": "code",
      "source": [
        "tree = RandomForest(n_trees=5, depth=10, min_samples_split=10)\n",
        "tree.fit(train_data, train_labels)"
      ],
      "metadata": {
        "id": "GKwn5PNM1wiT"
      },
      "execution_count": 14,
      "outputs": []
    },
    {
      "cell_type": "markdown",
      "source": [
        "## 5. Inference"
      ],
      "metadata": {
        "id": "vzDA7QbbluVY"
      }
    },
    {
      "cell_type": "markdown",
      "source": [
        "### 5.1. Scratch Model"
      ],
      "metadata": {
        "id": "Al8gTKtOmBBf"
      }
    },
    {
      "cell_type": "code",
      "source": [
        "# Predict on test data\n",
        "test_predictions = tree.predict(test_data)\n",
        "\n",
        "# Calculate accuracy\n",
        "accuracy = accuracy_score(test_labels, test_predictions)\n",
        "print(f'Accuracy of Decision Tree from Scratch on subset of MNIST test data: {accuracy * 100:.2f}%')"
      ],
      "metadata": {
        "colab": {
          "base_uri": "https://localhost:8080/"
        },
        "id": "7WE2_nRF1_MF",
        "outputId": "68222ae1-f5b6-4510-f9ea-fe85027617a0"
      },
      "execution_count": 20,
      "outputs": [
        {
          "output_type": "stream",
          "name": "stdout",
          "text": [
            "Accuracy of Decision Tree from Scratch on subset of MNIST test data: 73.00%\n"
          ]
        }
      ]
    },
    {
      "cell_type": "markdown",
      "source": [
        "### 5.2. scikit-learn RandomForestClassifier"
      ],
      "metadata": {
        "id": "I580j-zCmTjI"
      }
    },
    {
      "cell_type": "code",
      "source": [
        "from sklearn.ensemble import RandomForestClassifier\n",
        "\n",
        "# Train Decision Tree model\n",
        "random_forest = RandomForestClassifier(n_estimators=5, max_depth=10, min_samples_split=10)\n",
        "random_forest.fit(train_data, train_labels)\n",
        "\n",
        "# Predict on test data\n",
        "test_predictions = random_forest.predict(test_data)\n",
        "\n",
        "# Calculate accuracy\n",
        "accuracy = accuracy_score(test_labels, test_predictions)\n",
        "\n",
        "print(f'Accuracy of Decision Tree from Sklearn library on subset of MNIST test data: {accuracy * 100:.2f}%')"
      ],
      "metadata": {
        "colab": {
          "base_uri": "https://localhost:8080/"
        },
        "id": "1vYV1TA5ueiB",
        "outputId": "2b5da4f8-cad1-4d8d-b38d-2341f340a48e"
      },
      "execution_count": 32,
      "outputs": [
        {
          "output_type": "stream",
          "name": "stdout",
          "text": [
            "Accuracy of Decision Tree from Sklearn library on subset of MNIST test data: 74.50%\n"
          ]
        }
      ]
    },
    {
      "cell_type": "markdown",
      "source": [
        "## 6. Conclusion\n",
        "- **Scratch Model**: 73.00%\n",
        "- **Sklearn Model**: 74.50%"
      ],
      "metadata": {
        "id": "tGDhLXKR4ja1"
      }
    }
  ]
}