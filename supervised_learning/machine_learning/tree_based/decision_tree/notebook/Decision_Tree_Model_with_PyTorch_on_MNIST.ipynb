{
  "cells": [
    {
      "cell_type": "markdown",
      "metadata": {
        "id": "IwymkzhzYoPa"
      },
      "source": [
        "# Decision Tree PyTorch with MNIST 500\n",
        "- **Task**: Classification\n",
        "- **Data**: MNIST 500 Dataset\n",
        "- **Model**: Decision Tree\n",
        "- **Criterion**: Entropy"
      ]
    },
    {
      "cell_type": "code",
      "execution_count": 1,
      "metadata": {
        "colab": {
          "base_uri": "https://localhost:8080/"
        },
        "id": "FNIoDYe9jagE",
        "outputId": "a6cf317c-0f40-4213-c613-0b08b9cb1b23"
      },
      "outputs": [
        {
          "name": "stdout",
          "output_type": "stream",
          "text": [
            "\u001b[?25l     \u001b[90m━━━━━━━━━━━━━━━━━━━━━━━━━━━━━━━━━━━━━━━━\u001b[0m \u001b[32m0.0/1.6 MB\u001b[0m \u001b[31m?\u001b[0m eta \u001b[36m-:--:--\u001b[0m\r\u001b[2K     \u001b[91m━━\u001b[0m\u001b[90m╺\u001b[0m\u001b[90m━━━━━━━━━━━━━━━━━━━━━━━━━━━━━━━━━━━━━\u001b[0m \u001b[32m0.1/1.6 MB\u001b[0m \u001b[31m3.0 MB/s\u001b[0m eta \u001b[36m0:00:01\u001b[0m\r\u001b[2K     \u001b[91m━━━━━━━━━━━━\u001b[0m\u001b[91m╸\u001b[0m\u001b[90m━━━━━━━━━━━━━━━━━━━━━━━━━━━\u001b[0m \u001b[32m0.5/1.6 MB\u001b[0m \u001b[31m7.8 MB/s\u001b[0m eta \u001b[36m0:00:01\u001b[0m\r\u001b[2K     \u001b[91m━━━━━━━━━━━━━━━━━━━━━━━━\u001b[0m\u001b[91m╸\u001b[0m\u001b[90m━━━━━━━━━━━━━━━\u001b[0m \u001b[32m1.0/1.6 MB\u001b[0m \u001b[31m9.9 MB/s\u001b[0m eta \u001b[36m0:00:01\u001b[0m\r\u001b[2K     \u001b[91m━━━━━━━━━━━━━━━━━━━━━━━━━━━━━━━━━━━━━\u001b[0m\u001b[91m╸\u001b[0m\u001b[90m━━\u001b[0m \u001b[32m1.5/1.6 MB\u001b[0m \u001b[31m10.9 MB/s\u001b[0m eta \u001b[36m0:00:01\u001b[0m\r\u001b[2K     \u001b[91m━━━━━━━━━━━━━━━━━━━━━━━━━━━━━━━━━━━━━━━\u001b[0m\u001b[91m╸\u001b[0m \u001b[32m1.6/1.6 MB\u001b[0m \u001b[31m11.0 MB/s\u001b[0m eta \u001b[36m0:00:01\u001b[0m\r\u001b[2K     \u001b[90m━━━━━━━━━━━━━━━━━━━━━━━━━━━━━━━━━━━━━━━━\u001b[0m \u001b[32m1.6/1.6 MB\u001b[0m \u001b[31m8.3 MB/s\u001b[0m eta \u001b[36m0:00:00\u001b[0m\n",
            "\u001b[?25h"
          ]
        }
      ],
      "source": [
        "!pip install -q watermark"
      ]
    },
    {
      "cell_type": "code",
      "execution_count": 2,
      "metadata": {
        "colab": {
          "base_uri": "https://localhost:8080/"
        },
        "id": "qhCkB6xkjY6A",
        "outputId": "0066a28a-a882-4e5e-eb76-9a980ec55c99"
      },
      "outputs": [
        {
          "name": "stdout",
          "output_type": "stream",
          "text": [
            "Author: Nguyen Van Sy Thinh\n",
            "\n",
            "Python implementation: CPython\n",
            "Python version       : 3.10.12\n",
            "IPython version      : 7.34.0\n",
            "\n",
            "torch: 2.3.0+cu121\n",
            "\n"
          ]
        }
      ],
      "source": [
        "%load_ext watermark\n",
        "%watermark -a 'Nguyen Van Sy Thinh' -v -p torch"
      ]
    },
    {
      "cell_type": "markdown",
      "metadata": {
        "id": "k4Fm8LFQYxJi"
      },
      "source": [
        "## 1. Import Library"
      ]
    },
    {
      "cell_type": "code",
      "execution_count": 7,
      "metadata": {
        "id": "hdWQADB0ZFYP"
      },
      "outputs": [],
      "source": [
        "import torch\n",
        "import torchvision\n",
        "import torch.nn as nn\n",
        "import torchvision.transforms as transforms\n",
        "from torchvision import datasets\n",
        "import matplotlib.pyplot as plt\n",
        "import time\n",
        "from sklearn.metrics import accuracy_score\n",
        "import numpy as np\n",
        "device = torch.device('cuda' if torch.cuda.is_available() else 'cpu')"
      ]
    },
    {
      "cell_type": "markdown",
      "metadata": {
        "id": "DkYKMYX8YygA"
      },
      "source": [
        "## 2. Data"
      ]
    },
    {
      "cell_type": "markdown",
      "metadata": {
        "id": "sXZrwCVrZIWw"
      },
      "source": [
        "### 2.1. MNIST Dataset"
      ]
    },
    {
      "cell_type": "code",
      "execution_count": 8,
      "metadata": {
        "id": "wZlmQGmpYPcr"
      },
      "outputs": [],
      "source": [
        "transform = transforms.Compose([transforms.ToTensor(), transforms.Normalize((0.5,), (0.5,))])\n",
        "\n",
        "# Loading training data\n",
        "train_dataset = datasets.MNIST(root='./data',\n",
        "                               train=True,\n",
        "                               transform=transform,\n",
        "                               download=True)\n",
        "# Loading test data\n",
        "test_dataset = datasets.MNIST(root='./data',\n",
        "                              train=False,\n",
        "                              transform=transform)"
      ]
    },
    {
      "cell_type": "markdown",
      "metadata": {
        "id": "zu2xayHAZ6px"
      },
      "source": [
        "### 2.2. Data Information"
      ]
    },
    {
      "cell_type": "code",
      "execution_count": 9,
      "metadata": {
        "colab": {
          "base_uri": "https://localhost:8080/"
        },
        "id": "NKGIXwVkZLJl",
        "outputId": "0f190865-39b4-42fd-bff6-a6a1aead5358"
      },
      "outputs": [
        {
          "name": "stdout",
          "output_type": "stream",
          "text": [
            "Number of training samples: 60000\n",
            "Number of testing samples: 10000\n"
          ]
        }
      ],
      "source": [
        "print(f\"Number of training samples: {len(train_dataset)}\")\n",
        "print(f\"Number of testing samples: {len(test_dataset)}\")"
      ]
    },
    {
      "cell_type": "code",
      "execution_count": 10,
      "metadata": {
        "colab": {
          "base_uri": "https://localhost:8080/"
        },
        "id": "mEchSn6wZw3d",
        "outputId": "11d29aeb-58f4-4c9f-8939-5b6ca6c87afb"
      },
      "outputs": [
        {
          "name": "stdout",
          "output_type": "stream",
          "text": [
            "Datatype of the 1st training sample: torch.FloatTensor\n",
            "Size of the 1st training sample: torch.Size([1, 28, 28])\n"
          ]
        }
      ],
      "source": [
        "print(f\"Datatype of the 1st training sample: {train_dataset[0][0].type()}\")\n",
        "print(f\"Size of the 1st training sample: {train_dataset[0][0].size()}\")"
      ]
    },
    {
      "cell_type": "markdown",
      "metadata": {
        "id": "VMYEKrRLZ8ht"
      },
      "source": [
        "### 2.3. Data Visualization"
      ]
    },
    {
      "cell_type": "code",
      "execution_count": 11,
      "metadata": {
        "colab": {
          "base_uri": "https://localhost:8080/",
          "height": 430
        },
        "id": "mZMW-Ox-Z9pv",
        "outputId": "6759707c-a2e0-4d45-cbe3-71ce41cadbdc"
      },
      "outputs": [
        {
          "data": {
            "image/png": "[encoded data removed]",
            "text/plain": [
              "<Figure size 640x480 with 1 Axes>"
            ]
          },
          "metadata": {},
          "output_type": "display_data"
        }
      ],
      "source": [
        "img_5 = train_dataset[0][0].numpy().reshape(28, 28)\n",
        "plt.imshow(img_5, cmap='gray')\n",
        "plt.show()"
      ]
    },
    {
      "cell_type": "markdown",
      "metadata": {
        "id": "D5vH5DHDaSpE"
      },
      "source": [
        "### 2.4. Subset the Dataset"
      ]
    },
    {
      "cell_type": "code",
      "execution_count": 14,
      "metadata": {
        "id": "mTWtQ-EumxHL"
      },
      "outputs": [],
      "source": [
        "# Subset the dataset\n",
        "subset_train_size = 500  # Number of samples to use for training\n",
        "subset_test_size = 200  # Number of samples to use for testing\n",
        "\n",
        "train_indices = np.random.choice(len(train_dataset), subset_train_size, replace=False)\n",
        "test_indices = np.random.choice(len(test_dataset), subset_test_size, replace=False)\n",
        "\n",
        "train_subset = torch.utils.data.Subset(train_dataset, train_indices)\n",
        "test_subset = torch.utils.data.Subset(test_dataset, test_indices)"
      ]
    },
    {
      "cell_type": "code",
      "execution_count": 15,
      "metadata": {
        "id": "xsZmSX64aVF4"
      },
      "outputs": [],
      "source": [
        "# Data loaders\n",
        "trainloader = torch.utils.data.DataLoader(train_subset, batch_size=subset_train_size, shuffle=True)\n",
        "testloader = torch.utils.data.DataLoader(test_subset, batch_size=subset_test_size, shuffle=False)\n",
        "\n",
        "# Extract data and labels\n",
        "train_data, train_labels = next(iter(trainloader))\n",
        "test_data, test_labels = next(iter(testloader))\n",
        "\n",
        "# Flatten the images for the Decision Tree input\n",
        "train_data = train_data.view(subset_train_size, -1)\n",
        "test_data = test_data.view(subset_test_size, -1)"
      ]
    },
    {
      "cell_type": "code",
      "execution_count": 16,
      "metadata": {
        "colab": {
          "base_uri": "https://localhost:8080/"
        },
        "id": "V9weiDEKm-eH",
        "outputId": "c1f189d8-3b90-4317-de62-9920bc628b62"
      },
      "outputs": [
        {
          "name": "stdout",
          "output_type": "stream",
          "text": [
            "Number of training samples: 500\n",
            "Number of testing samples: 200\n",
            "Size of the 1st training sample: torch.Size([784])\n",
            "Size of the 1st testing sample: torch.Size([784])\n"
          ]
        }
      ],
      "source": [
        "print(f\"Number of training samples: {train_data.shape[0]}\")\n",
        "print(f\"Number of testing samples: {test_data.shape[0]}\")\n",
        "print(f\"Size of the 1st training sample: {train_data[0].size()}\")\n",
        "print(f\"Size of the 1st testing sample: {test_data[0].size()}\")"
      ]
    },
    {
      "cell_type": "markdown",
      "metadata": {
        "id": "32MkQnmuaZT4"
      },
      "source": [
        "## 3. Model"
      ]
    },
    {
      "cell_type": "markdown",
      "metadata": {
        "id": "zSwOCAlxiEHO"
      },
      "source": [
        "### 3.1. Decision Node"
      ]
    },
    {
      "cell_type": "code",
      "execution_count": 19,
      "metadata": {
        "id": "7L_31pSn1q5-"
      },
      "outputs": [],
      "source": [
        "class Node:\n",
        "    def __init__(self, feature_index=None, threshold=None, left=None, right=None, value=None):\n",
        "        self.feature_index = feature_index\n",
        "        self.threshold = threshold\n",
        "        self.left = left\n",
        "        self.right = right\n",
        "        self.value = value"
      ]
    },
    {
      "cell_type": "markdown",
      "metadata": {
        "id": "N1E1Su4yiFrF"
      },
      "source": [
        "### 3.3. Decision Tree Classifier"
      ]
    },
    {
      "cell_type": "code",
      "execution_count": 20,
      "metadata": {
        "id": "8u-rmvgP1uxX"
      },
      "outputs": [],
      "source": [
        "class DecisionTree:\n",
        "    def __init__(self, depth=10, min_samples_split=2):\n",
        "        self.depth = depth\n",
        "        self.min_samples_split = min_samples_split\n",
        "        self.tree = {}\n",
        "\n",
        "    def fit(self, X, y):\n",
        "        self.tree = self._build_tree(X, y, depth=0)\n",
        "\n",
        "    def _build_tree(self, X, y, depth):\n",
        "        num_samples, num_features = X.shape\n",
        "        if num_samples >= self.min_samples_split and depth <= self.depth:\n",
        "            best_split = self._best_split(X, y, num_samples, num_features)\n",
        "            if best_split[\"info_gain\"] > 0:\n",
        "                left_tree = self._build_tree(best_split[\"X_left\"], best_split[\"y_left\"], depth + 1)\n",
        "                right_tree = self._build_tree(best_split[\"X_right\"], best_split[\"y_right\"], depth + 1)\n",
        "                return Node(best_split[\"feature_index\"], best_split[\"threshold\"], left_tree, right_tree)\n",
        "\n",
        "        leaf_value = self._calculate_leaf_value(y)\n",
        "        return Node(value=leaf_value)\n",
        "\n",
        "    def _best_split(self, X, y, num_samples, num_features):\n",
        "        best_split = {}\n",
        "        max_info_gain = -float(\"inf\")\n",
        "        for feature_index in range(num_features):\n",
        "            feature_values = X[:, feature_index]\n",
        "            possible_thresholds = torch.unique(feature_values)\n",
        "            for threshold in possible_thresholds:\n",
        "                X_left, y_left, X_right, y_right = self._split(X, y, feature_index, threshold)\n",
        "                if len(X_left) > 0 and len(X_right) > 0:\n",
        "                    info_gain = self._information_gain(y, y_left, y_right)\n",
        "                    if info_gain > max_info_gain:\n",
        "                        best_split[\"feature_index\"] = feature_index\n",
        "                        best_split[\"threshold\"] = threshold\n",
        "                        best_split[\"X_left\"] = X_left\n",
        "                        best_split[\"y_left\"] = y_left\n",
        "                        best_split[\"X_right\"] = X_right\n",
        "                        best_split[\"y_right\"] = y_right\n",
        "                        best_split[\"info_gain\"] = info_gain\n",
        "                        max_info_gain = info_gain\n",
        "        return best_split\n",
        "\n",
        "    def _split(self, X, y, feature_index, threshold):\n",
        "        left_indices = torch.where(X[:, feature_index] <= threshold)[0]\n",
        "        right_indices = torch.where(X[:, feature_index] > threshold)[0]\n",
        "        X_left, y_left = X[left_indices], y[left_indices]\n",
        "        X_right, y_right = X[right_indices], y[right_indices]\n",
        "        return X_left, y_left, X_right, y_right\n",
        "\n",
        "    def _information_gain(self, y, y_left, y_right):\n",
        "        weight_left = len(y_left) / len(y)\n",
        "        weight_right = len(y_right) / len(y)\n",
        "        gain = self._entropy(y) - (weight_left * self._entropy(y_left) + weight_right * self._entropy(y_right))\n",
        "        return gain\n",
        "\n",
        "    def _entropy(self, y):\n",
        "        class_labels = torch.unique(y)\n",
        "        entropy = 0\n",
        "        for cls in class_labels:\n",
        "            p_cls = len(torch.where(y == cls)[0]) / len(y)\n",
        "            if p_cls > 0:\n",
        "                entropy += -p_cls * torch.log2(torch.tensor(p_cls, dtype=torch.float32))\n",
        "        return entropy\n",
        "\n",
        "    def _calculate_leaf_value(self, y):\n",
        "        return torch.mode(y)[0].item()\n",
        "\n",
        "    def predict(self, X):\n",
        "        predictions = [self._make_prediction(x, self.tree) for x in X]\n",
        "        return predictions\n",
        "\n",
        "    def _make_prediction(self, x, tree):\n",
        "        if tree.value is not None:\n",
        "            return tree.value\n",
        "        feature_val = x[tree.feature_index]\n",
        "        if feature_val <= tree.threshold:\n",
        "            return self._make_prediction(x, tree.left)\n",
        "        else:\n",
        "            return self._make_prediction(x, tree.right)"
      ]
    },
    {
      "cell_type": "markdown",
      "metadata": {
        "id": "zMIMDD5sj4EO"
      },
      "source": [
        "## 4. Fit model"
      ]
    },
    {
      "cell_type": "code",
      "execution_count": 21,
      "metadata": {
        "id": "GKwn5PNM1wiT"
      },
      "outputs": [],
      "source": [
        "tree = DecisionTree(depth=10, min_samples_split=10)\n",
        "tree.fit(train_data, train_labels)"
      ]
    },
    {
      "cell_type": "markdown",
      "metadata": {
        "id": "vzDA7QbbluVY"
      },
      "source": [
        "## 5. Inference"
      ]
    },
    {
      "cell_type": "markdown",
      "metadata": {
        "id": "Al8gTKtOmBBf"
      },
      "source": [
        "### 5.1. Scratch Model"
      ]
    },
    {
      "cell_type": "code",
      "execution_count": 24,
      "metadata": {
        "colab": {
          "base_uri": "https://localhost:8080/"
        },
        "id": "7WE2_nRF1_MF",
        "outputId": "1b274f12-2de9-48a9-cc35-db0dffdf383b"
      },
      "outputs": [
        {
          "name": "stdout",
          "output_type": "stream",
          "text": [
            "Accuracy of Decision Tree from Scratch on subset of MNIST test data: 57.00%\n"
          ]
        }
      ],
      "source": [
        "# Predict on test data\n",
        "test_predictions = tree.predict(test_data)\n",
        "\n",
        "# Calculate accuracy\n",
        "accuracy = accuracy_score(test_labels, test_predictions)\n",
        "print(f'Accuracy of Decision Tree from Scratch on subset of MNIST test data: {accuracy * 100:.2f}%')"
      ]
    },
    {
      "cell_type": "markdown",
      "metadata": {
        "id": "I580j-zCmTjI"
      },
      "source": [
        "### 5.2. scikit-learn DecisionTreeClassifier"
      ]
    },
    {
      "cell_type": "code",
      "execution_count": 25,
      "metadata": {
        "colab": {
          "base_uri": "https://localhost:8080/"
        },
        "id": "1vYV1TA5ueiB",
        "outputId": "b81f705e-10dd-4e65-a4b7-706e73701ab5"
      },
      "outputs": [
        {
          "name": "stdout",
          "output_type": "stream",
          "text": [
            "Accuracy of Decision Tree from Sklearn library on subset of MNIST test data: 57.50%\n"
          ]
        }
      ],
      "source": [
        "from sklearn.tree import DecisionTreeClassifier\n",
        "\n",
        "# Train Decision Tree model\n",
        "decision_tree = DecisionTreeClassifier(max_depth=10, min_samples_split=10)\n",
        "decision_tree.fit(train_data, train_labels)\n",
        "\n",
        "# Predict on test data\n",
        "test_predictions = decision_tree.predict(test_data)\n",
        "\n",
        "# Calculate accuracy\n",
        "accuracy = accuracy_score(test_labels, test_predictions)\n",
        "\n",
        "print(f'Accuracy of Decision Tree from Sklearn library on subset of MNIST test data: {accuracy * 100:.2f}%')"
      ]
    },
    {
      "cell_type": "markdown",
      "metadata": {
        "id": "tGDhLXKR4ja1"
      },
      "source": [
        "## 6. Conclusion\n",
        "- **Scratch Model**: 57.00%\n",
        "- **Sklearn Model**: 57.50%"
      ]
    }
  ],
  "metadata": {
    "colab": {
      "provenance": []
    },
    "kernelspec": {
      "display_name": "Python 3",
      "name": "python3"
    },
    "language_info": {
      "name": "python"
    }
  },
  "nbformat": 4,
  "nbformat_minor": 0
}
