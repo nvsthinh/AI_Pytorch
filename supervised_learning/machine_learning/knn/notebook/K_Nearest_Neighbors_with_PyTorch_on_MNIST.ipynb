{
  "nbformat": 4,
  "nbformat_minor": 0,
  "metadata": {
    "colab": {
      "provenance": [],
      "gpuType": "T4"
    },
    "kernelspec": {
      "name": "python3",
      "display_name": "Python 3"
    },
    "language_info": {
      "name": "python"
    },
    "accelerator": "GPU"
  },
  "cells": [
    {
      "cell_type": "markdown",
      "source": [
        "# KNN PyTorch with MNIST\n",
        "- **Task**: Classification\n",
        "- **Data**: MNIST Dataset\n",
        "- **Model**: KNN\n",
        "- **Distance**: L1"
      ],
      "metadata": {
        "id": "IwymkzhzYoPa"
      }
    },
    {
      "cell_type": "code",
      "source": [
        "!pip install -q watermark"
      ],
      "metadata": {
        "colab": {
          "base_uri": "https://localhost:8080/"
        },
        "id": "tiJsw6e6Jb9f",
        "outputId": "5afd7f17-0464-40a7-85ad-f9ae914dc6d9"
      },
      "execution_count": 1,
      "outputs": [
        {
          "output_type": "stream",
          "name": "stdout",
          "text": [
            "\u001b[2K     \u001b[90m━━━━━━━━━━━━━━━━━━━━━━━━━━━━━━━━━━━━━━━━\u001b[0m \u001b[32m1.6/1.6 MB\u001b[0m \u001b[31m10.8 MB/s\u001b[0m eta \u001b[36m0:00:00\u001b[0m\n",
            "\u001b[?25h"
          ]
        }
      ]
    },
    {
      "cell_type": "code",
      "source": [
        "%load_ext watermark\n",
        "%watermark -a 'Nguyen Van Sy Thinh' -v -p torch"
      ],
      "metadata": {
        "colab": {
          "base_uri": "https://localhost:8080/"
        },
        "id": "Ao8nws0Unz3B",
        "outputId": "1972d7aa-99ad-40be-f7dc-9d996253a1fa"
      },
      "execution_count": 2,
      "outputs": [
        {
          "output_type": "stream",
          "name": "stdout",
          "text": [
            "Author: Nguyen Van Sy Thinh\n",
            "\n",
            "Python implementation: CPython\n",
            "Python version       : 3.10.12\n",
            "IPython version      : 7.34.0\n",
            "\n",
            "torch: 2.3.0+cu121\n",
            "\n"
          ]
        }
      ]
    },
    {
      "cell_type": "markdown",
      "source": [
        "## 1. Import Library"
      ],
      "metadata": {
        "id": "k4Fm8LFQYxJi"
      }
    },
    {
      "cell_type": "code",
      "source": [
        "import torch\n",
        "import torchvision\n",
        "import torchvision.transforms as transforms\n",
        "from torch.utils.data import DataLoader\n",
        "from collections import Counter\n",
        "import numpy as np\n",
        "import matplotlib.pyplot as plt\n",
        "from sklearn.neighbors import KNeighborsClassifier\n",
        "from sklearn.metrics import accuracy_score\n",
        "device = torch.device('cuda' if torch.cuda.is_available() else 'cpu')"
      ],
      "metadata": {
        "id": "hdWQADB0ZFYP"
      },
      "execution_count": 13,
      "outputs": []
    },
    {
      "cell_type": "markdown",
      "source": [
        "## 2. Data"
      ],
      "metadata": {
        "id": "DkYKMYX8YygA"
      }
    },
    {
      "cell_type": "markdown",
      "source": [
        "### 2.1. MNIST Dataset"
      ],
      "metadata": {
        "id": "sXZrwCVrZIWw"
      }
    },
    {
      "cell_type": "code",
      "execution_count": 9,
      "metadata": {
        "id": "wZlmQGmpYPcr"
      },
      "outputs": [],
      "source": [
        "# Loading training data\n",
        "transform = transforms.Compose(\n",
        "    [\n",
        "        transforms.ToTensor(),\n",
        "        transforms.Normalize((0.5,), (0.5,))\n",
        "        ]\n",
        "    )\n",
        "\n",
        "train_dataset = torchvision.datasets.MNIST(root='./data',\n",
        "                               train=True,\n",
        "                               transform=transform,\n",
        "                               download=True)\n",
        "# Loading test data\n",
        "test_dataset = torchvision.datasets.MNIST(root='./data',\n",
        "                              train=False,\n",
        "                              transform=transform)"
      ]
    },
    {
      "cell_type": "markdown",
      "source": [
        "### 2.2. Data Information"
      ],
      "metadata": {
        "id": "zu2xayHAZ6px"
      }
    },
    {
      "cell_type": "code",
      "source": [
        "print(f\"Number of training samples: {len(train_dataset)}\")\n",
        "print(f\"Number of testing samples: {len(test_dataset)}\")"
      ],
      "metadata": {
        "colab": {
          "base_uri": "https://localhost:8080/"
        },
        "id": "NKGIXwVkZLJl",
        "outputId": "f497ccfb-6b31-4fc2-8be0-4428194bc7fb"
      },
      "execution_count": 10,
      "outputs": [
        {
          "output_type": "stream",
          "name": "stdout",
          "text": [
            "Number of training samples: 60000\n",
            "Number of testing samples: 10000\n"
          ]
        }
      ]
    },
    {
      "cell_type": "code",
      "source": [
        "print(f\"Datatype of the 1st training sample: {train_dataset[0][0].type()}\")\n",
        "print(f\"Size of the 1st training sample: {train_dataset[0][0].size()}\")"
      ],
      "metadata": {
        "colab": {
          "base_uri": "https://localhost:8080/"
        },
        "id": "mEchSn6wZw3d",
        "outputId": "11c99393-2841-4416-a9b3-5c5828d5cf09"
      },
      "execution_count": 11,
      "outputs": [
        {
          "output_type": "stream",
          "name": "stdout",
          "text": [
            "Datatype of the 1st training sample: torch.FloatTensor\n",
            "Size of the 1st training sample: torch.Size([1, 28, 28])\n"
          ]
        }
      ]
    },
    {
      "cell_type": "markdown",
      "source": [
        "### 2.3. Data Visualization"
      ],
      "metadata": {
        "id": "VMYEKrRLZ8ht"
      }
    },
    {
      "cell_type": "code",
      "source": [
        "img_5 = train_dataset[0][0].numpy().reshape(28, 28)\n",
        "plt.imshow(img_5, cmap='gray')\n",
        "plt.show()"
      ],
      "metadata": {
        "colab": {
          "base_uri": "https://localhost:8080/",
          "height": 430
        },
        "id": "mZMW-Ox-Z9pv",
        "outputId": "798c1f6b-71c1-48a0-bb0e-c57011cdaaf3"
      },
      "execution_count": 14,
      "outputs": [
        {
          "output_type": "display_data",
          "data": {
            "text/plain": [
              "<Figure size 640x480 with 1 Axes>"
            ],
            "image/png": "[encoded data removed]"
          },
          "metadata": {}
        }
      ]
    },
    {
      "cell_type": "code",
      "source": [
        "print(f\"Label of the 1st training sample: {train_dataset[0][1]}\")"
      ],
      "metadata": {
        "colab": {
          "base_uri": "https://localhost:8080/"
        },
        "id": "ZEQzKUV8AECA",
        "outputId": "ca970164-6b93-4ac6-a094-eecc71711022"
      },
      "execution_count": 15,
      "outputs": [
        {
          "output_type": "stream",
          "name": "stdout",
          "text": [
            "Label of the 1st training sample: 5\n"
          ]
        }
      ]
    },
    {
      "cell_type": "markdown",
      "source": [
        "### 2.4. Load Dataset into TorchTensor"
      ],
      "metadata": {
        "id": "D5vH5DHDaSpE"
      }
    },
    {
      "cell_type": "code",
      "source": [
        "train_loader = DataLoader(train_dataset, batch_size=len(train_dataset), shuffle=True)\n",
        "test_loader = DataLoader(test_dataset, batch_size=len(test_dataset), shuffle=False)\n",
        "\n",
        "# Get all training and testing data\n",
        "X_train, y_train = next(iter(train_loader))\n",
        "X_test, y_test = next(iter(test_loader))\n",
        "\n",
        "# Flatten the images from 28x28 to 784 features\n",
        "X_train = X_train.view(X_train.size(0), -1)\n",
        "X_test = X_test.view(X_test.size(0), -1)"
      ],
      "metadata": {
        "id": "239VGDf1Ft3r"
      },
      "execution_count": 17,
      "outputs": []
    },
    {
      "cell_type": "markdown",
      "source": [
        "## 3. Model"
      ],
      "metadata": {
        "id": "32MkQnmuaZT4"
      }
    },
    {
      "cell_type": "code",
      "source": [
        "class KNNClassifier:\n",
        "    def __init__(self, k=3):\n",
        "        \"\"\"\n",
        "        Initializes the KNN classifier with the specified number of neighbors.\n",
        "\n",
        "        Args:\n",
        "            k (int): The number of nearest neighbors to consider for classification.\n",
        "        \"\"\"\n",
        "        self.k = k\n",
        "\n",
        "    def fit(self, X_train, y_train):\n",
        "        \"\"\"\n",
        "        Fits the KNN classifier by storing the training data.\n",
        "\n",
        "        Args:\n",
        "            X_train (torch.Tensor): Training data features.\n",
        "            y_train (torch.Tensor): Training data labels.\n",
        "        \"\"\"\n",
        "        self.X_train = X_train\n",
        "        self.y_train = y_train\n",
        "\n",
        "    def predict(self, X_test):\n",
        "        \"\"\"\n",
        "        Predicts the labels for the given test data using the KNN algorithm.\n",
        "\n",
        "        Args:\n",
        "            X_test (torch.Tensor): Test data features.\n",
        "\n",
        "        Returns:\n",
        "            torch.Tensor: Predicted labels for the test data.\n",
        "        \"\"\"\n",
        "        y_pred = []  # List to store the predicted labels\n",
        "\n",
        "        for test_point in X_test:\n",
        "            # Calculate the Euclidean distance from the test point to all training points\n",
        "            distances = torch.norm(self.X_train - test_point, dim=1)\n",
        "\n",
        "            # Get the indices of the k nearest neighbors\n",
        "            k_nearest_indices = distances.argsort()[:self.k]\n",
        "\n",
        "            # Get the labels of the k nearest neighbors\n",
        "            k_nearest_labels = self.y_train[k_nearest_indices]\n",
        "\n",
        "            # Find the most common label among the k nearest neighbors\n",
        "            most_common = Counter(k_nearest_labels.tolist()).most_common(1)\n",
        "\n",
        "            # Append the most common label to the predictions list\n",
        "            y_pred.append(most_common[0][0])\n",
        "\n",
        "        # Convert the predictions list to a torch tensor and return it\n",
        "        return torch.tensor(y_pred)"
      ],
      "metadata": {
        "id": "-k6pAeghaaGv"
      },
      "execution_count": 18,
      "outputs": []
    },
    {
      "cell_type": "code",
      "source": [
        "knn = KNNClassifier(k=3)"
      ],
      "metadata": {
        "id": "qV7Kk8Qh_PRo"
      },
      "execution_count": 19,
      "outputs": []
    },
    {
      "cell_type": "code",
      "source": [
        "knn.fit(X_train, y_train)"
      ],
      "metadata": {
        "id": "K2dgLtP0_PgZ"
      },
      "execution_count": 20,
      "outputs": []
    },
    {
      "cell_type": "markdown",
      "source": [
        "## 4. Inference"
      ],
      "metadata": {
        "id": "vzDA7QbbluVY"
      }
    },
    {
      "cell_type": "markdown",
      "source": [
        "### 4.1. Scratch Model"
      ],
      "metadata": {
        "id": "K2WdvMVomFp7"
      }
    },
    {
      "cell_type": "code",
      "source": [
        "# Predict and evaluate on a small test subset due to computational cost\n",
        "X_test_subset = X_test[:1000]\n",
        "y_test_subset = y_test[:1000]\n",
        "\n",
        "y_pred = knn.predict(X_test_subset)\n",
        "accuracy = (y_pred == y_test_subset).sum().item() / y_test_subset.size(0)\n",
        "\n",
        "print(f'Accuracy on test subset: {accuracy * 100:.2f}%')"
      ],
      "metadata": {
        "colab": {
          "base_uri": "https://localhost:8080/"
        },
        "id": "vZhkDhgrmEcS",
        "outputId": "850b9d98-f755-4823-bded-76c13adceeda"
      },
      "execution_count": 21,
      "outputs": [
        {
          "output_type": "stream",
          "name": "stdout",
          "text": [
            "Accuracy on test subset: 96.50%\n"
          ]
        }
      ]
    },
    {
      "cell_type": "markdown",
      "source": [
        "### 4.2. KNeighborsClassifier model from Sklearn"
      ],
      "metadata": {
        "id": "31flJTRl_ZEz"
      }
    },
    {
      "cell_type": "code",
      "source": [
        "from sklearn.neighbors import KNeighborsClassifier\n",
        "from sklearn.metrics import accuracy_score\n",
        "\n",
        "# Flatten the images\n",
        "X_train = X_train.view(X_train.size(0), -1).numpy()\n",
        "X_test = X_test.view(X_test.size(0), -1).numpy()\n",
        "y_test = y_test.numpy()\n",
        "\n",
        "# Predict and evaluate on a small test subset due to computational cost\n",
        "X_test_subset = X_test[:1000]\n",
        "y_test_subset = y_test[:1000]\n",
        "\n",
        "# Create and train the KNeighborsClassifier model from sklearn\n",
        "knn_sklearn = KNeighborsClassifier(n_neighbors=3)\n",
        "knn_sklearn.fit(X_train, y_train.numpy())\n",
        "\n",
        "# Predict and evaluate on the test set\n",
        "y_pred_sklearn = knn_sklearn.predict(X_test_subset)\n",
        "accuracy_sklearn = accuracy_score(y_test_subset, y_pred_sklearn)\n",
        "\n",
        "print(f'Sklearn KNN Accuracy: {accuracy_sklearn * 100:.2f}%')"
      ],
      "metadata": {
        "colab": {
          "base_uri": "https://localhost:8080/"
        },
        "id": "06sRD8P8_yR2",
        "outputId": "fd2cef80-b1f9-422b-9598-5167bb963c16"
      },
      "execution_count": 22,
      "outputs": [
        {
          "output_type": "stream",
          "name": "stdout",
          "text": [
            "Sklearn KNN Accuracy: 96.20%\n"
          ]
        }
      ]
    },
    {
      "cell_type": "markdown",
      "source": [
        "## 7. Conclusion\n",
        "- **Scratch Model**: 96.50%\n",
        "- **Sklearn Model**: 96.20%"
      ],
      "metadata": {
        "id": "rchetQ3DK6Lk"
      }
    }
  ]
}