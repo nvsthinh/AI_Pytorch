{
  "nbformat": 4,
  "nbformat_minor": 0,
  "metadata": {
    "colab": {
      "provenance": []
    },
    "kernelspec": {
      "name": "python3",
      "display_name": "Python 3"
    },
    "language_info": {
      "name": "python"
    }
  },
  "cells": [
    {
      "cell_type": "markdown",
      "source": [
        "# SVM PyTorch with MNIST [0 and 1]\n",
        "- **Task**: Classification\n",
        "- **Data**: MNIST Dataset\n",
        "- **Model**: SVM\n",
        "- **Loss function**: SVM Loss\n",
        "- **Optimization**: Stochastic Gradient Descent"
      ],
      "metadata": {
        "id": "IwymkzhzYoPa"
      }
    },
    {
      "cell_type": "code",
      "source": [
        "!pip install -q watermark"
      ],
      "metadata": {
        "id": "hbDpUbP4VJFo"
      },
      "execution_count": 64,
      "outputs": []
    },
    {
      "cell_type": "code",
      "source": [
        "%load_ext watermark\n",
        "%watermark -a 'Nguyen Van Sy Thinh' -v -p torch"
      ],
      "metadata": {
        "colab": {
          "base_uri": "https://localhost:8080/"
        },
        "id": "Ao8nws0Unz3B",
        "outputId": "f127dcfb-f701-4173-9f2e-3e0590f290fc"
      },
      "execution_count": 65,
      "outputs": [
        {
          "output_type": "stream",
          "name": "stdout",
          "text": [
            "Author: Nguyen Van Sy Thinh\n",
            "\n",
            "Python implementation: CPython\n",
            "Python version       : 3.10.12\n",
            "IPython version      : 7.34.0\n",
            "\n",
            "torch: 2.3.0+cu121\n",
            "\n"
          ]
        }
      ]
    },
    {
      "cell_type": "markdown",
      "source": [
        "## 1. Import Library"
      ],
      "metadata": {
        "id": "k4Fm8LFQYxJi"
      }
    },
    {
      "cell_type": "code",
      "source": [
        "import torch\n",
        "from torch.autograd import Variable\n",
        "import torchvision.transforms as transforms\n",
        "from torch.utils.data.sampler import SubsetRandomSampler\n",
        "from torchvision import datasets\n",
        "import matplotlib.pyplot as plt\n",
        "import time"
      ],
      "metadata": {
        "id": "hdWQADB0ZFYP"
      },
      "execution_count": 66,
      "outputs": []
    },
    {
      "cell_type": "markdown",
      "source": [
        "## 2. Data"
      ],
      "metadata": {
        "id": "DkYKMYX8YygA"
      }
    },
    {
      "cell_type": "markdown",
      "source": [
        "### 2.1. MNIST Dataset"
      ],
      "metadata": {
        "id": "sXZrwCVrZIWw"
      }
    },
    {
      "cell_type": "code",
      "execution_count": 67,
      "metadata": {
        "id": "wZlmQGmpYPcr"
      },
      "outputs": [],
      "source": [
        "# Loading training data\n",
        "train_dataset = datasets.MNIST(root='./data',\n",
        "                               train=True,\n",
        "                               transform=transforms.Compose([\n",
        "                                transforms.ToTensor(),\n",
        "                                transforms.Normalize((0.1307,), (0.3081,))\n",
        "                               ]),\n",
        "                               download=True)\n",
        "# Loading test data\n",
        "test_dataset = datasets.MNIST(root='./data',\n",
        "                              train=False,\n",
        "                              transform=transforms.Compose([\n",
        "                                transforms.ToTensor(),\n",
        "                                transforms.Normalize((0.1307,), (0.3081,))\n",
        "                              ]))"
      ]
    },
    {
      "cell_type": "markdown",
      "source": [
        "### 2.2. Data Information"
      ],
      "metadata": {
        "id": "zu2xayHAZ6px"
      }
    },
    {
      "cell_type": "code",
      "source": [
        "print(f\"Number of training samples: {len(train_dataset)}\")\n",
        "print(f\"Number of testing samples: {len(test_dataset)}\")"
      ],
      "metadata": {
        "colab": {
          "base_uri": "https://localhost:8080/"
        },
        "id": "NKGIXwVkZLJl",
        "outputId": "26b3a26e-a96b-4733-86fb-a759a76e491e"
      },
      "execution_count": 68,
      "outputs": [
        {
          "output_type": "stream",
          "name": "stdout",
          "text": [
            "Number of training samples: 60000\n",
            "Number of testing samples: 10000\n"
          ]
        }
      ]
    },
    {
      "cell_type": "code",
      "source": [
        "print(f\"Datatype of the 1st training sample: {train_dataset[0][0].type()}\")\n",
        "print(f\"Size of the 1st training sample: {train_dataset[0][0].size()}\")"
      ],
      "metadata": {
        "colab": {
          "base_uri": "https://localhost:8080/"
        },
        "id": "mEchSn6wZw3d",
        "outputId": "a68a9fc9-0d8b-4b75-b0e8-a0ca29b00319"
      },
      "execution_count": 69,
      "outputs": [
        {
          "output_type": "stream",
          "name": "stdout",
          "text": [
            "Datatype of the 1st training sample: torch.FloatTensor\n",
            "Size of the 1st training sample: torch.Size([1, 28, 28])\n"
          ]
        }
      ]
    },
    {
      "cell_type": "markdown",
      "source": [
        "### 2.3. Data Visualization"
      ],
      "metadata": {
        "id": "VMYEKrRLZ8ht"
      }
    },
    {
      "cell_type": "code",
      "source": [
        "img_5 = train_dataset[0][0].numpy().reshape(28, 28)\n",
        "plt.imshow(img_5, cmap='gray')\n",
        "plt.show()"
      ],
      "metadata": {
        "colab": {
          "base_uri": "https://localhost:8080/",
          "height": 430
        },
        "id": "mZMW-Ox-Z9pv",
        "outputId": "77af7d8e-e1ed-460b-dc82-5f973cf91dfe"
      },
      "execution_count": 70,
      "outputs": [
        {
          "output_type": "display_data",
          "data": {
            "text/plain": [
              "<Figure size 640x480 with 1 Axes>"
            ],
            "image/png": "[encoded data removed]"
          },
          "metadata": {}
        }
      ]
    },
    {
      "cell_type": "markdown",
      "source": [
        "### 2.4. Load Dataset into DataLoader"
      ],
      "metadata": {
        "id": "D5vH5DHDaSpE"
      }
    },
    {
      "cell_type": "code",
      "source": [
        "from torch.utils.data import DataLoader\n",
        "\n",
        "# Load train and test data samples into dataloader\n",
        "batch_size = 64\n",
        "# Only select all samples with labels is 0 and 1\n",
        "subset_indices = ((train_dataset.targets == 0) + (train_dataset.targets == 1)).nonzero().view(-1)\n",
        "train_loader = DataLoader(dataset=train_dataset, batch_size=batch_size, shuffle=False, sampler=SubsetRandomSampler(subset_indices))\n",
        "subset_indices = ((test_dataset.targets == 0) + (test_dataset.targets == 1)).nonzero().view(-1)\n",
        "test_loader = DataLoader(dataset=test_dataset, batch_size=batch_size, shuffle=False, sampler=SubsetRandomSampler(subset_indices))"
      ],
      "metadata": {
        "id": "xsZmSX64aVF4"
      },
      "execution_count": 71,
      "outputs": []
    },
    {
      "cell_type": "markdown",
      "source": [
        "## 3. Model"
      ],
      "metadata": {
        "id": "32MkQnmuaZT4"
      }
    },
    {
      "cell_type": "code",
      "source": [
        "import torch\n",
        "import torch.nn as nn\n",
        "\n",
        "class SVMModel(nn.Module):\n",
        "    def __init__(self, n_inputs, n_outputs):\n",
        "        super().__init__()\n",
        "        self.linear = nn.Linear(n_inputs, n_outputs)\n",
        "\n",
        "    def forward(self, x):\n",
        "        output = self.linear(x)\n",
        "        return output"
      ],
      "metadata": {
        "id": "-k6pAeghaaGv"
      },
      "execution_count": 72,
      "outputs": []
    },
    {
      "cell_type": "code",
      "source": [
        "N_INPUTS = 28*28 # makes a 1D vector of 784\n",
        "N_OUTPUTS = 1"
      ],
      "metadata": {
        "id": "gNOq0pHdjmeY"
      },
      "execution_count": 73,
      "outputs": []
    },
    {
      "cell_type": "code",
      "source": [
        "model = SVMModel(n_inputs=N_INPUTS, n_outputs=N_OUTPUTS)"
      ],
      "metadata": {
        "id": "vdmDzHLUjWjh"
      },
      "execution_count": 74,
      "outputs": []
    },
    {
      "cell_type": "markdown",
      "source": [
        "## 4. Loss Function and Optimization"
      ],
      "metadata": {
        "id": "LSc4P6BLjtGd"
      }
    },
    {
      "cell_type": "code",
      "source": [
        "LR = 0.001\n",
        "EPOCHS = 50"
      ],
      "metadata": {
        "id": "5e5mUCrqjvo6"
      },
      "execution_count": 75,
      "outputs": []
    },
    {
      "cell_type": "code",
      "source": [
        "class SVMLoss(nn.modules.Module):\n",
        "    def __init__(self):\n",
        "        super(SVMLoss,self).__init__()\n",
        "    def forward(self, outputs, labels):\n",
        "         return torch.sum(torch.clamp(1 - outputs.t()*labels, min=0))/batch_size"
      ],
      "metadata": {
        "id": "J3MmBD9POkE7"
      },
      "execution_count": 76,
      "outputs": []
    },
    {
      "cell_type": "code",
      "source": [
        "criterion = SVMLoss()\n",
        "optimizer = torch.optim.SGD(model.parameters(), lr=LR)"
      ],
      "metadata": {
        "id": "HyefEJxQjyOs"
      },
      "execution_count": 77,
      "outputs": []
    },
    {
      "cell_type": "markdown",
      "source": [
        "## 5. Train"
      ],
      "metadata": {
        "id": "zMIMDD5sj4EO"
      }
    },
    {
      "cell_type": "code",
      "source": [
        "losses = []\n",
        "accs = []\n",
        "for epoch in range(EPOCHS):\n",
        "    start_time = time.time()\n",
        "    avg_loss_epoch = 0\n",
        "    batch_loss = 0\n",
        "    total_batches = 0\n",
        "    for i, (images, labels) in enumerate(train_loader):\n",
        "        # Reshape images to (batch_size, input_size)\n",
        "        images = images.reshape(-1, 28*28)\n",
        "        labels = Variable(2*(labels.float()-0.5))\n",
        "\n",
        "        # Forward pass\n",
        "        outputs = model(images)\n",
        "        loss_svm = criterion(outputs, labels)\n",
        "\n",
        "\n",
        "        # Backward and optimize\n",
        "        optimizer.zero_grad()\n",
        "        loss_svm.backward()\n",
        "        optimizer.step()\n",
        "\n",
        "        total_batches += 1\n",
        "        batch_loss += loss_svm.item()\n",
        "\n",
        "    avg_loss_epoch = batch_loss/total_batches\n",
        "    losses.append(avg_loss_epoch)\n",
        "\n",
        "    # Test the SVM Model\n",
        "    correct = 0.\n",
        "    total = 0.\n",
        "    for i, (images, labels) in enumerate(test_loader):\n",
        "        images = images.reshape(-1, 28*28)\n",
        "\n",
        "        outputs = model(images)\n",
        "        predicted = outputs.data >= 0\n",
        "        total += labels.size(0)\n",
        "        correct += (predicted.view(-1).long() == labels).sum()\n",
        "    accuracy = 100 * correct / total\n",
        "    accs.append(accuracy)\n",
        "    print(f'[{epoch + 1}/{EPOCHS}] Epoch, Loss {avg_loss_epoch:.4f}, Accuracy {accuracy:.4f}, Time: {time.time() - start_time:.2f}s')"
      ],
      "metadata": {
        "colab": {
          "base_uri": "https://localhost:8080/"
        },
        "id": "eALWXZMTj3PR",
        "outputId": "c9beeba2-d825-4d4b-e94d-0f93f3c4079c"
      },
      "execution_count": 78,
      "outputs": [
        {
          "output_type": "stream",
          "name": "stdout",
          "text": [
            "[1/50] Epoch, Loss 0.0418, Accuracy 99.8109, Time: 8.17s\n",
            "[2/50] Epoch, Loss 0.0115, Accuracy 99.8582, Time: 14.07s\n",
            "[3/50] Epoch, Loss 0.0090, Accuracy 99.8582, Time: 6.47s\n",
            "[4/50] Epoch, Loss 0.0076, Accuracy 99.9054, Time: 3.90s\n",
            "[5/50] Epoch, Loss 0.0067, Accuracy 99.9054, Time: 5.83s\n",
            "[6/50] Epoch, Loss 0.0061, Accuracy 99.9054, Time: 6.74s\n",
            "[7/50] Epoch, Loss 0.0057, Accuracy 99.9054, Time: 6.43s\n",
            "[8/50] Epoch, Loss 0.0054, Accuracy 99.9054, Time: 3.88s\n",
            "[9/50] Epoch, Loss 0.0051, Accuracy 99.9054, Time: 4.44s\n",
            "[10/50] Epoch, Loss 0.0049, Accuracy 99.9054, Time: 4.73s\n",
            "[11/50] Epoch, Loss 0.0047, Accuracy 99.9054, Time: 3.98s\n",
            "[12/50] Epoch, Loss 0.0045, Accuracy 99.9054, Time: 4.13s\n",
            "[13/50] Epoch, Loss 0.0044, Accuracy 99.9054, Time: 4.73s\n",
            "[14/50] Epoch, Loss 0.0043, Accuracy 99.9054, Time: 3.96s\n",
            "[15/50] Epoch, Loss 0.0042, Accuracy 99.9054, Time: 4.00s\n",
            "[16/50] Epoch, Loss 0.0041, Accuracy 99.9054, Time: 4.89s\n",
            "[17/50] Epoch, Loss 0.0040, Accuracy 99.9054, Time: 4.00s\n",
            "[18/50] Epoch, Loss 0.0039, Accuracy 99.9054, Time: 4.08s\n",
            "[19/50] Epoch, Loss 0.0039, Accuracy 99.9054, Time: 4.86s\n",
            "[20/50] Epoch, Loss 0.0038, Accuracy 99.9054, Time: 3.99s\n",
            "[21/50] Epoch, Loss 0.0037, Accuracy 99.9054, Time: 4.26s\n",
            "[22/50] Epoch, Loss 0.0037, Accuracy 99.9054, Time: 4.79s\n",
            "[23/50] Epoch, Loss 0.0036, Accuracy 99.9054, Time: 4.35s\n",
            "[24/50] Epoch, Loss 0.0036, Accuracy 99.9054, Time: 4.53s\n",
            "[25/50] Epoch, Loss 0.0035, Accuracy 99.9054, Time: 4.60s\n",
            "[26/50] Epoch, Loss 0.0035, Accuracy 99.9054, Time: 3.95s\n",
            "[27/50] Epoch, Loss 0.0034, Accuracy 99.9054, Time: 4.15s\n",
            "[28/50] Epoch, Loss 0.0034, Accuracy 99.9054, Time: 4.72s\n",
            "[29/50] Epoch, Loss 0.0033, Accuracy 99.9054, Time: 3.93s\n",
            "[30/50] Epoch, Loss 0.0033, Accuracy 99.9054, Time: 4.01s\n",
            "[31/50] Epoch, Loss 0.0033, Accuracy 99.9054, Time: 4.87s\n",
            "[32/50] Epoch, Loss 0.0032, Accuracy 99.9054, Time: 4.11s\n",
            "[33/50] Epoch, Loss 0.0032, Accuracy 99.9054, Time: 3.99s\n",
            "[34/50] Epoch, Loss 0.0032, Accuracy 99.9054, Time: 4.88s\n",
            "[35/50] Epoch, Loss 0.0031, Accuracy 99.9054, Time: 3.96s\n",
            "[36/50] Epoch, Loss 0.0031, Accuracy 99.9054, Time: 3.94s\n",
            "[37/50] Epoch, Loss 0.0031, Accuracy 99.9054, Time: 4.92s\n",
            "[38/50] Epoch, Loss 0.0030, Accuracy 99.9527, Time: 3.98s\n",
            "[39/50] Epoch, Loss 0.0030, Accuracy 99.9527, Time: 3.90s\n",
            "[40/50] Epoch, Loss 0.0030, Accuracy 99.9527, Time: 4.91s\n",
            "[41/50] Epoch, Loss 0.0029, Accuracy 99.9527, Time: 3.94s\n",
            "[42/50] Epoch, Loss 0.0029, Accuracy 99.9527, Time: 4.15s\n",
            "[43/50] Epoch, Loss 0.0029, Accuracy 99.9527, Time: 4.86s\n",
            "[44/50] Epoch, Loss 0.0029, Accuracy 99.9527, Time: 3.90s\n",
            "[45/50] Epoch, Loss 0.0028, Accuracy 99.9527, Time: 3.94s\n",
            "[46/50] Epoch, Loss 0.0028, Accuracy 99.9527, Time: 4.93s\n",
            "[47/50] Epoch, Loss 0.0028, Accuracy 99.9527, Time: 3.94s\n",
            "[48/50] Epoch, Loss 0.0028, Accuracy 99.9527, Time: 4.37s\n",
            "[49/50] Epoch, Loss 0.0027, Accuracy 99.9527, Time: 4.94s\n",
            "[50/50] Epoch, Loss 0.0027, Accuracy 99.9527, Time: 4.34s\n"
          ]
        }
      ]
    },
    {
      "cell_type": "markdown",
      "source": [
        "## 6. Inference"
      ],
      "metadata": {
        "id": "vzDA7QbbluVY"
      }
    },
    {
      "cell_type": "markdown",
      "source": [
        "### 6.1. Loss Visualization"
      ],
      "metadata": {
        "id": "kdPXIboQmA0U"
      }
    },
    {
      "cell_type": "code",
      "source": [
        "plt.plot(losses)\n",
        "plt.xlabel(\"no. of epochs\")\n",
        "plt.ylabel(\"total loss\")\n",
        "plt.title(\"Loss\")\n",
        "plt.show()"
      ],
      "metadata": {
        "colab": {
          "base_uri": "https://localhost:8080/",
          "height": 472
        },
        "id": "_LN5ErfolFuA",
        "outputId": "d2f367b5-c064-428f-fae7-a04cb8e3bf52"
      },
      "execution_count": 82,
      "outputs": [
        {
          "output_type": "display_data",
          "data": {
            "text/plain": [
              "<Figure size 640x480 with 1 Axes>"
            ],
            "image/png": "[encoded data removed]"
          },
          "metadata": {}
        }
      ]
    },
    {
      "cell_type": "markdown",
      "source": [
        "### 6.2. Accuracy"
      ],
      "metadata": {
        "id": "K2WdvMVomFp7"
      }
    },
    {
      "cell_type": "code",
      "source": [
        "plt.plot(accs)\n",
        "plt.xlabel(\"no. of epochs\")\n",
        "plt.ylabel(\"total accuracy\")\n",
        "plt.title(\"Accuracy\")\n",
        "plt.show()"
      ],
      "metadata": {
        "colab": {
          "base_uri": "https://localhost:8080/",
          "height": 472
        },
        "id": "vZhkDhgrmEcS",
        "outputId": "cdd96398-94f0-419d-afad-9c4bbfeca114"
      },
      "execution_count": 83,
      "outputs": [
        {
          "output_type": "display_data",
          "data": {
            "text/plain": [
              "<Figure size 640x480 with 1 Axes>"
            ],
            "image/png": "[encoded data removed]"
          },
          "metadata": {}
        }
      ]
    },
    {
      "cell_type": "markdown",
      "source": [
        "## 7. Conclusion\n",
        "- **Accuracy**: 99.96% with two labels 0 and 1"
      ],
      "metadata": {
        "id": "rchetQ3DK6Lk"
      }
    }
  ]
}