{
  "nbformat": 4,
  "nbformat_minor": 0,
  "metadata": {
    "colab": {
      "provenance": [],
      "gpuType": "T4"
    },
    "kernelspec": {
      "name": "python3",
      "display_name": "Python 3"
    },
    "language_info": {
      "name": "python"
    },
    "accelerator": "GPU"
  },
  "cells": [
    {
      "cell_type": "markdown",
      "source": [
        "# KNN PyTorch with MNIST\n",
        "- **Task**: Classification\n",
        "- **Data**: MNIST Dataset\n",
        "- **Model**: KNN\n",
        "- **Distance**: L1"
      ],
      "metadata": {
        "id": "IwymkzhzYoPa"
      }
    },
    {
      "cell_type": "code",
      "source": [
        "!pip install -q watermark"
      ],
      "metadata": {
        "colab": {
          "base_uri": "https://localhost:8080/"
        },
        "id": "tiJsw6e6Jb9f",
        "outputId": "7c43ade9-a120-4eab-e8ed-3200f116cbaa"
      },
      "execution_count": 1,
      "outputs": [
        {
          "output_type": "stream",
          "name": "stdout",
          "text": [
            "\u001b[2K     \u001b[90m━━━━━━━━━━━━━━━━━━━━━━━━━━━━━━━━━━━━━━━━\u001b[0m \u001b[32m1.6/1.6 MB\u001b[0m \u001b[31m6.6 MB/s\u001b[0m eta \u001b[36m0:00:00\u001b[0m\n",
            "\u001b[?25h"
          ]
        }
      ]
    },
    {
      "cell_type": "code",
      "source": [
        "%load_ext watermark\n",
        "%watermark -a 'Nguyen Van Sy Thinh' -v -p torch"
      ],
      "metadata": {
        "colab": {
          "base_uri": "https://localhost:8080/"
        },
        "id": "Ao8nws0Unz3B",
        "outputId": "dc5fe723-a98d-4216-e048-756ac53b4135"
      },
      "execution_count": 2,
      "outputs": [
        {
          "output_type": "stream",
          "name": "stdout",
          "text": [
            "Author: Nguyen Van Sy Thinh\n",
            "\n",
            "Python implementation: CPython\n",
            "Python version       : 3.10.12\n",
            "IPython version      : 7.34.0\n",
            "\n",
            "torch: 2.3.0+cu121\n",
            "\n"
          ]
        }
      ]
    },
    {
      "cell_type": "markdown",
      "source": [
        "## 1. Import Library"
      ],
      "metadata": {
        "id": "k4Fm8LFQYxJi"
      }
    },
    {
      "cell_type": "code",
      "source": [
        "import torch\n",
        "import torch.nn as nn\n",
        "import torchvision.transforms as transforms\n",
        "from torchvision import datasets\n",
        "import matplotlib.pyplot as plt\n",
        "import time\n",
        "device = torch.device('cuda' if torch.cuda.is_available() else 'cpu')"
      ],
      "metadata": {
        "id": "hdWQADB0ZFYP"
      },
      "execution_count": 3,
      "outputs": []
    },
    {
      "cell_type": "markdown",
      "source": [
        "## 2. Data"
      ],
      "metadata": {
        "id": "DkYKMYX8YygA"
      }
    },
    {
      "cell_type": "markdown",
      "source": [
        "### 2.1. MNIST Dataset"
      ],
      "metadata": {
        "id": "sXZrwCVrZIWw"
      }
    },
    {
      "cell_type": "code",
      "execution_count": 4,
      "metadata": {
        "colab": {
          "base_uri": "https://localhost:8080/"
        },
        "id": "wZlmQGmpYPcr",
        "outputId": "b0403658-1784-4e1c-a34e-9abbaba316ae"
      },
      "outputs": [
        {
          "output_type": "stream",
          "name": "stdout",
          "text": [
            "Downloading http://yann.lecun.com/exdb/mnist/train-images-idx3-ubyte.gz\n",
            "Failed to download (trying next):\n",
            "HTTP Error 403: Forbidden\n",
            "\n",
            "Downloading https://ossci-datasets.s3.amazonaws.com/mnist/train-images-idx3-ubyte.gz\n",
            "Downloading https://ossci-datasets.s3.amazonaws.com/mnist/train-images-idx3-ubyte.gz to ./data/MNIST/raw/train-images-idx3-ubyte.gz\n"
          ]
        },
        {
          "output_type": "stream",
          "name": "stderr",
          "text": [
            "100%|██████████| 9912422/9912422 [00:00<00:00, 15768528.13it/s]\n"
          ]
        },
        {
          "output_type": "stream",
          "name": "stdout",
          "text": [
            "Extracting ./data/MNIST/raw/train-images-idx3-ubyte.gz to ./data/MNIST/raw\n",
            "\n",
            "Downloading http://yann.lecun.com/exdb/mnist/train-labels-idx1-ubyte.gz\n",
            "Failed to download (trying next):\n",
            "HTTP Error 403: Forbidden\n",
            "\n",
            "Downloading https://ossci-datasets.s3.amazonaws.com/mnist/train-labels-idx1-ubyte.gz\n",
            "Downloading https://ossci-datasets.s3.amazonaws.com/mnist/train-labels-idx1-ubyte.gz to ./data/MNIST/raw/train-labels-idx1-ubyte.gz\n"
          ]
        },
        {
          "output_type": "stream",
          "name": "stderr",
          "text": [
            "100%|██████████| 28881/28881 [00:00<00:00, 483660.58it/s]\n"
          ]
        },
        {
          "output_type": "stream",
          "name": "stdout",
          "text": [
            "Extracting ./data/MNIST/raw/train-labels-idx1-ubyte.gz to ./data/MNIST/raw\n",
            "\n",
            "Downloading http://yann.lecun.com/exdb/mnist/t10k-images-idx3-ubyte.gz\n",
            "Failed to download (trying next):\n",
            "HTTP Error 403: Forbidden\n",
            "\n",
            "Downloading https://ossci-datasets.s3.amazonaws.com/mnist/t10k-images-idx3-ubyte.gz\n",
            "Downloading https://ossci-datasets.s3.amazonaws.com/mnist/t10k-images-idx3-ubyte.gz to ./data/MNIST/raw/t10k-images-idx3-ubyte.gz\n"
          ]
        },
        {
          "output_type": "stream",
          "name": "stderr",
          "text": [
            "100%|██████████| 1648877/1648877 [00:00<00:00, 4347585.62it/s]\n"
          ]
        },
        {
          "output_type": "stream",
          "name": "stdout",
          "text": [
            "Extracting ./data/MNIST/raw/t10k-images-idx3-ubyte.gz to ./data/MNIST/raw\n",
            "\n",
            "Downloading http://yann.lecun.com/exdb/mnist/t10k-labels-idx1-ubyte.gz\n",
            "Failed to download (trying next):\n",
            "HTTP Error 403: Forbidden\n",
            "\n",
            "Downloading https://ossci-datasets.s3.amazonaws.com/mnist/t10k-labels-idx1-ubyte.gz\n",
            "Downloading https://ossci-datasets.s3.amazonaws.com/mnist/t10k-labels-idx1-ubyte.gz to ./data/MNIST/raw/t10k-labels-idx1-ubyte.gz\n"
          ]
        },
        {
          "output_type": "stream",
          "name": "stderr",
          "text": [
            "100%|██████████| 4542/4542 [00:00<00:00, 2233356.24it/s]"
          ]
        },
        {
          "output_type": "stream",
          "name": "stdout",
          "text": [
            "Extracting ./data/MNIST/raw/t10k-labels-idx1-ubyte.gz to ./data/MNIST/raw\n",
            "\n"
          ]
        },
        {
          "output_type": "stream",
          "name": "stderr",
          "text": [
            "\n"
          ]
        }
      ],
      "source": [
        "# Loading training data\n",
        "transform = transforms.Compose([\n",
        "    transforms.Grayscale(),\n",
        "    transforms.ToTensor(),\n",
        "    transforms.Normalize((0.5,), (0.5,)),\n",
        "    nn.Flatten()\n",
        "])\n",
        "train_dataset = datasets.MNIST(root='./data',\n",
        "                               train=True,\n",
        "                               transform=transform,\n",
        "                               download=True)\n",
        "# Loading test data\n",
        "test_dataset = datasets.MNIST(root='./data',\n",
        "                              train=False,\n",
        "                              transform=transform)"
      ]
    },
    {
      "cell_type": "markdown",
      "source": [
        "### 2.2. Data Information"
      ],
      "metadata": {
        "id": "zu2xayHAZ6px"
      }
    },
    {
      "cell_type": "code",
      "source": [
        "print(f\"Number of training samples: {len(train_dataset)}\")\n",
        "print(f\"Number of testing samples: {len(test_dataset)}\")"
      ],
      "metadata": {
        "colab": {
          "base_uri": "https://localhost:8080/"
        },
        "id": "NKGIXwVkZLJl",
        "outputId": "33162580-af96-4d7c-8c13-13ab2f09254c"
      },
      "execution_count": 5,
      "outputs": [
        {
          "output_type": "stream",
          "name": "stdout",
          "text": [
            "Number of training samples: 60000\n",
            "Number of testing samples: 10000\n"
          ]
        }
      ]
    },
    {
      "cell_type": "code",
      "source": [
        "print(f\"Datatype of the 1st training sample: {train_dataset[0][0].type()}\")\n",
        "print(f\"Size of the 1st training sample: {train_dataset[0][0].size()}\")"
      ],
      "metadata": {
        "colab": {
          "base_uri": "https://localhost:8080/"
        },
        "id": "mEchSn6wZw3d",
        "outputId": "7445ccf1-d843-42ce-d764-44614f95075e"
      },
      "execution_count": 6,
      "outputs": [
        {
          "output_type": "stream",
          "name": "stdout",
          "text": [
            "Datatype of the 1st training sample: torch.FloatTensor\n",
            "Size of the 1st training sample: torch.Size([1, 784])\n"
          ]
        }
      ]
    },
    {
      "cell_type": "markdown",
      "source": [
        "### 2.3. Data Visualization"
      ],
      "metadata": {
        "id": "VMYEKrRLZ8ht"
      }
    },
    {
      "cell_type": "code",
      "source": [
        "img_5 = train_dataset[0][0].numpy().reshape(28, 28)\n",
        "plt.imshow(img_5, cmap='gray')\n",
        "plt.show()"
      ],
      "metadata": {
        "colab": {
          "base_uri": "https://localhost:8080/",
          "height": 430
        },
        "id": "mZMW-Ox-Z9pv",
        "outputId": "8c22aa69-626e-468b-a12e-d833ffe94a3c"
      },
      "execution_count": 7,
      "outputs": [
        {
          "output_type": "display_data",
          "data": {
            "text/plain": [
              "<Figure size 640x480 with 1 Axes>"
            ],
            "image/png": "[encoded data removed]"
          },
          "metadata": {}
        }
      ]
    },
    {
      "cell_type": "code",
      "source": [
        "print(f\"Label of the 1st training sample: {train_dataset[0][1]}\")"
      ],
      "metadata": {
        "colab": {
          "base_uri": "https://localhost:8080/"
        },
        "id": "ZEQzKUV8AECA",
        "outputId": "bea06fb6-d834-40a8-ae28-ce1a16d37e41"
      },
      "execution_count": 8,
      "outputs": [
        {
          "output_type": "stream",
          "name": "stdout",
          "text": [
            "Label of the 1st training sample: 5\n"
          ]
        }
      ]
    },
    {
      "cell_type": "markdown",
      "source": [
        "### 2.4. Load Dataset into TorchTensor"
      ],
      "metadata": {
        "id": "D5vH5DHDaSpE"
      }
    },
    {
      "cell_type": "code",
      "source": [
        "x_train = torch.stack([train_dataset[i][0].squeeze() for i in range(len(train_dataset))]).to(device)\n",
        "y_train = torch.tensor([train_dataset[i][1] for i in range(len(train_dataset))], dtype=torch.int64).to(device)\n",
        "x_test = torch.stack([test_dataset[i][0].squeeze() for i in range(len(test_dataset))]).to(device)\n",
        "y_test = torch.tensor([test_dataset[i][1] for i in range(len(test_dataset))], dtype=torch.int64).to(device)"
      ],
      "metadata": {
        "id": "2GdZydXAF7CK"
      },
      "execution_count": 9,
      "outputs": []
    },
    {
      "cell_type": "code",
      "source": [
        "print(f\"{x_train.shape = }\")\n",
        "print(f\"{x_train.dtype = }\")\n",
        "print(f\"{y_train.shape = }\")\n",
        "print(f\"{y_train.dtype = }\")"
      ],
      "metadata": {
        "colab": {
          "base_uri": "https://localhost:8080/"
        },
        "id": "239VGDf1Ft3r",
        "outputId": "83b40387-029d-40c2-cee9-05297a896974"
      },
      "execution_count": 10,
      "outputs": [
        {
          "output_type": "stream",
          "name": "stdout",
          "text": [
            "x_train.shape = torch.Size([60000, 784])\n",
            "x_train.dtype = torch.float32\n",
            "y_train.shape = torch.Size([60000])\n",
            "y_train.dtype = torch.int64\n"
          ]
        }
      ]
    },
    {
      "cell_type": "markdown",
      "source": [
        "## 3. Model"
      ],
      "metadata": {
        "id": "32MkQnmuaZT4"
      }
    },
    {
      "cell_type": "code",
      "source": [
        "def knn(x_train, y_train, x_test, k, device, log_interval=100, log=True):\n",
        "\n",
        "    # Get the amount of images, training images, and image size.\n",
        "    num_images = x_test.shape[0]\n",
        "    num_train = y_train.shape[0]\n",
        "    img_size = x_test.shape[1]\n",
        "\n",
        "    y_test = torch.zeros((num_images), device=device, dtype=torch.float)\n",
        "\n",
        "    # For each of the images in the test set\n",
        "    for test_index in range(0, num_images):\n",
        "\n",
        "        # Get the image and calculate the distance to every item in the trainset\n",
        "        test_image = x_test[test_index]\n",
        "        distances = torch.norm(x_train - test_image, dim=1)\n",
        "\n",
        "        # Get the top k indexes and get the most used index between them all\n",
        "        indexes = torch.topk(distances, k, largest=False)[1]\n",
        "        classes = torch.gather(y_train, 0, indexes)\n",
        "        mode = int(torch.mode(classes)[0])\n",
        "\n",
        "        # Save the test value in the index.\n",
        "        y_test[test_index] = mode\n",
        "\n",
        "        # Logging since with large sets it may be helpful\n",
        "        if log:\n",
        "            if test_index % log_interval == 0:\n",
        "                print(\"Currently predicting at test_index = %d\" % test_index)\n",
        "\n",
        "    return y_test"
      ],
      "metadata": {
        "id": "-k6pAeghaaGv"
      },
      "execution_count": 11,
      "outputs": []
    },
    {
      "cell_type": "code",
      "source": [
        "print(\"Loaded train and test with sizes: %s, %s\" % (str(x_train.shape), str(x_test.shape)))"
      ],
      "metadata": {
        "colab": {
          "base_uri": "https://localhost:8080/"
        },
        "id": "V9m1dsn_I1QB",
        "outputId": "0d33658c-af80-4544-f14b-00109ad4919e"
      },
      "execution_count": 12,
      "outputs": [
        {
          "output_type": "stream",
          "name": "stdout",
          "text": [
            "Loaded train and test with sizes: torch.Size([60000, 784]), torch.Size([10000, 784])\n"
          ]
        }
      ]
    },
    {
      "cell_type": "code",
      "source": [
        "pred = knn(x_train, y_train, x_test, k=1, device=device)"
      ],
      "metadata": {
        "colab": {
          "base_uri": "https://localhost:8080/"
        },
        "id": "HU97aR2JI4qG",
        "outputId": "fdccbc5d-69e0-4df5-fa31-3bf373316b60"
      },
      "execution_count": 13,
      "outputs": [
        {
          "output_type": "stream",
          "name": "stdout",
          "text": [
            "Currently predicting at test_index = 0\n",
            "Currently predicting at test_index = 100\n",
            "Currently predicting at test_index = 200\n",
            "Currently predicting at test_index = 300\n",
            "Currently predicting at test_index = 400\n",
            "Currently predicting at test_index = 500\n",
            "Currently predicting at test_index = 600\n",
            "Currently predicting at test_index = 700\n",
            "Currently predicting at test_index = 800\n",
            "Currently predicting at test_index = 900\n",
            "Currently predicting at test_index = 1000\n",
            "Currently predicting at test_index = 1100\n",
            "Currently predicting at test_index = 1200\n",
            "Currently predicting at test_index = 1300\n",
            "Currently predicting at test_index = 1400\n",
            "Currently predicting at test_index = 1500\n",
            "Currently predicting at test_index = 1600\n",
            "Currently predicting at test_index = 1700\n",
            "Currently predicting at test_index = 1800\n",
            "Currently predicting at test_index = 1900\n",
            "Currently predicting at test_index = 2000\n",
            "Currently predicting at test_index = 2100\n",
            "Currently predicting at test_index = 2200\n",
            "Currently predicting at test_index = 2300\n",
            "Currently predicting at test_index = 2400\n",
            "Currently predicting at test_index = 2500\n",
            "Currently predicting at test_index = 2600\n",
            "Currently predicting at test_index = 2700\n",
            "Currently predicting at test_index = 2800\n",
            "Currently predicting at test_index = 2900\n",
            "Currently predicting at test_index = 3000\n",
            "Currently predicting at test_index = 3100\n",
            "Currently predicting at test_index = 3200\n",
            "Currently predicting at test_index = 3300\n",
            "Currently predicting at test_index = 3400\n",
            "Currently predicting at test_index = 3500\n",
            "Currently predicting at test_index = 3600\n",
            "Currently predicting at test_index = 3700\n",
            "Currently predicting at test_index = 3800\n",
            "Currently predicting at test_index = 3900\n",
            "Currently predicting at test_index = 4000\n",
            "Currently predicting at test_index = 4100\n",
            "Currently predicting at test_index = 4200\n",
            "Currently predicting at test_index = 4300\n",
            "Currently predicting at test_index = 4400\n",
            "Currently predicting at test_index = 4500\n",
            "Currently predicting at test_index = 4600\n",
            "Currently predicting at test_index = 4700\n",
            "Currently predicting at test_index = 4800\n",
            "Currently predicting at test_index = 4900\n",
            "Currently predicting at test_index = 5000\n",
            "Currently predicting at test_index = 5100\n",
            "Currently predicting at test_index = 5200\n",
            "Currently predicting at test_index = 5300\n",
            "Currently predicting at test_index = 5400\n",
            "Currently predicting at test_index = 5500\n",
            "Currently predicting at test_index = 5600\n",
            "Currently predicting at test_index = 5700\n",
            "Currently predicting at test_index = 5800\n",
            "Currently predicting at test_index = 5900\n",
            "Currently predicting at test_index = 6000\n",
            "Currently predicting at test_index = 6100\n",
            "Currently predicting at test_index = 6200\n",
            "Currently predicting at test_index = 6300\n",
            "Currently predicting at test_index = 6400\n",
            "Currently predicting at test_index = 6500\n",
            "Currently predicting at test_index = 6600\n",
            "Currently predicting at test_index = 6700\n",
            "Currently predicting at test_index = 6800\n",
            "Currently predicting at test_index = 6900\n",
            "Currently predicting at test_index = 7000\n",
            "Currently predicting at test_index = 7100\n",
            "Currently predicting at test_index = 7200\n",
            "Currently predicting at test_index = 7300\n",
            "Currently predicting at test_index = 7400\n",
            "Currently predicting at test_index = 7500\n",
            "Currently predicting at test_index = 7600\n",
            "Currently predicting at test_index = 7700\n",
            "Currently predicting at test_index = 7800\n",
            "Currently predicting at test_index = 7900\n",
            "Currently predicting at test_index = 8000\n",
            "Currently predicting at test_index = 8100\n",
            "Currently predicting at test_index = 8200\n",
            "Currently predicting at test_index = 8300\n",
            "Currently predicting at test_index = 8400\n",
            "Currently predicting at test_index = 8500\n",
            "Currently predicting at test_index = 8600\n",
            "Currently predicting at test_index = 8700\n",
            "Currently predicting at test_index = 8800\n",
            "Currently predicting at test_index = 8900\n",
            "Currently predicting at test_index = 9000\n",
            "Currently predicting at test_index = 9100\n",
            "Currently predicting at test_index = 9200\n",
            "Currently predicting at test_index = 9300\n",
            "Currently predicting at test_index = 9400\n",
            "Currently predicting at test_index = 9500\n",
            "Currently predicting at test_index = 9600\n",
            "Currently predicting at test_index = 9700\n",
            "Currently predicting at test_index = 9800\n",
            "Currently predicting at test_index = 9900\n"
          ]
        }
      ]
    },
    {
      "cell_type": "code",
      "source": [
        "correct = pred.eq(y_test.to(device).view_as(pred)).sum()\n",
        "print(\"Correct predictions: %d/%d, Accuracy: %f\" % (correct, y_test.shape[0], 100. * correct / y_test.shape[0]))"
      ],
      "metadata": {
        "id": "ia2vXF0fKDB1",
        "outputId": "e40e07f3-8d45-4a40-f5d5-90e4592ceeb3",
        "colab": {
          "base_uri": "https://localhost:8080/"
        }
      },
      "execution_count": 14,
      "outputs": [
        {
          "output_type": "stream",
          "name": "stdout",
          "text": [
            "Correct predictions: 9691/10000, Accuracy: 96.909996\n"
          ]
        }
      ]
    },
    {
      "cell_type": "markdown",
      "source": [
        "## 4. Inference"
      ],
      "metadata": {
        "id": "vzDA7QbbluVY"
      }
    },
    {
      "cell_type": "markdown",
      "source": [
        "### 4.1. Accuracy"
      ],
      "metadata": {
        "id": "K2WdvMVomFp7"
      }
    },
    {
      "cell_type": "code",
      "source": [
        "correct = pred.eq(y_test.to(device).view_as(pred)).sum()\n",
        "print(\"Correct predictions: %d/%d, Accuracy: %f\" % (correct, y_test.shape[0], 100. * correct / y_test.shape[0]))"
      ],
      "metadata": {
        "colab": {
          "base_uri": "https://localhost:8080/"
        },
        "id": "vZhkDhgrmEcS",
        "outputId": "67a35ffc-8094-49f1-fee9-dcff1b1f675e"
      },
      "execution_count": 15,
      "outputs": [
        {
          "output_type": "stream",
          "name": "stdout",
          "text": [
            "Correct predictions: 9691/10000, Accuracy: 96.909996\n"
          ]
        }
      ]
    },
    {
      "cell_type": "markdown",
      "source": [
        "## 5. Hyperparameter Grid Search"
      ],
      "metadata": {
        "id": "Wf5Ny0nWKImh"
      }
    },
    {
      "cell_type": "code",
      "source": [
        "k_values = [1, 2, 3, 4, 5, 6, 7, 8, 9, 10, 13, 25, 37, 49, 200]\n",
        "\n",
        "correct_vals = []\n",
        "\n",
        "best_k = -1\n",
        "best_correct = 0\n",
        "\n",
        "for k in k_values:\n",
        "    pred = knn(x_train, y_train, x_test, k=k, device=device, log=False)\n",
        "    correct = pred.eq(y_test.view_as(pred)).sum()\n",
        "    print(\"K = %d, Correct: %d, Accuracy: %.2f\" % (k, correct, 100. * correct / y_test.shape[0]))"
      ],
      "metadata": {
        "id": "tVlTkzaDKLt1",
        "outputId": "5503ace0-0bda-49d3-9eca-d11894f06d33",
        "colab": {
          "base_uri": "https://localhost:8080/"
        }
      },
      "execution_count": 16,
      "outputs": [
        {
          "output_type": "stream",
          "name": "stdout",
          "text": [
            "K = 1, Correct: 9691, Accuracy: 96.91\n",
            "K = 2, Correct: 9627, Accuracy: 96.27\n",
            "K = 3, Correct: 9705, Accuracy: 97.05\n",
            "K = 4, Correct: 9682, Accuracy: 96.82\n",
            "K = 5, Correct: 9686, Accuracy: 96.86\n",
            "K = 6, Correct: 9689, Accuracy: 96.89\n",
            "K = 7, Correct: 9694, Accuracy: 96.94\n",
            "K = 8, Correct: 9674, Accuracy: 96.74\n",
            "K = 9, Correct: 9665, Accuracy: 96.65\n",
            "K = 10, Correct: 9671, Accuracy: 96.71\n",
            "K = 13, Correct: 9652, Accuracy: 96.52\n",
            "K = 25, Correct: 9606, Accuracy: 96.06\n",
            "K = 37, Correct: 9575, Accuracy: 95.75\n",
            "K = 49, Correct: 9541, Accuracy: 95.41\n",
            "K = 200, Correct: 9291, Accuracy: 92.91\n"
          ]
        }
      ]
    },
    {
      "cell_type": "markdown",
      "source": [
        "## 7. Conclusion\n",
        "- **Accuracy**: 97.05%"
      ],
      "metadata": {
        "id": "rchetQ3DK6Lk"
      }
    }
  ]
}