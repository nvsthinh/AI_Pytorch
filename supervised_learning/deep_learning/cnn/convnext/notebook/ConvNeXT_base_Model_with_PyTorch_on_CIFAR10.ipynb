{
  "nbformat": 4,
  "nbformat_minor": 0,
  "metadata": {
    "colab": {
      "provenance": [],
      "gpuType": "T4",
      "collapsed_sections": [
        "k4Fm8LFQYxJi",
        "DkYKMYX8YygA"
      ]
    },
    "kernelspec": {
      "name": "python3",
      "display_name": "Python 3"
    },
    "language_info": {
      "name": "python"
    },
    "accelerator": "GPU"
  },
  "cells": [
    {
      "cell_type": "markdown",
      "source": [
        "# ConvNeXT_base PyTorch with CIFAR10\n",
        "- **Task**: Classification\n",
        "- **Data**: CIFAR10 Dataset\n",
        "- **Model**: ConvNeXT_base\n",
        "- **Loss function**: Cross Entropy Loss\n",
        "- **Optimization**: Adam"
      ],
      "metadata": {
        "id": "IwymkzhzYoPa"
      }
    },
    {
      "cell_type": "code",
      "source": [
        "!pip install -q watermark"
      ],
      "metadata": {
        "id": "fgdvxoFEsmv6",
        "colab": {
          "base_uri": "https://localhost:8080/"
        },
        "outputId": "442821d3-412a-461d-f83f-e5d043e6fa9d"
      },
      "execution_count": null,
      "outputs": [
        {
          "output_type": "stream",
          "name": "stdout",
          "text": [
            "\u001b[2K     \u001b[90m━━━━━━━━━━━━━━━━━━━━━━━━━━━━━━━━━━━━━━━━\u001b[0m \u001b[32m1.6/1.6 MB\u001b[0m \u001b[31m7.5 MB/s\u001b[0m eta \u001b[36m0:00:00\u001b[0m\n",
            "\u001b[?25h"
          ]
        }
      ]
    },
    {
      "cell_type": "code",
      "source": [
        "%load_ext watermark\n",
        "%watermark -a 'Nguyen Van Sy Thinh' -v -p torch"
      ],
      "metadata": {
        "colab": {
          "base_uri": "https://localhost:8080/"
        },
        "id": "Ao8nws0Unz3B",
        "outputId": "7dd2fc37-f843-428a-8c4d-dad911bb4334"
      },
      "execution_count": null,
      "outputs": [
        {
          "output_type": "stream",
          "name": "stdout",
          "text": [
            "Author: Nguyen Van Sy Thinh\n",
            "\n",
            "Python implementation: CPython\n",
            "Python version       : 3.10.12\n",
            "IPython version      : 7.34.0\n",
            "\n",
            "torch: 2.3.0+cu121\n",
            "\n"
          ]
        }
      ]
    },
    {
      "cell_type": "markdown",
      "source": [
        "## 1. Import Library"
      ],
      "metadata": {
        "id": "k4Fm8LFQYxJi"
      }
    },
    {
      "cell_type": "code",
      "source": [
        "!pip install -q torchsummary"
      ],
      "metadata": {
        "id": "Wt_-XQF1lqdr"
      },
      "execution_count": null,
      "outputs": []
    },
    {
      "cell_type": "code",
      "source": [
        "import torch\n",
        "import torchvision.transforms as transforms\n",
        "import torch.nn as nn\n",
        "import torch.optim as optim\n",
        "import torch.nn.functional as F\n",
        "\n",
        "import numpy as np\n",
        "import matplotlib.pyplot as plt\n",
        "import time\n",
        "\n",
        "import torchvision\n",
        "from torchvision.datasets import CIFAR10\n",
        "from torch.utils.data import DataLoader\n",
        "from torch.optim import Adam\n",
        "from torchsummary import summary\n",
        "\n",
        "import math\n",
        "import warnings\n",
        "# Check if GPU is available\n",
        "device = torch.device(\"cuda:0\" if torch.cuda.is_available() else \"cpu\")\n",
        "torch.manual_seed(42)"
      ],
      "metadata": {
        "id": "hdWQADB0ZFYP",
        "colab": {
          "base_uri": "https://localhost:8080/"
        },
        "outputId": "cdb28813-9c03-43e1-b585-391bff9e6e4a"
      },
      "execution_count": null,
      "outputs": [
        {
          "output_type": "execute_result",
          "data": {
            "text/plain": [
              "<torch._C.Generator at 0x7c0c642a95f0>"
            ]
          },
          "metadata": {},
          "execution_count": 4
        }
      ]
    },
    {
      "cell_type": "markdown",
      "source": [
        "## 2. Data"
      ],
      "metadata": {
        "id": "DkYKMYX8YygA"
      }
    },
    {
      "cell_type": "markdown",
      "source": [
        "### 2.1. CIFAR10 Dataset"
      ],
      "metadata": {
        "id": "sXZrwCVrZIWw"
      }
    },
    {
      "cell_type": "markdown",
      "source": [
        "#### 2.1.1. Load dataset to compute Mean and Std to Normalize Z-score"
      ],
      "metadata": {
        "id": "pX21MHOBtCXc"
      }
    },
    {
      "cell_type": "code",
      "execution_count": null,
      "metadata": {
        "colab": {
          "base_uri": "https://localhost:8080/"
        },
        "id": "wZlmQGmpYPcr",
        "outputId": "18c5090f-6113-44c0-c36a-ad5b26d30f94"
      },
      "outputs": [
        {
          "output_type": "stream",
          "name": "stdout",
          "text": [
            "Downloading https://www.cs.toronto.edu/~kriz/cifar-10-python.tar.gz to data/cifar-10-python.tar.gz\n"
          ]
        },
        {
          "output_type": "stream",
          "name": "stderr",
          "text": [
            "100%|██████████| 170498071/170498071 [00:03<00:00, 42989675.45it/s]\n"
          ]
        },
        {
          "output_type": "stream",
          "name": "stdout",
          "text": [
            "Extracting data/cifar-10-python.tar.gz to data\n",
            "tensor([0.4914, 0.4822, 0.4465]) tensor([0.2823, 0.2783, 0.2990])\n"
          ]
        }
      ],
      "source": [
        "# Load dataset with only the ToTensor transform to compute mean and std\n",
        "compute_transform = transforms.Compose([transforms.ToTensor()])\n",
        "dataset = CIFAR10(root='data', train=True, transform=compute_transform, download=True)\n",
        "loader = torch.utils.data.DataLoader(dataset, batch_size=len(dataset), shuffle=False, num_workers=2)\n",
        "\n",
        "mean = 0.0\n",
        "for images, _ in loader:\n",
        "    batch_samples = images.size(0)  # Batch size\n",
        "    images = images.view(batch_samples, images.size(1), -1)\n",
        "    mean += images.mean(2).sum(0)\n",
        "mean = mean / len(loader.dataset)\n",
        "\n",
        "variance = 0.0\n",
        "for images, _ in loader:\n",
        "    batch_samples = images.size(0)\n",
        "    images = images.view(batch_samples, images.size(1), -1)\n",
        "    variance += ((images - mean.unsqueeze(1))**2).sum([0,2])\n",
        "std = torch.sqrt(variance / (len(loader.dataset)*28*28))\n",
        "\n",
        "print(mean, std)"
      ]
    },
    {
      "cell_type": "markdown",
      "source": [
        "#### 2.1.2. Load CIFAR10 Dataset"
      ],
      "metadata": {
        "id": "exa_gOm0tKJF"
      }
    },
    {
      "cell_type": "code",
      "source": [
        "batch_size = 64\n",
        "# Load CIFAR10 dataset\n",
        "transform = transforms.Compose(\n",
        "    [\n",
        "        transforms.Resize((224,224)),\n",
        "        transforms.ToTensor(),\n",
        "        transforms.Normalize([0.4914, 0.4822, 0.4465],\n",
        "                            [0.2823, 0.2783, 0.2990])\n",
        "    ]\n",
        ")\n",
        "\n",
        "trainset = CIFAR10(root='./data', train=True, download=True, transform=transform)\n",
        "testset = CIFAR10(root='./data', train=False, download=True, transform=transform)\n",
        "\n",
        "trainloader = DataLoader(trainset, batch_size=batch_size, shuffle=True, num_workers=2)\n",
        "testloader = DataLoader(testset, batch_size=batch_size, shuffle=False, num_workers=2)"
      ],
      "metadata": {
        "id": "0ZBIxYHztOu-",
        "colab": {
          "base_uri": "https://localhost:8080/"
        },
        "outputId": "2998bc62-d19c-4da0-c78d-25df460e5ef0"
      },
      "execution_count": null,
      "outputs": [
        {
          "output_type": "stream",
          "name": "stdout",
          "text": [
            "Files already downloaded and verified\n",
            "Files already downloaded and verified\n"
          ]
        }
      ]
    },
    {
      "cell_type": "markdown",
      "source": [
        "### 2.2. Data Information"
      ],
      "metadata": {
        "id": "zu2xayHAZ6px"
      }
    },
    {
      "cell_type": "code",
      "source": [
        "print(f\"Number of training samples: {len(trainset)}\")\n",
        "print(f\"Number of testing samples: {len(testset)}\")"
      ],
      "metadata": {
        "colab": {
          "base_uri": "https://localhost:8080/"
        },
        "id": "NKGIXwVkZLJl",
        "outputId": "3f694940-8c18-43a6-f28a-1fa1416ac4ae"
      },
      "execution_count": null,
      "outputs": [
        {
          "output_type": "stream",
          "name": "stdout",
          "text": [
            "Number of training samples: 50000\n",
            "Number of testing samples: 10000\n"
          ]
        }
      ]
    },
    {
      "cell_type": "code",
      "source": [
        "print(f\"Datatype of the 1st training sample: {trainset[0][0].type()}\")\n",
        "print(f\"Size of the 1st training sample: {testset[0][0].size()}\")"
      ],
      "metadata": {
        "colab": {
          "base_uri": "https://localhost:8080/"
        },
        "id": "mEchSn6wZw3d",
        "outputId": "16f0f2ec-b1b4-4e3f-b7f5-53b11ae783e7"
      },
      "execution_count": null,
      "outputs": [
        {
          "output_type": "stream",
          "name": "stdout",
          "text": [
            "Datatype of the 1st training sample: torch.FloatTensor\n",
            "Size of the 1st training sample: torch.Size([3, 224, 224])\n"
          ]
        }
      ]
    },
    {
      "cell_type": "markdown",
      "source": [
        "### 2.3. Data Visualization"
      ],
      "metadata": {
        "id": "VMYEKrRLZ8ht"
      }
    },
    {
      "cell_type": "code",
      "source": [
        "import matplotlib.pyplot as plt\n",
        "import numpy as np\n",
        "\n",
        "# Function to display the images\n",
        "def imshow(img):\n",
        "    img = img*0.5 + 0.5\n",
        "    np_img = img.numpy()\n",
        "    plt.imshow(np.transpose(np_img, (1, 2, 0)))\n",
        "    plt.show()\n",
        "\n",
        "for i, (images, labels) in enumerate(trainloader, 0):\n",
        "    # Plot some images\n",
        "    imshow(torchvision.utils.make_grid(images[:8]))  # Display 8 images from the batch\n",
        "    break"
      ],
      "metadata": {
        "colab": {
          "base_uri": "https://localhost:8080/"
        },
        "id": "mZMW-Ox-Z9pv",
        "outputId": "df4283d5-f5af-4ae8-89e1-25e2a201bb1e"
      },
      "execution_count": null,
      "outputs": [
        {
          "output_type": "stream",
          "name": "stderr",
          "text": [
            "WARNING:matplotlib.image:Clipping input data to the valid range for imshow with RGB data ([0..1] for floats or [0..255] for integers).\n"
          ]
        },
        {
          "output_type": "display_data",
          "data": {
            "text/plain": [
              "<Figure size 640x480 with 1 Axes>"
            ],
            "image/png": "[encoded data removed]"
          },
          "metadata": {}
        }
      ]
    },
    {
      "cell_type": "markdown",
      "source": [
        "## 3. Model"
      ],
      "metadata": {
        "id": "32MkQnmuaZT4"
      }
    },
    {
      "cell_type": "code",
      "source": [
        "def _trunc_normal_(tensor, mean, std, a, b):\n",
        "    # Cut & paste from PyTorch official master until it's in a few official releases - RW\n",
        "    # Method based on https://people.sc.fsu.edu/~jburkardt/presentations/truncated_normal.pdf\n",
        "    def norm_cdf(x):\n",
        "        # Computes standard normal cumulative distribution function\n",
        "        return (1. + math.erf(x / math.sqrt(2.))) / 2.\n",
        "\n",
        "    if (mean < a - 2 * std) or (mean > b + 2 * std):\n",
        "        warnings.warn(\"mean is more than 2 std from [a, b] in nn.init.trunc_normal_. \"\n",
        "                      \"The distribution of values may be incorrect.\",\n",
        "                      stacklevel=2)\n",
        "\n",
        "    # Values are generated by using a truncated uniform distribution and\n",
        "    # then using the inverse CDF for the normal distribution.\n",
        "    # Get upper and lower cdf values\n",
        "    l = norm_cdf((a - mean) / std)\n",
        "    u = norm_cdf((b - mean) / std)\n",
        "\n",
        "    # Uniformly fill tensor with values from [l, u], then translate to\n",
        "    # [2l-1, 2u-1].\n",
        "    tensor.uniform_(2 * l - 1, 2 * u - 1)\n",
        "\n",
        "    # Use inverse cdf transform for normal distribution to get truncated\n",
        "    # standard normal\n",
        "    tensor.erfinv_()\n",
        "\n",
        "    # Transform to proper mean, std\n",
        "    tensor.mul_(std * math.sqrt(2.))\n",
        "    tensor.add_(mean)\n",
        "\n",
        "    # Clamp to ensure it's in the proper range\n",
        "    tensor.clamp_(min=a, max=b)\n",
        "    return tensor\n",
        "\n",
        "\n",
        "def trunc_normal_(tensor, mean=0., std=1., a=-2., b=2.):\n",
        "    # type: (Tensor, float, float, float, float) -> Tensor\n",
        "    r\"\"\"Fills the input Tensor with values drawn from a truncated\n",
        "    normal distribution. The values are effectively drawn from the\n",
        "    normal distribution :math:`\\mathcal{N}(\\text{mean}, \\text{std}^2)`\n",
        "    with values outside :math:`[a, b]` redrawn until they are within\n",
        "    the bounds. The method used for generating the random values works\n",
        "    best when :math:`a \\leq \\text{mean} \\leq b`.\n",
        "\n",
        "    NOTE: this impl is similar to the PyTorch trunc_normal_, the bounds [a, b] are\n",
        "    applied while sampling the normal with mean/std applied, therefore a, b args\n",
        "    should be adjusted to match the range of mean, std args.\n",
        "\n",
        "    Args:\n",
        "        tensor: an n-dimensional `torch.Tensor`\n",
        "        mean: the mean of the normal distribution\n",
        "        std: the standard deviation of the normal distribution\n",
        "        a: the minimum cutoff value\n",
        "        b: the maximum cutoff value\n",
        "    Examples:\n",
        "        >>> w = torch.empty(3, 5)\n",
        "        >>> nn.init.trunc_normal_(w)\n",
        "    \"\"\"\n",
        "    with torch.no_grad():\n",
        "        return _trunc_normal_(tensor, mean, std, a, b)"
      ],
      "metadata": {
        "id": "YiZhEbpYa8gw"
      },
      "execution_count": null,
      "outputs": []
    },
    {
      "cell_type": "code",
      "source": [
        "def drop_path(x, drop_prob: float = 0., training: bool = False, scale_by_keep: bool = True):\n",
        "    \"\"\"Drop paths (Stochastic Depth) per sample (when applied in main path of residual blocks).\n",
        "\n",
        "    This is the same as the DropConnect impl I created for EfficientNet, etc networks, however,\n",
        "    the original name is misleading as 'Drop Connect' is a different form of dropout in a separate paper...\n",
        "    See discussion: https://github.com/tensorflow/tpu/issues/494#issuecomment-532968956 ... I've opted for\n",
        "    changing the layer and argument names to 'drop path' rather than mix DropConnect as a layer name and use\n",
        "    'survival rate' as the argument.\n",
        "\n",
        "    \"\"\"\n",
        "    if drop_prob == 0. or not training:\n",
        "        return x\n",
        "    keep_prob = 1 - drop_prob\n",
        "    shape = (x.shape[0],) + (1,) * (x.ndim - 1)  # work with diff dim tensors, not just 2D ConvNets\n",
        "    random_tensor = x.new_empty(shape).bernoulli_(keep_prob)\n",
        "    if keep_prob > 0.0 and scale_by_keep:\n",
        "        random_tensor.div_(keep_prob)\n",
        "    return x * random_tensor\n",
        "\n",
        "class DropPath(nn.Module):\n",
        "    \"\"\"Drop paths (Stochastic Depth) per sample  (when applied in main path of residual blocks).\n",
        "    \"\"\"\n",
        "    def __init__(self, drop_prob: float = 0., scale_by_keep: bool = True):\n",
        "        super(DropPath, self).__init__()\n",
        "        self.drop_prob = drop_prob\n",
        "        self.scale_by_keep = scale_by_keep\n",
        "\n",
        "    def forward(self, x):\n",
        "        return drop_path(x, self.drop_prob, self.training, self.scale_by_keep)\n",
        "\n",
        "    def extra_repr(self):\n",
        "        return f'drop_prob={round(self.drop_prob,3):0.3f}'"
      ],
      "metadata": {
        "id": "_2LypAXPW5XB"
      },
      "execution_count": null,
      "outputs": []
    },
    {
      "cell_type": "code",
      "source": [
        "class Block(nn.Module):\n",
        "    r\"\"\" ConvNeXT Block. There are two equivalent implementations:\n",
        "    (1) DwConv -> LayerNorm (channels_first) -> 1x1 Conv -> GELU -> 1x1 Conv; all in (N, C, H, W)\n",
        "    (2) DwConv -> Permute to (N, H, W, C); LayerNorm (channels_last) -> Linear -> GELU -> Linear; Permute back\n",
        "    We use (2) as we find it slightly faster in PyTorch\n",
        "\n",
        "    Args:\n",
        "        dim (int): Number of input channels.\n",
        "        drop_path (float): Stochastic depth rate. Default: 0.0\n",
        "        layer_scale_init_value (float): Init value for Layer Scale. Default: 1e-6.\n",
        "    \"\"\"\n",
        "    def __init__(self, dim, drop_path=0., layer_scale_init_value=1e-6):\n",
        "        super().__init__()\n",
        "        self.dwconv = nn.Conv2d(dim, dim, kernel_size=7, padding=3, groups=dim) # depthwise conv\n",
        "        self.norm = LayerNorm(dim, eps=1e-6)\n",
        "        self.pwconv1 = nn.Linear(dim, 4 * dim) # pointwise/1x1 convs, implemented with linear layers\n",
        "        self.act = nn.GELU()\n",
        "        self.pwconv2 = nn.Linear(4 * dim, dim)\n",
        "        self.gamma = nn.Parameter(layer_scale_init_value * torch.ones((dim)),\n",
        "                                    requires_grad=True) if layer_scale_init_value > 0 else None\n",
        "        self.drop_path = DropPath(drop_path) if drop_path > 0. else nn.Identity()\n",
        "\n",
        "    def forward(self, x):\n",
        "        input = x\n",
        "        x = self.dwconv(x)\n",
        "        x = x.permute(0, 2, 3, 1) # (N, C, H, W) -> (N, H, W, C)\n",
        "        x = self.norm(x)\n",
        "        x = self.pwconv1(x)\n",
        "        x = self.act(x)\n",
        "        x = self.pwconv2(x)\n",
        "        if self.gamma is not None:\n",
        "            x = self.gamma * x\n",
        "        x = x.permute(0, 3, 1, 2) # (N, H, W, C) -> (N, C, H, W)\n",
        "\n",
        "        x = input + self.drop_path(x)\n",
        "        return x\n",
        "\n",
        "class ConvNeXT(nn.Module):\n",
        "    r\"\"\" ConvNeXT\n",
        "        A PyTorch impl of : `A ConvNet for the 2020s`  -\n",
        "          https://arxiv.org/pdf/2201.03545.pdf\n",
        "\n",
        "    Args:\n",
        "        in_chans (int): Number of input image channels. Default: 3\n",
        "        num_classes (int): Number of classes for classification head. Default: 1000\n",
        "        depths (tuple(int)): Number of blocks at each stage. Default: [3, 3, 9, 3]\n",
        "        dims (int): Feature dimension at each stage. Default: [96, 192, 384, 768]\n",
        "        drop_path_rate (float): Stochastic depth rate. Default: 0.\n",
        "        layer_scale_init_value (float): Init value for Layer Scale. Default: 1e-6.\n",
        "        head_init_scale (float): Init scaling value for classifier weights and biases. Default: 1.\n",
        "    \"\"\"\n",
        "    def __init__(self, in_chans=3, num_classes=1000,\n",
        "                 depths=[3, 3, 9, 3], dims=[96, 192, 384, 768], drop_path_rate=0.,\n",
        "                 layer_scale_init_value=1e-6, head_init_scale=1.,\n",
        "                 ):\n",
        "        super().__init__()\n",
        "\n",
        "        self.downsample_layers = nn.ModuleList() # stem and 3 intermediate downsampling conv layers\n",
        "        stem = nn.Sequential(\n",
        "            nn.Conv2d(in_chans, dims[0], kernel_size=4, stride=4),\n",
        "            LayerNorm(dims[0], eps=1e-6, data_format=\"channels_first\")\n",
        "        )\n",
        "        self.downsample_layers.append(stem)\n",
        "        for i in range(3):\n",
        "            downsample_layer = nn.Sequential(\n",
        "                    LayerNorm(dims[i], eps=1e-6, data_format=\"channels_first\"),\n",
        "                    nn.Conv2d(dims[i], dims[i+1], kernel_size=2, stride=2),\n",
        "            )\n",
        "            self.downsample_layers.append(downsample_layer)\n",
        "\n",
        "        self.stages = nn.ModuleList() # 4 feature resolution stages, each consisting of multiple residual blocks\n",
        "        dp_rates=[x.item() for x in torch.linspace(0, drop_path_rate, sum(depths))]\n",
        "        cur = 0\n",
        "        for i in range(4):\n",
        "            stage = nn.Sequential(\n",
        "                *[Block(dim=dims[i], drop_path=dp_rates[cur + j],\n",
        "                layer_scale_init_value=layer_scale_init_value) for j in range(depths[i])]\n",
        "            )\n",
        "            self.stages.append(stage)\n",
        "            cur += depths[i]\n",
        "\n",
        "        self.norm = nn.LayerNorm(dims[-1], eps=1e-6) # final norm layer\n",
        "        self.head = nn.Linear(dims[-1], num_classes)\n",
        "\n",
        "        self.apply(self._init_weights)\n",
        "        self.head.weight.data.mul_(head_init_scale)\n",
        "        self.head.bias.data.mul_(head_init_scale)\n",
        "\n",
        "    def _init_weights(self, m):\n",
        "        if isinstance(m, (nn.Conv2d, nn.Linear)):\n",
        "            trunc_normal_(m.weight, std=.02)\n",
        "            nn.init.constant_(m.bias, 0)\n",
        "\n",
        "    def forward_features(self, x):\n",
        "        for i in range(4):\n",
        "            x = self.downsample_layers[i](x)\n",
        "            x = self.stages[i](x)\n",
        "        return self.norm(x.mean([-2, -1])) # global average pooling, (N, C, H, W) -> (N, C)\n",
        "\n",
        "    def forward(self, x):\n",
        "        x = self.forward_features(x)\n",
        "        x = self.head(x)\n",
        "        return x\n",
        "\n",
        "class LayerNorm(nn.Module):\n",
        "    r\"\"\" LayerNorm that supports two data formats: channels_last (default) or channels_first.\n",
        "    The ordering of the dimensions in the inputs. channels_last corresponds to inputs with\n",
        "    shape (batch_size, height, width, channels) while channels_first corresponds to inputs\n",
        "    with shape (batch_size, channels, height, width).\n",
        "    \"\"\"\n",
        "    def __init__(self, normalized_shape, eps=1e-6, data_format=\"channels_last\"):\n",
        "        super().__init__()\n",
        "        self.weight = nn.Parameter(torch.ones(normalized_shape))\n",
        "        self.bias = nn.Parameter(torch.zeros(normalized_shape))\n",
        "        self.eps = eps\n",
        "        self.data_format = data_format\n",
        "        if self.data_format not in [\"channels_last\", \"channels_first\"]:\n",
        "            raise NotImplementedError\n",
        "        self.normalized_shape = (normalized_shape, )\n",
        "\n",
        "    def forward(self, x):\n",
        "        if self.data_format == \"channels_last\":\n",
        "            return F.layer_norm(x, self.normalized_shape, self.weight, self.bias, self.eps)\n",
        "        elif self.data_format == \"channels_first\":\n",
        "            u = x.mean(1, keepdim=True)\n",
        "            s = (x - u).pow(2).mean(1, keepdim=True)\n",
        "            x = (x - u) / torch.sqrt(s + self.eps)\n",
        "            x = self.weight[:, None, None] * x + self.bias[:, None, None]\n",
        "            return x\n",
        "\n",
        "def ConvNeXT_base(num_classes=1000):\n",
        "    return ConvNeXT(num_classes=num_classes, depths=[3, 3, 27, 3], dims=[128, 256, 512, 1024])"
      ],
      "metadata": {
        "id": "Tb_vc3oVVvah"
      },
      "execution_count": null,
      "outputs": []
    },
    {
      "cell_type": "code",
      "source": [
        "model = ConvNeXT_base(num_classes=10)"
      ],
      "metadata": {
        "id": "xBh64MsNab4c"
      },
      "execution_count": null,
      "outputs": []
    },
    {
      "cell_type": "code",
      "source": [
        "summary(model, (3, 224, 224))"
      ],
      "metadata": {
        "colab": {
          "base_uri": "https://localhost:8080/"
        },
        "id": "fpGOw4_4chX6",
        "outputId": "3b33001f-f1b2-4d0f-bc22-32a1673640dc"
      },
      "execution_count": null,
      "outputs": [
        {
          "output_type": "stream",
          "name": "stdout",
          "text": [
            "----------------------------------------------------------------\n",
            "        Layer (type)               Output Shape         Param #\n",
            "================================================================\n",
            "            Conv2d-1          [-1, 128, 56, 56]           6,272\n",
            "         LayerNorm-2          [-1, 128, 56, 56]             256\n",
            "            Conv2d-3          [-1, 128, 56, 56]           6,400\n",
            "         LayerNorm-4          [-1, 56, 56, 128]             256\n",
            "            Linear-5          [-1, 56, 56, 512]          66,048\n",
            "              GELU-6          [-1, 56, 56, 512]               0\n",
            "            Linear-7          [-1, 56, 56, 128]          65,664\n",
            "          Identity-8          [-1, 128, 56, 56]               0\n",
            "             Block-9          [-1, 128, 56, 56]               0\n",
            "           Conv2d-10          [-1, 128, 56, 56]           6,400\n",
            "        LayerNorm-11          [-1, 56, 56, 128]             256\n",
            "           Linear-12          [-1, 56, 56, 512]          66,048\n",
            "             GELU-13          [-1, 56, 56, 512]               0\n",
            "           Linear-14          [-1, 56, 56, 128]          65,664\n",
            "         Identity-15          [-1, 128, 56, 56]               0\n",
            "            Block-16          [-1, 128, 56, 56]               0\n",
            "           Conv2d-17          [-1, 128, 56, 56]           6,400\n",
            "        LayerNorm-18          [-1, 56, 56, 128]             256\n",
            "           Linear-19          [-1, 56, 56, 512]          66,048\n",
            "             GELU-20          [-1, 56, 56, 512]               0\n",
            "           Linear-21          [-1, 56, 56, 128]          65,664\n",
            "         Identity-22          [-1, 128, 56, 56]               0\n",
            "            Block-23          [-1, 128, 56, 56]               0\n",
            "        LayerNorm-24          [-1, 128, 56, 56]             256\n",
            "           Conv2d-25          [-1, 256, 28, 28]         131,328\n",
            "           Conv2d-26          [-1, 256, 28, 28]          12,800\n",
            "        LayerNorm-27          [-1, 28, 28, 256]             512\n",
            "           Linear-28         [-1, 28, 28, 1024]         263,168\n",
            "             GELU-29         [-1, 28, 28, 1024]               0\n",
            "           Linear-30          [-1, 28, 28, 256]         262,400\n",
            "         Identity-31          [-1, 256, 28, 28]               0\n",
            "            Block-32          [-1, 256, 28, 28]               0\n",
            "           Conv2d-33          [-1, 256, 28, 28]          12,800\n",
            "        LayerNorm-34          [-1, 28, 28, 256]             512\n",
            "           Linear-35         [-1, 28, 28, 1024]         263,168\n",
            "             GELU-36         [-1, 28, 28, 1024]               0\n",
            "           Linear-37          [-1, 28, 28, 256]         262,400\n",
            "         Identity-38          [-1, 256, 28, 28]               0\n",
            "            Block-39          [-1, 256, 28, 28]               0\n",
            "           Conv2d-40          [-1, 256, 28, 28]          12,800\n",
            "        LayerNorm-41          [-1, 28, 28, 256]             512\n",
            "           Linear-42         [-1, 28, 28, 1024]         263,168\n",
            "             GELU-43         [-1, 28, 28, 1024]               0\n",
            "           Linear-44          [-1, 28, 28, 256]         262,400\n",
            "         Identity-45          [-1, 256, 28, 28]               0\n",
            "            Block-46          [-1, 256, 28, 28]               0\n",
            "        LayerNorm-47          [-1, 256, 28, 28]             512\n",
            "           Conv2d-48          [-1, 512, 14, 14]         524,800\n",
            "           Conv2d-49          [-1, 512, 14, 14]          25,600\n",
            "        LayerNorm-50          [-1, 14, 14, 512]           1,024\n",
            "           Linear-51         [-1, 14, 14, 2048]       1,050,624\n",
            "             GELU-52         [-1, 14, 14, 2048]               0\n",
            "           Linear-53          [-1, 14, 14, 512]       1,049,088\n",
            "         Identity-54          [-1, 512, 14, 14]               0\n",
            "            Block-55          [-1, 512, 14, 14]               0\n",
            "           Conv2d-56          [-1, 512, 14, 14]          25,600\n",
            "        LayerNorm-57          [-1, 14, 14, 512]           1,024\n",
            "           Linear-58         [-1, 14, 14, 2048]       1,050,624\n",
            "             GELU-59         [-1, 14, 14, 2048]               0\n",
            "           Linear-60          [-1, 14, 14, 512]       1,049,088\n",
            "         Identity-61          [-1, 512, 14, 14]               0\n",
            "            Block-62          [-1, 512, 14, 14]               0\n",
            "           Conv2d-63          [-1, 512, 14, 14]          25,600\n",
            "        LayerNorm-64          [-1, 14, 14, 512]           1,024\n",
            "           Linear-65         [-1, 14, 14, 2048]       1,050,624\n",
            "             GELU-66         [-1, 14, 14, 2048]               0\n",
            "           Linear-67          [-1, 14, 14, 512]       1,049,088\n",
            "         Identity-68          [-1, 512, 14, 14]               0\n",
            "            Block-69          [-1, 512, 14, 14]               0\n",
            "           Conv2d-70          [-1, 512, 14, 14]          25,600\n",
            "        LayerNorm-71          [-1, 14, 14, 512]           1,024\n",
            "           Linear-72         [-1, 14, 14, 2048]       1,050,624\n",
            "             GELU-73         [-1, 14, 14, 2048]               0\n",
            "           Linear-74          [-1, 14, 14, 512]       1,049,088\n",
            "         Identity-75          [-1, 512, 14, 14]               0\n",
            "            Block-76          [-1, 512, 14, 14]               0\n",
            "           Conv2d-77          [-1, 512, 14, 14]          25,600\n",
            "        LayerNorm-78          [-1, 14, 14, 512]           1,024\n",
            "           Linear-79         [-1, 14, 14, 2048]       1,050,624\n",
            "             GELU-80         [-1, 14, 14, 2048]               0\n",
            "           Linear-81          [-1, 14, 14, 512]       1,049,088\n",
            "         Identity-82          [-1, 512, 14, 14]               0\n",
            "            Block-83          [-1, 512, 14, 14]               0\n",
            "           Conv2d-84          [-1, 512, 14, 14]          25,600\n",
            "        LayerNorm-85          [-1, 14, 14, 512]           1,024\n",
            "           Linear-86         [-1, 14, 14, 2048]       1,050,624\n",
            "             GELU-87         [-1, 14, 14, 2048]               0\n",
            "           Linear-88          [-1, 14, 14, 512]       1,049,088\n",
            "         Identity-89          [-1, 512, 14, 14]               0\n",
            "            Block-90          [-1, 512, 14, 14]               0\n",
            "           Conv2d-91          [-1, 512, 14, 14]          25,600\n",
            "        LayerNorm-92          [-1, 14, 14, 512]           1,024\n",
            "           Linear-93         [-1, 14, 14, 2048]       1,050,624\n",
            "             GELU-94         [-1, 14, 14, 2048]               0\n",
            "           Linear-95          [-1, 14, 14, 512]       1,049,088\n",
            "         Identity-96          [-1, 512, 14, 14]               0\n",
            "            Block-97          [-1, 512, 14, 14]               0\n",
            "           Conv2d-98          [-1, 512, 14, 14]          25,600\n",
            "        LayerNorm-99          [-1, 14, 14, 512]           1,024\n",
            "          Linear-100         [-1, 14, 14, 2048]       1,050,624\n",
            "            GELU-101         [-1, 14, 14, 2048]               0\n",
            "          Linear-102          [-1, 14, 14, 512]       1,049,088\n",
            "        Identity-103          [-1, 512, 14, 14]               0\n",
            "           Block-104          [-1, 512, 14, 14]               0\n",
            "          Conv2d-105          [-1, 512, 14, 14]          25,600\n",
            "       LayerNorm-106          [-1, 14, 14, 512]           1,024\n",
            "          Linear-107         [-1, 14, 14, 2048]       1,050,624\n",
            "            GELU-108         [-1, 14, 14, 2048]               0\n",
            "          Linear-109          [-1, 14, 14, 512]       1,049,088\n",
            "        Identity-110          [-1, 512, 14, 14]               0\n",
            "           Block-111          [-1, 512, 14, 14]               0\n",
            "          Conv2d-112          [-1, 512, 14, 14]          25,600\n",
            "       LayerNorm-113          [-1, 14, 14, 512]           1,024\n",
            "          Linear-114         [-1, 14, 14, 2048]       1,050,624\n",
            "            GELU-115         [-1, 14, 14, 2048]               0\n",
            "          Linear-116          [-1, 14, 14, 512]       1,049,088\n",
            "        Identity-117          [-1, 512, 14, 14]               0\n",
            "           Block-118          [-1, 512, 14, 14]               0\n",
            "          Conv2d-119          [-1, 512, 14, 14]          25,600\n",
            "       LayerNorm-120          [-1, 14, 14, 512]           1,024\n",
            "          Linear-121         [-1, 14, 14, 2048]       1,050,624\n",
            "            GELU-122         [-1, 14, 14, 2048]               0\n",
            "          Linear-123          [-1, 14, 14, 512]       1,049,088\n",
            "        Identity-124          [-1, 512, 14, 14]               0\n",
            "           Block-125          [-1, 512, 14, 14]               0\n",
            "          Conv2d-126          [-1, 512, 14, 14]          25,600\n",
            "       LayerNorm-127          [-1, 14, 14, 512]           1,024\n",
            "          Linear-128         [-1, 14, 14, 2048]       1,050,624\n",
            "            GELU-129         [-1, 14, 14, 2048]               0\n",
            "          Linear-130          [-1, 14, 14, 512]       1,049,088\n",
            "        Identity-131          [-1, 512, 14, 14]               0\n",
            "           Block-132          [-1, 512, 14, 14]               0\n",
            "          Conv2d-133          [-1, 512, 14, 14]          25,600\n",
            "       LayerNorm-134          [-1, 14, 14, 512]           1,024\n",
            "          Linear-135         [-1, 14, 14, 2048]       1,050,624\n",
            "            GELU-136         [-1, 14, 14, 2048]               0\n",
            "          Linear-137          [-1, 14, 14, 512]       1,049,088\n",
            "        Identity-138          [-1, 512, 14, 14]               0\n",
            "           Block-139          [-1, 512, 14, 14]               0\n",
            "          Conv2d-140          [-1, 512, 14, 14]          25,600\n",
            "       LayerNorm-141          [-1, 14, 14, 512]           1,024\n",
            "          Linear-142         [-1, 14, 14, 2048]       1,050,624\n",
            "            GELU-143         [-1, 14, 14, 2048]               0\n",
            "          Linear-144          [-1, 14, 14, 512]       1,049,088\n",
            "        Identity-145          [-1, 512, 14, 14]               0\n",
            "           Block-146          [-1, 512, 14, 14]               0\n",
            "          Conv2d-147          [-1, 512, 14, 14]          25,600\n",
            "       LayerNorm-148          [-1, 14, 14, 512]           1,024\n",
            "          Linear-149         [-1, 14, 14, 2048]       1,050,624\n",
            "            GELU-150         [-1, 14, 14, 2048]               0\n",
            "          Linear-151          [-1, 14, 14, 512]       1,049,088\n",
            "        Identity-152          [-1, 512, 14, 14]               0\n",
            "           Block-153          [-1, 512, 14, 14]               0\n",
            "          Conv2d-154          [-1, 512, 14, 14]          25,600\n",
            "       LayerNorm-155          [-1, 14, 14, 512]           1,024\n",
            "          Linear-156         [-1, 14, 14, 2048]       1,050,624\n",
            "            GELU-157         [-1, 14, 14, 2048]               0\n",
            "          Linear-158          [-1, 14, 14, 512]       1,049,088\n",
            "        Identity-159          [-1, 512, 14, 14]               0\n",
            "           Block-160          [-1, 512, 14, 14]               0\n",
            "          Conv2d-161          [-1, 512, 14, 14]          25,600\n",
            "       LayerNorm-162          [-1, 14, 14, 512]           1,024\n",
            "          Linear-163         [-1, 14, 14, 2048]       1,050,624\n",
            "            GELU-164         [-1, 14, 14, 2048]               0\n",
            "          Linear-165          [-1, 14, 14, 512]       1,049,088\n",
            "        Identity-166          [-1, 512, 14, 14]               0\n",
            "           Block-167          [-1, 512, 14, 14]               0\n",
            "          Conv2d-168          [-1, 512, 14, 14]          25,600\n",
            "       LayerNorm-169          [-1, 14, 14, 512]           1,024\n",
            "          Linear-170         [-1, 14, 14, 2048]       1,050,624\n",
            "            GELU-171         [-1, 14, 14, 2048]               0\n",
            "          Linear-172          [-1, 14, 14, 512]       1,049,088\n",
            "        Identity-173          [-1, 512, 14, 14]               0\n",
            "           Block-174          [-1, 512, 14, 14]               0\n",
            "          Conv2d-175          [-1, 512, 14, 14]          25,600\n",
            "       LayerNorm-176          [-1, 14, 14, 512]           1,024\n",
            "          Linear-177         [-1, 14, 14, 2048]       1,050,624\n",
            "            GELU-178         [-1, 14, 14, 2048]               0\n",
            "          Linear-179          [-1, 14, 14, 512]       1,049,088\n",
            "        Identity-180          [-1, 512, 14, 14]               0\n",
            "           Block-181          [-1, 512, 14, 14]               0\n",
            "          Conv2d-182          [-1, 512, 14, 14]          25,600\n",
            "       LayerNorm-183          [-1, 14, 14, 512]           1,024\n",
            "          Linear-184         [-1, 14, 14, 2048]       1,050,624\n",
            "            GELU-185         [-1, 14, 14, 2048]               0\n",
            "          Linear-186          [-1, 14, 14, 512]       1,049,088\n",
            "        Identity-187          [-1, 512, 14, 14]               0\n",
            "           Block-188          [-1, 512, 14, 14]               0\n",
            "          Conv2d-189          [-1, 512, 14, 14]          25,600\n",
            "       LayerNorm-190          [-1, 14, 14, 512]           1,024\n",
            "          Linear-191         [-1, 14, 14, 2048]       1,050,624\n",
            "            GELU-192         [-1, 14, 14, 2048]               0\n",
            "          Linear-193          [-1, 14, 14, 512]       1,049,088\n",
            "        Identity-194          [-1, 512, 14, 14]               0\n",
            "           Block-195          [-1, 512, 14, 14]               0\n",
            "          Conv2d-196          [-1, 512, 14, 14]          25,600\n",
            "       LayerNorm-197          [-1, 14, 14, 512]           1,024\n",
            "          Linear-198         [-1, 14, 14, 2048]       1,050,624\n",
            "            GELU-199         [-1, 14, 14, 2048]               0\n",
            "          Linear-200          [-1, 14, 14, 512]       1,049,088\n",
            "        Identity-201          [-1, 512, 14, 14]               0\n",
            "           Block-202          [-1, 512, 14, 14]               0\n",
            "          Conv2d-203          [-1, 512, 14, 14]          25,600\n",
            "       LayerNorm-204          [-1, 14, 14, 512]           1,024\n",
            "          Linear-205         [-1, 14, 14, 2048]       1,050,624\n",
            "            GELU-206         [-1, 14, 14, 2048]               0\n",
            "          Linear-207          [-1, 14, 14, 512]       1,049,088\n",
            "        Identity-208          [-1, 512, 14, 14]               0\n",
            "           Block-209          [-1, 512, 14, 14]               0\n",
            "          Conv2d-210          [-1, 512, 14, 14]          25,600\n",
            "       LayerNorm-211          [-1, 14, 14, 512]           1,024\n",
            "          Linear-212         [-1, 14, 14, 2048]       1,050,624\n",
            "            GELU-213         [-1, 14, 14, 2048]               0\n",
            "          Linear-214          [-1, 14, 14, 512]       1,049,088\n",
            "        Identity-215          [-1, 512, 14, 14]               0\n",
            "           Block-216          [-1, 512, 14, 14]               0\n",
            "          Conv2d-217          [-1, 512, 14, 14]          25,600\n",
            "       LayerNorm-218          [-1, 14, 14, 512]           1,024\n",
            "          Linear-219         [-1, 14, 14, 2048]       1,050,624\n",
            "            GELU-220         [-1, 14, 14, 2048]               0\n",
            "          Linear-221          [-1, 14, 14, 512]       1,049,088\n",
            "        Identity-222          [-1, 512, 14, 14]               0\n",
            "           Block-223          [-1, 512, 14, 14]               0\n",
            "          Conv2d-224          [-1, 512, 14, 14]          25,600\n",
            "       LayerNorm-225          [-1, 14, 14, 512]           1,024\n",
            "          Linear-226         [-1, 14, 14, 2048]       1,050,624\n",
            "            GELU-227         [-1, 14, 14, 2048]               0\n",
            "          Linear-228          [-1, 14, 14, 512]       1,049,088\n",
            "        Identity-229          [-1, 512, 14, 14]               0\n",
            "           Block-230          [-1, 512, 14, 14]               0\n",
            "          Conv2d-231          [-1, 512, 14, 14]          25,600\n",
            "       LayerNorm-232          [-1, 14, 14, 512]           1,024\n",
            "          Linear-233         [-1, 14, 14, 2048]       1,050,624\n",
            "            GELU-234         [-1, 14, 14, 2048]               0\n",
            "          Linear-235          [-1, 14, 14, 512]       1,049,088\n",
            "        Identity-236          [-1, 512, 14, 14]               0\n",
            "           Block-237          [-1, 512, 14, 14]               0\n",
            "       LayerNorm-238          [-1, 512, 14, 14]           1,024\n",
            "          Conv2d-239           [-1, 1024, 7, 7]       2,098,176\n",
            "          Conv2d-240           [-1, 1024, 7, 7]          51,200\n",
            "       LayerNorm-241           [-1, 7, 7, 1024]           2,048\n",
            "          Linear-242           [-1, 7, 7, 4096]       4,198,400\n",
            "            GELU-243           [-1, 7, 7, 4096]               0\n",
            "          Linear-244           [-1, 7, 7, 1024]       4,195,328\n",
            "        Identity-245           [-1, 1024, 7, 7]               0\n",
            "           Block-246           [-1, 1024, 7, 7]               0\n",
            "          Conv2d-247           [-1, 1024, 7, 7]          51,200\n",
            "       LayerNorm-248           [-1, 7, 7, 1024]           2,048\n",
            "          Linear-249           [-1, 7, 7, 4096]       4,198,400\n",
            "            GELU-250           [-1, 7, 7, 4096]               0\n",
            "          Linear-251           [-1, 7, 7, 1024]       4,195,328\n",
            "        Identity-252           [-1, 1024, 7, 7]               0\n",
            "           Block-253           [-1, 1024, 7, 7]               0\n",
            "          Conv2d-254           [-1, 1024, 7, 7]          51,200\n",
            "       LayerNorm-255           [-1, 7, 7, 1024]           2,048\n",
            "          Linear-256           [-1, 7, 7, 4096]       4,198,400\n",
            "            GELU-257           [-1, 7, 7, 4096]               0\n",
            "          Linear-258           [-1, 7, 7, 1024]       4,195,328\n",
            "        Identity-259           [-1, 1024, 7, 7]               0\n",
            "           Block-260           [-1, 1024, 7, 7]               0\n",
            "       LayerNorm-261                 [-1, 1024]           2,048\n",
            "          Linear-262                   [-1, 10]          10,250\n",
            "================================================================\n",
            "Total params: 87,558,666\n",
            "Trainable params: 87,558,666\n",
            "Non-trainable params: 0\n",
            "----------------------------------------------------------------\n",
            "Input size (MB): 0.57\n",
            "Forward/backward pass size (MB): 476.99\n",
            "Params size (MB): 334.01\n",
            "Estimated Total Size (MB): 811.58\n",
            "----------------------------------------------------------------\n"
          ]
        }
      ]
    },
    {
      "cell_type": "code",
      "source": [
        "input_tensor = torch.rand(1, 3, 224, 224).to(device)\n",
        "\n",
        "# Feeding the tensor into the model\n",
        "output = model(input_tensor)\n",
        "print(output.shape)"
      ],
      "metadata": {
        "id": "eJWETXAot1y1",
        "colab": {
          "base_uri": "https://localhost:8080/"
        },
        "outputId": "3abf7231-b263-4c59-ef12-28e724c088ed"
      },
      "execution_count": null,
      "outputs": [
        {
          "output_type": "stream",
          "name": "stdout",
          "text": [
            "torch.Size([1, 10])\n"
          ]
        }
      ]
    },
    {
      "cell_type": "markdown",
      "source": [
        "## 4. Loss Function and Optimization"
      ],
      "metadata": {
        "id": "LSc4P6BLjtGd"
      }
    },
    {
      "cell_type": "code",
      "source": [
        "LR = 1e-4\n",
        "EPOCHS = 150"
      ],
      "metadata": {
        "id": "5e5mUCrqjvo6"
      },
      "execution_count": null,
      "outputs": []
    },
    {
      "cell_type": "code",
      "source": [
        "criterion = torch.nn.CrossEntropyLoss()\n",
        "optimizer = Adam(model.parameters(), lr=LR)"
      ],
      "metadata": {
        "id": "HyefEJxQjyOs"
      },
      "execution_count": null,
      "outputs": []
    },
    {
      "cell_type": "markdown",
      "source": [
        "## 5. Train"
      ],
      "metadata": {
        "id": "zMIMDD5sj4EO"
      }
    },
    {
      "cell_type": "markdown",
      "source": [
        "### 5.1. Evaluation Function"
      ],
      "metadata": {
        "id": "yOYmV8NYuZG7"
      }
    },
    {
      "cell_type": "code",
      "source": [
        "# Function to compute loss and accuracy for test set\n",
        "def evaluate(model, testloader, criterion):\n",
        "    model.eval()\n",
        "    test_loss = 0.0\n",
        "    correct = 0\n",
        "    total = 0\n",
        "    with torch.no_grad():\n",
        "        for images, labels in testloader:\n",
        "            # Move inputs and labels to the device\n",
        "            images, labels = images.to(device), labels.to(device)\n",
        "\n",
        "            outputs = model(images)\n",
        "            loss = criterion(outputs, labels)\n",
        "            test_loss += loss.item()\n",
        "\n",
        "            _, predicted = torch.max(outputs.data, 1)\n",
        "            total += labels.size(0)\n",
        "            correct += (predicted == labels).sum().item()\n",
        "\n",
        "    accuracy = 100 * correct / total\n",
        "    test_loss = test_loss / len(testloader)\n",
        "    return test_loss, accuracy"
      ],
      "metadata": {
        "id": "5UWFs8k_ucr7"
      },
      "execution_count": null,
      "outputs": []
    },
    {
      "cell_type": "code",
      "source": [
        "test_loss, test_accuracy = evaluate(model, testloader, criterion)\n",
        "print(f'Test_loss: {test_loss}')\n",
        "print(f'Test_accuracy: {test_accuracy}')"
      ],
      "metadata": {
        "id": "tvx2cDxlue5d"
      },
      "execution_count": null,
      "outputs": []
    },
    {
      "cell_type": "code",
      "source": [
        "# some parameter\n",
        "train_losses = []\n",
        "train_accuracies = []\n",
        "test_losses = []\n",
        "test_accuracies = []"
      ],
      "metadata": {
        "id": "P3MU3h7Muql0"
      },
      "execution_count": null,
      "outputs": []
    },
    {
      "cell_type": "code",
      "source": [
        "# train\n",
        "for epoch in range(EPOCHS):\n",
        "    model.train()\n",
        "    start_time = time.time()\n",
        "    running_loss = 0.0\n",
        "    running_correct = 0   # to track number of correct predictions\n",
        "    total = 0             # to track total number of samples\n",
        "\n",
        "    for i, (inputs, labels) in enumerate(trainloader, 0):\n",
        "        # Move inputs and labels to the device\n",
        "        inputs, labels = inputs.to(device), labels.to(device)\n",
        "\n",
        "        # Zero the parameter gradients\n",
        "        optimizer.zero_grad()\n",
        "\n",
        "        # Forward pass\n",
        "        outputs = model(inputs)\n",
        "        loss = criterion(outputs, labels)\n",
        "        running_loss += loss.item()\n",
        "\n",
        "        # Backward pass and optimization\n",
        "        loss.backward()\n",
        "        optimizer.step()\n",
        "\n",
        "        # Determine class predictions and track accuracy\n",
        "        _, predicted = torch.max(outputs.data, 1)\n",
        "        total += labels.size(0)\n",
        "        running_correct += (predicted == labels).sum().item()\n",
        "\n",
        "    epoch_accuracy = 100 * running_correct / total\n",
        "    epoch_loss = running_loss / (i + 1)\n",
        "    test_loss, test_accuracy = evaluate(model, testloader, criterion)\n",
        "    print(f\"Epoch [{epoch + 1}/{EPOCHS}], Loss: {epoch_loss:.4f}, Accuracy: {epoch_accuracy:.2f}%, Test Loss: {test_loss:.4f}, Test Accuracy: {test_accuracy:.2f}%, Time: {time.time() - start_time:.3f}s\")\n",
        "\n",
        "    # save for plot\n",
        "    train_losses.append(epoch_loss)\n",
        "    train_accuracies.append(epoch_accuracy)\n",
        "    test_losses.append(test_loss)\n",
        "    test_accuracies.append(test_accuracy)"
      ],
      "metadata": {
        "id": "eALWXZMTj3PR"
      },
      "execution_count": null,
      "outputs": []
    },
    {
      "cell_type": "markdown",
      "source": [
        "## 6. Inference"
      ],
      "metadata": {
        "id": "vzDA7QbbluVY"
      }
    },
    {
      "cell_type": "markdown",
      "source": [
        "### 6.1. Loss Visualization"
      ],
      "metadata": {
        "id": "kdPXIboQmA0U"
      }
    },
    {
      "cell_type": "code",
      "source": [
        "plt.plot(train_losses, label='train_losses')\n",
        "plt.plot(test_losses, label='test_losses')\n",
        "plt.legend()"
      ],
      "metadata": {
        "id": "_LN5ErfolFuA"
      },
      "execution_count": null,
      "outputs": []
    },
    {
      "cell_type": "markdown",
      "source": [
        "### 6.2. Accuracy Visualization"
      ],
      "metadata": {
        "id": "c0s_IF0u1rNp"
      }
    },
    {
      "cell_type": "code",
      "source": [
        "plt.plot(train_accuracies, label='train_accuracy')\n",
        "plt.plot(test_accuracies, label='test_accuracy')\n",
        "plt.legend()"
      ],
      "metadata": {
        "id": "Kd-hFUdy1uh3"
      },
      "execution_count": null,
      "outputs": []
    },
    {
      "cell_type": "markdown",
      "source": [
        "### 6.3. Best Accuracy"
      ],
      "metadata": {
        "id": "J5ySonVfdkox"
      }
    },
    {
      "cell_type": "code",
      "source": [
        "# the best accuracy\n",
        "best_epoch_test = np.argmax(test_accuracies)\n",
        "print(f\"\\nBest epoch: {best_epoch_test + 1} with test accuracy: {test_accuracies[best_epoch_test]:.2f}%\")\n",
        "best_epoch_train = np.argmax(train_accuracies)\n",
        "print(f\"\\nBest epoch: {best_epoch_train + 1} with train accuracy: {train_accuracies[best_epoch_train]:.2f}%\")"
      ],
      "metadata": {
        "id": "xLAuChgx1yaS"
      },
      "execution_count": null,
      "outputs": []
    },
    {
      "cell_type": "markdown",
      "source": [
        "## 7. Conclusion\n",
        "- **Train Accuracy**: xx.xx%\n",
        "- **Test Accuracy**: xx.xx%"
      ],
      "metadata": {
        "id": "rchetQ3DK6Lk"
      }
    }
  ]
}