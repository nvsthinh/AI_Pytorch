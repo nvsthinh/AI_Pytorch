{
 "cells": [
  {
   "cell_type": "markdown",
   "id": "6dbacf11",
   "metadata": {
    "id": "IwymkzhzYoPa",
    "papermill": {
     "duration": 0.009709,
     "end_time": "2024-07-09T08:08:21.865816",
     "exception": false,
     "start_time": "2024-07-09T08:08:21.856107",
     "status": "completed"
    },
    "tags": []
   },
   "source": [
    "# LeNet PyTorch with CIFAR10\n",
    "- **Task**: Classification\n",
    "- **Data**: CIFAR10 Dataset\n",
    "- **Model**: LeNet\n",
    "- **Loss function**: Cross Entropy Loss\n",
    "- **Optimization**: Adam"
   ]
  },
  {
   "cell_type": "code",
   "execution_count": 1,
   "id": "fc5818ad",
   "metadata": {
    "execution": {
     "iopub.execute_input": "2024-07-09T08:08:21.885510Z",
     "iopub.status.busy": "2024-07-09T08:08:21.884851Z",
     "iopub.status.idle": "2024-07-09T08:08:35.495916Z",
     "shell.execute_reply": "2024-07-09T08:08:35.494890Z"
    },
    "id": "fgdvxoFEsmv6",
    "outputId": "68652d84-bc31-463e-f9bd-573133ed1404",
    "papermill": {
     "duration": 13.62345,
     "end_time": "2024-07-09T08:08:35.498319",
     "exception": false,
     "start_time": "2024-07-09T08:08:21.874869",
     "status": "completed"
    },
    "tags": []
   },
   "outputs": [],
   "source": [
    "!pip install -q watermark"
   ]
  },
  {
   "cell_type": "code",
   "execution_count": 2,
   "id": "0aa8fabb",
   "metadata": {
    "execution": {
     "iopub.execute_input": "2024-07-09T08:08:35.518167Z",
     "iopub.status.busy": "2024-07-09T08:08:35.517871Z",
     "iopub.status.idle": "2024-07-09T08:08:39.108428Z",
     "shell.execute_reply": "2024-07-09T08:08:39.107061Z"
    },
    "id": "Ao8nws0Unz3B",
    "outputId": "8127bc69-70e4-4f68-beb3-3d2503f111a3",
    "papermill": {
     "duration": 3.602907,
     "end_time": "2024-07-09T08:08:39.110607",
     "exception": false,
     "start_time": "2024-07-09T08:08:35.507700",
     "status": "completed"
    },
    "tags": []
   },
   "outputs": [
    {
     "name": "stdout",
     "output_type": "stream",
     "text": [
      "Author: Nguyen Van Sy Thinh\n",
      "\n",
      "Python implementation: CPython\n",
      "Python version       : 3.10.13\n",
      "IPython version      : 8.20.0\n",
      "\n",
      "torch: 2.1.2\n",
      "\n"
     ]
    }
   ],
   "source": [
    "%load_ext watermark\n",
    "%watermark -a 'Nguyen Van Sy Thinh' -v -p torch"
   ]
  },
  {
   "cell_type": "markdown",
   "id": "55cc77a0",
   "metadata": {
    "id": "k4Fm8LFQYxJi",
    "papermill": {
     "duration": 0.008997,
     "end_time": "2024-07-09T08:08:39.129170",
     "exception": false,
     "start_time": "2024-07-09T08:08:39.120173",
     "status": "completed"
    },
    "tags": []
   },
   "source": [
    "## 1. Import Library"
   ]
  },
  {
   "cell_type": "code",
   "execution_count": 3,
   "id": "92289b76",
   "metadata": {
    "execution": {
     "iopub.execute_input": "2024-07-09T08:08:39.150660Z",
     "iopub.status.busy": "2024-07-09T08:08:39.149949Z",
     "iopub.status.idle": "2024-07-09T08:08:51.291730Z",
     "shell.execute_reply": "2024-07-09T08:08:51.290658Z"
    },
    "papermill": {
     "duration": 12.155906,
     "end_time": "2024-07-09T08:08:51.294347",
     "exception": false,
     "start_time": "2024-07-09T08:08:39.138441",
     "status": "completed"
    },
    "tags": []
   },
   "outputs": [],
   "source": [
    "!pip install -q torchsummary"
   ]
  },
  {
   "cell_type": "code",
   "execution_count": 4,
   "id": "1530a85e",
   "metadata": {
    "execution": {
     "iopub.execute_input": "2024-07-09T08:08:51.315148Z",
     "iopub.status.busy": "2024-07-09T08:08:51.314838Z",
     "iopub.status.idle": "2024-07-09T08:08:52.876142Z",
     "shell.execute_reply": "2024-07-09T08:08:52.875125Z"
    },
    "id": "hdWQADB0ZFYP",
    "papermill": {
     "duration": 1.574044,
     "end_time": "2024-07-09T08:08:52.878556",
     "exception": false,
     "start_time": "2024-07-09T08:08:51.304512",
     "status": "completed"
    },
    "tags": []
   },
   "outputs": [],
   "source": [
    "import torch\n",
    "import torchvision.transforms as transforms\n",
    "import torch.nn as nn\n",
    "import torch.optim as optim\n",
    "import torch.nn.functional as F\n",
    "\n",
    "import numpy as np\n",
    "import matplotlib.pyplot as plt\n",
    "import time\n",
    "\n",
    "import torchvision\n",
    "from torchvision.datasets import CIFAR10\n",
    "from torch.utils.data import DataLoader\n",
    "from torch.optim import Adam\n",
    "from torchsummary import summary\n",
    "\n",
    "# Check if GPU is available\n",
    "device = torch.device(\"cuda:0\" if torch.cuda.is_available() else \"cpu\")"
   ]
  },
  {
   "cell_type": "markdown",
   "id": "f128cd82",
   "metadata": {
    "id": "DkYKMYX8YygA",
    "papermill": {
     "duration": 0.008912,
     "end_time": "2024-07-09T08:08:52.897912",
     "exception": false,
     "start_time": "2024-07-09T08:08:52.889000",
     "status": "completed"
    },
    "tags": []
   },
   "source": [
    "## 2. Data"
   ]
  },
  {
   "cell_type": "markdown",
   "id": "4d11ca59",
   "metadata": {
    "id": "sXZrwCVrZIWw",
    "papermill": {
     "duration": 0.008828,
     "end_time": "2024-07-09T08:08:52.915759",
     "exception": false,
     "start_time": "2024-07-09T08:08:52.906931",
     "status": "completed"
    },
    "tags": []
   },
   "source": [
    "### 2.1. CIFAR10 Dataset"
   ]
  },
  {
   "cell_type": "markdown",
   "id": "b2a73ba5",
   "metadata": {
    "id": "pX21MHOBtCXc",
    "papermill": {
     "duration": 0.008873,
     "end_time": "2024-07-09T08:08:52.933606",
     "exception": false,
     "start_time": "2024-07-09T08:08:52.924733",
     "status": "completed"
    },
    "tags": []
   },
   "source": [
    "#### 2.1.1. Load dataset to compute Mean and Std to Normalize Z-score"
   ]
  },
  {
   "cell_type": "code",
   "execution_count": 5,
   "id": "78b161d9",
   "metadata": {
    "execution": {
     "iopub.execute_input": "2024-07-09T08:08:52.953353Z",
     "iopub.status.busy": "2024-07-09T08:08:52.952687Z",
     "iopub.status.idle": "2024-07-09T08:09:16.071601Z",
     "shell.execute_reply": "2024-07-09T08:09:16.070247Z"
    },
    "id": "wZlmQGmpYPcr",
    "outputId": "fbf0859b-c83a-4045-8c2e-d4e151b7c581",
    "papermill": {
     "duration": 23.131157,
     "end_time": "2024-07-09T08:09:16.073813",
     "exception": false,
     "start_time": "2024-07-09T08:08:52.942656",
     "status": "completed"
    },
    "tags": []
   },
   "outputs": [
    {
     "name": "stdout",
     "output_type": "stream",
     "text": [
      "Downloading https://www.cs.toronto.edu/~kriz/cifar-10-python.tar.gz to data/cifar-10-python.tar.gz\n"
     ]
    },
    {
     "name": "stderr",
     "output_type": "stream",
     "text": [
      "100%|██████████| 170498071/170498071 [00:02<00:00, 66606349.93it/s]\n"
     ]
    },
    {
     "name": "stdout",
     "output_type": "stream",
     "text": [
      "Extracting data/cifar-10-python.tar.gz to data\n",
      "tensor([0.4914, 0.4822, 0.4465]) tensor([0.2823, 0.2783, 0.2990])\n"
     ]
    }
   ],
   "source": [
    "# Load dataset with only the ToTensor transform to compute mean and std\n",
    "compute_transform = transforms.Compose([transforms.ToTensor()])\n",
    "dataset = CIFAR10(root='data', train=True, transform=compute_transform, download=True)\n",
    "loader = torch.utils.data.DataLoader(dataset, batch_size=len(dataset), shuffle=False, num_workers=2)\n",
    "\n",
    "mean = 0.0\n",
    "for images, _ in loader:\n",
    "    batch_samples = images.size(0)  # Batch size\n",
    "    images = images.view(batch_samples, images.size(1), -1)\n",
    "    mean += images.mean(2).sum(0)\n",
    "mean = mean / len(loader.dataset)\n",
    "\n",
    "variance = 0.0\n",
    "for images, _ in loader:\n",
    "    batch_samples = images.size(0)\n",
    "    images = images.view(batch_samples, images.size(1), -1)\n",
    "    variance += ((images - mean.unsqueeze(1))**2).sum([0,2])\n",
    "std = torch.sqrt(variance / (len(loader.dataset)*28*28))\n",
    "\n",
    "print(mean, std)"
   ]
  },
  {
   "cell_type": "markdown",
   "id": "9e4bfe76",
   "metadata": {
    "id": "exa_gOm0tKJF",
    "papermill": {
     "duration": 0.014375,
     "end_time": "2024-07-09T08:09:16.103804",
     "exception": false,
     "start_time": "2024-07-09T08:09:16.089429",
     "status": "completed"
    },
    "tags": []
   },
   "source": [
    "#### 2.1.2. Load CIFAR10 Dataset"
   ]
  },
  {
   "cell_type": "code",
   "execution_count": 6,
   "id": "46731c43",
   "metadata": {
    "execution": {
     "iopub.execute_input": "2024-07-09T08:09:16.128209Z",
     "iopub.status.busy": "2024-07-09T08:09:16.127860Z",
     "iopub.status.idle": "2024-07-09T08:09:17.685360Z",
     "shell.execute_reply": "2024-07-09T08:09:17.684551Z"
    },
    "id": "0ZBIxYHztOu-",
    "outputId": "7577169e-957c-4e75-a96d-8d88029f902b",
    "papermill": {
     "duration": 1.572503,
     "end_time": "2024-07-09T08:09:17.687798",
     "exception": false,
     "start_time": "2024-07-09T08:09:16.115295",
     "status": "completed"
    },
    "tags": []
   },
   "outputs": [
    {
     "name": "stdout",
     "output_type": "stream",
     "text": [
      "Files already downloaded and verified\n",
      "Files already downloaded and verified\n"
     ]
    }
   ],
   "source": [
    "batch_size = 64\n",
    "# Load CIFAR10 dataset\n",
    "transform = transforms.Compose(\n",
    "    [\n",
    "        transforms.Resize((224,224)),\n",
    "        transforms.ToTensor(),\n",
    "        transforms.Normalize((0.4914, 0.4822, 0.4465), (0.2823, 0.2783, 0.2990))])\n",
    "\n",
    "trainset = CIFAR10(root='./data', train=True, download=True, transform=transform)\n",
    "testset = CIFAR10(root='./data', train=False, download=True, transform=transform)\n",
    "\n",
    "trainloader = DataLoader(trainset, batch_size=batch_size, shuffle=True, num_workers=2)\n",
    "testloader = DataLoader(testset, batch_size=batch_size, shuffle=False, num_workers=2)"
   ]
  },
  {
   "cell_type": "markdown",
   "id": "e3484e1c",
   "metadata": {
    "id": "zu2xayHAZ6px",
    "papermill": {
     "duration": 0.011452,
     "end_time": "2024-07-09T08:09:17.711362",
     "exception": false,
     "start_time": "2024-07-09T08:09:17.699910",
     "status": "completed"
    },
    "tags": []
   },
   "source": [
    "### 2.2. Data Information"
   ]
  },
  {
   "cell_type": "code",
   "execution_count": 7,
   "id": "a8e786e1",
   "metadata": {
    "execution": {
     "iopub.execute_input": "2024-07-09T08:09:17.735733Z",
     "iopub.status.busy": "2024-07-09T08:09:17.735427Z",
     "iopub.status.idle": "2024-07-09T08:09:17.740420Z",
     "shell.execute_reply": "2024-07-09T08:09:17.739462Z"
    },
    "id": "NKGIXwVkZLJl",
    "outputId": "ab210142-7017-4018-946e-bf343c0cbad0",
    "papermill": {
     "duration": 0.019616,
     "end_time": "2024-07-09T08:09:17.742490",
     "exception": false,
     "start_time": "2024-07-09T08:09:17.722874",
     "status": "completed"
    },
    "tags": []
   },
   "outputs": [
    {
     "name": "stdout",
     "output_type": "stream",
     "text": [
      "Number of training samples: 50000\n",
      "Number of testing samples: 10000\n"
     ]
    }
   ],
   "source": [
    "print(f\"Number of training samples: {len(trainset)}\")\n",
    "print(f\"Number of testing samples: {len(testset)}\")"
   ]
  },
  {
   "cell_type": "code",
   "execution_count": 8,
   "id": "ede6945d",
   "metadata": {
    "execution": {
     "iopub.execute_input": "2024-07-09T08:09:17.766826Z",
     "iopub.status.busy": "2024-07-09T08:09:17.766520Z",
     "iopub.status.idle": "2024-07-09T08:09:17.778158Z",
     "shell.execute_reply": "2024-07-09T08:09:17.777331Z"
    },
    "id": "mEchSn6wZw3d",
    "outputId": "f823b4c3-b157-43c4-f83a-0abf7d9a2377",
    "papermill": {
     "duration": 0.026024,
     "end_time": "2024-07-09T08:09:17.780161",
     "exception": false,
     "start_time": "2024-07-09T08:09:17.754137",
     "status": "completed"
    },
    "tags": []
   },
   "outputs": [
    {
     "name": "stdout",
     "output_type": "stream",
     "text": [
      "Datatype of the 1st training sample: torch.FloatTensor\n",
      "Size of the 1st training sample: torch.Size([3, 224, 224])\n"
     ]
    }
   ],
   "source": [
    "print(f\"Datatype of the 1st training sample: {trainset[0][0].type()}\")\n",
    "print(f\"Size of the 1st training sample: {testset[0][0].size()}\")"
   ]
  },
  {
   "cell_type": "markdown",
   "id": "9c68ce87",
   "metadata": {
    "id": "VMYEKrRLZ8ht",
    "papermill": {
     "duration": 0.011328,
     "end_time": "2024-07-09T08:09:17.804726",
     "exception": false,
     "start_time": "2024-07-09T08:09:17.793398",
     "status": "completed"
    },
    "tags": []
   },
   "source": [
    "### 2.3. Data Visualization"
   ]
  },
  {
   "cell_type": "code",
   "execution_count": 9,
   "id": "e03d18cb",
   "metadata": {
    "execution": {
     "iopub.execute_input": "2024-07-09T08:09:17.828972Z",
     "iopub.status.busy": "2024-07-09T08:09:17.828704Z",
     "iopub.status.idle": "2024-07-09T08:09:18.590871Z",
     "shell.execute_reply": "2024-07-09T08:09:18.589857Z"
    },
    "id": "mZMW-Ox-Z9pv",
    "outputId": "e6e19631-3551-45f8-89b8-0c9f99c98e0c",
    "papermill": {
     "duration": 0.776948,
     "end_time": "2024-07-09T08:09:18.593356",
     "exception": false,
     "start_time": "2024-07-09T08:09:17.816408",
     "status": "completed"
    },
    "tags": []
   },
   "outputs": [
    {
     "data": {
      "image/png": "[encoded data removed]",
      "text/plain": [
       "<Figure size 640x480 with 1 Axes>"
      ]
     },
     "metadata": {},
     "output_type": "display_data"
    }
   ],
   "source": [
    "import matplotlib.pyplot as plt\n",
    "import numpy as np\n",
    "\n",
    "# Function to display the images\n",
    "def imshow(img):\n",
    "    img = img*0.5 + 0.5\n",
    "    np_img = img.numpy()\n",
    "    plt.imshow(np.transpose(np_img, (1, 2, 0)))\n",
    "    plt.show()\n",
    "\n",
    "for i, (images, labels) in enumerate(trainloader, 0):\n",
    "    # Plot some images\n",
    "    imshow(torchvision.utils.make_grid(images[:8]))  # Display 8 images from the batch\n",
    "    break"
   ]
  },
  {
   "cell_type": "markdown",
   "id": "8d164216",
   "metadata": {
    "id": "32MkQnmuaZT4",
    "papermill": {
     "duration": 0.012319,
     "end_time": "2024-07-09T08:09:18.618905",
     "exception": false,
     "start_time": "2024-07-09T08:09:18.606586",
     "status": "completed"
    },
    "tags": []
   },
   "source": [
    "## 3. Model"
   ]
  },
  {
   "cell_type": "code",
   "execution_count": 10,
   "id": "ac2a6df4",
   "metadata": {
    "execution": {
     "iopub.execute_input": "2024-07-09T08:09:18.645580Z",
     "iopub.status.busy": "2024-07-09T08:09:18.645246Z",
     "iopub.status.idle": "2024-07-09T08:09:18.655438Z",
     "shell.execute_reply": "2024-07-09T08:09:18.654582Z"
    },
    "id": "-k6pAeghaaGv",
    "papermill": {
     "duration": 0.025829,
     "end_time": "2024-07-09T08:09:18.657387",
     "exception": false,
     "start_time": "2024-07-09T08:09:18.631558",
     "status": "completed"
    },
    "tags": []
   },
   "outputs": [],
   "source": [
    "import torch.nn as nn\n",
    "import torch.nn.functional as F\n",
    "\n",
    "class LeNet(nn.Module):\n",
    "    def __init__(self, imdim=3, num_classes=10):\n",
    "        super(LeNet, self).__init__()\n",
    "\n",
    "        self.conv1 = nn.Conv2d(imdim, 64, kernel_size=5, stride=3, padding=0)\n",
    "        self.mp = nn.MaxPool2d(2)\n",
    "        self.relu1 = nn.ReLU(inplace=True)\n",
    "        self.conv2 = nn.Conv2d(64, 128, kernel_size=5, stride=3, padding=0)\n",
    "        self.relu2 = nn.ReLU(inplace=True)\n",
    "        self.fc1 = nn.Linear(128*5*5, 1024)\n",
    "        self.relu3 = nn.ReLU(inplace=True)\n",
    "        self.fc2 = nn.Linear(1024, 1024)\n",
    "        self.relu4 = nn.ReLU(inplace=True)\n",
    "\n",
    "        self.fc3 = nn.Linear(1024, num_classes)\n",
    "\n",
    "    def forward(self, x):\n",
    "        in_size = x.size(0)\n",
    "        out1 = self.mp(self.relu1(self.conv1(x)))\n",
    "        out2 = self.mp(self.relu2(self.conv2(out1)))\n",
    "        out2 = out2.view(in_size, -1)\n",
    "        out3 = self.relu3(self.fc1(out2))\n",
    "        out = self.relu4(self.fc2(out3))\n",
    "\n",
    "        return self.fc3(out)"
   ]
  },
  {
   "cell_type": "code",
   "execution_count": 11,
   "id": "fa0fe647",
   "metadata": {
    "execution": {
     "iopub.execute_input": "2024-07-09T08:09:18.683493Z",
     "iopub.status.busy": "2024-07-09T08:09:18.683203Z",
     "iopub.status.idle": "2024-07-09T08:09:18.864029Z",
     "shell.execute_reply": "2024-07-09T08:09:18.863257Z"
    },
    "id": "vdmDzHLUjWjh",
    "papermill": {
     "duration": 0.196586,
     "end_time": "2024-07-09T08:09:18.866539",
     "exception": false,
     "start_time": "2024-07-09T08:09:18.669953",
     "status": "completed"
    },
    "tags": []
   },
   "outputs": [],
   "source": [
    "model = LeNet(num_classes=10).to(device)"
   ]
  },
  {
   "cell_type": "code",
   "execution_count": 12,
   "id": "a7255b10",
   "metadata": {
    "execution": {
     "iopub.execute_input": "2024-07-09T08:09:18.893589Z",
     "iopub.status.busy": "2024-07-09T08:09:18.893267Z",
     "iopub.status.idle": "2024-07-09T08:09:19.408312Z",
     "shell.execute_reply": "2024-07-09T08:09:19.407071Z"
    },
    "id": "fpGOw4_4chX6",
    "outputId": "56bdf4a0-9c0a-42d2-ab32-0e704076715d",
    "papermill": {
     "duration": 0.530658,
     "end_time": "2024-07-09T08:09:19.410391",
     "exception": false,
     "start_time": "2024-07-09T08:09:18.879733",
     "status": "completed"
    },
    "tags": []
   },
   "outputs": [
    {
     "name": "stdout",
     "output_type": "stream",
     "text": [
      "----------------------------------------------------------------\n",
      "        Layer (type)               Output Shape         Param #\n",
      "================================================================\n",
      "            Conv2d-1           [-1, 64, 74, 74]           4,864\n",
      "              ReLU-2           [-1, 64, 74, 74]               0\n",
      "         MaxPool2d-3           [-1, 64, 37, 37]               0\n",
      "            Conv2d-4          [-1, 128, 11, 11]         204,928\n",
      "              ReLU-5          [-1, 128, 11, 11]               0\n",
      "         MaxPool2d-6            [-1, 128, 5, 5]               0\n",
      "            Linear-7                 [-1, 1024]       3,277,824\n",
      "              ReLU-8                 [-1, 1024]               0\n",
      "            Linear-9                 [-1, 1024]       1,049,600\n",
      "             ReLU-10                 [-1, 1024]               0\n",
      "           Linear-11                   [-1, 10]          10,250\n",
      "================================================================\n",
      "Total params: 4,547,466\n",
      "Trainable params: 4,547,466\n",
      "Non-trainable params: 0\n",
      "----------------------------------------------------------------\n",
      "Input size (MB): 0.57\n",
      "Forward/backward pass size (MB): 6.31\n",
      "Params size (MB): 17.35\n",
      "Estimated Total Size (MB): 24.23\n",
      "----------------------------------------------------------------\n"
     ]
    }
   ],
   "source": [
    "summary(model, (3, 224, 224))"
   ]
  },
  {
   "cell_type": "code",
   "execution_count": 13,
   "id": "4a9a448e",
   "metadata": {
    "execution": {
     "iopub.execute_input": "2024-07-09T08:09:19.437575Z",
     "iopub.status.busy": "2024-07-09T08:09:19.437232Z",
     "iopub.status.idle": "2024-07-09T08:09:19.460259Z",
     "shell.execute_reply": "2024-07-09T08:09:19.459345Z"
    },
    "id": "eJWETXAot1y1",
    "outputId": "ecc11722-781a-432f-8a62-1b677c9e00c4",
    "papermill": {
     "duration": 0.038793,
     "end_time": "2024-07-09T08:09:19.462361",
     "exception": false,
     "start_time": "2024-07-09T08:09:19.423568",
     "status": "completed"
    },
    "tags": []
   },
   "outputs": [
    {
     "name": "stdout",
     "output_type": "stream",
     "text": [
      "torch.Size([1, 10])\n"
     ]
    }
   ],
   "source": [
    "# Generating a random tensor\n",
    "input_tensor = torch.rand(1, 3, 224, 224).to(device)\n",
    "\n",
    "# Feeding the tensor into the model\n",
    "output = model(input_tensor)\n",
    "print(output.shape)"
   ]
  },
  {
   "cell_type": "markdown",
   "id": "cc2b4a08",
   "metadata": {
    "id": "LSc4P6BLjtGd",
    "papermill": {
     "duration": 0.012582,
     "end_time": "2024-07-09T08:09:19.487966",
     "exception": false,
     "start_time": "2024-07-09T08:09:19.475384",
     "status": "completed"
    },
    "tags": []
   },
   "source": [
    "## 4. Loss Function and Optimization"
   ]
  },
  {
   "cell_type": "code",
   "execution_count": 14,
   "id": "a35901a3",
   "metadata": {
    "execution": {
     "iopub.execute_input": "2024-07-09T08:09:19.515365Z",
     "iopub.status.busy": "2024-07-09T08:09:19.515038Z",
     "iopub.status.idle": "2024-07-09T08:09:19.519079Z",
     "shell.execute_reply": "2024-07-09T08:09:19.518233Z"
    },
    "id": "5e5mUCrqjvo6",
    "papermill": {
     "duration": 0.020185,
     "end_time": "2024-07-09T08:09:19.521154",
     "exception": false,
     "start_time": "2024-07-09T08:09:19.500969",
     "status": "completed"
    },
    "tags": []
   },
   "outputs": [],
   "source": [
    "LR = 1e-3\n",
    "EPOCHS = 150"
   ]
  },
  {
   "cell_type": "code",
   "execution_count": 15,
   "id": "2cea2d00",
   "metadata": {
    "execution": {
     "iopub.execute_input": "2024-07-09T08:09:19.548410Z",
     "iopub.status.busy": "2024-07-09T08:09:19.547680Z",
     "iopub.status.idle": "2024-07-09T08:09:19.552387Z",
     "shell.execute_reply": "2024-07-09T08:09:19.551576Z"
    },
    "id": "HyefEJxQjyOs",
    "papermill": {
     "duration": 0.020025,
     "end_time": "2024-07-09T08:09:19.554157",
     "exception": false,
     "start_time": "2024-07-09T08:09:19.534132",
     "status": "completed"
    },
    "tags": []
   },
   "outputs": [],
   "source": [
    "criterion = torch.nn.CrossEntropyLoss()\n",
    "optimizer = Adam(model.parameters(), lr=LR)"
   ]
  },
  {
   "cell_type": "markdown",
   "id": "ce819290",
   "metadata": {
    "id": "zMIMDD5sj4EO",
    "papermill": {
     "duration": 0.012475,
     "end_time": "2024-07-09T08:09:19.579780",
     "exception": false,
     "start_time": "2024-07-09T08:09:19.567305",
     "status": "completed"
    },
    "tags": []
   },
   "source": [
    "## 5. Train"
   ]
  },
  {
   "cell_type": "markdown",
   "id": "2933b96c",
   "metadata": {
    "id": "yOYmV8NYuZG7",
    "papermill": {
     "duration": 0.012651,
     "end_time": "2024-07-09T08:09:19.605367",
     "exception": false,
     "start_time": "2024-07-09T08:09:19.592716",
     "status": "completed"
    },
    "tags": []
   },
   "source": [
    "### 5.1. Evaluation Function"
   ]
  },
  {
   "cell_type": "code",
   "execution_count": 16,
   "id": "c928a9e7",
   "metadata": {
    "execution": {
     "iopub.execute_input": "2024-07-09T08:09:19.632452Z",
     "iopub.status.busy": "2024-07-09T08:09:19.632090Z",
     "iopub.status.idle": "2024-07-09T08:09:19.639377Z",
     "shell.execute_reply": "2024-07-09T08:09:19.638444Z"
    },
    "id": "5UWFs8k_ucr7",
    "papermill": {
     "duration": 0.023062,
     "end_time": "2024-07-09T08:09:19.641267",
     "exception": false,
     "start_time": "2024-07-09T08:09:19.618205",
     "status": "completed"
    },
    "tags": []
   },
   "outputs": [],
   "source": [
    "# Function to compute loss and accuracy for test set\n",
    "def evaluate(model, testloader, criterion):\n",
    "    model.eval()\n",
    "    test_loss = 0.0\n",
    "    correct = 0\n",
    "    total = 0\n",
    "    with torch.no_grad():\n",
    "        for images, labels in testloader:\n",
    "            # Move inputs and labels to the device\n",
    "            images, labels = images.to(device), labels.to(device)\n",
    "\n",
    "            outputs = model(images)\n",
    "            loss = criterion(outputs, labels)\n",
    "            test_loss += loss.item()\n",
    "\n",
    "            _, predicted = torch.max(outputs.data, 1)\n",
    "            total += labels.size(0)\n",
    "            correct += (predicted == labels).sum().item()\n",
    "\n",
    "    accuracy = 100 * correct / total\n",
    "    test_loss = test_loss / len(testloader)\n",
    "    return test_loss, accuracy"
   ]
  },
  {
   "cell_type": "code",
   "execution_count": 17,
   "id": "137b0541",
   "metadata": {
    "execution": {
     "iopub.execute_input": "2024-07-09T08:09:19.668430Z",
     "iopub.status.busy": "2024-07-09T08:09:19.668074Z",
     "iopub.status.idle": "2024-07-09T08:09:29.921982Z",
     "shell.execute_reply": "2024-07-09T08:09:29.920728Z"
    },
    "id": "tvx2cDxlue5d",
    "outputId": "1981b76e-d171-416b-8b51-fd45080d71c7",
    "papermill": {
     "duration": 10.269666,
     "end_time": "2024-07-09T08:09:29.924034",
     "exception": false,
     "start_time": "2024-07-09T08:09:19.654368",
     "status": "completed"
    },
    "tags": []
   },
   "outputs": [
    {
     "name": "stdout",
     "output_type": "stream",
     "text": [
      "Test_loss: 2.303963284583608\n",
      "Test_accuracy: 10.71\n"
     ]
    }
   ],
   "source": [
    "test_loss, test_accuracy = evaluate(model, testloader, criterion)\n",
    "print(f'Test_loss: {test_loss}')\n",
    "print(f'Test_accuracy: {test_accuracy}')"
   ]
  },
  {
   "cell_type": "code",
   "execution_count": 18,
   "id": "3fa4a28d",
   "metadata": {
    "execution": {
     "iopub.execute_input": "2024-07-09T08:09:29.952172Z",
     "iopub.status.busy": "2024-07-09T08:09:29.951580Z",
     "iopub.status.idle": "2024-07-09T08:09:29.956256Z",
     "shell.execute_reply": "2024-07-09T08:09:29.955433Z"
    },
    "id": "P3MU3h7Muql0",
    "papermill": {
     "duration": 0.02082,
     "end_time": "2024-07-09T08:09:29.958124",
     "exception": false,
     "start_time": "2024-07-09T08:09:29.937304",
     "status": "completed"
    },
    "tags": []
   },
   "outputs": [],
   "source": [
    "# some parameter\n",
    "train_losses = []\n",
    "train_accuracies = []\n",
    "test_losses = []\n",
    "test_accuracies = []"
   ]
  },
  {
   "cell_type": "code",
   "execution_count": 19,
   "id": "da3b8483",
   "metadata": {
    "execution": {
     "iopub.execute_input": "2024-07-09T08:09:29.985691Z",
     "iopub.status.busy": "2024-07-09T08:09:29.985412Z",
     "iopub.status.idle": "2024-07-09T10:44:43.789757Z",
     "shell.execute_reply": "2024-07-09T10:44:43.788590Z"
    },
    "id": "eALWXZMTj3PR",
    "outputId": "f82a156a-150c-4e7a-a91b-74a023beac70",
    "papermill": {
     "duration": 9313.845238,
     "end_time": "2024-07-09T10:44:43.816445",
     "exception": false,
     "start_time": "2024-07-09T08:09:29.971207",
     "status": "completed"
    },
    "tags": []
   },
   "outputs": [
    {
     "name": "stdout",
     "output_type": "stream",
     "text": [
      "Epoch [1/150], Loss: 1.4984, Accuracy: 45.55%, Test Loss: 1.2674, Test Accuracy: 54.13%, Time: 61.195s\n",
      "Epoch [2/150], Loss: 1.1764, Accuracy: 58.23%, Test Loss: 1.1397, Test Accuracy: 58.92%, Time: 62.084s\n",
      "Epoch [3/150], Loss: 1.0210, Accuracy: 63.65%, Test Loss: 1.0339, Test Accuracy: 63.65%, Time: 61.957s\n",
      "Epoch [4/150], Loss: 0.8925, Accuracy: 68.46%, Test Loss: 1.0285, Test Accuracy: 64.64%, Time: 62.572s\n",
      "Epoch [5/150], Loss: 0.7712, Accuracy: 72.67%, Test Loss: 1.0028, Test Accuracy: 65.55%, Time: 61.866s\n",
      "Epoch [6/150], Loss: 0.6566, Accuracy: 76.71%, Test Loss: 1.1058, Test Accuracy: 65.14%, Time: 61.479s\n",
      "Epoch [7/150], Loss: 0.5455, Accuracy: 80.65%, Test Loss: 1.1171, Test Accuracy: 66.24%, Time: 61.645s\n",
      "Epoch [8/150], Loss: 0.4427, Accuracy: 83.96%, Test Loss: 1.2306, Test Accuracy: 65.94%, Time: 61.866s\n",
      "Epoch [9/150], Loss: 0.3447, Accuracy: 87.73%, Test Loss: 1.4951, Test Accuracy: 64.18%, Time: 62.033s\n",
      "Epoch [10/150], Loss: 0.2852, Accuracy: 89.95%, Test Loss: 1.6815, Test Accuracy: 63.82%, Time: 62.093s\n",
      "Epoch [11/150], Loss: 0.2328, Accuracy: 91.79%, Test Loss: 1.8275, Test Accuracy: 64.76%, Time: 61.540s\n",
      "Epoch [12/150], Loss: 0.1982, Accuracy: 93.03%, Test Loss: 2.0599, Test Accuracy: 63.93%, Time: 62.236s\n",
      "Epoch [13/150], Loss: 0.1789, Accuracy: 93.75%, Test Loss: 2.1902, Test Accuracy: 63.61%, Time: 62.817s\n",
      "Epoch [14/150], Loss: 0.1635, Accuracy: 94.48%, Test Loss: 2.2547, Test Accuracy: 63.95%, Time: 61.736s\n",
      "Epoch [15/150], Loss: 0.1605, Accuracy: 94.68%, Test Loss: 2.2479, Test Accuracy: 64.41%, Time: 62.367s\n",
      "Epoch [16/150], Loss: 0.1449, Accuracy: 95.18%, Test Loss: 2.3874, Test Accuracy: 63.59%, Time: 61.698s\n",
      "Epoch [17/150], Loss: 0.1383, Accuracy: 95.38%, Test Loss: 2.5136, Test Accuracy: 63.20%, Time: 61.011s\n",
      "Epoch [18/150], Loss: 0.1360, Accuracy: 95.58%, Test Loss: 2.5804, Test Accuracy: 63.39%, Time: 61.990s\n",
      "Epoch [19/150], Loss: 0.1294, Accuracy: 95.85%, Test Loss: 2.5961, Test Accuracy: 63.41%, Time: 61.998s\n",
      "Epoch [20/150], Loss: 0.1242, Accuracy: 95.92%, Test Loss: 2.6652, Test Accuracy: 63.62%, Time: 61.715s\n",
      "Epoch [21/150], Loss: 0.1174, Accuracy: 96.25%, Test Loss: 2.9855, Test Accuracy: 62.55%, Time: 61.586s\n",
      "Epoch [22/150], Loss: 0.1181, Accuracy: 96.37%, Test Loss: 2.8656, Test Accuracy: 64.32%, Time: 62.426s\n",
      "Epoch [23/150], Loss: 0.1157, Accuracy: 96.43%, Test Loss: 2.8542, Test Accuracy: 63.77%, Time: 62.024s\n",
      "Epoch [24/150], Loss: 0.1184, Accuracy: 96.22%, Test Loss: 3.0652, Test Accuracy: 62.36%, Time: 61.925s\n",
      "Epoch [25/150], Loss: 0.1149, Accuracy: 96.42%, Test Loss: 3.1468, Test Accuracy: 63.35%, Time: 61.592s\n",
      "Epoch [26/150], Loss: 0.1110, Accuracy: 96.64%, Test Loss: 3.0320, Test Accuracy: 63.18%, Time: 61.722s\n",
      "Epoch [27/150], Loss: 0.1093, Accuracy: 96.75%, Test Loss: 3.2147, Test Accuracy: 63.39%, Time: 60.480s\n",
      "Epoch [28/150], Loss: 0.1001, Accuracy: 96.97%, Test Loss: 3.1109, Test Accuracy: 63.90%, Time: 60.738s\n",
      "Epoch [29/150], Loss: 0.0982, Accuracy: 97.00%, Test Loss: 3.3276, Test Accuracy: 62.19%, Time: 61.768s\n",
      "Epoch [30/150], Loss: 0.1058, Accuracy: 96.86%, Test Loss: 3.1557, Test Accuracy: 64.42%, Time: 62.247s\n",
      "Epoch [31/150], Loss: 0.0894, Accuracy: 97.32%, Test Loss: 3.5085, Test Accuracy: 63.66%, Time: 60.582s\n",
      "Epoch [32/150], Loss: 0.1014, Accuracy: 97.00%, Test Loss: 3.5067, Test Accuracy: 63.10%, Time: 61.995s\n",
      "Epoch [33/150], Loss: 0.1019, Accuracy: 97.03%, Test Loss: 3.2759, Test Accuracy: 63.85%, Time: 60.910s\n",
      "Epoch [34/150], Loss: 0.0960, Accuracy: 97.21%, Test Loss: 3.5190, Test Accuracy: 63.39%, Time: 62.446s\n",
      "Epoch [35/150], Loss: 0.0852, Accuracy: 97.48%, Test Loss: 3.5234, Test Accuracy: 62.97%, Time: 62.004s\n",
      "Epoch [36/150], Loss: 0.1001, Accuracy: 97.10%, Test Loss: 3.5574, Test Accuracy: 63.04%, Time: 61.773s\n",
      "Epoch [37/150], Loss: 0.0813, Accuracy: 97.59%, Test Loss: 3.6696, Test Accuracy: 62.81%, Time: 61.479s\n",
      "Epoch [38/150], Loss: 0.0901, Accuracy: 97.41%, Test Loss: 3.9500, Test Accuracy: 62.48%, Time: 61.053s\n",
      "Epoch [39/150], Loss: 0.0900, Accuracy: 97.43%, Test Loss: 3.7273, Test Accuracy: 63.48%, Time: 60.706s\n",
      "Epoch [40/150], Loss: 0.0868, Accuracy: 97.57%, Test Loss: 3.8863, Test Accuracy: 62.69%, Time: 61.178s\n",
      "Epoch [41/150], Loss: 0.0860, Accuracy: 97.58%, Test Loss: 4.0079, Test Accuracy: 63.44%, Time: 61.815s\n",
      "Epoch [42/150], Loss: 0.0898, Accuracy: 97.47%, Test Loss: 3.9875, Test Accuracy: 63.21%, Time: 61.532s\n",
      "Epoch [43/150], Loss: 0.0806, Accuracy: 97.67%, Test Loss: 3.9966, Test Accuracy: 63.51%, Time: 60.194s\n",
      "Epoch [44/150], Loss: 0.0869, Accuracy: 97.51%, Test Loss: 4.1332, Test Accuracy: 62.76%, Time: 59.639s\n",
      "Epoch [45/150], Loss: 0.0853, Accuracy: 97.64%, Test Loss: 4.1345, Test Accuracy: 62.64%, Time: 61.306s\n",
      "Epoch [46/150], Loss: 0.0877, Accuracy: 97.57%, Test Loss: 4.1054, Test Accuracy: 63.74%, Time: 62.851s\n",
      "Epoch [47/150], Loss: 0.0792, Accuracy: 97.82%, Test Loss: 4.3715, Test Accuracy: 62.08%, Time: 62.567s\n",
      "Epoch [48/150], Loss: 0.0979, Accuracy: 97.39%, Test Loss: 4.0471, Test Accuracy: 63.38%, Time: 64.013s\n",
      "Epoch [49/150], Loss: 0.0795, Accuracy: 97.91%, Test Loss: 4.2902, Test Accuracy: 63.02%, Time: 63.924s\n",
      "Epoch [50/150], Loss: 0.0684, Accuracy: 98.07%, Test Loss: 4.5819, Test Accuracy: 62.64%, Time: 64.123s\n",
      "Epoch [51/150], Loss: 0.0939, Accuracy: 97.64%, Test Loss: 4.1915, Test Accuracy: 63.20%, Time: 65.285s\n",
      "Epoch [52/150], Loss: 0.0793, Accuracy: 97.98%, Test Loss: 4.2777, Test Accuracy: 63.65%, Time: 64.084s\n",
      "Epoch [53/150], Loss: 0.0662, Accuracy: 98.22%, Test Loss: 4.4092, Test Accuracy: 63.69%, Time: 62.704s\n",
      "Epoch [54/150], Loss: 0.0899, Accuracy: 97.68%, Test Loss: 4.4921, Test Accuracy: 63.28%, Time: 61.852s\n",
      "Epoch [55/150], Loss: 0.0775, Accuracy: 98.01%, Test Loss: 4.3560, Test Accuracy: 63.76%, Time: 62.219s\n",
      "Epoch [56/150], Loss: 0.0892, Accuracy: 97.77%, Test Loss: 4.4359, Test Accuracy: 62.54%, Time: 62.595s\n",
      "Epoch [57/150], Loss: 0.0601, Accuracy: 98.45%, Test Loss: 4.5026, Test Accuracy: 63.19%, Time: 62.899s\n",
      "Epoch [58/150], Loss: 0.0748, Accuracy: 98.16%, Test Loss: 4.7316, Test Accuracy: 62.62%, Time: 63.019s\n",
      "Epoch [59/150], Loss: 0.0797, Accuracy: 97.91%, Test Loss: 4.7714, Test Accuracy: 62.53%, Time: 62.715s\n",
      "Epoch [60/150], Loss: 0.0702, Accuracy: 98.15%, Test Loss: 4.8656, Test Accuracy: 63.23%, Time: 63.209s\n",
      "Epoch [61/150], Loss: 0.0686, Accuracy: 98.26%, Test Loss: 4.7784, Test Accuracy: 62.98%, Time: 62.411s\n",
      "Epoch [62/150], Loss: 0.0802, Accuracy: 98.00%, Test Loss: 4.8364, Test Accuracy: 63.70%, Time: 61.671s\n",
      "Epoch [63/150], Loss: 0.0773, Accuracy: 98.07%, Test Loss: 4.8976, Test Accuracy: 63.02%, Time: 63.708s\n",
      "Epoch [64/150], Loss: 0.0764, Accuracy: 98.07%, Test Loss: 5.0463, Test Accuracy: 63.03%, Time: 61.644s\n",
      "Epoch [65/150], Loss: 0.0763, Accuracy: 98.14%, Test Loss: 4.8819, Test Accuracy: 62.46%, Time: 63.096s\n",
      "Epoch [66/150], Loss: 0.0729, Accuracy: 98.32%, Test Loss: 5.0039, Test Accuracy: 62.81%, Time: 62.886s\n",
      "Epoch [67/150], Loss: 0.0680, Accuracy: 98.21%, Test Loss: 4.8639, Test Accuracy: 63.10%, Time: 62.840s\n",
      "Epoch [68/150], Loss: 0.0741, Accuracy: 98.25%, Test Loss: 5.3372, Test Accuracy: 62.35%, Time: 63.410s\n",
      "Epoch [69/150], Loss: 0.0661, Accuracy: 98.36%, Test Loss: 5.4385, Test Accuracy: 62.85%, Time: 62.439s\n",
      "Epoch [70/150], Loss: 0.0905, Accuracy: 97.88%, Test Loss: 5.2100, Test Accuracy: 62.76%, Time: 62.783s\n",
      "Epoch [71/150], Loss: 0.0646, Accuracy: 98.50%, Test Loss: 5.3952, Test Accuracy: 61.56%, Time: 62.220s\n",
      "Epoch [72/150], Loss: 0.0842, Accuracy: 98.02%, Test Loss: 5.3407, Test Accuracy: 62.55%, Time: 63.188s\n",
      "Epoch [73/150], Loss: 0.0753, Accuracy: 98.21%, Test Loss: 5.1609, Test Accuracy: 62.57%, Time: 62.716s\n",
      "Epoch [74/150], Loss: 0.0585, Accuracy: 98.61%, Test Loss: 5.7446, Test Accuracy: 63.85%, Time: 62.063s\n",
      "Epoch [75/150], Loss: 0.0693, Accuracy: 98.31%, Test Loss: 5.2746, Test Accuracy: 63.13%, Time: 62.059s\n",
      "Epoch [76/150], Loss: 0.0700, Accuracy: 98.42%, Test Loss: 5.4906, Test Accuracy: 62.98%, Time: 62.495s\n",
      "Epoch [77/150], Loss: 0.0902, Accuracy: 97.99%, Test Loss: 5.3056, Test Accuracy: 63.62%, Time: 61.331s\n",
      "Epoch [78/150], Loss: 0.0652, Accuracy: 98.53%, Test Loss: 5.5568, Test Accuracy: 63.10%, Time: 63.660s\n",
      "Epoch [79/150], Loss: 0.0789, Accuracy: 98.31%, Test Loss: 5.5809, Test Accuracy: 62.76%, Time: 65.413s\n",
      "Epoch [80/150], Loss: 0.0736, Accuracy: 98.31%, Test Loss: 6.2076, Test Accuracy: 63.01%, Time: 64.537s\n",
      "Epoch [81/150], Loss: 0.0804, Accuracy: 98.26%, Test Loss: 5.7310, Test Accuracy: 62.54%, Time: 62.835s\n",
      "Epoch [82/150], Loss: 0.0656, Accuracy: 98.53%, Test Loss: 6.0425, Test Accuracy: 62.51%, Time: 63.828s\n",
      "Epoch [83/150], Loss: 0.0700, Accuracy: 98.39%, Test Loss: 5.9431, Test Accuracy: 63.01%, Time: 62.178s\n",
      "Epoch [84/150], Loss: 0.0735, Accuracy: 98.38%, Test Loss: 6.6263, Test Accuracy: 63.07%, Time: 62.947s\n",
      "Epoch [85/150], Loss: 0.0783, Accuracy: 98.29%, Test Loss: 6.1712, Test Accuracy: 62.57%, Time: 63.148s\n",
      "Epoch [86/150], Loss: 0.0827, Accuracy: 98.31%, Test Loss: 5.7998, Test Accuracy: 63.62%, Time: 63.567s\n",
      "Epoch [87/150], Loss: 0.0564, Accuracy: 98.73%, Test Loss: 6.1943, Test Accuracy: 62.58%, Time: 63.235s\n",
      "Epoch [88/150], Loss: 0.0796, Accuracy: 98.28%, Test Loss: 6.6155, Test Accuracy: 63.04%, Time: 61.766s\n",
      "Epoch [89/150], Loss: 0.0793, Accuracy: 98.37%, Test Loss: 6.6898, Test Accuracy: 62.73%, Time: 62.148s\n",
      "Epoch [90/150], Loss: 0.0545, Accuracy: 98.77%, Test Loss: 7.0849, Test Accuracy: 62.54%, Time: 62.776s\n",
      "Epoch [91/150], Loss: 0.0860, Accuracy: 98.26%, Test Loss: 6.6052, Test Accuracy: 63.07%, Time: 61.784s\n",
      "Epoch [92/150], Loss: 0.0760, Accuracy: 98.42%, Test Loss: 6.6878, Test Accuracy: 62.50%, Time: 61.128s\n",
      "Epoch [93/150], Loss: 0.0736, Accuracy: 98.52%, Test Loss: 6.4224, Test Accuracy: 62.67%, Time: 60.896s\n",
      "Epoch [94/150], Loss: 0.0673, Accuracy: 98.65%, Test Loss: 6.9236, Test Accuracy: 62.13%, Time: 60.818s\n",
      "Epoch [95/150], Loss: 0.0667, Accuracy: 98.61%, Test Loss: 6.4795, Test Accuracy: 62.48%, Time: 62.127s\n",
      "Epoch [96/150], Loss: 0.0755, Accuracy: 98.50%, Test Loss: 6.4762, Test Accuracy: 62.44%, Time: 63.147s\n",
      "Epoch [97/150], Loss: 0.0803, Accuracy: 98.43%, Test Loss: 6.6012, Test Accuracy: 62.56%, Time: 62.664s\n",
      "Epoch [98/150], Loss: 0.0774, Accuracy: 98.44%, Test Loss: 6.9081, Test Accuracy: 63.42%, Time: 62.528s\n",
      "Epoch [99/150], Loss: 0.0759, Accuracy: 98.55%, Test Loss: 7.1298, Test Accuracy: 62.80%, Time: 61.613s\n",
      "Epoch [100/150], Loss: 0.0701, Accuracy: 98.65%, Test Loss: 7.2315, Test Accuracy: 62.66%, Time: 62.602s\n",
      "Epoch [101/150], Loss: 0.0657, Accuracy: 98.72%, Test Loss: 7.0566, Test Accuracy: 62.52%, Time: 62.252s\n",
      "Epoch [102/150], Loss: 0.0689, Accuracy: 98.65%, Test Loss: 7.2395, Test Accuracy: 62.28%, Time: 62.157s\n",
      "Epoch [103/150], Loss: 0.0879, Accuracy: 98.34%, Test Loss: 7.1703, Test Accuracy: 63.03%, Time: 62.955s\n",
      "Epoch [104/150], Loss: 0.0661, Accuracy: 98.75%, Test Loss: 7.1984, Test Accuracy: 61.81%, Time: 62.325s\n",
      "Epoch [105/150], Loss: 0.0828, Accuracy: 98.51%, Test Loss: 7.3192, Test Accuracy: 63.14%, Time: 61.695s\n",
      "Epoch [106/150], Loss: 0.0677, Accuracy: 98.75%, Test Loss: 7.9580, Test Accuracy: 63.10%, Time: 62.557s\n",
      "Epoch [107/150], Loss: 0.0916, Accuracy: 98.38%, Test Loss: 7.4478, Test Accuracy: 63.16%, Time: 61.530s\n",
      "Epoch [108/150], Loss: 0.0723, Accuracy: 98.67%, Test Loss: 7.4621, Test Accuracy: 63.31%, Time: 61.125s\n",
      "Epoch [109/150], Loss: 0.0696, Accuracy: 98.83%, Test Loss: 7.5269, Test Accuracy: 62.50%, Time: 61.261s\n",
      "Epoch [110/150], Loss: 0.0785, Accuracy: 98.54%, Test Loss: 7.6888, Test Accuracy: 62.43%, Time: 61.527s\n",
      "Epoch [111/150], Loss: 0.0644, Accuracy: 98.81%, Test Loss: 7.8294, Test Accuracy: 63.17%, Time: 61.802s\n",
      "Epoch [112/150], Loss: 0.0697, Accuracy: 98.71%, Test Loss: 8.3713, Test Accuracy: 62.99%, Time: 61.870s\n",
      "Epoch [113/150], Loss: 0.0826, Accuracy: 98.53%, Test Loss: 7.9219, Test Accuracy: 62.61%, Time: 61.115s\n",
      "Epoch [114/150], Loss: 0.0744, Accuracy: 98.74%, Test Loss: 8.0112, Test Accuracy: 63.24%, Time: 61.786s\n",
      "Epoch [115/150], Loss: 0.0837, Accuracy: 98.56%, Test Loss: 8.1847, Test Accuracy: 63.36%, Time: 61.684s\n",
      "Epoch [116/150], Loss: 0.0652, Accuracy: 98.85%, Test Loss: 8.3878, Test Accuracy: 62.67%, Time: 61.646s\n",
      "Epoch [117/150], Loss: 0.0750, Accuracy: 98.65%, Test Loss: 8.3537, Test Accuracy: 62.69%, Time: 62.042s\n",
      "Epoch [118/150], Loss: 0.0946, Accuracy: 98.51%, Test Loss: 8.2697, Test Accuracy: 63.32%, Time: 61.718s\n",
      "Epoch [119/150], Loss: 0.0645, Accuracy: 98.82%, Test Loss: 8.2925, Test Accuracy: 62.90%, Time: 61.063s\n",
      "Epoch [120/150], Loss: 0.0653, Accuracy: 98.81%, Test Loss: 8.6641, Test Accuracy: 62.56%, Time: 60.346s\n",
      "Epoch [121/150], Loss: 0.0823, Accuracy: 98.59%, Test Loss: 8.2868, Test Accuracy: 63.27%, Time: 61.383s\n",
      "Epoch [122/150], Loss: 0.0849, Accuracy: 98.57%, Test Loss: 8.9364, Test Accuracy: 62.36%, Time: 61.670s\n",
      "Epoch [123/150], Loss: 0.0771, Accuracy: 98.67%, Test Loss: 8.6778, Test Accuracy: 62.93%, Time: 62.553s\n",
      "Epoch [124/150], Loss: 0.0713, Accuracy: 98.87%, Test Loss: 8.3094, Test Accuracy: 62.27%, Time: 62.391s\n",
      "Epoch [125/150], Loss: 0.0741, Accuracy: 98.69%, Test Loss: 9.4517, Test Accuracy: 61.95%, Time: 62.571s\n",
      "Epoch [126/150], Loss: 0.0791, Accuracy: 98.70%, Test Loss: 8.5773, Test Accuracy: 62.87%, Time: 61.939s\n",
      "Epoch [127/150], Loss: 0.0688, Accuracy: 98.94%, Test Loss: 9.1753, Test Accuracy: 62.34%, Time: 63.069s\n",
      "Epoch [128/150], Loss: 0.0920, Accuracy: 98.61%, Test Loss: 9.5941, Test Accuracy: 63.12%, Time: 61.653s\n",
      "Epoch [129/150], Loss: 0.0881, Accuracy: 98.61%, Test Loss: 10.4288, Test Accuracy: 63.13%, Time: 61.864s\n",
      "Epoch [130/150], Loss: 0.0979, Accuracy: 98.60%, Test Loss: 9.1778, Test Accuracy: 62.54%, Time: 61.409s\n",
      "Epoch [131/150], Loss: 0.0807, Accuracy: 98.79%, Test Loss: 9.3903, Test Accuracy: 62.84%, Time: 61.679s\n",
      "Epoch [132/150], Loss: 0.0580, Accuracy: 99.00%, Test Loss: 9.7169, Test Accuracy: 63.06%, Time: 61.116s\n",
      "Epoch [133/150], Loss: 0.0851, Accuracy: 98.75%, Test Loss: 10.1524, Test Accuracy: 61.87%, Time: 61.852s\n",
      "Epoch [134/150], Loss: 0.0917, Accuracy: 98.66%, Test Loss: 9.7666, Test Accuracy: 63.19%, Time: 59.920s\n",
      "Epoch [135/150], Loss: 0.0705, Accuracy: 98.97%, Test Loss: 9.7283, Test Accuracy: 62.39%, Time: 61.342s\n",
      "Epoch [136/150], Loss: 0.0862, Accuracy: 98.74%, Test Loss: 9.8908, Test Accuracy: 62.94%, Time: 61.337s\n",
      "Epoch [137/150], Loss: 0.0608, Accuracy: 99.07%, Test Loss: 9.6501, Test Accuracy: 62.75%, Time: 61.031s\n",
      "Epoch [138/150], Loss: 0.0793, Accuracy: 98.82%, Test Loss: 10.2381, Test Accuracy: 62.77%, Time: 61.422s\n",
      "Epoch [139/150], Loss: 0.0885, Accuracy: 98.65%, Test Loss: 10.6989, Test Accuracy: 62.81%, Time: 61.805s\n",
      "Epoch [140/150], Loss: 0.0770, Accuracy: 98.87%, Test Loss: 10.4224, Test Accuracy: 62.43%, Time: 62.989s\n",
      "Epoch [141/150], Loss: 0.0871, Accuracy: 98.72%, Test Loss: 10.1619, Test Accuracy: 62.33%, Time: 62.173s\n",
      "Epoch [142/150], Loss: 0.0713, Accuracy: 98.96%, Test Loss: 10.5900, Test Accuracy: 62.90%, Time: 61.117s\n",
      "Epoch [143/150], Loss: 0.0940, Accuracy: 98.66%, Test Loss: 10.2426, Test Accuracy: 63.02%, Time: 61.468s\n",
      "Epoch [144/150], Loss: 0.0770, Accuracy: 98.99%, Test Loss: 10.5727, Test Accuracy: 63.22%, Time: 61.832s\n",
      "Epoch [145/150], Loss: 0.0790, Accuracy: 98.89%, Test Loss: 10.7656, Test Accuracy: 62.15%, Time: 60.593s\n",
      "Epoch [146/150], Loss: 0.0920, Accuracy: 98.80%, Test Loss: 10.6545, Test Accuracy: 62.71%, Time: 61.961s\n",
      "Epoch [147/150], Loss: 0.0737, Accuracy: 98.95%, Test Loss: 11.0444, Test Accuracy: 62.51%, Time: 62.847s\n",
      "Epoch [148/150], Loss: 0.0834, Accuracy: 98.81%, Test Loss: 10.6542, Test Accuracy: 63.38%, Time: 62.813s\n",
      "Epoch [149/150], Loss: 0.0853, Accuracy: 98.86%, Test Loss: 10.2200, Test Accuracy: 62.55%, Time: 62.638s\n",
      "Epoch [150/150], Loss: 0.0757, Accuracy: 98.97%, Test Loss: 11.1177, Test Accuracy: 61.70%, Time: 61.496s\n"
     ]
    }
   ],
   "source": [
    "# train\n",
    "for epoch in range(EPOCHS):\n",
    "    start_time = time.time()\n",
    "    running_loss = 0.0\n",
    "    running_correct = 0   # to track number of correct predictions\n",
    "    total = 0             # to track total number of samples\n",
    "\n",
    "    for i, (inputs, labels) in enumerate(trainloader, 0):\n",
    "        # Move inputs and labels to the device\n",
    "        inputs, labels = inputs.to(device), labels.to(device)\n",
    "\n",
    "        # Zero the parameter gradients\n",
    "        optimizer.zero_grad()\n",
    "\n",
    "        # Forward pass\n",
    "        outputs = model(inputs)\n",
    "        loss = criterion(outputs, labels)\n",
    "        running_loss += loss.item()\n",
    "\n",
    "        # Determine class predictions and track accuracy\n",
    "        _, predicted = torch.max(outputs.data, 1)\n",
    "        total += labels.size(0)\n",
    "        running_correct += (predicted == labels).sum().item()\n",
    "\n",
    "        # Backward pass and optimization\n",
    "        loss.backward()\n",
    "        optimizer.step()\n",
    "\n",
    "    epoch_accuracy = 100 * running_correct / total\n",
    "    epoch_loss = running_loss / (i + 1)\n",
    "    test_loss, test_accuracy = evaluate(model, testloader, criterion)\n",
    "    print(f\"Epoch [{epoch + 1}/{EPOCHS}], Loss: {epoch_loss:.4f}, Accuracy: {epoch_accuracy:.2f}%, Test Loss: {test_loss:.4f}, Test Accuracy: {test_accuracy:.2f}%, Time: {time.time() - start_time:.3f}s\")\n",
    "\n",
    "    # save for plot\n",
    "    train_losses.append(epoch_loss)\n",
    "    train_accuracies.append(epoch_accuracy)\n",
    "    test_losses.append(test_loss)\n",
    "    test_accuracies.append(test_accuracy)"
   ]
  },
  {
   "cell_type": "markdown",
   "id": "aaf5179a",
   "metadata": {
    "id": "vzDA7QbbluVY",
    "papermill": {
     "duration": 0.023895,
     "end_time": "2024-07-09T10:44:43.864410",
     "exception": false,
     "start_time": "2024-07-09T10:44:43.840515",
     "status": "completed"
    },
    "tags": []
   },
   "source": [
    "## 6. Inference"
   ]
  },
  {
   "cell_type": "markdown",
   "id": "1a64d6dc",
   "metadata": {
    "id": "kdPXIboQmA0U",
    "papermill": {
     "duration": 0.025075,
     "end_time": "2024-07-09T10:44:43.913693",
     "exception": false,
     "start_time": "2024-07-09T10:44:43.888618",
     "status": "completed"
    },
    "tags": []
   },
   "source": [
    "### 6.1. Loss Visualization"
   ]
  },
  {
   "cell_type": "code",
   "execution_count": 20,
   "id": "6fb8ba10",
   "metadata": {
    "execution": {
     "iopub.execute_input": "2024-07-09T10:44:43.964084Z",
     "iopub.status.busy": "2024-07-09T10:44:43.963216Z",
     "iopub.status.idle": "2024-07-09T10:44:44.408219Z",
     "shell.execute_reply": "2024-07-09T10:44:44.407162Z"
    },
    "id": "_LN5ErfolFuA",
    "papermill": {
     "duration": 0.473109,
     "end_time": "2024-07-09T10:44:44.410912",
     "exception": false,
     "start_time": "2024-07-09T10:44:43.937803",
     "status": "completed"
    },
    "tags": []
   },
   "outputs": [
    {
     "data": {
      "text/plain": [
       "<matplotlib.legend.Legend at 0x79d4a885e410>"
      ]
     },
     "execution_count": 20,
     "metadata": {},
     "output_type": "execute_result"
    },
    {
     "data": {
      "image/png": "[encoded data removed]",
      "text/plain": [
       "<Figure size 640x480 with 1 Axes>"
      ]
     },
     "metadata": {},
     "output_type": "display_data"
    }
   ],
   "source": [
    "plt.plot(train_losses, label='train_losses')\n",
    "plt.plot(test_losses, label='test_losses')\n",
    "plt.legend()"
   ]
  },
  {
   "cell_type": "markdown",
   "id": "e264cc7b",
   "metadata": {
    "id": "c0s_IF0u1rNp",
    "papermill": {
     "duration": 0.024902,
     "end_time": "2024-07-09T10:44:44.461420",
     "exception": false,
     "start_time": "2024-07-09T10:44:44.436518",
     "status": "completed"
    },
    "tags": []
   },
   "source": [
    "### 6.2. Accuracy Visualization"
   ]
  },
  {
   "cell_type": "code",
   "execution_count": 21,
   "id": "c3660ec5",
   "metadata": {
    "execution": {
     "iopub.execute_input": "2024-07-09T10:44:44.516105Z",
     "iopub.status.busy": "2024-07-09T10:44:44.515772Z",
     "iopub.status.idle": "2024-07-09T10:44:44.817014Z",
     "shell.execute_reply": "2024-07-09T10:44:44.816105Z"
    },
    "id": "Kd-hFUdy1uh3",
    "papermill": {
     "duration": 0.332236,
     "end_time": "2024-07-09T10:44:44.819431",
     "exception": false,
     "start_time": "2024-07-09T10:44:44.487195",
     "status": "completed"
    },
    "tags": []
   },
   "outputs": [
    {
     "data": {
      "text/plain": [
       "<matplotlib.legend.Legend at 0x79d4a8799ae0>"
      ]
     },
     "execution_count": 21,
     "metadata": {},
     "output_type": "execute_result"
    },
    {
     "data": {
      "image/png": "[encoded data removed]",
      "text/plain": [
       "<Figure size 640x480 with 1 Axes>"
      ]
     },
     "metadata": {},
     "output_type": "display_data"
    }
   ],
   "source": [
    "plt.plot(train_accuracies, label='train_accuracy')\n",
    "plt.plot(test_accuracies, label='test_accuracy')\n",
    "plt.legend()"
   ]
  },
  {
   "cell_type": "markdown",
   "id": "f90aa0e3",
   "metadata": {
    "id": "J5ySonVfdkox",
    "papermill": {
     "duration": 0.02534,
     "end_time": "2024-07-09T10:44:44.870766",
     "exception": false,
     "start_time": "2024-07-09T10:44:44.845426",
     "status": "completed"
    },
    "tags": []
   },
   "source": [
    "### 6.3. Best Accuracy"
   ]
  },
  {
   "cell_type": "code",
   "execution_count": 22,
   "id": "e5560450",
   "metadata": {
    "execution": {
     "iopub.execute_input": "2024-07-09T10:44:44.923907Z",
     "iopub.status.busy": "2024-07-09T10:44:44.923601Z",
     "iopub.status.idle": "2024-07-09T10:44:44.930594Z",
     "shell.execute_reply": "2024-07-09T10:44:44.929667Z"
    },
    "id": "xLAuChgx1yaS",
    "papermill": {
     "duration": 0.036898,
     "end_time": "2024-07-09T10:44:44.932923",
     "exception": false,
     "start_time": "2024-07-09T10:44:44.896025",
     "status": "completed"
    },
    "tags": []
   },
   "outputs": [
    {
     "name": "stdout",
     "output_type": "stream",
     "text": [
      "\n",
      "Best epoch: 7 with test accuracy: 66.24%\n",
      "\n",
      "Best epoch: 137 with train accuracy: 99.07%\n"
     ]
    }
   ],
   "source": [
    "# the best accuracy\n",
    "best_epoch_test = np.argmax(test_accuracies)\n",
    "print(f\"\\nBest epoch: {best_epoch_test + 1} with test accuracy: {test_accuracies[best_epoch_test]:.2f}%\")\n",
    "best_epoch_train = np.argmax(train_accuracies)\n",
    "print(f\"\\nBest epoch: {best_epoch_train + 1} with train accuracy: {train_accuracies[best_epoch_train]:.2f}%\")"
   ]
  },
  {
   "cell_type": "markdown",
   "id": "bf41f7ab",
   "metadata": {
    "id": "rchetQ3DK6Lk",
    "papermill": {
     "duration": 0.025813,
     "end_time": "2024-07-09T10:44:44.990215",
     "exception": false,
     "start_time": "2024-07-09T10:44:44.964402",
     "status": "completed"
    },
    "tags": []
   },
   "source": [
    "## 7. Conclusion\n",
    "- **Train Accuracy**: 99.07%\n",
    "- **Test Accuracy**: 66.24%"
   ]
  }
 ],
 "metadata": {
  "accelerator": "GPU",
  "colab": {
   "gpuType": "T4",
   "provenance": []
  },
  "kaggle": {
   "accelerator": "gpu",
   "dataSources": [],
   "dockerImageVersionId": 30733,
   "isGpuEnabled": true,
   "isInternetEnabled": true,
   "language": "python",
   "sourceType": "notebook"
  },
  "kernelspec": {
   "display_name": "Python 3",
   "language": "python",
   "name": "python3"
  },
  "language_info": {
   "codemirror_mode": {
    "name": "ipython",
    "version": 3
   },
   "file_extension": ".py",
   "mimetype": "text/x-python",
   "name": "python",
   "nbconvert_exporter": "python",
   "pygments_lexer": "ipython3",
   "version": "3.10.13"
  },
  "papermill": {
   "default_parameters": {},
   "duration": 9387.333566,
   "end_time": "2024-07-09T10:44:46.456606",
   "environment_variables": {},
   "exception": null,
   "input_path": "__notebook__.ipynb",
   "output_path": "__notebook__.ipynb",
   "parameters": {},
   "start_time": "2024-07-09T08:08:19.123040",
   "version": "2.5.0"
  }
 },
 "nbformat": 4,
 "nbformat_minor": 5
}
