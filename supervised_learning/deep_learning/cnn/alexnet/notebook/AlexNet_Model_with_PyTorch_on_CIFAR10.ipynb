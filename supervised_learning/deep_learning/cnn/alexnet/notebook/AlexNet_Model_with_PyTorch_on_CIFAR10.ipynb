{
 "cells": [
  {
   "cell_type": "markdown",
   "id": "d098dc94",
   "metadata": {
    "id": "IwymkzhzYoPa",
    "papermill": {
     "duration": 0.010285,
     "end_time": "2024-07-09T08:22:11.077076",
     "exception": false,
     "start_time": "2024-07-09T08:22:11.066791",
     "status": "completed"
    },
    "tags": []
   },
   "source": [
    "# AlexNet PyTorch with CIFAR10\n",
    "- **Task**: Classification\n",
    "- **Data**: CIFAR10 Dataset\n",
    "- **Model**: AlexNet\n",
    "- **Loss function**: Cross Entropy Loss\n",
    "- **Optimization**: Adam"
   ]
  },
  {
   "cell_type": "code",
   "execution_count": 1,
   "id": "56d24755",
   "metadata": {
    "execution": {
     "iopub.execute_input": "2024-07-09T08:22:11.098241Z",
     "iopub.status.busy": "2024-07-09T08:22:11.097857Z",
     "iopub.status.idle": "2024-07-09T08:22:24.942694Z",
     "shell.execute_reply": "2024-07-09T08:22:24.941682Z"
    },
    "executionInfo": {
     "elapsed": 19243,
     "status": "ok",
     "timestamp": 1720512632031,
     "user": {
      "displayName": "Thịnh Nguyễn",
      "userId": "10296234764254197383"
     },
     "user_tz": -420
    },
    "id": "fgdvxoFEsmv6",
    "outputId": "26917e1d-767b-4a48-ac05-e898f366a744",
    "papermill": {
     "duration": 13.858064,
     "end_time": "2024-07-09T08:22:24.945144",
     "exception": false,
     "start_time": "2024-07-09T08:22:11.087080",
     "status": "completed"
    },
    "tags": []
   },
   "outputs": [],
   "source": [
    "!pip install -q watermark"
   ]
  },
  {
   "cell_type": "code",
   "execution_count": 2,
   "id": "1cb62aab",
   "metadata": {
    "execution": {
     "iopub.execute_input": "2024-07-09T08:22:24.967114Z",
     "iopub.status.busy": "2024-07-09T08:22:24.966764Z",
     "iopub.status.idle": "2024-07-09T08:22:28.471586Z",
     "shell.execute_reply": "2024-07-09T08:22:28.470646Z"
    },
    "executionInfo": {
     "elapsed": 3318,
     "status": "ok",
     "timestamp": 1720512635343,
     "user": {
      "displayName": "Thịnh Nguyễn",
      "userId": "10296234764254197383"
     },
     "user_tz": -420
    },
    "id": "Ao8nws0Unz3B",
    "outputId": "91ee84d0-c751-4119-ae1a-1b0f9a57525a",
    "papermill": {
     "duration": 3.51841,
     "end_time": "2024-07-09T08:22:28.473701",
     "exception": false,
     "start_time": "2024-07-09T08:22:24.955291",
     "status": "completed"
    },
    "tags": []
   },
   "outputs": [
    {
     "name": "stdout",
     "output_type": "stream",
     "text": [
      "Author: Nguyen Van Sy Thinh\n",
      "\n",
      "Python implementation: CPython\n",
      "Python version       : 3.10.13\n",
      "IPython version      : 8.20.0\n",
      "\n",
      "torch: 2.1.2\n",
      "\n"
     ]
    }
   ],
   "source": [
    "%load_ext watermark\n",
    "%watermark -a 'Nguyen Van Sy Thinh' -v -p torch"
   ]
  },
  {
   "cell_type": "markdown",
   "id": "a3f8868f",
   "metadata": {
    "id": "k4Fm8LFQYxJi",
    "papermill": {
     "duration": 0.010738,
     "end_time": "2024-07-09T08:22:28.494704",
     "exception": false,
     "start_time": "2024-07-09T08:22:28.483966",
     "status": "completed"
    },
    "tags": []
   },
   "source": [
    "## 1. Import Library"
   ]
  },
  {
   "cell_type": "code",
   "execution_count": 3,
   "id": "9c768ee5",
   "metadata": {
    "execution": {
     "iopub.execute_input": "2024-07-09T08:22:28.516760Z",
     "iopub.status.busy": "2024-07-09T08:22:28.515932Z",
     "iopub.status.idle": "2024-07-09T08:22:40.788467Z",
     "shell.execute_reply": "2024-07-09T08:22:40.787240Z"
    },
    "papermill": {
     "duration": 12.286149,
     "end_time": "2024-07-09T08:22:40.791024",
     "exception": false,
     "start_time": "2024-07-09T08:22:28.504875",
     "status": "completed"
    },
    "tags": []
   },
   "outputs": [],
   "source": [
    "!pip install -q torchsummary"
   ]
  },
  {
   "cell_type": "code",
   "execution_count": 4,
   "id": "17052d9e",
   "metadata": {
    "execution": {
     "iopub.execute_input": "2024-07-09T08:22:40.813640Z",
     "iopub.status.busy": "2024-07-09T08:22:40.812789Z",
     "iopub.status.idle": "2024-07-09T08:22:42.352320Z",
     "shell.execute_reply": "2024-07-09T08:22:42.351331Z"
    },
    "executionInfo": {
     "elapsed": 2359,
     "status": "ok",
     "timestamp": 1720512637698,
     "user": {
      "displayName": "Thịnh Nguyễn",
      "userId": "10296234764254197383"
     },
     "user_tz": -420
    },
    "id": "hdWQADB0ZFYP",
    "papermill": {
     "duration": 1.553343,
     "end_time": "2024-07-09T08:22:42.354719",
     "exception": false,
     "start_time": "2024-07-09T08:22:40.801376",
     "status": "completed"
    },
    "tags": []
   },
   "outputs": [],
   "source": [
    "import torch\n",
    "import torchvision.transforms as transforms\n",
    "import torch.nn as nn\n",
    "import torch.optim as optim\n",
    "import torch.nn.functional as F\n",
    "\n",
    "import numpy as np\n",
    "import matplotlib.pyplot as plt\n",
    "import time\n",
    "\n",
    "import torchvision\n",
    "from torchvision.datasets import CIFAR10\n",
    "from torch.utils.data import DataLoader\n",
    "from torch.optim import Adam\n",
    "from torchsummary import summary\n",
    "\n",
    "# Check if GPU is available\n",
    "device = torch.device(\"cuda:0\" if torch.cuda.is_available() else \"cpu\")"
   ]
  },
  {
   "cell_type": "markdown",
   "id": "5b5281cf",
   "metadata": {
    "id": "DkYKMYX8YygA",
    "papermill": {
     "duration": 0.009796,
     "end_time": "2024-07-09T08:22:42.374886",
     "exception": false,
     "start_time": "2024-07-09T08:22:42.365090",
     "status": "completed"
    },
    "tags": []
   },
   "source": [
    "## 2. Data"
   ]
  },
  {
   "cell_type": "markdown",
   "id": "91dc7081",
   "metadata": {
    "id": "sXZrwCVrZIWw",
    "papermill": {
     "duration": 0.009647,
     "end_time": "2024-07-09T08:22:42.394411",
     "exception": false,
     "start_time": "2024-07-09T08:22:42.384764",
     "status": "completed"
    },
    "tags": []
   },
   "source": [
    "### 2.1. CIFAR10 Dataset"
   ]
  },
  {
   "cell_type": "markdown",
   "id": "44830bd3",
   "metadata": {
    "id": "pX21MHOBtCXc",
    "papermill": {
     "duration": 0.009707,
     "end_time": "2024-07-09T08:22:42.414068",
     "exception": false,
     "start_time": "2024-07-09T08:22:42.404361",
     "status": "completed"
    },
    "tags": []
   },
   "source": [
    "#### 2.1.1. Load dataset to compute Mean and Std to Normalize Z-score"
   ]
  },
  {
   "cell_type": "code",
   "execution_count": 5,
   "id": "43ce692a",
   "metadata": {
    "execution": {
     "iopub.execute_input": "2024-07-09T08:22:42.435565Z",
     "iopub.status.busy": "2024-07-09T08:22:42.434930Z",
     "iopub.status.idle": "2024-07-09T08:23:19.240971Z",
     "shell.execute_reply": "2024-07-09T08:23:19.239827Z"
    },
    "executionInfo": {
     "elapsed": 32290,
     "status": "ok",
     "timestamp": 1720512669982,
     "user": {
      "displayName": "Thịnh Nguyễn",
      "userId": "10296234764254197383"
     },
     "user_tz": -420
    },
    "id": "wZlmQGmpYPcr",
    "outputId": "d016e924-fe88-4f8b-8afd-34492fc0d755",
    "papermill": {
     "duration": 36.836446,
     "end_time": "2024-07-09T08:23:19.260477",
     "exception": false,
     "start_time": "2024-07-09T08:22:42.424031",
     "status": "completed"
    },
    "tags": []
   },
   "outputs": [
    {
     "name": "stdout",
     "output_type": "stream",
     "text": [
      "Downloading https://www.cs.toronto.edu/~kriz/cifar-10-python.tar.gz to data/cifar-10-python.tar.gz\n"
     ]
    },
    {
     "name": "stderr",
     "output_type": "stream",
     "text": [
      "100%|██████████| 170498071/170498071 [00:15<00:00, 11176097.73it/s]\n"
     ]
    },
    {
     "name": "stdout",
     "output_type": "stream",
     "text": [
      "Extracting data/cifar-10-python.tar.gz to data\n",
      "tensor([0.4914, 0.4822, 0.4465]) tensor([0.2823, 0.2783, 0.2990])\n"
     ]
    }
   ],
   "source": [
    "# Load dataset with only the ToTensor transform to compute mean and std\n",
    "compute_transform = transforms.Compose([transforms.ToTensor()])\n",
    "dataset = CIFAR10(root='data', train=True, transform=compute_transform, download=True)\n",
    "loader = torch.utils.data.DataLoader(dataset, batch_size=len(dataset), shuffle=False, num_workers=2)\n",
    "\n",
    "mean = 0.0\n",
    "for images, _ in loader:\n",
    "    batch_samples = images.size(0)  # Batch size\n",
    "    images = images.view(batch_samples, images.size(1), -1)\n",
    "    mean += images.mean(2).sum(0)\n",
    "mean = mean / len(loader.dataset)\n",
    "\n",
    "variance = 0.0\n",
    "for images, _ in loader:\n",
    "    batch_samples = images.size(0)\n",
    "    images = images.view(batch_samples, images.size(1), -1)\n",
    "    variance += ((images - mean.unsqueeze(1))**2).sum([0,2])\n",
    "std = torch.sqrt(variance / (len(loader.dataset)*28*28))\n",
    "\n",
    "print(mean, std)"
   ]
  },
  {
   "cell_type": "markdown",
   "id": "9b55a049",
   "metadata": {
    "id": "exa_gOm0tKJF",
    "papermill": {
     "duration": 0.017324,
     "end_time": "2024-07-09T08:23:19.294968",
     "exception": false,
     "start_time": "2024-07-09T08:23:19.277644",
     "status": "completed"
    },
    "tags": []
   },
   "source": [
    "#### 2.1.2. Load CIFAR10 Dataset"
   ]
  },
  {
   "cell_type": "code",
   "execution_count": 6,
   "id": "d44f0490",
   "metadata": {
    "execution": {
     "iopub.execute_input": "2024-07-09T08:23:19.331081Z",
     "iopub.status.busy": "2024-07-09T08:23:19.330728Z",
     "iopub.status.idle": "2024-07-09T08:23:20.897708Z",
     "shell.execute_reply": "2024-07-09T08:23:20.896725Z"
    },
    "executionInfo": {
     "elapsed": 1557,
     "status": "ok",
     "timestamp": 1720512671534,
     "user": {
      "displayName": "Thịnh Nguyễn",
      "userId": "10296234764254197383"
     },
     "user_tz": -420
    },
    "id": "0ZBIxYHztOu-",
    "outputId": "27ef22b2-9273-45be-93dd-0ef9cd319457",
    "papermill": {
     "duration": 1.588126,
     "end_time": "2024-07-09T08:23:20.900165",
     "exception": false,
     "start_time": "2024-07-09T08:23:19.312039",
     "status": "completed"
    },
    "tags": []
   },
   "outputs": [
    {
     "name": "stdout",
     "output_type": "stream",
     "text": [
      "Files already downloaded and verified\n",
      "Files already downloaded and verified\n"
     ]
    }
   ],
   "source": [
    "batch_size = 64\n",
    "# Load CIFAR10 dataset\n",
    "transform = transforms.Compose(\n",
    "    [\n",
    "        transforms.Resize((224,224)),\n",
    "        transforms.ToTensor(),\n",
    "        transforms.Normalize((0.4914, 0.4822, 0.4465), (0.2823, 0.2783, 0.2990))])\n",
    "\n",
    "trainset = CIFAR10(root='./data', train=True, download=True, transform=transform)\n",
    "testset = CIFAR10(root='./data', train=False, download=True, transform=transform)\n",
    "\n",
    "trainloader = DataLoader(trainset, batch_size=batch_size, shuffle=True, num_workers=2)\n",
    "testloader = DataLoader(testset, batch_size=batch_size, shuffle=False, num_workers=2)"
   ]
  },
  {
   "cell_type": "markdown",
   "id": "1456f05d",
   "metadata": {
    "id": "zu2xayHAZ6px",
    "papermill": {
     "duration": 0.017332,
     "end_time": "2024-07-09T08:23:20.935354",
     "exception": false,
     "start_time": "2024-07-09T08:23:20.918022",
     "status": "completed"
    },
    "tags": []
   },
   "source": [
    "### 2.2. Data Information"
   ]
  },
  {
   "cell_type": "code",
   "execution_count": 7,
   "id": "171bc0a1",
   "metadata": {
    "execution": {
     "iopub.execute_input": "2024-07-09T08:23:20.971897Z",
     "iopub.status.busy": "2024-07-09T08:23:20.971135Z",
     "iopub.status.idle": "2024-07-09T08:23:20.975734Z",
     "shell.execute_reply": "2024-07-09T08:23:20.974924Z"
    },
    "executionInfo": {
     "elapsed": 16,
     "status": "ok",
     "timestamp": 1720512671534,
     "user": {
      "displayName": "Thịnh Nguyễn",
      "userId": "10296234764254197383"
     },
     "user_tz": -420
    },
    "id": "NKGIXwVkZLJl",
    "outputId": "5e3e2e85-7f81-4553-9273-d05653bfa515",
    "papermill": {
     "duration": 0.025108,
     "end_time": "2024-07-09T08:23:20.977828",
     "exception": false,
     "start_time": "2024-07-09T08:23:20.952720",
     "status": "completed"
    },
    "tags": []
   },
   "outputs": [
    {
     "name": "stdout",
     "output_type": "stream",
     "text": [
      "Number of training samples: 50000\n",
      "Number of testing samples: 10000\n"
     ]
    }
   ],
   "source": [
    "print(f\"Number of training samples: {len(trainset)}\")\n",
    "print(f\"Number of testing samples: {len(testset)}\")"
   ]
  },
  {
   "cell_type": "code",
   "execution_count": 8,
   "id": "5c27ddfd",
   "metadata": {
    "execution": {
     "iopub.execute_input": "2024-07-09T08:23:21.013967Z",
     "iopub.status.busy": "2024-07-09T08:23:21.013673Z",
     "iopub.status.idle": "2024-07-09T08:23:21.025468Z",
     "shell.execute_reply": "2024-07-09T08:23:21.024539Z"
    },
    "executionInfo": {
     "elapsed": 5,
     "status": "ok",
     "timestamp": 1720512671534,
     "user": {
      "displayName": "Thịnh Nguyễn",
      "userId": "10296234764254197383"
     },
     "user_tz": -420
    },
    "id": "mEchSn6wZw3d",
    "outputId": "5aa28de3-40dc-415f-e34a-4cada4b3f236",
    "papermill": {
     "duration": 0.03196,
     "end_time": "2024-07-09T08:23:21.027437",
     "exception": false,
     "start_time": "2024-07-09T08:23:20.995477",
     "status": "completed"
    },
    "tags": []
   },
   "outputs": [
    {
     "name": "stdout",
     "output_type": "stream",
     "text": [
      "Datatype of the 1st training sample: torch.FloatTensor\n",
      "Size of the 1st training sample: torch.Size([3, 224, 224])\n"
     ]
    }
   ],
   "source": [
    "print(f\"Datatype of the 1st training sample: {trainset[0][0].type()}\")\n",
    "print(f\"Size of the 1st training sample: {testset[0][0].size()}\")"
   ]
  },
  {
   "cell_type": "markdown",
   "id": "a12ea79b",
   "metadata": {
    "id": "VMYEKrRLZ8ht",
    "papermill": {
     "duration": 0.01723,
     "end_time": "2024-07-09T08:23:21.062236",
     "exception": false,
     "start_time": "2024-07-09T08:23:21.045006",
     "status": "completed"
    },
    "tags": []
   },
   "source": [
    "### 2.3. Data Visualization"
   ]
  },
  {
   "cell_type": "code",
   "execution_count": 9,
   "id": "12275f11",
   "metadata": {
    "execution": {
     "iopub.execute_input": "2024-07-09T08:23:21.098558Z",
     "iopub.status.busy": "2024-07-09T08:23:21.098259Z",
     "iopub.status.idle": "2024-07-09T08:23:21.826560Z",
     "shell.execute_reply": "2024-07-09T08:23:21.825516Z"
    },
    "executionInfo": {
     "elapsed": 1149,
     "status": "ok",
     "timestamp": 1720512672680,
     "user": {
      "displayName": "Thịnh Nguyễn",
      "userId": "10296234764254197383"
     },
     "user_tz": -420
    },
    "id": "mZMW-Ox-Z9pv",
    "outputId": "483f18dc-a5a3-48b6-ebd4-d7a28a059404",
    "papermill": {
     "duration": 0.74913,
     "end_time": "2024-07-09T08:23:21.828998",
     "exception": false,
     "start_time": "2024-07-09T08:23:21.079868",
     "status": "completed"
    },
    "tags": []
   },
   "outputs": [
    {
     "data": {
      "image/png": "[encoded data removed]",
      "text/plain": [
       "<Figure size 640x480 with 1 Axes>"
      ]
     },
     "metadata": {},
     "output_type": "display_data"
    }
   ],
   "source": [
    "import matplotlib.pyplot as plt\n",
    "import numpy as np\n",
    "\n",
    "# Function to display the images\n",
    "def imshow(img):\n",
    "    img = img*0.5 + 0.5\n",
    "    np_img = img.numpy()\n",
    "    plt.imshow(np.transpose(np_img, (1, 2, 0)))\n",
    "    plt.show()\n",
    "\n",
    "for i, (images, labels) in enumerate(trainloader, 0):\n",
    "    # Plot some images\n",
    "    imshow(torchvision.utils.make_grid(images[:8]))  # Display 8 images from the batch\n",
    "    break"
   ]
  },
  {
   "cell_type": "markdown",
   "id": "8bb39882",
   "metadata": {
    "id": "32MkQnmuaZT4",
    "papermill": {
     "duration": 0.018592,
     "end_time": "2024-07-09T08:23:21.866932",
     "exception": false,
     "start_time": "2024-07-09T08:23:21.848340",
     "status": "completed"
    },
    "tags": []
   },
   "source": [
    "## 3. Model"
   ]
  },
  {
   "cell_type": "code",
   "execution_count": 10,
   "id": "caf140d7",
   "metadata": {
    "execution": {
     "iopub.execute_input": "2024-07-09T08:23:21.906811Z",
     "iopub.status.busy": "2024-07-09T08:23:21.906497Z",
     "iopub.status.idle": "2024-07-09T08:23:21.918265Z",
     "shell.execute_reply": "2024-07-09T08:23:21.917515Z"
    },
    "executionInfo": {
     "elapsed": 370,
     "status": "ok",
     "timestamp": 1720512827315,
     "user": {
      "displayName": "Thịnh Nguyễn",
      "userId": "10296234764254197383"
     },
     "user_tz": -420
    },
    "id": "-k6pAeghaaGv",
    "papermill": {
     "duration": 0.033633,
     "end_time": "2024-07-09T08:23:21.920200",
     "exception": false,
     "start_time": "2024-07-09T08:23:21.886567",
     "status": "completed"
    },
    "tags": []
   },
   "outputs": [],
   "source": [
    "import torch.nn as nn\n",
    "import torch\n",
    "\n",
    "class AlexNet(nn.Module):\n",
    "    def __init__(self, num_classes: int = 1000, dropout: float = 0.5) -> None:\n",
    "        super().__init__()\n",
    "        self.features = nn.Sequential(\n",
    "            nn.Conv2d(3, 64, kernel_size=11, stride=4, padding=2),\n",
    "            nn.ReLU(inplace=True),\n",
    "            nn.MaxPool2d(kernel_size=3, stride=2),\n",
    "            nn.Conv2d(64, 192, kernel_size=5, padding=2),\n",
    "            nn.ReLU(inplace=True),\n",
    "            nn.MaxPool2d(kernel_size=3, stride=2),\n",
    "            nn.Conv2d(192, 384, kernel_size=3, padding=1),\n",
    "            nn.ReLU(inplace=True),\n",
    "            nn.Conv2d(384, 256, kernel_size=3, padding=1),\n",
    "            nn.ReLU(inplace=True),\n",
    "            nn.Conv2d(256, 256, kernel_size=3, padding=1),\n",
    "            nn.ReLU(inplace=True),\n",
    "            nn.MaxPool2d(kernel_size=3, stride=2),\n",
    "        )\n",
    "        self.avgpool = nn.AdaptiveAvgPool2d((6, 6))\n",
    "        self.classifier = nn.Sequential(\n",
    "            nn.Dropout(p=dropout),\n",
    "            nn.Linear(256 * 6 * 6, 4096),\n",
    "            nn.ReLU(inplace=True),\n",
    "            nn.Dropout(p=dropout),\n",
    "            nn.Linear(4096, 4096),\n",
    "            nn.ReLU(inplace=True),\n",
    "            nn.Linear(4096, num_classes),\n",
    "        )\n",
    "\n",
    "    def forward(self, x: torch.Tensor) -> torch.Tensor:\n",
    "        x = self.features(x)\n",
    "        x = self.avgpool(x)\n",
    "        x = torch.flatten(x, 1)\n",
    "        x = self.classifier(x)\n",
    "        return x"
   ]
  },
  {
   "cell_type": "code",
   "execution_count": 11,
   "id": "29d0a7fd",
   "metadata": {
    "execution": {
     "iopub.execute_input": "2024-07-09T08:23:21.958591Z",
     "iopub.status.busy": "2024-07-09T08:23:21.958333Z",
     "iopub.status.idle": "2024-07-09T08:23:22.702651Z",
     "shell.execute_reply": "2024-07-09T08:23:22.701816Z"
    },
    "executionInfo": {
     "elapsed": 1124,
     "status": "ok",
     "timestamp": 1720512830052,
     "user": {
      "displayName": "Thịnh Nguyễn",
      "userId": "10296234764254197383"
     },
     "user_tz": -420
    },
    "id": "vdmDzHLUjWjh",
    "papermill": {
     "duration": 0.766072,
     "end_time": "2024-07-09T08:23:22.705059",
     "exception": false,
     "start_time": "2024-07-09T08:23:21.938987",
     "status": "completed"
    },
    "tags": []
   },
   "outputs": [],
   "source": [
    "model = AlexNet(num_classes=10).to(device)"
   ]
  },
  {
   "cell_type": "code",
   "execution_count": 12,
   "id": "52461b2a",
   "metadata": {
    "execution": {
     "iopub.execute_input": "2024-07-09T08:23:22.745266Z",
     "iopub.status.busy": "2024-07-09T08:23:22.744955Z",
     "iopub.status.idle": "2024-07-09T08:23:23.285458Z",
     "shell.execute_reply": "2024-07-09T08:23:23.284238Z"
    },
    "executionInfo": {
     "elapsed": 953,
     "status": "ok",
     "timestamp": 1720512831003,
     "user": {
      "displayName": "Thịnh Nguyễn",
      "userId": "10296234764254197383"
     },
     "user_tz": -420
    },
    "id": "fpGOw4_4chX6",
    "outputId": "4267efca-25e4-452d-852e-b85742fe797e",
    "papermill": {
     "duration": 0.562809,
     "end_time": "2024-07-09T08:23:23.287767",
     "exception": false,
     "start_time": "2024-07-09T08:23:22.724958",
     "status": "completed"
    },
    "tags": []
   },
   "outputs": [
    {
     "name": "stdout",
     "output_type": "stream",
     "text": [
      "----------------------------------------------------------------\n",
      "        Layer (type)               Output Shape         Param #\n",
      "================================================================\n",
      "            Conv2d-1           [-1, 64, 55, 55]          23,296\n",
      "              ReLU-2           [-1, 64, 55, 55]               0\n",
      "         MaxPool2d-3           [-1, 64, 27, 27]               0\n",
      "            Conv2d-4          [-1, 192, 27, 27]         307,392\n",
      "              ReLU-5          [-1, 192, 27, 27]               0\n",
      "         MaxPool2d-6          [-1, 192, 13, 13]               0\n",
      "            Conv2d-7          [-1, 384, 13, 13]         663,936\n",
      "              ReLU-8          [-1, 384, 13, 13]               0\n",
      "            Conv2d-9          [-1, 256, 13, 13]         884,992\n",
      "             ReLU-10          [-1, 256, 13, 13]               0\n",
      "           Conv2d-11          [-1, 256, 13, 13]         590,080\n",
      "             ReLU-12          [-1, 256, 13, 13]               0\n",
      "        MaxPool2d-13            [-1, 256, 6, 6]               0\n",
      "AdaptiveAvgPool2d-14            [-1, 256, 6, 6]               0\n",
      "          Dropout-15                 [-1, 9216]               0\n",
      "           Linear-16                 [-1, 4096]      37,752,832\n",
      "             ReLU-17                 [-1, 4096]               0\n",
      "          Dropout-18                 [-1, 4096]               0\n",
      "           Linear-19                 [-1, 4096]      16,781,312\n",
      "             ReLU-20                 [-1, 4096]               0\n",
      "           Linear-21                   [-1, 10]          40,970\n",
      "================================================================\n",
      "Total params: 57,044,810\n",
      "Trainable params: 57,044,810\n",
      "Non-trainable params: 0\n",
      "----------------------------------------------------------------\n",
      "Input size (MB): 0.57\n",
      "Forward/backward pass size (MB): 8.37\n",
      "Params size (MB): 217.61\n",
      "Estimated Total Size (MB): 226.55\n",
      "----------------------------------------------------------------\n"
     ]
    }
   ],
   "source": [
    "summary(model, (3, 224, 224))"
   ]
  },
  {
   "cell_type": "code",
   "execution_count": 13,
   "id": "fea470df",
   "metadata": {
    "execution": {
     "iopub.execute_input": "2024-07-09T08:23:23.327691Z",
     "iopub.status.busy": "2024-07-09T08:23:23.326986Z",
     "iopub.status.idle": "2024-07-09T08:23:23.385126Z",
     "shell.execute_reply": "2024-07-09T08:23:23.384187Z"
    },
    "executionInfo": {
     "elapsed": 366,
     "status": "ok",
     "timestamp": 1720512838009,
     "user": {
      "displayName": "Thịnh Nguyễn",
      "userId": "10296234764254197383"
     },
     "user_tz": -420
    },
    "id": "eJWETXAot1y1",
    "outputId": "47abf56d-8cab-4d3c-d645-2032e1d5e920",
    "papermill": {
     "duration": 0.080224,
     "end_time": "2024-07-09T08:23:23.387325",
     "exception": false,
     "start_time": "2024-07-09T08:23:23.307101",
     "status": "completed"
    },
    "tags": []
   },
   "outputs": [
    {
     "name": "stdout",
     "output_type": "stream",
     "text": [
      "torch.Size([1, 10])\n"
     ]
    }
   ],
   "source": [
    "# Generating a random tensor\n",
    "input_tensor = torch.rand(1, 3, 224, 224).to(device)\n",
    "\n",
    "# Feeding the tensor into the model\n",
    "output = model(input_tensor)\n",
    "print(output.shape)"
   ]
  },
  {
   "cell_type": "markdown",
   "id": "fe8b02c7",
   "metadata": {
    "id": "LSc4P6BLjtGd",
    "papermill": {
     "duration": 0.019153,
     "end_time": "2024-07-09T08:23:23.425926",
     "exception": false,
     "start_time": "2024-07-09T08:23:23.406773",
     "status": "completed"
    },
    "tags": []
   },
   "source": [
    "## 4. Loss Function and Optimization"
   ]
  },
  {
   "cell_type": "code",
   "execution_count": 14,
   "id": "c35c6bd9",
   "metadata": {
    "execution": {
     "iopub.execute_input": "2024-07-09T08:23:23.509672Z",
     "iopub.status.busy": "2024-07-09T08:23:23.509023Z",
     "iopub.status.idle": "2024-07-09T08:23:23.513308Z",
     "shell.execute_reply": "2024-07-09T08:23:23.512403Z"
    },
    "executionInfo": {
     "elapsed": 455,
     "status": "ok",
     "timestamp": 1720512902469,
     "user": {
      "displayName": "Thịnh Nguyễn",
      "userId": "10296234764254197383"
     },
     "user_tz": -420
    },
    "id": "5e5mUCrqjvo6",
    "papermill": {
     "duration": 0.026859,
     "end_time": "2024-07-09T08:23:23.515254",
     "exception": false,
     "start_time": "2024-07-09T08:23:23.488395",
     "status": "completed"
    },
    "tags": []
   },
   "outputs": [],
   "source": [
    "LR = 1e-3\n",
    "EPOCHS = 150"
   ]
  },
  {
   "cell_type": "code",
   "execution_count": 15,
   "id": "806ca7c0",
   "metadata": {
    "execution": {
     "iopub.execute_input": "2024-07-09T08:23:23.554837Z",
     "iopub.status.busy": "2024-07-09T08:23:23.554563Z",
     "iopub.status.idle": "2024-07-09T08:23:23.559592Z",
     "shell.execute_reply": "2024-07-09T08:23:23.558774Z"
    },
    "executionInfo": {
     "elapsed": 2,
     "status": "ok",
     "timestamp": 1720512902878,
     "user": {
      "displayName": "Thịnh Nguyễn",
      "userId": "10296234764254197383"
     },
     "user_tz": -420
    },
    "id": "HyefEJxQjyOs",
    "papermill": {
     "duration": 0.026916,
     "end_time": "2024-07-09T08:23:23.561589",
     "exception": false,
     "start_time": "2024-07-09T08:23:23.534673",
     "status": "completed"
    },
    "tags": []
   },
   "outputs": [],
   "source": [
    "criterion = torch.nn.CrossEntropyLoss()\n",
    "optimizer = Adam(model.parameters(), lr=LR)"
   ]
  },
  {
   "cell_type": "markdown",
   "id": "0645cd2c",
   "metadata": {
    "id": "zMIMDD5sj4EO",
    "papermill": {
     "duration": 0.019057,
     "end_time": "2024-07-09T08:23:23.599782",
     "exception": false,
     "start_time": "2024-07-09T08:23:23.580725",
     "status": "completed"
    },
    "tags": []
   },
   "source": [
    "## 5. Train"
   ]
  },
  {
   "cell_type": "markdown",
   "id": "b40ff1ff",
   "metadata": {
    "id": "yOYmV8NYuZG7",
    "papermill": {
     "duration": 0.019409,
     "end_time": "2024-07-09T08:23:23.638668",
     "exception": false,
     "start_time": "2024-07-09T08:23:23.619259",
     "status": "completed"
    },
    "tags": []
   },
   "source": [
    "### 5.1. Evaluation Function"
   ]
  },
  {
   "cell_type": "code",
   "execution_count": 16,
   "id": "f65e1ef4",
   "metadata": {
    "execution": {
     "iopub.execute_input": "2024-07-09T08:23:23.678700Z",
     "iopub.status.busy": "2024-07-09T08:23:23.678149Z",
     "iopub.status.idle": "2024-07-09T08:23:23.684841Z",
     "shell.execute_reply": "2024-07-09T08:23:23.683990Z"
    },
    "executionInfo": {
     "elapsed": 391,
     "status": "ok",
     "timestamp": 1720512905017,
     "user": {
      "displayName": "Thịnh Nguyễn",
      "userId": "10296234764254197383"
     },
     "user_tz": -420
    },
    "id": "5UWFs8k_ucr7",
    "papermill": {
     "duration": 0.028587,
     "end_time": "2024-07-09T08:23:23.686789",
     "exception": false,
     "start_time": "2024-07-09T08:23:23.658202",
     "status": "completed"
    },
    "tags": []
   },
   "outputs": [],
   "source": [
    "# Function to compute loss and accuracy for test set\n",
    "def evaluate(model, testloader, criterion):\n",
    "    model.eval()\n",
    "    test_loss = 0.0\n",
    "    correct = 0\n",
    "    total = 0\n",
    "    with torch.no_grad():\n",
    "        for images, labels in testloader:\n",
    "            # Move inputs and labels to the device\n",
    "            images, labels = images.to(device), labels.to(device)\n",
    "\n",
    "            outputs = model(images)\n",
    "            loss = criterion(outputs, labels)\n",
    "            test_loss += loss.item()\n",
    "\n",
    "            _, predicted = torch.max(outputs.data, 1)\n",
    "            total += labels.size(0)\n",
    "            correct += (predicted == labels).sum().item()\n",
    "\n",
    "    accuracy = 100 * correct / total\n",
    "    test_loss = test_loss / len(testloader)\n",
    "    return test_loss, accuracy"
   ]
  },
  {
   "cell_type": "code",
   "execution_count": 17,
   "id": "3fa7f064",
   "metadata": {
    "execution": {
     "iopub.execute_input": "2024-07-09T08:23:23.726432Z",
     "iopub.status.busy": "2024-07-09T08:23:23.726185Z",
     "iopub.status.idle": "2024-07-09T08:23:34.028942Z",
     "shell.execute_reply": "2024-07-09T08:23:34.027835Z"
    },
    "executionInfo": {
     "elapsed": 18529,
     "status": "ok",
     "timestamp": 1720512924000,
     "user": {
      "displayName": "Thịnh Nguyễn",
      "userId": "10296234764254197383"
     },
     "user_tz": -420
    },
    "id": "tvx2cDxlue5d",
    "outputId": "970083b2-70cc-418e-da44-d12428124f61",
    "papermill": {
     "duration": 10.325055,
     "end_time": "2024-07-09T08:23:34.031146",
     "exception": false,
     "start_time": "2024-07-09T08:23:23.706091",
     "status": "completed"
    },
    "tags": []
   },
   "outputs": [
    {
     "name": "stdout",
     "output_type": "stream",
     "text": [
      "Test_loss: 2.3025585921706666\n",
      "Test_accuracy: 10.0\n"
     ]
    }
   ],
   "source": [
    "test_loss, test_accuracy = evaluate(model, testloader, criterion)\n",
    "print(f'Test_loss: {test_loss}')\n",
    "print(f'Test_accuracy: {test_accuracy}')"
   ]
  },
  {
   "cell_type": "code",
   "execution_count": 18,
   "id": "f5e80c9d",
   "metadata": {
    "execution": {
     "iopub.execute_input": "2024-07-09T08:23:34.072726Z",
     "iopub.status.busy": "2024-07-09T08:23:34.072353Z",
     "iopub.status.idle": "2024-07-09T08:23:34.077177Z",
     "shell.execute_reply": "2024-07-09T08:23:34.076279Z"
    },
    "executionInfo": {
     "elapsed": 13,
     "status": "ok",
     "timestamp": 1720512924000,
     "user": {
      "displayName": "Thịnh Nguyễn",
      "userId": "10296234764254197383"
     },
     "user_tz": -420
    },
    "id": "P3MU3h7Muql0",
    "papermill": {
     "duration": 0.027816,
     "end_time": "2024-07-09T08:23:34.079202",
     "exception": false,
     "start_time": "2024-07-09T08:23:34.051386",
     "status": "completed"
    },
    "tags": []
   },
   "outputs": [],
   "source": [
    "# some parameter\n",
    "train_losses = []\n",
    "train_accuracies = []\n",
    "test_losses = []\n",
    "test_accuracies = []"
   ]
  },
  {
   "cell_type": "code",
   "execution_count": 19,
   "id": "c0e83e1e",
   "metadata": {
    "execution": {
     "iopub.execute_input": "2024-07-09T08:23:34.119949Z",
     "iopub.status.busy": "2024-07-09T08:23:34.119591Z",
     "iopub.status.idle": "2024-07-09T11:02:54.669196Z",
     "shell.execute_reply": "2024-07-09T11:02:54.667955Z"
    },
    "executionInfo": {
     "elapsed": 156421,
     "status": "error",
     "timestamp": 1720513084563,
     "user": {
      "displayName": "Thịnh Nguyễn",
      "userId": "10296234764254197383"
     },
     "user_tz": -420
    },
    "id": "eALWXZMTj3PR",
    "outputId": "ba2c6152-2186-498a-bd84-cab59b51abad",
    "papermill": {
     "duration": 9560.604981,
     "end_time": "2024-07-09T11:02:54.703820",
     "exception": false,
     "start_time": "2024-07-09T08:23:34.098839",
     "status": "completed"
    },
    "tags": []
   },
   "outputs": [
    {
     "name": "stdout",
     "output_type": "stream",
     "text": [
      "Epoch [1/150], Loss: 1.6265, Accuracy: 40.16%, Test Loss: 1.3451, Test Accuracy: 50.35%, Time: 63.853s\n",
      "Epoch [2/150], Loss: 1.1769, Accuracy: 58.10%, Test Loss: 1.1217, Test Accuracy: 60.47%, Time: 64.659s\n",
      "Epoch [3/150], Loss: 0.9739, Accuracy: 65.62%, Test Loss: 0.9825, Test Accuracy: 66.29%, Time: 65.916s\n",
      "Epoch [4/150], Loss: 0.8236, Accuracy: 71.11%, Test Loss: 0.9435, Test Accuracy: 67.40%, Time: 64.634s\n",
      "Epoch [5/150], Loss: 0.6855, Accuracy: 75.77%, Test Loss: 1.0185, Test Accuracy: 66.57%, Time: 63.258s\n",
      "Epoch [6/150], Loss: 0.5484, Accuracy: 80.62%, Test Loss: 1.0241, Test Accuracy: 69.34%, Time: 64.426s\n",
      "Epoch [7/150], Loss: 0.4365, Accuracy: 84.50%, Test Loss: 1.1347, Test Accuracy: 68.30%, Time: 64.190s\n",
      "Epoch [8/150], Loss: 0.3435, Accuracy: 87.87%, Test Loss: 1.3884, Test Accuracy: 67.47%, Time: 65.349s\n",
      "Epoch [9/150], Loss: 0.2802, Accuracy: 90.40%, Test Loss: 1.5437, Test Accuracy: 67.26%, Time: 63.344s\n",
      "Epoch [10/150], Loss: 0.2450, Accuracy: 91.74%, Test Loss: 1.5034, Test Accuracy: 67.54%, Time: 64.652s\n",
      "Epoch [11/150], Loss: 0.2200, Accuracy: 92.90%, Test Loss: 1.7400, Test Accuracy: 68.34%, Time: 63.551s\n",
      "Epoch [12/150], Loss: 0.2004, Accuracy: 93.58%, Test Loss: 1.7652, Test Accuracy: 68.03%, Time: 63.566s\n",
      "Epoch [13/150], Loss: 0.1740, Accuracy: 94.44%, Test Loss: 1.8616, Test Accuracy: 66.68%, Time: 63.999s\n",
      "Epoch [14/150], Loss: 0.1772, Accuracy: 94.39%, Test Loss: 1.6347, Test Accuracy: 66.77%, Time: 64.164s\n",
      "Epoch [15/150], Loss: 0.1777, Accuracy: 94.52%, Test Loss: 1.8952, Test Accuracy: 67.18%, Time: 64.057s\n",
      "Epoch [16/150], Loss: 0.1489, Accuracy: 95.47%, Test Loss: 2.0864, Test Accuracy: 68.06%, Time: 63.456s\n",
      "Epoch [17/150], Loss: 0.1634, Accuracy: 95.06%, Test Loss: 2.2574, Test Accuracy: 65.89%, Time: 64.023s\n",
      "Epoch [18/150], Loss: 0.1595, Accuracy: 95.27%, Test Loss: 2.0483, Test Accuracy: 66.85%, Time: 63.659s\n",
      "Epoch [19/150], Loss: 0.1634, Accuracy: 95.31%, Test Loss: 2.1417, Test Accuracy: 67.38%, Time: 64.637s\n",
      "Epoch [20/150], Loss: 0.1540, Accuracy: 95.40%, Test Loss: 1.9523, Test Accuracy: 65.68%, Time: 63.771s\n",
      "Epoch [21/150], Loss: 0.1446, Accuracy: 95.94%, Test Loss: 2.2962, Test Accuracy: 67.15%, Time: 62.723s\n",
      "Epoch [22/150], Loss: 0.1440, Accuracy: 95.96%, Test Loss: 2.5794, Test Accuracy: 67.02%, Time: 64.709s\n",
      "Epoch [23/150], Loss: 0.1358, Accuracy: 96.23%, Test Loss: 2.2277, Test Accuracy: 66.63%, Time: 64.439s\n",
      "Epoch [24/150], Loss: 0.1418, Accuracy: 96.19%, Test Loss: 2.2472, Test Accuracy: 67.06%, Time: 63.872s\n",
      "Epoch [25/150], Loss: 0.1272, Accuracy: 96.43%, Test Loss: 2.3863, Test Accuracy: 67.75%, Time: 64.987s\n",
      "Epoch [26/150], Loss: 0.1324, Accuracy: 96.42%, Test Loss: 2.3526, Test Accuracy: 65.92%, Time: 64.622s\n",
      "Epoch [27/150], Loss: 0.1404, Accuracy: 96.02%, Test Loss: 2.2249, Test Accuracy: 66.78%, Time: 63.886s\n",
      "Epoch [28/150], Loss: 0.1377, Accuracy: 96.34%, Test Loss: 2.0801, Test Accuracy: 66.52%, Time: 63.840s\n",
      "Epoch [29/150], Loss: 0.1056, Accuracy: 97.02%, Test Loss: 2.3497, Test Accuracy: 66.16%, Time: 64.198s\n",
      "Epoch [30/150], Loss: 0.1364, Accuracy: 96.24%, Test Loss: 2.4151, Test Accuracy: 67.23%, Time: 63.671s\n",
      "Epoch [31/150], Loss: 0.1197, Accuracy: 96.83%, Test Loss: 2.5007, Test Accuracy: 66.83%, Time: 62.750s\n",
      "Epoch [32/150], Loss: 0.1475, Accuracy: 96.13%, Test Loss: 2.3614, Test Accuracy: 67.10%, Time: 64.266s\n",
      "Epoch [33/150], Loss: 0.1118, Accuracy: 97.04%, Test Loss: 2.4340, Test Accuracy: 66.36%, Time: 63.708s\n",
      "Epoch [34/150], Loss: 0.1113, Accuracy: 97.07%, Test Loss: 2.8726, Test Accuracy: 66.88%, Time: 64.470s\n",
      "Epoch [35/150], Loss: 0.1198, Accuracy: 96.94%, Test Loss: 2.4025, Test Accuracy: 66.99%, Time: 63.190s\n",
      "Epoch [36/150], Loss: 0.1226, Accuracy: 96.85%, Test Loss: 2.4073, Test Accuracy: 66.71%, Time: 64.506s\n",
      "Epoch [37/150], Loss: 0.1303, Accuracy: 96.77%, Test Loss: 2.2801, Test Accuracy: 65.96%, Time: 64.246s\n",
      "Epoch [38/150], Loss: 0.0955, Accuracy: 97.53%, Test Loss: 3.0119, Test Accuracy: 65.26%, Time: 63.782s\n",
      "Epoch [39/150], Loss: 0.1244, Accuracy: 96.82%, Test Loss: 2.3900, Test Accuracy: 66.45%, Time: 64.224s\n",
      "Epoch [40/150], Loss: 0.1096, Accuracy: 97.19%, Test Loss: 2.7040, Test Accuracy: 66.92%, Time: 63.574s\n",
      "Epoch [41/150], Loss: 0.1054, Accuracy: 97.32%, Test Loss: 2.9172, Test Accuracy: 66.57%, Time: 64.169s\n",
      "Epoch [42/150], Loss: 0.1190, Accuracy: 96.98%, Test Loss: 2.5503, Test Accuracy: 65.49%, Time: 64.205s\n",
      "Epoch [43/150], Loss: 0.1061, Accuracy: 97.35%, Test Loss: 2.6421, Test Accuracy: 66.57%, Time: 62.928s\n",
      "Epoch [44/150], Loss: 0.0931, Accuracy: 97.67%, Test Loss: 3.0320, Test Accuracy: 66.15%, Time: 64.316s\n",
      "Epoch [45/150], Loss: 0.1024, Accuracy: 97.51%, Test Loss: 2.7057, Test Accuracy: 65.60%, Time: 64.760s\n",
      "Epoch [46/150], Loss: 0.1134, Accuracy: 97.21%, Test Loss: 3.2065, Test Accuracy: 65.62%, Time: 63.423s\n",
      "Epoch [47/150], Loss: 0.1109, Accuracy: 97.29%, Test Loss: 3.2813, Test Accuracy: 63.93%, Time: 64.361s\n",
      "Epoch [48/150], Loss: 0.1095, Accuracy: 97.31%, Test Loss: 3.0638, Test Accuracy: 67.01%, Time: 62.742s\n",
      "Epoch [49/150], Loss: 0.1140, Accuracy: 97.27%, Test Loss: 2.6289, Test Accuracy: 66.40%, Time: 63.967s\n",
      "Epoch [50/150], Loss: 0.0818, Accuracy: 97.93%, Test Loss: 2.5974, Test Accuracy: 64.96%, Time: 64.064s\n",
      "Epoch [51/150], Loss: 0.1030, Accuracy: 97.62%, Test Loss: 2.5519, Test Accuracy: 67.34%, Time: 62.862s\n",
      "Epoch [52/150], Loss: 0.1060, Accuracy: 97.42%, Test Loss: 2.8649, Test Accuracy: 67.29%, Time: 63.430s\n",
      "Epoch [53/150], Loss: 0.0881, Accuracy: 97.97%, Test Loss: 2.3853, Test Accuracy: 65.29%, Time: 62.006s\n",
      "Epoch [54/150], Loss: 0.1064, Accuracy: 97.38%, Test Loss: 2.9742, Test Accuracy: 66.20%, Time: 63.173s\n",
      "Epoch [55/150], Loss: 0.0775, Accuracy: 98.17%, Test Loss: 2.8160, Test Accuracy: 66.58%, Time: 63.711s\n",
      "Epoch [56/150], Loss: 0.1004, Accuracy: 97.55%, Test Loss: 2.6417, Test Accuracy: 67.15%, Time: 62.510s\n",
      "Epoch [57/150], Loss: 0.0834, Accuracy: 97.96%, Test Loss: 3.3824, Test Accuracy: 65.58%, Time: 63.449s\n",
      "Epoch [58/150], Loss: 0.1103, Accuracy: 97.53%, Test Loss: 2.8251, Test Accuracy: 66.19%, Time: 63.040s\n",
      "Epoch [59/150], Loss: 0.0883, Accuracy: 97.86%, Test Loss: 2.8094, Test Accuracy: 66.77%, Time: 63.542s\n",
      "Epoch [60/150], Loss: 0.0908, Accuracy: 97.83%, Test Loss: 3.0874, Test Accuracy: 65.66%, Time: 63.156s\n",
      "Epoch [61/150], Loss: 0.0704, Accuracy: 98.28%, Test Loss: 3.1570, Test Accuracy: 66.84%, Time: 64.659s\n",
      "Epoch [62/150], Loss: 0.1017, Accuracy: 97.68%, Test Loss: 2.8758, Test Accuracy: 65.98%, Time: 64.381s\n",
      "Epoch [63/150], Loss: 0.0891, Accuracy: 97.74%, Test Loss: 3.6650, Test Accuracy: 64.94%, Time: 63.988s\n",
      "Epoch [64/150], Loss: 0.1041, Accuracy: 97.70%, Test Loss: 3.6529, Test Accuracy: 65.08%, Time: 64.057s\n",
      "Epoch [65/150], Loss: 0.0732, Accuracy: 98.28%, Test Loss: 3.3376, Test Accuracy: 66.74%, Time: 62.125s\n",
      "Epoch [66/150], Loss: 0.0700, Accuracy: 98.39%, Test Loss: 3.3120, Test Accuracy: 64.44%, Time: 62.128s\n",
      "Epoch [67/150], Loss: 0.0936, Accuracy: 97.78%, Test Loss: 3.2682, Test Accuracy: 66.19%, Time: 62.211s\n",
      "Epoch [68/150], Loss: 0.1056, Accuracy: 97.57%, Test Loss: 2.8199, Test Accuracy: 65.55%, Time: 63.470s\n",
      "Epoch [69/150], Loss: 0.0744, Accuracy: 98.20%, Test Loss: 3.0903, Test Accuracy: 64.70%, Time: 64.358s\n",
      "Epoch [70/150], Loss: 0.0872, Accuracy: 98.08%, Test Loss: 3.5617, Test Accuracy: 64.33%, Time: 63.812s\n",
      "Epoch [71/150], Loss: 0.0837, Accuracy: 98.07%, Test Loss: 2.8899, Test Accuracy: 66.46%, Time: 63.101s\n",
      "Epoch [72/150], Loss: 0.0988, Accuracy: 97.76%, Test Loss: 3.2166, Test Accuracy: 66.17%, Time: 63.972s\n",
      "Epoch [73/150], Loss: 0.0880, Accuracy: 98.14%, Test Loss: 3.1927, Test Accuracy: 65.80%, Time: 63.782s\n",
      "Epoch [74/150], Loss: 0.0739, Accuracy: 98.39%, Test Loss: 3.4807, Test Accuracy: 65.61%, Time: 64.122s\n",
      "Epoch [75/150], Loss: 0.0962, Accuracy: 97.93%, Test Loss: 2.6197, Test Accuracy: 64.94%, Time: 63.312s\n",
      "Epoch [76/150], Loss: 0.1059, Accuracy: 97.67%, Test Loss: 2.7686, Test Accuracy: 64.91%, Time: 61.972s\n",
      "Epoch [77/150], Loss: 0.0611, Accuracy: 98.66%, Test Loss: 3.3799, Test Accuracy: 65.96%, Time: 64.129s\n",
      "Epoch [78/150], Loss: 0.0677, Accuracy: 98.53%, Test Loss: 3.0773, Test Accuracy: 66.35%, Time: 62.591s\n",
      "Epoch [79/150], Loss: 0.1011, Accuracy: 97.96%, Test Loss: 2.7339, Test Accuracy: 65.56%, Time: 63.434s\n",
      "Epoch [80/150], Loss: 0.0843, Accuracy: 98.16%, Test Loss: 3.0451, Test Accuracy: 65.12%, Time: 63.412s\n",
      "Epoch [81/150], Loss: 0.1003, Accuracy: 97.97%, Test Loss: 2.7242, Test Accuracy: 65.99%, Time: 63.201s\n",
      "Epoch [82/150], Loss: 0.0689, Accuracy: 98.41%, Test Loss: 2.8724, Test Accuracy: 66.56%, Time: 62.314s\n",
      "Epoch [83/150], Loss: 0.0665, Accuracy: 98.53%, Test Loss: 3.0016, Test Accuracy: 66.54%, Time: 62.899s\n",
      "Epoch [84/150], Loss: 0.0717, Accuracy: 98.41%, Test Loss: 3.1926, Test Accuracy: 65.81%, Time: 63.045s\n",
      "Epoch [85/150], Loss: 0.1043, Accuracy: 98.04%, Test Loss: 2.7292, Test Accuracy: 65.41%, Time: 62.668s\n",
      "Epoch [86/150], Loss: 0.0759, Accuracy: 98.40%, Test Loss: 3.0782, Test Accuracy: 65.43%, Time: 63.105s\n",
      "Epoch [87/150], Loss: 0.0586, Accuracy: 98.75%, Test Loss: 3.1574, Test Accuracy: 65.94%, Time: 63.141s\n",
      "Epoch [88/150], Loss: 0.0786, Accuracy: 98.30%, Test Loss: 3.3416, Test Accuracy: 65.67%, Time: 63.099s\n",
      "Epoch [89/150], Loss: 0.0688, Accuracy: 98.46%, Test Loss: 3.0349, Test Accuracy: 66.18%, Time: 62.935s\n",
      "Epoch [90/150], Loss: 0.0796, Accuracy: 98.34%, Test Loss: 3.1604, Test Accuracy: 65.74%, Time: 63.799s\n",
      "Epoch [91/150], Loss: 0.0738, Accuracy: 98.46%, Test Loss: 3.8384, Test Accuracy: 66.34%, Time: 62.526s\n",
      "Epoch [92/150], Loss: 0.1247, Accuracy: 97.71%, Test Loss: 3.1064, Test Accuracy: 66.03%, Time: 62.343s\n",
      "Epoch [93/150], Loss: 0.0503, Accuracy: 98.86%, Test Loss: 3.4997, Test Accuracy: 66.73%, Time: 62.240s\n",
      "Epoch [94/150], Loss: 0.0764, Accuracy: 98.42%, Test Loss: 3.1473, Test Accuracy: 64.56%, Time: 62.782s\n",
      "Epoch [95/150], Loss: 0.0944, Accuracy: 98.15%, Test Loss: 3.3715, Test Accuracy: 65.94%, Time: 63.756s\n",
      "Epoch [96/150], Loss: 0.0555, Accuracy: 98.83%, Test Loss: 3.8656, Test Accuracy: 64.96%, Time: 63.358s\n",
      "Epoch [97/150], Loss: 0.0693, Accuracy: 98.59%, Test Loss: 3.4840, Test Accuracy: 65.48%, Time: 62.277s\n",
      "Epoch [98/150], Loss: 0.0616, Accuracy: 98.71%, Test Loss: 3.2221, Test Accuracy: 64.35%, Time: 62.965s\n",
      "Epoch [99/150], Loss: 0.0697, Accuracy: 98.57%, Test Loss: 3.5648, Test Accuracy: 66.01%, Time: 63.561s\n",
      "Epoch [100/150], Loss: 0.0844, Accuracy: 98.40%, Test Loss: 3.3476, Test Accuracy: 67.06%, Time: 62.602s\n",
      "Epoch [101/150], Loss: 0.0751, Accuracy: 98.50%, Test Loss: 3.1146, Test Accuracy: 64.65%, Time: 62.579s\n",
      "Epoch [102/150], Loss: 0.0509, Accuracy: 98.85%, Test Loss: 3.3992, Test Accuracy: 67.33%, Time: 64.573s\n",
      "Epoch [103/150], Loss: 0.1076, Accuracy: 97.88%, Test Loss: 3.0769, Test Accuracy: 65.65%, Time: 63.321s\n",
      "Epoch [104/150], Loss: 0.0519, Accuracy: 98.89%, Test Loss: 3.9155, Test Accuracy: 65.77%, Time: 61.579s\n",
      "Epoch [105/150], Loss: 0.0869, Accuracy: 98.36%, Test Loss: 3.5873, Test Accuracy: 66.67%, Time: 64.029s\n",
      "Epoch [106/150], Loss: 0.0491, Accuracy: 99.04%, Test Loss: 3.7964, Test Accuracy: 66.97%, Time: 63.425s\n",
      "Epoch [107/150], Loss: 0.2173, Accuracy: 95.81%, Test Loss: 2.5120, Test Accuracy: 65.20%, Time: 63.865s\n",
      "Epoch [108/150], Loss: 0.0694, Accuracy: 98.40%, Test Loss: 3.0150, Test Accuracy: 65.93%, Time: 63.815s\n",
      "Epoch [109/150], Loss: 0.0502, Accuracy: 98.87%, Test Loss: 3.7473, Test Accuracy: 66.34%, Time: 62.552s\n",
      "Epoch [110/150], Loss: 0.0477, Accuracy: 98.97%, Test Loss: 3.3017, Test Accuracy: 66.76%, Time: 63.516s\n",
      "Epoch [111/150], Loss: 0.0764, Accuracy: 98.56%, Test Loss: 4.1807, Test Accuracy: 65.52%, Time: 62.610s\n",
      "Epoch [112/150], Loss: 0.0921, Accuracy: 98.28%, Test Loss: 3.1808, Test Accuracy: 64.30%, Time: 62.865s\n",
      "Epoch [113/150], Loss: 0.0569, Accuracy: 98.88%, Test Loss: 3.1515, Test Accuracy: 65.54%, Time: 63.858s\n",
      "Epoch [114/150], Loss: 0.0589, Accuracy: 98.80%, Test Loss: 3.6621, Test Accuracy: 64.10%, Time: 63.627s\n",
      "Epoch [115/150], Loss: 0.1195, Accuracy: 97.88%, Test Loss: 3.4202, Test Accuracy: 66.47%, Time: 65.013s\n",
      "Epoch [116/150], Loss: 0.1186, Accuracy: 97.65%, Test Loss: 3.6866, Test Accuracy: 66.46%, Time: 65.153s\n",
      "Epoch [117/150], Loss: 0.0449, Accuracy: 99.05%, Test Loss: 3.6116, Test Accuracy: 66.43%, Time: 63.677s\n",
      "Epoch [118/150], Loss: 0.0891, Accuracy: 98.39%, Test Loss: 3.5490, Test Accuracy: 65.59%, Time: 64.774s\n",
      "Epoch [119/150], Loss: 0.0863, Accuracy: 98.41%, Test Loss: 3.2238, Test Accuracy: 64.92%, Time: 64.706s\n",
      "Epoch [120/150], Loss: 0.0769, Accuracy: 98.65%, Test Loss: 4.1154, Test Accuracy: 66.21%, Time: 62.841s\n",
      "Epoch [121/150], Loss: 0.0638, Accuracy: 98.89%, Test Loss: 3.8307, Test Accuracy: 66.25%, Time: 63.136s\n",
      "Epoch [122/150], Loss: 0.0506, Accuracy: 99.04%, Test Loss: 3.5791, Test Accuracy: 65.65%, Time: 63.952s\n",
      "Epoch [123/150], Loss: 0.0969, Accuracy: 98.20%, Test Loss: 3.8874, Test Accuracy: 65.66%, Time: 64.081s\n",
      "Epoch [124/150], Loss: 0.0845, Accuracy: 98.45%, Test Loss: 3.0860, Test Accuracy: 65.15%, Time: 63.478s\n",
      "Epoch [125/150], Loss: 0.0593, Accuracy: 98.88%, Test Loss: 3.4034, Test Accuracy: 66.93%, Time: 65.327s\n",
      "Epoch [126/150], Loss: 0.0558, Accuracy: 98.86%, Test Loss: 3.8449, Test Accuracy: 65.95%, Time: 64.386s\n",
      "Epoch [127/150], Loss: 0.0769, Accuracy: 98.56%, Test Loss: 3.5665, Test Accuracy: 65.27%, Time: 63.265s\n",
      "Epoch [128/150], Loss: 0.0799, Accuracy: 98.56%, Test Loss: 3.9425, Test Accuracy: 64.84%, Time: 65.802s\n",
      "Epoch [129/150], Loss: 0.0651, Accuracy: 98.82%, Test Loss: 3.6794, Test Accuracy: 66.36%, Time: 64.296s\n",
      "Epoch [130/150], Loss: 0.0667, Accuracy: 98.75%, Test Loss: 3.3169, Test Accuracy: 65.71%, Time: 63.424s\n",
      "Epoch [131/150], Loss: 0.0614, Accuracy: 98.85%, Test Loss: 3.3248, Test Accuracy: 65.96%, Time: 63.876s\n",
      "Epoch [132/150], Loss: 0.0750, Accuracy: 98.67%, Test Loss: 4.1599, Test Accuracy: 65.39%, Time: 62.542s\n",
      "Epoch [133/150], Loss: 0.0737, Accuracy: 98.65%, Test Loss: 4.0061, Test Accuracy: 66.16%, Time: 64.600s\n",
      "Epoch [134/150], Loss: 0.0674, Accuracy: 98.81%, Test Loss: 4.4412, Test Accuracy: 65.76%, Time: 64.339s\n",
      "Epoch [135/150], Loss: 0.1046, Accuracy: 98.21%, Test Loss: 3.4182, Test Accuracy: 64.87%, Time: 65.427s\n",
      "Epoch [136/150], Loss: 0.0676, Accuracy: 98.89%, Test Loss: 3.6211, Test Accuracy: 65.16%, Time: 65.025s\n",
      "Epoch [137/150], Loss: 0.0953, Accuracy: 98.32%, Test Loss: 2.9704, Test Accuracy: 64.03%, Time: 64.834s\n",
      "Epoch [138/150], Loss: 0.0396, Accuracy: 99.24%, Test Loss: 4.3357, Test Accuracy: 67.25%, Time: 64.997s\n",
      "Epoch [139/150], Loss: 0.0808, Accuracy: 98.60%, Test Loss: 3.6087, Test Accuracy: 66.64%, Time: 62.674s\n",
      "Epoch [140/150], Loss: 0.0513, Accuracy: 99.09%, Test Loss: 4.2918, Test Accuracy: 65.77%, Time: 64.138s\n",
      "Epoch [141/150], Loss: 0.0706, Accuracy: 98.75%, Test Loss: 3.7651, Test Accuracy: 65.43%, Time: 64.202s\n",
      "Epoch [142/150], Loss: 0.0777, Accuracy: 98.70%, Test Loss: 3.5023, Test Accuracy: 65.58%, Time: 63.342s\n",
      "Epoch [143/150], Loss: 0.0699, Accuracy: 98.84%, Test Loss: 3.7675, Test Accuracy: 65.92%, Time: 63.972s\n",
      "Epoch [144/150], Loss: 0.0679, Accuracy: 98.84%, Test Loss: 3.9579, Test Accuracy: 64.73%, Time: 64.301s\n",
      "Epoch [145/150], Loss: 0.0687, Accuracy: 98.75%, Test Loss: 3.7652, Test Accuracy: 66.33%, Time: 64.409s\n",
      "Epoch [146/150], Loss: 0.0977, Accuracy: 98.49%, Test Loss: 4.1066, Test Accuracy: 64.33%, Time: 64.793s\n",
      "Epoch [147/150], Loss: 0.0615, Accuracy: 98.96%, Test Loss: 3.7640, Test Accuracy: 65.79%, Time: 65.376s\n",
      "Epoch [148/150], Loss: 0.0696, Accuracy: 98.87%, Test Loss: 4.5469, Test Accuracy: 66.22%, Time: 64.838s\n",
      "Epoch [149/150], Loss: 0.0724, Accuracy: 98.77%, Test Loss: 3.3362, Test Accuracy: 64.07%, Time: 65.071s\n",
      "Epoch [150/150], Loss: 0.0772, Accuracy: 98.61%, Test Loss: 3.9802, Test Accuracy: 66.76%, Time: 63.963s\n"
     ]
    }
   ],
   "source": [
    "# train\n",
    "for epoch in range(EPOCHS):\n",
    "    start_time = time.time()\n",
    "    running_loss = 0.0\n",
    "    running_correct = 0   # to track number of correct predictions\n",
    "    total = 0             # to track total number of samples\n",
    "\n",
    "    for i, (inputs, labels) in enumerate(trainloader, 0):\n",
    "        # Move inputs and labels to the device\n",
    "        inputs, labels = inputs.to(device), labels.to(device)\n",
    "\n",
    "        # Zero the parameter gradients\n",
    "        optimizer.zero_grad()\n",
    "\n",
    "        # Forward pass\n",
    "        outputs = model(inputs)\n",
    "        loss = criterion(outputs, labels)\n",
    "        running_loss += loss.item()\n",
    "\n",
    "        # Determine class predictions and track accuracy\n",
    "        _, predicted = torch.max(outputs.data, 1)\n",
    "        total += labels.size(0)\n",
    "        running_correct += (predicted == labels).sum().item()\n",
    "\n",
    "        # Backward pass and optimization\n",
    "        loss.backward()\n",
    "        optimizer.step()\n",
    "\n",
    "    epoch_accuracy = 100 * running_correct / total\n",
    "    epoch_loss = running_loss / (i + 1)\n",
    "    test_loss, test_accuracy = evaluate(model, testloader, criterion)\n",
    "    print(f\"Epoch [{epoch + 1}/{EPOCHS}], Loss: {epoch_loss:.4f}, Accuracy: {epoch_accuracy:.2f}%, Test Loss: {test_loss:.4f}, Test Accuracy: {test_accuracy:.2f}%, Time: {time.time() - start_time:.3f}s\")\n",
    "\n",
    "    # save for plot\n",
    "    train_losses.append(epoch_loss)\n",
    "    train_accuracies.append(epoch_accuracy)\n",
    "    test_losses.append(test_loss)\n",
    "    test_accuracies.append(test_accuracy)"
   ]
  },
  {
   "cell_type": "markdown",
   "id": "6fcfc378",
   "metadata": {
    "id": "vzDA7QbbluVY",
    "papermill": {
     "duration": 0.031321,
     "end_time": "2024-07-09T11:02:54.767792",
     "exception": false,
     "start_time": "2024-07-09T11:02:54.736471",
     "status": "completed"
    },
    "tags": []
   },
   "source": [
    "## 6. Inference"
   ]
  },
  {
   "cell_type": "markdown",
   "id": "6e8e79d8",
   "metadata": {
    "id": "kdPXIboQmA0U",
    "papermill": {
     "duration": 0.031067,
     "end_time": "2024-07-09T11:02:54.830541",
     "exception": false,
     "start_time": "2024-07-09T11:02:54.799474",
     "status": "completed"
    },
    "tags": []
   },
   "source": [
    "### 6.1. Loss Visualization"
   ]
  },
  {
   "cell_type": "code",
   "execution_count": 20,
   "id": "14e1ea6c",
   "metadata": {
    "execution": {
     "iopub.execute_input": "2024-07-09T11:02:54.895393Z",
     "iopub.status.busy": "2024-07-09T11:02:54.894994Z",
     "iopub.status.idle": "2024-07-09T11:02:55.333275Z",
     "shell.execute_reply": "2024-07-09T11:02:55.332319Z"
    },
    "executionInfo": {
     "elapsed": 428,
     "status": "ok",
     "timestamp": 1720513089319,
     "user": {
      "displayName": "Thịnh Nguyễn",
      "userId": "10296234764254197383"
     },
     "user_tz": -420
    },
    "id": "_LN5ErfolFuA",
    "outputId": "32350dfd-96a0-43ac-d289-f6ebe8b59618",
    "papermill": {
     "duration": 0.474031,
     "end_time": "2024-07-09T11:02:55.335724",
     "exception": false,
     "start_time": "2024-07-09T11:02:54.861693",
     "status": "completed"
    },
    "tags": []
   },
   "outputs": [
    {
     "data": {
      "text/plain": [
       "<matplotlib.legend.Legend at 0x7ed088b1db70>"
      ]
     },
     "execution_count": 20,
     "metadata": {},
     "output_type": "execute_result"
    },
    {
     "data": {
      "image/png": "[encoded data removed]",
      "text/plain": [
       "<Figure size 640x480 with 1 Axes>"
      ]
     },
     "metadata": {},
     "output_type": "display_data"
    }
   ],
   "source": [
    "plt.plot(train_losses, label='train_losses')\n",
    "plt.plot(test_losses, label='test_losses')\n",
    "plt.legend()"
   ]
  },
  {
   "cell_type": "markdown",
   "id": "257e83ae",
   "metadata": {
    "id": "c0s_IF0u1rNp",
    "papermill": {
     "duration": 0.032011,
     "end_time": "2024-07-09T11:02:55.400021",
     "exception": false,
     "start_time": "2024-07-09T11:02:55.368010",
     "status": "completed"
    },
    "tags": []
   },
   "source": [
    "### 6.2. Accuracy Visualization"
   ]
  },
  {
   "cell_type": "code",
   "execution_count": 21,
   "id": "433afd6c",
   "metadata": {
    "execution": {
     "iopub.execute_input": "2024-07-09T11:02:55.466532Z",
     "iopub.status.busy": "2024-07-09T11:02:55.465691Z",
     "iopub.status.idle": "2024-07-09T11:02:55.761023Z",
     "shell.execute_reply": "2024-07-09T11:02:55.760080Z"
    },
    "executionInfo": {
     "elapsed": 983,
     "status": "ok",
     "timestamp": 1720513092380,
     "user": {
      "displayName": "Thịnh Nguyễn",
      "userId": "10296234764254197383"
     },
     "user_tz": -420
    },
    "id": "Kd-hFUdy1uh3",
    "outputId": "211a2770-fe22-40fc-ae75-86f2917feb72",
    "papermill": {
     "duration": 0.33113,
     "end_time": "2024-07-09T11:02:55.763308",
     "exception": false,
     "start_time": "2024-07-09T11:02:55.432178",
     "status": "completed"
    },
    "tags": []
   },
   "outputs": [
    {
     "data": {
      "text/plain": [
       "<matplotlib.legend.Legend at 0x7ed07c721990>"
      ]
     },
     "execution_count": 21,
     "metadata": {},
     "output_type": "execute_result"
    },
    {
     "data": {
      "image/png": "[encoded data removed]",
      "text/plain": [
       "<Figure size 640x480 with 1 Axes>"
      ]
     },
     "metadata": {},
     "output_type": "display_data"
    }
   ],
   "source": [
    "plt.plot(train_accuracies, label='train_accuracy')\n",
    "plt.plot(test_accuracies, label='test_accuracy')\n",
    "plt.legend()"
   ]
  },
  {
   "cell_type": "markdown",
   "id": "846967d2",
   "metadata": {
    "id": "J5ySonVfdkox",
    "papermill": {
     "duration": 0.032639,
     "end_time": "2024-07-09T11:02:55.828830",
     "exception": false,
     "start_time": "2024-07-09T11:02:55.796191",
     "status": "completed"
    },
    "tags": []
   },
   "source": [
    "### 6.3. Best Accuracy"
   ]
  },
  {
   "cell_type": "code",
   "execution_count": 22,
   "id": "fd0643d6",
   "metadata": {
    "execution": {
     "iopub.execute_input": "2024-07-09T11:02:55.896780Z",
     "iopub.status.busy": "2024-07-09T11:02:55.896105Z",
     "iopub.status.idle": "2024-07-09T11:02:55.903198Z",
     "shell.execute_reply": "2024-07-09T11:02:55.902244Z"
    },
    "executionInfo": {
     "elapsed": 399,
     "status": "ok",
     "timestamp": 1720513094977,
     "user": {
      "displayName": "Thịnh Nguyễn",
      "userId": "10296234764254197383"
     },
     "user_tz": -420
    },
    "id": "xLAuChgx1yaS",
    "outputId": "5900f41b-35eb-4315-a004-f76749f7c7ce",
    "papermill": {
     "duration": 0.043374,
     "end_time": "2024-07-09T11:02:55.905144",
     "exception": false,
     "start_time": "2024-07-09T11:02:55.861770",
     "status": "completed"
    },
    "tags": []
   },
   "outputs": [
    {
     "name": "stdout",
     "output_type": "stream",
     "text": [
      "\n",
      "Best epoch: 6 with test accuracy: 69.34%\n",
      "\n",
      "Best epoch: 138 with train accuracy: 99.24%\n"
     ]
    }
   ],
   "source": [
    "# the best accuracy\n",
    "best_epoch_test = np.argmax(test_accuracies)\n",
    "print(f\"\\nBest epoch: {best_epoch_test + 1} with test accuracy: {test_accuracies[best_epoch_test]:.2f}%\")\n",
    "best_epoch_train = np.argmax(train_accuracies)\n",
    "print(f\"\\nBest epoch: {best_epoch_train + 1} with train accuracy: {train_accuracies[best_epoch_train]:.2f}%\")"
   ]
  },
  {
   "cell_type": "markdown",
   "id": "cfaf1da8",
   "metadata": {
    "id": "rchetQ3DK6Lk",
    "papermill": {
     "duration": 0.032569,
     "end_time": "2024-07-09T11:02:55.972209",
     "exception": false,
     "start_time": "2024-07-09T11:02:55.939640",
     "status": "completed"
    },
    "tags": []
   },
   "source": [
    "## 7. Conclusion\n",
    "- **Train Accuracy**: 99.24%\n",
    "- **Test Accuracy**: 69.34%"
   ]
  }
 ],
 "metadata": {
  "accelerator": "GPU",
  "colab": {
   "authorship_tag": "ABX9TyMkzSnbO9bnZ4IzGizd1DXw",
   "gpuType": "T4",
   "provenance": [
    {
     "file_id": "14zaMXhRmTdNN6pI8pmxwsgrB4FAmvEiE",
     "timestamp": 1720363444299
    }
   ]
  },
  "kaggle": {
   "accelerator": "gpu",
   "dataSources": [],
   "isGpuEnabled": true,
   "isInternetEnabled": true,
   "language": "python",
   "sourceType": "notebook"
  },
  "kernelspec": {
   "display_name": "Python 3",
   "name": "python3"
  },
  "language_info": {
   "codemirror_mode": {
    "name": "ipython",
    "version": 3
   },
   "file_extension": ".py",
   "mimetype": "text/x-python",
   "name": "python",
   "nbconvert_exporter": "python",
   "pygments_lexer": "ipython3",
   "version": "3.10.13"
  },
  "papermill": {
   "default_parameters": {},
   "duration": 9650.08724,
   "end_time": "2024-07-09T11:02:58.474219",
   "environment_variables": {},
   "exception": null,
   "input_path": "__notebook__.ipynb",
   "output_path": "__notebook__.ipynb",
   "parameters": {},
   "start_time": "2024-07-09T08:22:08.386979",
   "version": "2.5.0"
  }
 },
 "nbformat": 4,
 "nbformat_minor": 5
}
