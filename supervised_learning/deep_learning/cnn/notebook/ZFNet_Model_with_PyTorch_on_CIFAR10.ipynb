{
 "cells": [
  {
   "cell_type": "markdown",
   "id": "158b929d",
   "metadata": {
    "id": "IwymkzhzYoPa",
    "papermill": {
     "duration": 0.009536,
     "end_time": "2024-07-09T14:20:26.204648",
     "exception": false,
     "start_time": "2024-07-09T14:20:26.195112",
     "status": "completed"
    },
    "tags": []
   },
   "source": [
    "# ZFNet PyTorch with CIFAR10\n",
    "- **Task**: Classification\n",
    "- **Data**: CIFAR10 Dataset\n",
    "- **Model**: ZFNet\n",
    "- **Loss function**: Cross Entropy Loss\n",
    "- **Optimization**: Adam"
   ]
  },
  {
   "cell_type": "code",
   "execution_count": 1,
   "id": "80d8387d",
   "metadata": {
    "execution": {
     "iopub.execute_input": "2024-07-09T14:20:26.223952Z",
     "iopub.status.busy": "2024-07-09T14:20:26.223670Z",
     "iopub.status.idle": "2024-07-09T14:20:39.749675Z",
     "shell.execute_reply": "2024-07-09T14:20:39.748490Z"
    },
    "executionInfo": {
     "elapsed": 19243,
     "status": "ok",
     "timestamp": 1720512632031,
     "user": {
      "displayName": "Thịnh Nguyễn",
      "userId": "10296234764254197383"
     },
     "user_tz": -420
    },
    "id": "fgdvxoFEsmv6",
    "outputId": "26917e1d-767b-4a48-ac05-e898f366a744",
    "papermill": {
     "duration": 13.538203,
     "end_time": "2024-07-09T14:20:39.752109",
     "exception": false,
     "start_time": "2024-07-09T14:20:26.213906",
     "status": "completed"
    },
    "tags": []
   },
   "outputs": [],
   "source": [
    "!pip install -q watermark"
   ]
  },
  {
   "cell_type": "code",
   "execution_count": 2,
   "id": "e4c5ed5e",
   "metadata": {
    "execution": {
     "iopub.execute_input": "2024-07-09T14:20:39.772434Z",
     "iopub.status.busy": "2024-07-09T14:20:39.771863Z",
     "iopub.status.idle": "2024-07-09T14:20:43.274249Z",
     "shell.execute_reply": "2024-07-09T14:20:43.273416Z"
    },
    "executionInfo": {
     "elapsed": 3318,
     "status": "ok",
     "timestamp": 1720512635343,
     "user": {
      "displayName": "Thịnh Nguyễn",
      "userId": "10296234764254197383"
     },
     "user_tz": -420
    },
    "id": "Ao8nws0Unz3B",
    "outputId": "91ee84d0-c751-4119-ae1a-1b0f9a57525a",
    "papermill": {
     "duration": 3.514913,
     "end_time": "2024-07-09T14:20:43.276535",
     "exception": false,
     "start_time": "2024-07-09T14:20:39.761622",
     "status": "completed"
    },
    "tags": []
   },
   "outputs": [
    {
     "name": "stdout",
     "output_type": "stream",
     "text": [
      "Author: Nguyen Van Sy Thinh\n",
      "\n",
      "Python implementation: CPython\n",
      "Python version       : 3.10.13\n",
      "IPython version      : 8.20.0\n",
      "\n",
      "torch: 2.1.2\n",
      "\n"
     ]
    }
   ],
   "source": [
    "%load_ext watermark\n",
    "%watermark -a 'Nguyen Van Sy Thinh' -v -p torch"
   ]
  },
  {
   "cell_type": "markdown",
   "id": "a9bbe636",
   "metadata": {
    "id": "k4Fm8LFQYxJi",
    "papermill": {
     "duration": 0.00901,
     "end_time": "2024-07-09T14:20:43.295947",
     "exception": false,
     "start_time": "2024-07-09T14:20:43.286937",
     "status": "completed"
    },
    "tags": []
   },
   "source": [
    "## 1. Import Library"
   ]
  },
  {
   "cell_type": "code",
   "execution_count": 3,
   "id": "7350a889",
   "metadata": {
    "execution": {
     "iopub.execute_input": "2024-07-09T14:20:43.315504Z",
     "iopub.status.busy": "2024-07-09T14:20:43.315079Z",
     "iopub.status.idle": "2024-07-09T14:20:55.517775Z",
     "shell.execute_reply": "2024-07-09T14:20:55.516714Z"
    },
    "id": "Wt_-XQF1lqdr",
    "papermill": {
     "duration": 12.215136,
     "end_time": "2024-07-09T14:20:55.520219",
     "exception": false,
     "start_time": "2024-07-09T14:20:43.305083",
     "status": "completed"
    },
    "tags": []
   },
   "outputs": [],
   "source": [
    "!pip install -q torchsummary"
   ]
  },
  {
   "cell_type": "code",
   "execution_count": 4,
   "id": "d97cd027",
   "metadata": {
    "execution": {
     "iopub.execute_input": "2024-07-09T14:20:55.541072Z",
     "iopub.status.busy": "2024-07-09T14:20:55.540499Z",
     "iopub.status.idle": "2024-07-09T14:20:57.125307Z",
     "shell.execute_reply": "2024-07-09T14:20:57.124356Z"
    },
    "id": "hdWQADB0ZFYP",
    "papermill": {
     "duration": 1.597592,
     "end_time": "2024-07-09T14:20:57.127622",
     "exception": false,
     "start_time": "2024-07-09T14:20:55.530030",
     "status": "completed"
    },
    "tags": []
   },
   "outputs": [
    {
     "data": {
      "text/plain": [
       "<torch._C.Generator at 0x7cedb8242610>"
      ]
     },
     "execution_count": 4,
     "metadata": {},
     "output_type": "execute_result"
    }
   ],
   "source": [
    "import torch\n",
    "import torchvision.transforms as transforms\n",
    "import torch.nn as nn\n",
    "import torch.optim as optim\n",
    "import torch.nn.functional as F\n",
    "\n",
    "import numpy as np\n",
    "import matplotlib.pyplot as plt\n",
    "import time\n",
    "\n",
    "import torchvision\n",
    "from torchvision.datasets import CIFAR10\n",
    "from torch.utils.data import DataLoader\n",
    "from torch.optim import Adam\n",
    "from torchsummary import summary\n",
    "\n",
    "# Check if GPU is available\n",
    "device = torch.device(\"cuda:0\" if torch.cuda.is_available() else \"cpu\")\n",
    "torch.manual_seed(42)"
   ]
  },
  {
   "cell_type": "markdown",
   "id": "e7dd57f2",
   "metadata": {
    "id": "DkYKMYX8YygA",
    "papermill": {
     "duration": 0.009427,
     "end_time": "2024-07-09T14:20:57.147904",
     "exception": false,
     "start_time": "2024-07-09T14:20:57.138477",
     "status": "completed"
    },
    "tags": []
   },
   "source": [
    "## 2. Data"
   ]
  },
  {
   "cell_type": "markdown",
   "id": "6cb16592",
   "metadata": {
    "id": "sXZrwCVrZIWw",
    "papermill": {
     "duration": 0.009188,
     "end_time": "2024-07-09T14:20:57.166530",
     "exception": false,
     "start_time": "2024-07-09T14:20:57.157342",
     "status": "completed"
    },
    "tags": []
   },
   "source": [
    "### 2.1. CIFAR10 Dataset"
   ]
  },
  {
   "cell_type": "markdown",
   "id": "d3491378",
   "metadata": {
    "id": "pX21MHOBtCXc",
    "papermill": {
     "duration": 0.009358,
     "end_time": "2024-07-09T14:20:57.185437",
     "exception": false,
     "start_time": "2024-07-09T14:20:57.176079",
     "status": "completed"
    },
    "tags": []
   },
   "source": [
    "#### 2.1.1. Load dataset to compute Mean and Std to Normalize Z-score"
   ]
  },
  {
   "cell_type": "code",
   "execution_count": 5,
   "id": "e03019df",
   "metadata": {
    "execution": {
     "iopub.execute_input": "2024-07-09T14:20:57.206370Z",
     "iopub.status.busy": "2024-07-09T14:20:57.205540Z",
     "iopub.status.idle": "2024-07-09T14:21:28.971396Z",
     "shell.execute_reply": "2024-07-09T14:21:28.970343Z"
    },
    "executionInfo": {
     "elapsed": 32290,
     "status": "ok",
     "timestamp": 1720512669982,
     "user": {
      "displayName": "Thịnh Nguyễn",
      "userId": "10296234764254197383"
     },
     "user_tz": -420
    },
    "id": "wZlmQGmpYPcr",
    "outputId": "d016e924-fe88-4f8b-8afd-34492fc0d755",
    "papermill": {
     "duration": 31.79281,
     "end_time": "2024-07-09T14:21:28.987821",
     "exception": false,
     "start_time": "2024-07-09T14:20:57.195011",
     "status": "completed"
    },
    "tags": []
   },
   "outputs": [
    {
     "name": "stdout",
     "output_type": "stream",
     "text": [
      "Downloading https://www.cs.toronto.edu/~kriz/cifar-10-python.tar.gz to data/cifar-10-python.tar.gz\n"
     ]
    },
    {
     "name": "stderr",
     "output_type": "stream",
     "text": [
      "100%|██████████| 170498071/170498071 [00:10<00:00, 16084200.34it/s]\n"
     ]
    },
    {
     "name": "stdout",
     "output_type": "stream",
     "text": [
      "Extracting data/cifar-10-python.tar.gz to data\n",
      "tensor([0.4914, 0.4822, 0.4465]) tensor([0.2823, 0.2783, 0.2990])\n"
     ]
    }
   ],
   "source": [
    "# Load dataset with only the ToTensor transform to compute mean and std\n",
    "compute_transform = transforms.Compose([transforms.ToTensor()])\n",
    "dataset = CIFAR10(root='data', train=True, transform=compute_transform, download=True)\n",
    "loader = torch.utils.data.DataLoader(dataset, batch_size=len(dataset), shuffle=False, num_workers=2)\n",
    "\n",
    "mean = 0.0\n",
    "for images, _ in loader:\n",
    "    batch_samples = images.size(0)  # Batch size\n",
    "    images = images.view(batch_samples, images.size(1), -1)\n",
    "    mean += images.mean(2).sum(0)\n",
    "mean = mean / len(loader.dataset)\n",
    "\n",
    "variance = 0.0\n",
    "for images, _ in loader:\n",
    "    batch_samples = images.size(0)\n",
    "    images = images.view(batch_samples, images.size(1), -1)\n",
    "    variance += ((images - mean.unsqueeze(1))**2).sum([0,2])\n",
    "std = torch.sqrt(variance / (len(loader.dataset)*28*28))\n",
    "\n",
    "print(mean, std)"
   ]
  },
  {
   "cell_type": "markdown",
   "id": "8fc50ebe",
   "metadata": {
    "id": "exa_gOm0tKJF",
    "papermill": {
     "duration": 0.014321,
     "end_time": "2024-07-09T14:21:29.016772",
     "exception": false,
     "start_time": "2024-07-09T14:21:29.002451",
     "status": "completed"
    },
    "tags": []
   },
   "source": [
    "#### 2.1.2. Load CIFAR10 Dataset"
   ]
  },
  {
   "cell_type": "code",
   "execution_count": 6,
   "id": "71875c51",
   "metadata": {
    "execution": {
     "iopub.execute_input": "2024-07-09T14:21:29.047369Z",
     "iopub.status.busy": "2024-07-09T14:21:29.047041Z",
     "iopub.status.idle": "2024-07-09T14:21:30.587667Z",
     "shell.execute_reply": "2024-07-09T14:21:30.586674Z"
    },
    "executionInfo": {
     "elapsed": 1557,
     "status": "ok",
     "timestamp": 1720512671534,
     "user": {
      "displayName": "Thịnh Nguyễn",
      "userId": "10296234764254197383"
     },
     "user_tz": -420
    },
    "id": "0ZBIxYHztOu-",
    "outputId": "27ef22b2-9273-45be-93dd-0ef9cd319457",
    "papermill": {
     "duration": 1.558745,
     "end_time": "2024-07-09T14:21:30.590097",
     "exception": false,
     "start_time": "2024-07-09T14:21:29.031352",
     "status": "completed"
    },
    "tags": []
   },
   "outputs": [
    {
     "name": "stdout",
     "output_type": "stream",
     "text": [
      "Files already downloaded and verified\n",
      "Files already downloaded and verified\n"
     ]
    }
   ],
   "source": [
    "batch_size = 64\n",
    "# Load CIFAR10 dataset\n",
    "transform = transforms.Compose(\n",
    "    [\n",
    "        transforms.Resize((224,224)),\n",
    "        transforms.ToTensor(),\n",
    "        transforms.Normalize((0.4914, 0.4822, 0.4465), (0.2823, 0.2783, 0.2990))])\n",
    "\n",
    "trainset = CIFAR10(root='./data', train=True, download=True, transform=transform)\n",
    "testset = CIFAR10(root='./data', train=False, download=True, transform=transform)\n",
    "\n",
    "trainloader = DataLoader(trainset, batch_size=batch_size, shuffle=True, num_workers=2)\n",
    "testloader = DataLoader(testset, batch_size=batch_size, shuffle=False, num_workers=2)"
   ]
  },
  {
   "cell_type": "markdown",
   "id": "ddd78425",
   "metadata": {
    "id": "zu2xayHAZ6px",
    "papermill": {
     "duration": 0.014838,
     "end_time": "2024-07-09T14:21:30.620066",
     "exception": false,
     "start_time": "2024-07-09T14:21:30.605228",
     "status": "completed"
    },
    "tags": []
   },
   "source": [
    "### 2.2. Data Information"
   ]
  },
  {
   "cell_type": "code",
   "execution_count": 7,
   "id": "70767217",
   "metadata": {
    "execution": {
     "iopub.execute_input": "2024-07-09T14:21:30.650906Z",
     "iopub.status.busy": "2024-07-09T14:21:30.650580Z",
     "iopub.status.idle": "2024-07-09T14:21:30.654919Z",
     "shell.execute_reply": "2024-07-09T14:21:30.654037Z"
    },
    "executionInfo": {
     "elapsed": 16,
     "status": "ok",
     "timestamp": 1720512671534,
     "user": {
      "displayName": "Thịnh Nguyễn",
      "userId": "10296234764254197383"
     },
     "user_tz": -420
    },
    "id": "NKGIXwVkZLJl",
    "outputId": "5e3e2e85-7f81-4553-9273-d05653bfa515",
    "papermill": {
     "duration": 0.022493,
     "end_time": "2024-07-09T14:21:30.657269",
     "exception": false,
     "start_time": "2024-07-09T14:21:30.634776",
     "status": "completed"
    },
    "tags": []
   },
   "outputs": [
    {
     "name": "stdout",
     "output_type": "stream",
     "text": [
      "Number of training samples: 50000\n",
      "Number of testing samples: 10000\n"
     ]
    }
   ],
   "source": [
    "print(f\"Number of training samples: {len(trainset)}\")\n",
    "print(f\"Number of testing samples: {len(testset)}\")"
   ]
  },
  {
   "cell_type": "code",
   "execution_count": 8,
   "id": "6f25ad0b",
   "metadata": {
    "execution": {
     "iopub.execute_input": "2024-07-09T14:21:30.688205Z",
     "iopub.status.busy": "2024-07-09T14:21:30.687927Z",
     "iopub.status.idle": "2024-07-09T14:21:30.700300Z",
     "shell.execute_reply": "2024-07-09T14:21:30.699334Z"
    },
    "executionInfo": {
     "elapsed": 5,
     "status": "ok",
     "timestamp": 1720512671534,
     "user": {
      "displayName": "Thịnh Nguyễn",
      "userId": "10296234764254197383"
     },
     "user_tz": -420
    },
    "id": "mEchSn6wZw3d",
    "outputId": "5aa28de3-40dc-415f-e34a-4cada4b3f236",
    "papermill": {
     "duration": 0.030236,
     "end_time": "2024-07-09T14:21:30.702220",
     "exception": false,
     "start_time": "2024-07-09T14:21:30.671984",
     "status": "completed"
    },
    "tags": []
   },
   "outputs": [
    {
     "name": "stdout",
     "output_type": "stream",
     "text": [
      "Datatype of the 1st training sample: torch.FloatTensor\n",
      "Size of the 1st training sample: torch.Size([3, 224, 224])\n"
     ]
    }
   ],
   "source": [
    "print(f\"Datatype of the 1st training sample: {trainset[0][0].type()}\")\n",
    "print(f\"Size of the 1st training sample: {testset[0][0].size()}\")"
   ]
  },
  {
   "cell_type": "markdown",
   "id": "3a681257",
   "metadata": {
    "id": "VMYEKrRLZ8ht",
    "papermill": {
     "duration": 0.014735,
     "end_time": "2024-07-09T14:21:30.731950",
     "exception": false,
     "start_time": "2024-07-09T14:21:30.717215",
     "status": "completed"
    },
    "tags": []
   },
   "source": [
    "### 2.3. Data Visualization"
   ]
  },
  {
   "cell_type": "code",
   "execution_count": 9,
   "id": "a08ed338",
   "metadata": {
    "execution": {
     "iopub.execute_input": "2024-07-09T14:21:30.762986Z",
     "iopub.status.busy": "2024-07-09T14:21:30.762719Z",
     "iopub.status.idle": "2024-07-09T14:21:31.480504Z",
     "shell.execute_reply": "2024-07-09T14:21:31.479661Z"
    },
    "executionInfo": {
     "elapsed": 1149,
     "status": "ok",
     "timestamp": 1720512672680,
     "user": {
      "displayName": "Thịnh Nguyễn",
      "userId": "10296234764254197383"
     },
     "user_tz": -420
    },
    "id": "mZMW-Ox-Z9pv",
    "outputId": "483f18dc-a5a3-48b6-ebd4-d7a28a059404",
    "papermill": {
     "duration": 0.735812,
     "end_time": "2024-07-09T14:21:31.482692",
     "exception": false,
     "start_time": "2024-07-09T14:21:30.746880",
     "status": "completed"
    },
    "tags": []
   },
   "outputs": [
    {
     "data": {
      "image/png": "[encoded data removed]",
      "text/plain": [
       "<Figure size 640x480 with 1 Axes>"
      ]
     },
     "metadata": {},
     "output_type": "display_data"
    }
   ],
   "source": [
    "import matplotlib.pyplot as plt\n",
    "import numpy as np\n",
    "\n",
    "# Function to display the images\n",
    "def imshow(img):\n",
    "    img = img*0.5 + 0.5\n",
    "    np_img = img.numpy()\n",
    "    plt.imshow(np.transpose(np_img, (1, 2, 0)))\n",
    "    plt.show()\n",
    "\n",
    "for i, (images, labels) in enumerate(trainloader, 0):\n",
    "    # Plot some images\n",
    "    imshow(torchvision.utils.make_grid(images[:8]))  # Display 8 images from the batch\n",
    "    break"
   ]
  },
  {
   "cell_type": "markdown",
   "id": "12e7ee4a",
   "metadata": {
    "id": "32MkQnmuaZT4",
    "papermill": {
     "duration": 0.01578,
     "end_time": "2024-07-09T14:21:31.514820",
     "exception": false,
     "start_time": "2024-07-09T14:21:31.499040",
     "status": "completed"
    },
    "tags": []
   },
   "source": [
    "## 3. Model"
   ]
  },
  {
   "cell_type": "code",
   "execution_count": 10,
   "id": "93b1499f",
   "metadata": {
    "execution": {
     "iopub.execute_input": "2024-07-09T14:21:31.548006Z",
     "iopub.status.busy": "2024-07-09T14:21:31.547705Z",
     "iopub.status.idle": "2024-07-09T14:21:31.560503Z",
     "shell.execute_reply": "2024-07-09T14:21:31.559776Z"
    },
    "id": "-k6pAeghaaGv",
    "papermill": {
     "duration": 0.032264,
     "end_time": "2024-07-09T14:21:31.562916",
     "exception": false,
     "start_time": "2024-07-09T14:21:31.530652",
     "status": "completed"
    },
    "tags": []
   },
   "outputs": [],
   "source": [
    "class ZFNet(nn.Module):\n",
    "    \"\"\" A implementation of the ZFNet architecture from the paper 'Visualizing and\n",
    "        Understanding Convolutional Networks' by Zeiler and Fergus\"\"\"\n",
    "    def __init__(self, num_classes=10):\n",
    "        super().__init__()\n",
    "        self.conv1 = nn.Conv2d(3, 96, kernel_size=7, stride=2, padding=3, padding_mode='reflect')\n",
    "        self.conv2 = nn.Conv2d(96, 256, kernel_size=5, stride=2, padding=2, padding_mode='reflect')\n",
    "        self.conv3 = nn.Conv2d(256, 384, kernel_size=3, stride=1, padding=1, padding_mode='reflect')\n",
    "        self.conv4 = nn.Conv2d(384, 384, kernel_size=3, stride=1, padding=1, padding_mode='reflect')\n",
    "        self.conv5 = nn.Conv2d(384, 256, kernel_size=3, stride=1, padding=1, padding_mode='reflect')\n",
    "        self.fc6 = nn.Linear(9216,4096)\n",
    "        self.fc7 = nn.Linear(4096,4096)\n",
    "        self.fc8 = nn.Linear(4096,num_classes)\n",
    "        self.pool1 = nn.MaxPool2d(3,stride=2)\n",
    "        self.pool2 = nn.MaxPool2d(3,stride=2)\n",
    "        self.drop = nn.Dropout(0.5)\n",
    "        self.drop = nn.Dropout(0.5)\n",
    "        self.lrn = nn.LocalResponseNorm(size=5,alpha=10e-4,beta=0.75,k=2.0)\n",
    "\n",
    "    def forward(self, x):\n",
    "        x = self.lrn(self.pool1(F.relu(self.conv1(x))))\n",
    "        x = self.lrn(self.pool2(F.relu(self.conv2(x))))\n",
    "        x = F.relu(self.conv3(x))\n",
    "        x = F.relu(self.conv4(x))\n",
    "        x = self.pool2(F.relu(self.conv5(x)))\n",
    "        x = x.view(-1,9216)\n",
    "        x = F.relu(self.drop(self.fc6(x)))\n",
    "        x = F.relu(self.drop(self.fc7(x)))\n",
    "        x = self.fc8(x)\n",
    "        return x"
   ]
  },
  {
   "cell_type": "code",
   "execution_count": 11,
   "id": "23ddc874",
   "metadata": {
    "execution": {
     "iopub.execute_input": "2024-07-09T14:21:31.620285Z",
     "iopub.status.busy": "2024-07-09T14:21:31.618983Z",
     "iopub.status.idle": "2024-07-09T14:21:32.390443Z",
     "shell.execute_reply": "2024-07-09T14:21:32.389674Z"
    },
    "id": "vdmDzHLUjWjh",
    "papermill": {
     "duration": 0.803213,
     "end_time": "2024-07-09T14:21:32.392676",
     "exception": false,
     "start_time": "2024-07-09T14:21:31.589463",
     "status": "completed"
    },
    "tags": []
   },
   "outputs": [],
   "source": [
    "model = ZFNet(num_classes=10).to(device)"
   ]
  },
  {
   "cell_type": "code",
   "execution_count": 12,
   "id": "7eff487d",
   "metadata": {
    "execution": {
     "iopub.execute_input": "2024-07-09T14:21:32.427154Z",
     "iopub.status.busy": "2024-07-09T14:21:32.426301Z",
     "iopub.status.idle": "2024-07-09T14:21:33.030719Z",
     "shell.execute_reply": "2024-07-09T14:21:33.029525Z"
    },
    "executionInfo": {
     "elapsed": 953,
     "status": "ok",
     "timestamp": 1720512831003,
     "user": {
      "displayName": "Thịnh Nguyễn",
      "userId": "10296234764254197383"
     },
     "user_tz": -420
    },
    "id": "fpGOw4_4chX6",
    "outputId": "4267efca-25e4-452d-852e-b85742fe797e",
    "papermill": {
     "duration": 0.62372,
     "end_time": "2024-07-09T14:21:33.032924",
     "exception": false,
     "start_time": "2024-07-09T14:21:32.409204",
     "status": "completed"
    },
    "tags": []
   },
   "outputs": [
    {
     "name": "stdout",
     "output_type": "stream",
     "text": [
      "----------------------------------------------------------------\n",
      "        Layer (type)               Output Shape         Param #\n",
      "================================================================\n",
      "            Conv2d-1         [-1, 96, 112, 112]          14,208\n",
      "         MaxPool2d-2           [-1, 96, 55, 55]               0\n",
      " LocalResponseNorm-3           [-1, 96, 55, 55]               0\n",
      "            Conv2d-4          [-1, 256, 28, 28]         614,656\n",
      "         MaxPool2d-5          [-1, 256, 13, 13]               0\n",
      " LocalResponseNorm-6          [-1, 256, 13, 13]               0\n",
      "            Conv2d-7          [-1, 384, 13, 13]         885,120\n",
      "            Conv2d-8          [-1, 384, 13, 13]       1,327,488\n",
      "            Conv2d-9          [-1, 256, 13, 13]         884,992\n",
      "        MaxPool2d-10            [-1, 256, 6, 6]               0\n",
      "           Linear-11                 [-1, 4096]      37,752,832\n",
      "          Dropout-12                 [-1, 4096]               0\n",
      "           Linear-13                 [-1, 4096]      16,781,312\n",
      "          Dropout-14                 [-1, 4096]               0\n",
      "           Linear-15                   [-1, 10]          40,970\n",
      "================================================================\n",
      "Total params: 58,301,578\n",
      "Trainable params: 58,301,578\n",
      "Non-trainable params: 0\n",
      "----------------------------------------------------------------\n",
      "Input size (MB): 0.57\n",
      "Forward/backward pass size (MB): 17.33\n",
      "Params size (MB): 222.40\n",
      "Estimated Total Size (MB): 240.30\n",
      "----------------------------------------------------------------\n"
     ]
    }
   ],
   "source": [
    "summary(model, (3, 224, 224))"
   ]
  },
  {
   "cell_type": "code",
   "execution_count": 13,
   "id": "019cee52",
   "metadata": {
    "execution": {
     "iopub.execute_input": "2024-07-09T14:21:33.067338Z",
     "iopub.status.busy": "2024-07-09T14:21:33.066803Z",
     "iopub.status.idle": "2024-07-09T14:21:33.134574Z",
     "shell.execute_reply": "2024-07-09T14:21:33.133569Z"
    },
    "executionInfo": {
     "elapsed": 366,
     "status": "ok",
     "timestamp": 1720512838009,
     "user": {
      "displayName": "Thịnh Nguyễn",
      "userId": "10296234764254197383"
     },
     "user_tz": -420
    },
    "id": "eJWETXAot1y1",
    "outputId": "47abf56d-8cab-4d3c-d645-2032e1d5e920",
    "papermill": {
     "duration": 0.087095,
     "end_time": "2024-07-09T14:21:33.136564",
     "exception": false,
     "start_time": "2024-07-09T14:21:33.049469",
     "status": "completed"
    },
    "tags": []
   },
   "outputs": [
    {
     "name": "stdout",
     "output_type": "stream",
     "text": [
      "torch.Size([1, 10])\n"
     ]
    }
   ],
   "source": [
    "# Generating a random tensor\n",
    "input_tensor = torch.rand(1, 3, 224, 224).to(device)\n",
    "\n",
    "# Feeding the tensor into the model\n",
    "output = model(input_tensor)\n",
    "print(output.shape)"
   ]
  },
  {
   "cell_type": "markdown",
   "id": "49b6452b",
   "metadata": {
    "id": "LSc4P6BLjtGd",
    "papermill": {
     "duration": 0.016217,
     "end_time": "2024-07-09T14:21:33.169335",
     "exception": false,
     "start_time": "2024-07-09T14:21:33.153118",
     "status": "completed"
    },
    "tags": []
   },
   "source": [
    "## 4. Loss Function and Optimization"
   ]
  },
  {
   "cell_type": "code",
   "execution_count": 14,
   "id": "50df0581",
   "metadata": {
    "execution": {
     "iopub.execute_input": "2024-07-09T14:21:33.203916Z",
     "iopub.status.busy": "2024-07-09T14:21:33.203190Z",
     "iopub.status.idle": "2024-07-09T14:21:33.207248Z",
     "shell.execute_reply": "2024-07-09T14:21:33.206429Z"
    },
    "id": "5e5mUCrqjvo6",
    "papermill": {
     "duration": 0.023495,
     "end_time": "2024-07-09T14:21:33.209261",
     "exception": false,
     "start_time": "2024-07-09T14:21:33.185766",
     "status": "completed"
    },
    "tags": []
   },
   "outputs": [],
   "source": [
    "LR = 1e-3\n",
    "EPOCHS = 150"
   ]
  },
  {
   "cell_type": "code",
   "execution_count": 15,
   "id": "6605ca8f",
   "metadata": {
    "execution": {
     "iopub.execute_input": "2024-07-09T14:21:33.244215Z",
     "iopub.status.busy": "2024-07-09T14:21:33.243479Z",
     "iopub.status.idle": "2024-07-09T14:21:33.248347Z",
     "shell.execute_reply": "2024-07-09T14:21:33.247565Z"
    },
    "id": "HyefEJxQjyOs",
    "papermill": {
     "duration": 0.024401,
     "end_time": "2024-07-09T14:21:33.250215",
     "exception": false,
     "start_time": "2024-07-09T14:21:33.225814",
     "status": "completed"
    },
    "tags": []
   },
   "outputs": [],
   "source": [
    "criterion = torch.nn.CrossEntropyLoss()\n",
    "optimizer = Adam(model.parameters(), lr=LR)"
   ]
  },
  {
   "cell_type": "markdown",
   "id": "cc81d754",
   "metadata": {
    "id": "zMIMDD5sj4EO",
    "papermill": {
     "duration": 0.016408,
     "end_time": "2024-07-09T14:21:33.283223",
     "exception": false,
     "start_time": "2024-07-09T14:21:33.266815",
     "status": "completed"
    },
    "tags": []
   },
   "source": [
    "## 5. Train"
   ]
  },
  {
   "cell_type": "markdown",
   "id": "b0302e97",
   "metadata": {
    "id": "yOYmV8NYuZG7",
    "papermill": {
     "duration": 0.016614,
     "end_time": "2024-07-09T14:21:33.363041",
     "exception": false,
     "start_time": "2024-07-09T14:21:33.346427",
     "status": "completed"
    },
    "tags": []
   },
   "source": [
    "### 5.1. Evaluation Function"
   ]
  },
  {
   "cell_type": "code",
   "execution_count": 16,
   "id": "ac987455",
   "metadata": {
    "execution": {
     "iopub.execute_input": "2024-07-09T14:21:33.398485Z",
     "iopub.status.busy": "2024-07-09T14:21:33.398146Z",
     "iopub.status.idle": "2024-07-09T14:21:33.405325Z",
     "shell.execute_reply": "2024-07-09T14:21:33.404440Z"
    },
    "id": "5UWFs8k_ucr7",
    "papermill": {
     "duration": 0.027149,
     "end_time": "2024-07-09T14:21:33.407281",
     "exception": false,
     "start_time": "2024-07-09T14:21:33.380132",
     "status": "completed"
    },
    "tags": []
   },
   "outputs": [],
   "source": [
    "# Function to compute loss and accuracy for test set\n",
    "def evaluate(model, testloader, criterion):\n",
    "    model.eval()\n",
    "    test_loss = 0.0\n",
    "    correct = 0\n",
    "    total = 0\n",
    "    with torch.no_grad():\n",
    "        for images, labels in testloader:\n",
    "            # Move inputs and labels to the device\n",
    "            images, labels = images.to(device), labels.to(device)\n",
    "\n",
    "            outputs = model(images)\n",
    "            loss = criterion(outputs, labels)\n",
    "            test_loss += loss.item()\n",
    "\n",
    "            _, predicted = torch.max(outputs.data, 1)\n",
    "            total += labels.size(0)\n",
    "            correct += (predicted == labels).sum().item()\n",
    "\n",
    "    accuracy = 100 * correct / total\n",
    "    test_loss = test_loss / len(testloader)\n",
    "    return test_loss, accuracy"
   ]
  },
  {
   "cell_type": "code",
   "execution_count": 17,
   "id": "6ec391d2",
   "metadata": {
    "execution": {
     "iopub.execute_input": "2024-07-09T14:21:33.441567Z",
     "iopub.status.busy": "2024-07-09T14:21:33.441186Z",
     "iopub.status.idle": "2024-07-09T14:21:44.837596Z",
     "shell.execute_reply": "2024-07-09T14:21:44.836310Z"
    },
    "executionInfo": {
     "elapsed": 18529,
     "status": "ok",
     "timestamp": 1720512924000,
     "user": {
      "displayName": "Thịnh Nguyễn",
      "userId": "10296234764254197383"
     },
     "user_tz": -420
    },
    "id": "tvx2cDxlue5d",
    "outputId": "970083b2-70cc-418e-da44-d12428124f61",
    "papermill": {
     "duration": 11.415916,
     "end_time": "2024-07-09T14:21:44.839811",
     "exception": false,
     "start_time": "2024-07-09T14:21:33.423895",
     "status": "completed"
    },
    "tags": []
   },
   "outputs": [
    {
     "name": "stdout",
     "output_type": "stream",
     "text": [
      "Test_loss: 2.302672904008513\n",
      "Test_accuracy: 10.0\n"
     ]
    }
   ],
   "source": [
    "test_loss, test_accuracy = evaluate(model, testloader, criterion)\n",
    "print(f'Test_loss: {test_loss}')\n",
    "print(f'Test_accuracy: {test_accuracy}')"
   ]
  },
  {
   "cell_type": "code",
   "execution_count": 18,
   "id": "422a104e",
   "metadata": {
    "execution": {
     "iopub.execute_input": "2024-07-09T14:21:44.875625Z",
     "iopub.status.busy": "2024-07-09T14:21:44.875297Z",
     "iopub.status.idle": "2024-07-09T14:21:44.880239Z",
     "shell.execute_reply": "2024-07-09T14:21:44.879413Z"
    },
    "id": "P3MU3h7Muql0",
    "papermill": {
     "duration": 0.024933,
     "end_time": "2024-07-09T14:21:44.882175",
     "exception": false,
     "start_time": "2024-07-09T14:21:44.857242",
     "status": "completed"
    },
    "tags": []
   },
   "outputs": [],
   "source": [
    "# some parameter\n",
    "train_losses = []\n",
    "train_accuracies = []\n",
    "test_losses = []\n",
    "test_accuracies = []"
   ]
  },
  {
   "cell_type": "code",
   "execution_count": 19,
   "id": "d76e6571",
   "metadata": {
    "execution": {
     "iopub.execute_input": "2024-07-09T14:21:44.916814Z",
     "iopub.status.busy": "2024-07-09T14:21:44.916532Z",
     "iopub.status.idle": "2024-07-09T18:39:44.848984Z",
     "shell.execute_reply": "2024-07-09T18:39:44.847938Z"
    },
    "executionInfo": {
     "elapsed": 156421,
     "status": "error",
     "timestamp": 1720513084563,
     "user": {
      "displayName": "Thịnh Nguyễn",
      "userId": "10296234764254197383"
     },
     "user_tz": -420
    },
    "id": "eALWXZMTj3PR",
    "outputId": "ba2c6152-2186-498a-bd84-cab59b51abad",
    "papermill": {
     "duration": 15479.981904,
     "end_time": "2024-07-09T18:39:44.880702",
     "exception": false,
     "start_time": "2024-07-09T14:21:44.898798",
     "status": "completed"
    },
    "tags": []
   },
   "outputs": [
    {
     "name": "stdout",
     "output_type": "stream",
     "text": [
      "Epoch [1/150], Loss: 1.6763, Accuracy: 37.63%, Test Loss: 1.4196, Test Accuracy: 46.86%, Time: 103.001s\n",
      "Epoch [2/150], Loss: 1.3226, Accuracy: 52.23%, Test Loss: 1.2874, Test Accuracy: 54.67%, Time: 103.216s\n",
      "Epoch [3/150], Loss: 1.1342, Accuracy: 59.84%, Test Loss: 1.1468, Test Accuracy: 59.67%, Time: 103.238s\n",
      "Epoch [4/150], Loss: 0.9735, Accuracy: 65.42%, Test Loss: 1.0410, Test Accuracy: 63.52%, Time: 103.456s\n",
      "Epoch [5/150], Loss: 0.8243, Accuracy: 70.90%, Test Loss: 1.0401, Test Accuracy: 64.87%, Time: 103.441s\n",
      "Epoch [6/150], Loss: 0.6880, Accuracy: 75.57%, Test Loss: 1.0759, Test Accuracy: 64.76%, Time: 103.592s\n",
      "Epoch [7/150], Loss: 0.5466, Accuracy: 80.25%, Test Loss: 1.1452, Test Accuracy: 66.47%, Time: 102.961s\n",
      "Epoch [8/150], Loss: 0.4176, Accuracy: 85.05%, Test Loss: 1.2415, Test Accuracy: 65.43%, Time: 103.014s\n",
      "Epoch [9/150], Loss: 0.3041, Accuracy: 89.32%, Test Loss: 1.5543, Test Accuracy: 64.55%, Time: 103.152s\n",
      "Epoch [10/150], Loss: 0.2449, Accuracy: 91.47%, Test Loss: 1.7023, Test Accuracy: 63.97%, Time: 103.227s\n",
      "Epoch [11/150], Loss: 0.2008, Accuracy: 93.15%, Test Loss: 1.7831, Test Accuracy: 65.51%, Time: 102.811s\n",
      "Epoch [12/150], Loss: 0.1644, Accuracy: 94.46%, Test Loss: 2.1096, Test Accuracy: 64.10%, Time: 103.109s\n",
      "Epoch [13/150], Loss: 0.1581, Accuracy: 94.87%, Test Loss: 2.0690, Test Accuracy: 64.76%, Time: 103.106s\n",
      "Epoch [14/150], Loss: 0.1475, Accuracy: 95.17%, Test Loss: 2.1949, Test Accuracy: 64.08%, Time: 103.053s\n",
      "Epoch [15/150], Loss: 0.1411, Accuracy: 95.58%, Test Loss: 2.3183, Test Accuracy: 63.11%, Time: 102.945s\n",
      "Epoch [16/150], Loss: 0.1256, Accuracy: 96.04%, Test Loss: 2.3692, Test Accuracy: 64.24%, Time: 103.365s\n",
      "Epoch [17/150], Loss: 0.1343, Accuracy: 95.83%, Test Loss: 2.3617, Test Accuracy: 64.53%, Time: 103.639s\n",
      "Epoch [18/150], Loss: 0.1216, Accuracy: 96.17%, Test Loss: 2.4535, Test Accuracy: 63.75%, Time: 103.193s\n",
      "Epoch [19/150], Loss: 0.1219, Accuracy: 96.35%, Test Loss: 2.2699, Test Accuracy: 64.29%, Time: 102.973s\n",
      "Epoch [20/150], Loss: 0.1138, Accuracy: 96.65%, Test Loss: 2.3101, Test Accuracy: 63.52%, Time: 103.313s\n",
      "Epoch [21/150], Loss: 0.1038, Accuracy: 96.78%, Test Loss: 2.6091, Test Accuracy: 64.05%, Time: 103.351s\n",
      "Epoch [22/150], Loss: 0.1156, Accuracy: 96.50%, Test Loss: 2.4798, Test Accuracy: 62.97%, Time: 103.256s\n",
      "Epoch [23/150], Loss: 0.1195, Accuracy: 96.53%, Test Loss: 2.4451, Test Accuracy: 64.07%, Time: 102.747s\n",
      "Epoch [24/150], Loss: 0.1163, Accuracy: 96.60%, Test Loss: 2.6626, Test Accuracy: 62.82%, Time: 103.571s\n",
      "Epoch [25/150], Loss: 0.1027, Accuracy: 96.94%, Test Loss: 3.0007, Test Accuracy: 64.04%, Time: 103.202s\n",
      "Epoch [26/150], Loss: 0.1069, Accuracy: 96.91%, Test Loss: 2.6530, Test Accuracy: 63.58%, Time: 103.366s\n",
      "Epoch [27/150], Loss: 0.1032, Accuracy: 96.91%, Test Loss: 2.8385, Test Accuracy: 63.70%, Time: 103.419s\n",
      "Epoch [28/150], Loss: 0.1024, Accuracy: 97.05%, Test Loss: 2.7149, Test Accuracy: 64.34%, Time: 103.747s\n",
      "Epoch [29/150], Loss: 0.1085, Accuracy: 96.87%, Test Loss: 2.9884, Test Accuracy: 63.07%, Time: 102.789s\n",
      "Epoch [30/150], Loss: 0.0952, Accuracy: 97.39%, Test Loss: 2.7429, Test Accuracy: 62.96%, Time: 103.312s\n",
      "Epoch [31/150], Loss: 0.0975, Accuracy: 97.28%, Test Loss: 2.7714, Test Accuracy: 63.56%, Time: 103.346s\n",
      "Epoch [32/150], Loss: 0.0941, Accuracy: 97.35%, Test Loss: 2.9232, Test Accuracy: 63.90%, Time: 103.854s\n",
      "Epoch [33/150], Loss: 0.1020, Accuracy: 97.20%, Test Loss: 3.1877, Test Accuracy: 63.62%, Time: 103.352s\n",
      "Epoch [34/150], Loss: 0.0892, Accuracy: 97.51%, Test Loss: 3.4629, Test Accuracy: 62.59%, Time: 103.184s\n",
      "Epoch [35/150], Loss: 0.1083, Accuracy: 97.03%, Test Loss: 2.5516, Test Accuracy: 65.02%, Time: 103.445s\n",
      "Epoch [36/150], Loss: 0.0915, Accuracy: 97.51%, Test Loss: 3.0965, Test Accuracy: 63.54%, Time: 103.419s\n",
      "Epoch [37/150], Loss: 0.1006, Accuracy: 97.32%, Test Loss: 3.1118, Test Accuracy: 63.43%, Time: 103.060s\n",
      "Epoch [38/150], Loss: 0.0918, Accuracy: 97.57%, Test Loss: 3.1545, Test Accuracy: 63.22%, Time: 102.932s\n",
      "Epoch [39/150], Loss: 0.0978, Accuracy: 97.41%, Test Loss: 3.2125, Test Accuracy: 62.82%, Time: 103.385s\n",
      "Epoch [40/150], Loss: 0.0973, Accuracy: 97.45%, Test Loss: 3.1062, Test Accuracy: 63.13%, Time: 103.363s\n",
      "Epoch [41/150], Loss: 0.0908, Accuracy: 97.63%, Test Loss: 3.2265, Test Accuracy: 62.43%, Time: 103.417s\n",
      "Epoch [42/150], Loss: 0.0957, Accuracy: 97.47%, Test Loss: 3.3625, Test Accuracy: 63.98%, Time: 102.839s\n",
      "Epoch [43/150], Loss: 0.1056, Accuracy: 97.34%, Test Loss: 3.3750, Test Accuracy: 62.96%, Time: 102.688s\n",
      "Epoch [44/150], Loss: 0.0827, Accuracy: 97.82%, Test Loss: 3.5906, Test Accuracy: 62.98%, Time: 103.636s\n",
      "Epoch [45/150], Loss: 0.1017, Accuracy: 97.47%, Test Loss: 3.0484, Test Accuracy: 62.03%, Time: 102.951s\n",
      "Epoch [46/150], Loss: 0.1032, Accuracy: 97.41%, Test Loss: 3.4470, Test Accuracy: 63.20%, Time: 103.813s\n",
      "Epoch [47/150], Loss: 0.0838, Accuracy: 97.95%, Test Loss: 3.3238, Test Accuracy: 62.11%, Time: 103.580s\n",
      "Epoch [48/150], Loss: 0.0792, Accuracy: 97.98%, Test Loss: 3.6763, Test Accuracy: 63.08%, Time: 103.487s\n",
      "Epoch [49/150], Loss: 0.0912, Accuracy: 97.58%, Test Loss: 3.4795, Test Accuracy: 63.28%, Time: 102.843s\n",
      "Epoch [50/150], Loss: 0.1122, Accuracy: 97.29%, Test Loss: 2.9973, Test Accuracy: 62.68%, Time: 102.965s\n",
      "Epoch [51/150], Loss: 0.0969, Accuracy: 97.64%, Test Loss: 3.4352, Test Accuracy: 62.81%, Time: 102.888s\n",
      "Epoch [52/150], Loss: 0.0691, Accuracy: 98.30%, Test Loss: 3.7023, Test Accuracy: 63.70%, Time: 103.209s\n",
      "Epoch [53/150], Loss: 0.0818, Accuracy: 97.93%, Test Loss: 3.6410, Test Accuracy: 62.87%, Time: 103.203s\n",
      "Epoch [54/150], Loss: 0.0836, Accuracy: 97.94%, Test Loss: 3.7738, Test Accuracy: 62.29%, Time: 103.214s\n",
      "Epoch [55/150], Loss: 0.0799, Accuracy: 98.12%, Test Loss: 3.4663, Test Accuracy: 62.01%, Time: 103.224s\n",
      "Epoch [56/150], Loss: 0.1042, Accuracy: 97.54%, Test Loss: 3.6702, Test Accuracy: 62.43%, Time: 103.406s\n",
      "Epoch [57/150], Loss: 0.0855, Accuracy: 98.04%, Test Loss: 3.5339, Test Accuracy: 62.85%, Time: 103.267s\n",
      "Epoch [58/150], Loss: 0.0839, Accuracy: 97.87%, Test Loss: 3.9912, Test Accuracy: 62.98%, Time: 103.157s\n",
      "Epoch [59/150], Loss: 0.0869, Accuracy: 97.86%, Test Loss: 3.8952, Test Accuracy: 64.03%, Time: 103.359s\n",
      "Epoch [60/150], Loss: 0.0982, Accuracy: 97.72%, Test Loss: 3.1368, Test Accuracy: 62.77%, Time: 103.225s\n",
      "Epoch [61/150], Loss: 0.0793, Accuracy: 98.07%, Test Loss: 3.8836, Test Accuracy: 63.49%, Time: 102.857s\n",
      "Epoch [62/150], Loss: 0.0928, Accuracy: 97.92%, Test Loss: 4.2763, Test Accuracy: 62.20%, Time: 103.262s\n",
      "Epoch [63/150], Loss: 0.0791, Accuracy: 98.05%, Test Loss: 3.5219, Test Accuracy: 63.64%, Time: 102.983s\n",
      "Epoch [64/150], Loss: 0.0896, Accuracy: 97.85%, Test Loss: 4.4003, Test Accuracy: 61.83%, Time: 103.212s\n",
      "Epoch [65/150], Loss: 0.1069, Accuracy: 97.63%, Test Loss: 3.3153, Test Accuracy: 62.24%, Time: 102.995s\n",
      "Epoch [66/150], Loss: 0.0874, Accuracy: 97.96%, Test Loss: 4.1156, Test Accuracy: 62.72%, Time: 102.973s\n",
      "Epoch [67/150], Loss: 0.1002, Accuracy: 97.76%, Test Loss: 3.9688, Test Accuracy: 63.40%, Time: 103.740s\n",
      "Epoch [68/150], Loss: 0.0863, Accuracy: 98.14%, Test Loss: 3.6482, Test Accuracy: 62.62%, Time: 103.459s\n",
      "Epoch [69/150], Loss: 0.0785, Accuracy: 98.09%, Test Loss: 4.3163, Test Accuracy: 62.60%, Time: 103.771s\n",
      "Epoch [70/150], Loss: 0.0986, Accuracy: 97.87%, Test Loss: 4.2485, Test Accuracy: 62.83%, Time: 102.850s\n",
      "Epoch [71/150], Loss: 0.0854, Accuracy: 98.07%, Test Loss: 4.0927, Test Accuracy: 64.01%, Time: 103.326s\n",
      "Epoch [72/150], Loss: 0.0874, Accuracy: 98.03%, Test Loss: 3.5358, Test Accuracy: 62.42%, Time: 102.917s\n",
      "Epoch [73/150], Loss: 0.0853, Accuracy: 98.12%, Test Loss: 4.1079, Test Accuracy: 63.61%, Time: 103.148s\n",
      "Epoch [74/150], Loss: 0.0877, Accuracy: 98.08%, Test Loss: 4.3616, Test Accuracy: 63.61%, Time: 103.025s\n",
      "Epoch [75/150], Loss: 0.0912, Accuracy: 98.09%, Test Loss: 4.2981, Test Accuracy: 62.17%, Time: 103.243s\n",
      "Epoch [76/150], Loss: 0.1025, Accuracy: 97.65%, Test Loss: 4.0347, Test Accuracy: 62.30%, Time: 103.107s\n",
      "Epoch [77/150], Loss: 0.0761, Accuracy: 98.43%, Test Loss: 4.2868, Test Accuracy: 63.00%, Time: 103.340s\n",
      "Epoch [78/150], Loss: 0.0954, Accuracy: 98.03%, Test Loss: 4.2618, Test Accuracy: 62.80%, Time: 103.095s\n",
      "Epoch [79/150], Loss: 0.1039, Accuracy: 97.80%, Test Loss: 4.2404, Test Accuracy: 63.25%, Time: 103.348s\n",
      "Epoch [80/150], Loss: 0.0803, Accuracy: 98.16%, Test Loss: 4.3313, Test Accuracy: 63.16%, Time: 103.675s\n",
      "Epoch [81/150], Loss: 0.0995, Accuracy: 97.94%, Test Loss: 4.4819, Test Accuracy: 63.53%, Time: 103.243s\n",
      "Epoch [82/150], Loss: 0.0995, Accuracy: 97.90%, Test Loss: 4.1462, Test Accuracy: 62.23%, Time: 103.767s\n",
      "Epoch [83/150], Loss: 0.0757, Accuracy: 98.39%, Test Loss: 4.5369, Test Accuracy: 63.14%, Time: 103.305s\n",
      "Epoch [84/150], Loss: 0.0871, Accuracy: 98.16%, Test Loss: 4.4951, Test Accuracy: 62.23%, Time: 103.227s\n",
      "Epoch [85/150], Loss: 0.0931, Accuracy: 98.01%, Test Loss: 4.4544, Test Accuracy: 62.33%, Time: 103.173s\n",
      "Epoch [86/150], Loss: 0.0712, Accuracy: 98.45%, Test Loss: 4.5162, Test Accuracy: 63.45%, Time: 103.116s\n",
      "Epoch [87/150], Loss: 0.0811, Accuracy: 98.26%, Test Loss: 4.5590, Test Accuracy: 62.95%, Time: 103.290s\n",
      "Epoch [88/150], Loss: 0.0973, Accuracy: 98.03%, Test Loss: 4.3445, Test Accuracy: 62.75%, Time: 103.023s\n",
      "Epoch [89/150], Loss: 0.0861, Accuracy: 98.16%, Test Loss: 4.4118, Test Accuracy: 62.96%, Time: 103.120s\n",
      "Epoch [90/150], Loss: 0.0979, Accuracy: 98.04%, Test Loss: 4.0094, Test Accuracy: 63.17%, Time: 103.205s\n",
      "Epoch [91/150], Loss: 0.0964, Accuracy: 98.06%, Test Loss: 4.3932, Test Accuracy: 63.63%, Time: 103.103s\n",
      "Epoch [92/150], Loss: 0.0748, Accuracy: 98.44%, Test Loss: 5.0895, Test Accuracy: 62.38%, Time: 103.527s\n",
      "Epoch [93/150], Loss: 0.1028, Accuracy: 97.89%, Test Loss: 4.2307, Test Accuracy: 62.81%, Time: 103.148s\n",
      "Epoch [94/150], Loss: 0.0988, Accuracy: 98.03%, Test Loss: 4.3657, Test Accuracy: 62.59%, Time: 102.765s\n",
      "Epoch [95/150], Loss: 0.1038, Accuracy: 97.97%, Test Loss: 5.0138, Test Accuracy: 62.41%, Time: 103.777s\n",
      "Epoch [96/150], Loss: 0.0944, Accuracy: 98.10%, Test Loss: 4.4300, Test Accuracy: 63.15%, Time: 103.454s\n",
      "Epoch [97/150], Loss: 0.0812, Accuracy: 98.45%, Test Loss: 5.3944, Test Accuracy: 61.97%, Time: 103.096s\n",
      "Epoch [98/150], Loss: 0.1036, Accuracy: 98.06%, Test Loss: 4.8793, Test Accuracy: 63.86%, Time: 103.479s\n",
      "Epoch [99/150], Loss: 0.0598, Accuracy: 98.74%, Test Loss: 5.6499, Test Accuracy: 63.12%, Time: 103.018s\n",
      "Epoch [100/150], Loss: 0.0941, Accuracy: 98.18%, Test Loss: 5.7423, Test Accuracy: 61.95%, Time: 103.319s\n",
      "Epoch [101/150], Loss: 0.0924, Accuracy: 98.26%, Test Loss: 4.0316, Test Accuracy: 63.39%, Time: 103.224s\n",
      "Epoch [102/150], Loss: 0.0975, Accuracy: 98.11%, Test Loss: 5.2521, Test Accuracy: 63.55%, Time: 103.437s\n",
      "Epoch [103/150], Loss: 0.0707, Accuracy: 98.47%, Test Loss: 5.0731, Test Accuracy: 62.05%, Time: 102.757s\n",
      "Epoch [104/150], Loss: 0.1027, Accuracy: 98.07%, Test Loss: 4.4097, Test Accuracy: 62.76%, Time: 102.951s\n",
      "Epoch [105/150], Loss: 0.0795, Accuracy: 98.44%, Test Loss: 5.5228, Test Accuracy: 61.90%, Time: 103.047s\n",
      "Epoch [106/150], Loss: 0.1103, Accuracy: 97.94%, Test Loss: 4.5781, Test Accuracy: 63.28%, Time: 103.190s\n",
      "Epoch [107/150], Loss: 0.0710, Accuracy: 98.55%, Test Loss: 5.0836, Test Accuracy: 63.02%, Time: 103.150s\n",
      "Epoch [108/150], Loss: 0.0921, Accuracy: 98.32%, Test Loss: 5.4085, Test Accuracy: 63.13%, Time: 103.518s\n",
      "Epoch [109/150], Loss: 0.0766, Accuracy: 98.49%, Test Loss: 5.2501, Test Accuracy: 62.69%, Time: 102.997s\n",
      "Epoch [110/150], Loss: 0.1076, Accuracy: 97.99%, Test Loss: 4.9404, Test Accuracy: 62.52%, Time: 103.161s\n",
      "Epoch [111/150], Loss: 0.0755, Accuracy: 98.55%, Test Loss: 6.1520, Test Accuracy: 63.17%, Time: 103.370s\n",
      "Epoch [112/150], Loss: 0.1061, Accuracy: 98.15%, Test Loss: 5.0816, Test Accuracy: 62.87%, Time: 103.095s\n",
      "Epoch [113/150], Loss: 0.0915, Accuracy: 98.23%, Test Loss: 4.8580, Test Accuracy: 61.76%, Time: 103.775s\n",
      "Epoch [114/150], Loss: 0.0946, Accuracy: 98.20%, Test Loss: 5.3864, Test Accuracy: 63.64%, Time: 103.011s\n",
      "Epoch [115/150], Loss: 0.0964, Accuracy: 98.25%, Test Loss: 5.0804, Test Accuracy: 63.95%, Time: 102.952s\n",
      "Epoch [116/150], Loss: 0.0889, Accuracy: 98.34%, Test Loss: 5.3001, Test Accuracy: 63.14%, Time: 103.169s\n",
      "Epoch [117/150], Loss: 0.0805, Accuracy: 98.57%, Test Loss: 5.0396, Test Accuracy: 62.48%, Time: 103.116s\n",
      "Epoch [118/150], Loss: 0.0992, Accuracy: 98.22%, Test Loss: 5.0424, Test Accuracy: 63.07%, Time: 102.753s\n",
      "Epoch [119/150], Loss: 0.1021, Accuracy: 98.20%, Test Loss: 4.3831, Test Accuracy: 62.86%, Time: 103.001s\n",
      "Epoch [120/150], Loss: 0.0656, Accuracy: 98.71%, Test Loss: 5.4573, Test Accuracy: 62.76%, Time: 102.929s\n",
      "Epoch [121/150], Loss: 0.0812, Accuracy: 98.45%, Test Loss: 4.4812, Test Accuracy: 63.47%, Time: 103.410s\n",
      "Epoch [122/150], Loss: 0.0965, Accuracy: 98.26%, Test Loss: 6.4685, Test Accuracy: 61.98%, Time: 102.788s\n",
      "Epoch [123/150], Loss: 0.0778, Accuracy: 98.51%, Test Loss: 6.5186, Test Accuracy: 63.81%, Time: 102.798s\n",
      "Epoch [124/150], Loss: 0.0875, Accuracy: 98.34%, Test Loss: 6.3487, Test Accuracy: 63.04%, Time: 103.329s\n",
      "Epoch [125/150], Loss: 0.1070, Accuracy: 98.06%, Test Loss: 5.3316, Test Accuracy: 62.89%, Time: 103.283s\n",
      "Epoch [126/150], Loss: 0.0802, Accuracy: 98.57%, Test Loss: 4.8177, Test Accuracy: 62.94%, Time: 102.882s\n",
      "Epoch [127/150], Loss: 0.0995, Accuracy: 98.26%, Test Loss: 5.1874, Test Accuracy: 64.36%, Time: 102.765s\n",
      "Epoch [128/150], Loss: 0.0793, Accuracy: 98.52%, Test Loss: 5.8746, Test Accuracy: 62.94%, Time: 102.931s\n",
      "Epoch [129/150], Loss: 0.0893, Accuracy: 98.51%, Test Loss: 5.4030, Test Accuracy: 63.96%, Time: 103.103s\n",
      "Epoch [130/150], Loss: 0.1110, Accuracy: 98.07%, Test Loss: 5.8088, Test Accuracy: 62.77%, Time: 103.494s\n",
      "Epoch [131/150], Loss: 0.1020, Accuracy: 98.29%, Test Loss: 5.3575, Test Accuracy: 64.13%, Time: 102.705s\n",
      "Epoch [132/150], Loss: 0.0707, Accuracy: 98.72%, Test Loss: 5.3794, Test Accuracy: 63.15%, Time: 102.876s\n",
      "Epoch [133/150], Loss: 0.0926, Accuracy: 98.37%, Test Loss: 7.3089, Test Accuracy: 64.03%, Time: 103.153s\n",
      "Epoch [134/150], Loss: 0.1045, Accuracy: 98.21%, Test Loss: 5.8181, Test Accuracy: 63.05%, Time: 102.850s\n",
      "Epoch [135/150], Loss: 0.0926, Accuracy: 98.39%, Test Loss: 5.3903, Test Accuracy: 62.81%, Time: 102.997s\n",
      "Epoch [136/150], Loss: 0.0941, Accuracy: 98.37%, Test Loss: 5.4579, Test Accuracy: 63.32%, Time: 104.021s\n",
      "Epoch [137/150], Loss: 0.1208, Accuracy: 97.76%, Test Loss: 5.0615, Test Accuracy: 61.47%, Time: 103.535s\n",
      "Epoch [138/150], Loss: 0.0709, Accuracy: 98.61%, Test Loss: 4.4225, Test Accuracy: 63.62%, Time: 103.071s\n",
      "Epoch [139/150], Loss: 0.1080, Accuracy: 98.22%, Test Loss: 4.4566, Test Accuracy: 62.75%, Time: 103.308s\n",
      "Epoch [140/150], Loss: 0.0806, Accuracy: 98.46%, Test Loss: 5.3045, Test Accuracy: 63.02%, Time: 103.477s\n",
      "Epoch [141/150], Loss: 0.1002, Accuracy: 98.37%, Test Loss: 4.4906, Test Accuracy: 63.22%, Time: 103.331s\n",
      "Epoch [142/150], Loss: 0.0677, Accuracy: 98.78%, Test Loss: 5.6456, Test Accuracy: 63.16%, Time: 103.051s\n",
      "Epoch [143/150], Loss: 0.1000, Accuracy: 98.35%, Test Loss: 5.5847, Test Accuracy: 63.32%, Time: 102.932s\n",
      "Epoch [144/150], Loss: 0.0683, Accuracy: 98.81%, Test Loss: 5.8194, Test Accuracy: 63.17%, Time: 103.338s\n",
      "Epoch [145/150], Loss: 0.1012, Accuracy: 98.46%, Test Loss: 5.1178, Test Accuracy: 62.00%, Time: 103.090s\n",
      "Epoch [146/150], Loss: 0.0883, Accuracy: 98.43%, Test Loss: 5.5710, Test Accuracy: 62.52%, Time: 103.332s\n",
      "Epoch [147/150], Loss: 0.0800, Accuracy: 98.63%, Test Loss: 4.0189, Test Accuracy: 61.48%, Time: 102.796s\n",
      "Epoch [148/150], Loss: 0.0705, Accuracy: 98.73%, Test Loss: 6.1685, Test Accuracy: 61.93%, Time: 102.906s\n",
      "Epoch [149/150], Loss: 0.1261, Accuracy: 97.94%, Test Loss: 5.2173, Test Accuracy: 62.62%, Time: 102.840s\n",
      "Epoch [150/150], Loss: 0.0964, Accuracy: 98.35%, Test Loss: 5.4937, Test Accuracy: 62.79%, Time: 103.148s\n"
     ]
    }
   ],
   "source": [
    "# train\n",
    "for epoch in range(EPOCHS):\n",
    "    start_time = time.time()\n",
    "    running_loss = 0.0\n",
    "    running_correct = 0   # to track number of correct predictions\n",
    "    total = 0             # to track total number of samples\n",
    "\n",
    "    for i, (inputs, labels) in enumerate(trainloader, 0):\n",
    "        # Move inputs and labels to the device\n",
    "        inputs, labels = inputs.to(device), labels.to(device)\n",
    "\n",
    "        # Zero the parameter gradients\n",
    "        optimizer.zero_grad()\n",
    "\n",
    "        # Forward pass\n",
    "        outputs = model(inputs)\n",
    "        loss = criterion(outputs, labels)\n",
    "        running_loss += loss.item()\n",
    "\n",
    "        # Determine class predictions and track accuracy\n",
    "        _, predicted = torch.max(outputs.data, 1)\n",
    "        total += labels.size(0)\n",
    "        running_correct += (predicted == labels).sum().item()\n",
    "\n",
    "        # Backward pass and optimization\n",
    "        loss.backward()\n",
    "        optimizer.step()\n",
    "\n",
    "    epoch_accuracy = 100 * running_correct / total\n",
    "    epoch_loss = running_loss / (i + 1)\n",
    "    test_loss, test_accuracy = evaluate(model, testloader, criterion)\n",
    "    print(f\"Epoch [{epoch + 1}/{EPOCHS}], Loss: {epoch_loss:.4f}, Accuracy: {epoch_accuracy:.2f}%, Test Loss: {test_loss:.4f}, Test Accuracy: {test_accuracy:.2f}%, Time: {time.time() - start_time:.3f}s\")\n",
    "\n",
    "    # save for plot\n",
    "    train_losses.append(epoch_loss)\n",
    "    train_accuracies.append(epoch_accuracy)\n",
    "    test_losses.append(test_loss)\n",
    "    test_accuracies.append(test_accuracy)"
   ]
  },
  {
   "cell_type": "markdown",
   "id": "af69c638",
   "metadata": {
    "id": "vzDA7QbbluVY",
    "papermill": {
     "duration": 0.027671,
     "end_time": "2024-07-09T18:39:44.936792",
     "exception": false,
     "start_time": "2024-07-09T18:39:44.909121",
     "status": "completed"
    },
    "tags": []
   },
   "source": [
    "## 6. Inference"
   ]
  },
  {
   "cell_type": "markdown",
   "id": "f87063f9",
   "metadata": {
    "id": "kdPXIboQmA0U",
    "papermill": {
     "duration": 0.027688,
     "end_time": "2024-07-09T18:39:44.992486",
     "exception": false,
     "start_time": "2024-07-09T18:39:44.964798",
     "status": "completed"
    },
    "tags": []
   },
   "source": [
    "### 6.1. Loss Visualization"
   ]
  },
  {
   "cell_type": "code",
   "execution_count": 20,
   "id": "edb05d00",
   "metadata": {
    "execution": {
     "iopub.execute_input": "2024-07-09T18:39:45.050450Z",
     "iopub.status.busy": "2024-07-09T18:39:45.049698Z",
     "iopub.status.idle": "2024-07-09T18:39:45.473165Z",
     "shell.execute_reply": "2024-07-09T18:39:45.472317Z"
    },
    "executionInfo": {
     "elapsed": 428,
     "status": "ok",
     "timestamp": 1720513089319,
     "user": {
      "displayName": "Thịnh Nguyễn",
      "userId": "10296234764254197383"
     },
     "user_tz": -420
    },
    "id": "_LN5ErfolFuA",
    "outputId": "32350dfd-96a0-43ac-d289-f6ebe8b59618",
    "papermill": {
     "duration": 0.455056,
     "end_time": "2024-07-09T18:39:45.475537",
     "exception": false,
     "start_time": "2024-07-09T18:39:45.020481",
     "status": "completed"
    },
    "tags": []
   },
   "outputs": [
    {
     "data": {
      "text/plain": [
       "<matplotlib.legend.Legend at 0x7ced161d1f60>"
      ]
     },
     "execution_count": 20,
     "metadata": {},
     "output_type": "execute_result"
    },
    {
     "data": {
      "image/png": "[encoded data removed]",
      "text/plain": [
       "<Figure size 640x480 with 1 Axes>"
      ]
     },
     "metadata": {},
     "output_type": "display_data"
    }
   ],
   "source": [
    "plt.plot(train_losses, label='train_losses')\n",
    "plt.plot(test_losses, label='test_losses')\n",
    "plt.legend()"
   ]
  },
  {
   "cell_type": "markdown",
   "id": "4730afa5",
   "metadata": {
    "id": "c0s_IF0u1rNp",
    "papermill": {
     "duration": 0.028563,
     "end_time": "2024-07-09T18:39:45.533670",
     "exception": false,
     "start_time": "2024-07-09T18:39:45.505107",
     "status": "completed"
    },
    "tags": []
   },
   "source": [
    "### 6.2. Accuracy Visualization"
   ]
  },
  {
   "cell_type": "code",
   "execution_count": 21,
   "id": "307d6782",
   "metadata": {
    "execution": {
     "iopub.execute_input": "2024-07-09T18:39:45.592720Z",
     "iopub.status.busy": "2024-07-09T18:39:45.592443Z",
     "iopub.status.idle": "2024-07-09T18:39:45.878574Z",
     "shell.execute_reply": "2024-07-09T18:39:45.877777Z"
    },
    "executionInfo": {
     "elapsed": 983,
     "status": "ok",
     "timestamp": 1720513092380,
     "user": {
      "displayName": "Thịnh Nguyễn",
      "userId": "10296234764254197383"
     },
     "user_tz": -420
    },
    "id": "Kd-hFUdy1uh3",
    "outputId": "211a2770-fe22-40fc-ae75-86f2917feb72",
    "papermill": {
     "duration": 0.318019,
     "end_time": "2024-07-09T18:39:45.880368",
     "exception": false,
     "start_time": "2024-07-09T18:39:45.562349",
     "status": "completed"
    },
    "tags": []
   },
   "outputs": [
    {
     "data": {
      "text/plain": [
       "<matplotlib.legend.Legend at 0x7ced14fc9d50>"
      ]
     },
     "execution_count": 21,
     "metadata": {},
     "output_type": "execute_result"
    },
    {
     "data": {
      "image/png": "[encoded data removed]",
      "text/plain": [
       "<Figure size 640x480 with 1 Axes>"
      ]
     },
     "metadata": {},
     "output_type": "display_data"
    }
   ],
   "source": [
    "plt.plot(train_accuracies, label='train_accuracy')\n",
    "plt.plot(test_accuracies, label='test_accuracy')\n",
    "plt.legend()"
   ]
  },
  {
   "cell_type": "markdown",
   "id": "6c925eff",
   "metadata": {
    "id": "J5ySonVfdkox",
    "papermill": {
     "duration": 0.029211,
     "end_time": "2024-07-09T18:39:45.939408",
     "exception": false,
     "start_time": "2024-07-09T18:39:45.910197",
     "status": "completed"
    },
    "tags": []
   },
   "source": [
    "### 6.3. Best Accuracy"
   ]
  },
  {
   "cell_type": "code",
   "execution_count": 22,
   "id": "3388292f",
   "metadata": {
    "execution": {
     "iopub.execute_input": "2024-07-09T18:39:45.999493Z",
     "iopub.status.busy": "2024-07-09T18:39:45.999170Z",
     "iopub.status.idle": "2024-07-09T18:39:46.005241Z",
     "shell.execute_reply": "2024-07-09T18:39:46.004429Z"
    },
    "executionInfo": {
     "elapsed": 399,
     "status": "ok",
     "timestamp": 1720513094977,
     "user": {
      "displayName": "Thịnh Nguyễn",
      "userId": "10296234764254197383"
     },
     "user_tz": -420
    },
    "id": "xLAuChgx1yaS",
    "outputId": "5900f41b-35eb-4315-a004-f76749f7c7ce",
    "papermill": {
     "duration": 0.038124,
     "end_time": "2024-07-09T18:39:46.007122",
     "exception": false,
     "start_time": "2024-07-09T18:39:45.968998",
     "status": "completed"
    },
    "tags": []
   },
   "outputs": [
    {
     "name": "stdout",
     "output_type": "stream",
     "text": [
      "\n",
      "Best epoch: 7 with test accuracy: 66.47%\n",
      "\n",
      "Best epoch: 144 with train accuracy: 98.81%\n"
     ]
    }
   ],
   "source": [
    "# the best accuracy\n",
    "best_epoch_test = np.argmax(test_accuracies)\n",
    "print(f\"\\nBest epoch: {best_epoch_test + 1} with test accuracy: {test_accuracies[best_epoch_test]:.2f}%\")\n",
    "best_epoch_train = np.argmax(train_accuracies)\n",
    "print(f\"\\nBest epoch: {best_epoch_train + 1} with train accuracy: {train_accuracies[best_epoch_train]:.2f}%\")"
   ]
  },
  {
   "cell_type": "markdown",
   "id": "3ddf1553",
   "metadata": {
    "id": "rchetQ3DK6Lk",
    "papermill": {
     "duration": 0.029411,
     "end_time": "2024-07-09T18:39:46.066552",
     "exception": false,
     "start_time": "2024-07-09T18:39:46.037141",
     "status": "completed"
    },
    "tags": []
   },
   "source": [
    "## 7. Conclusion\n",
    "- **Accuracy**: 90.91%"
   ]
  }
 ],
 "metadata": {
  "accelerator": "GPU",
  "colab": {
   "authorship_tag": "ABX9TyP9HRtrr/LUjDIgnV18oXZ3",
   "gpuType": "T4",
   "provenance": [
    {
     "file_id": "14zaMXhRmTdNN6pI8pmxwsgrB4FAmvEiE",
     "timestamp": 1720363444299
    }
   ]
  },
  "kaggle": {
   "accelerator": "gpu",
   "dataSources": [],
   "isGpuEnabled": true,
   "isInternetEnabled": true,
   "language": "python",
   "sourceType": "notebook"
  },
  "kernelspec": {
   "display_name": "Python 3",
   "name": "python3"
  },
  "language_info": {
   "codemirror_mode": {
    "name": "ipython",
    "version": 3
   },
   "file_extension": ".py",
   "mimetype": "text/x-python",
   "name": "python",
   "nbconvert_exporter": "python",
   "pygments_lexer": "ipython3",
   "version": "3.10.13"
  },
  "papermill": {
   "default_parameters": {},
   "duration": 15563.948234,
   "end_time": "2024-07-09T18:39:47.447596",
   "environment_variables": {},
   "exception": null,
   "input_path": "__notebook__.ipynb",
   "output_path": "__notebook__.ipynb",
   "parameters": {},
   "start_time": "2024-07-09T14:20:23.499362",
   "version": "2.5.0"
  }
 },
 "nbformat": 4,
 "nbformat_minor": 5
}
