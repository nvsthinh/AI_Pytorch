{
 "cells": [
  {
   "cell_type": "markdown",
   "id": "b3237424",
   "metadata": {
    "id": "IwymkzhzYoPa",
    "papermill": {
     "duration": 0.009733,
     "end_time": "2024-07-10T02:07:01.386806",
     "exception": false,
     "start_time": "2024-07-10T02:07:01.377073",
     "status": "completed"
    },
    "tags": []
   },
   "source": [
    "# VGG11 PyTorch with CIFAR10\n",
    "- **Task**: Classification\n",
    "- **Data**: CIFAR10 Dataset\n",
    "- **Model**: VGG11\n",
    "- **Loss function**: Cross Entropy Loss\n",
    "- **Optimization**: Adam"
   ]
  },
  {
   "cell_type": "code",
   "execution_count": 1,
   "id": "c7eb09e0",
   "metadata": {
    "execution": {
     "iopub.execute_input": "2024-07-10T02:07:01.406753Z",
     "iopub.status.busy": "2024-07-10T02:07:01.406297Z",
     "iopub.status.idle": "2024-07-10T02:07:15.741660Z",
     "shell.execute_reply": "2024-07-10T02:07:15.740519Z"
    },
    "executionInfo": {
     "elapsed": 17798,
     "status": "ok",
     "timestamp": 1720534980157,
     "user": {
      "displayName": "Thịnh Nguyễn",
      "userId": "10296234764254197383"
     },
     "user_tz": -420
    },
    "id": "fgdvxoFEsmv6",
    "outputId": "1d0f6a56-6b9a-4f67-d4dc-6f73fa01956e",
    "papermill": {
     "duration": 14.347931,
     "end_time": "2024-07-10T02:07:15.744082",
     "exception": false,
     "start_time": "2024-07-10T02:07:01.396151",
     "status": "completed"
    },
    "tags": []
   },
   "outputs": [],
   "source": [
    "!pip install -q watermark"
   ]
  },
  {
   "cell_type": "code",
   "execution_count": 2,
   "id": "01a94cb3",
   "metadata": {
    "execution": {
     "iopub.execute_input": "2024-07-10T02:07:15.764809Z",
     "iopub.status.busy": "2024-07-10T02:07:15.764183Z",
     "iopub.status.idle": "2024-07-10T02:07:19.448801Z",
     "shell.execute_reply": "2024-07-10T02:07:19.448002Z"
    },
    "executionInfo": {
     "elapsed": 5146,
     "status": "ok",
     "timestamp": 1720534985298,
     "user": {
      "displayName": "Thịnh Nguyễn",
      "userId": "10296234764254197383"
     },
     "user_tz": -420
    },
    "id": "Ao8nws0Unz3B",
    "outputId": "7de3da11-0eab-4977-c878-b64131c958c8",
    "papermill": {
     "duration": 3.697145,
     "end_time": "2024-07-10T02:07:19.451030",
     "exception": false,
     "start_time": "2024-07-10T02:07:15.753885",
     "status": "completed"
    },
    "tags": []
   },
   "outputs": [
    {
     "name": "stdout",
     "output_type": "stream",
     "text": [
      "Author: Nguyen Van Sy Thinh\n",
      "\n",
      "Python implementation: CPython\n",
      "Python version       : 3.10.13\n",
      "IPython version      : 8.20.0\n",
      "\n",
      "torch: 2.1.2\n",
      "\n"
     ]
    }
   ],
   "source": [
    "%load_ext watermark\n",
    "%watermark -a 'Nguyen Van Sy Thinh' -v -p torch"
   ]
  },
  {
   "cell_type": "markdown",
   "id": "16c4039c",
   "metadata": {
    "id": "k4Fm8LFQYxJi",
    "papermill": {
     "duration": 0.009014,
     "end_time": "2024-07-10T02:07:19.469702",
     "exception": false,
     "start_time": "2024-07-10T02:07:19.460688",
     "status": "completed"
    },
    "tags": []
   },
   "source": [
    "## 1. Import Library"
   ]
  },
  {
   "cell_type": "code",
   "execution_count": 3,
   "id": "d969f490",
   "metadata": {
    "execution": {
     "iopub.execute_input": "2024-07-10T02:07:19.490832Z",
     "iopub.status.busy": "2024-07-10T02:07:19.490357Z",
     "iopub.status.idle": "2024-07-10T02:07:32.130290Z",
     "shell.execute_reply": "2024-07-10T02:07:32.129037Z"
    },
    "executionInfo": {
     "elapsed": 24608,
     "status": "ok",
     "timestamp": 1720534962366,
     "user": {
      "displayName": "Thịnh Nguyễn",
      "userId": "10296234764254197383"
     },
     "user_tz": -420
    },
    "id": "Wt_-XQF1lqdr",
    "papermill": {
     "duration": 12.652803,
     "end_time": "2024-07-10T02:07:32.132997",
     "exception": false,
     "start_time": "2024-07-10T02:07:19.480194",
     "status": "completed"
    },
    "tags": []
   },
   "outputs": [],
   "source": [
    "!pip install -q torchsummary"
   ]
  },
  {
   "cell_type": "code",
   "execution_count": 4,
   "id": "1fef383b",
   "metadata": {
    "execution": {
     "iopub.execute_input": "2024-07-10T02:07:32.153886Z",
     "iopub.status.busy": "2024-07-10T02:07:32.153577Z",
     "iopub.status.idle": "2024-07-10T02:07:33.797267Z",
     "shell.execute_reply": "2024-07-10T02:07:33.796347Z"
    },
    "executionInfo": {
     "elapsed": 4899,
     "status": "ok",
     "timestamp": 1720534991805,
     "user": {
      "displayName": "Thịnh Nguyễn",
      "userId": "10296234764254197383"
     },
     "user_tz": -420
    },
    "id": "hdWQADB0ZFYP",
    "outputId": "f7e57dd9-e402-412b-f262-2604031ccd5e",
    "papermill": {
     "duration": 1.656493,
     "end_time": "2024-07-10T02:07:33.799365",
     "exception": false,
     "start_time": "2024-07-10T02:07:32.142872",
     "status": "completed"
    },
    "tags": []
   },
   "outputs": [
    {
     "data": {
      "text/plain": [
       "<torch._C.Generator at 0x7f8ce7c52610>"
      ]
     },
     "execution_count": 4,
     "metadata": {},
     "output_type": "execute_result"
    }
   ],
   "source": [
    "import torch\n",
    "import torchvision.transforms as transforms\n",
    "import torch.nn as nn\n",
    "import torch.optim as optim\n",
    "import torch.nn.functional as F\n",
    "\n",
    "import numpy as np\n",
    "import matplotlib.pyplot as plt\n",
    "import time\n",
    "\n",
    "import torchvision\n",
    "from torchvision.datasets import CIFAR10\n",
    "from torch.utils.data import DataLoader\n",
    "from torch.optim import Adam\n",
    "from torchsummary import summary\n",
    "\n",
    "# Check if GPU is available\n",
    "device = torch.device(\"cuda:0\" if torch.cuda.is_available() else \"cpu\")\n",
    "torch.manual_seed(42)"
   ]
  },
  {
   "cell_type": "markdown",
   "id": "5570e305",
   "metadata": {
    "id": "DkYKMYX8YygA",
    "papermill": {
     "duration": 0.009311,
     "end_time": "2024-07-10T02:07:33.819458",
     "exception": false,
     "start_time": "2024-07-10T02:07:33.810147",
     "status": "completed"
    },
    "tags": []
   },
   "source": [
    "## 2. Data"
   ]
  },
  {
   "cell_type": "markdown",
   "id": "d8f2702c",
   "metadata": {
    "id": "sXZrwCVrZIWw",
    "papermill": {
     "duration": 0.009146,
     "end_time": "2024-07-10T02:07:33.838133",
     "exception": false,
     "start_time": "2024-07-10T02:07:33.828987",
     "status": "completed"
    },
    "tags": []
   },
   "source": [
    "### 2.1. CIFAR10 Dataset"
   ]
  },
  {
   "cell_type": "markdown",
   "id": "a702a6f8",
   "metadata": {
    "id": "pX21MHOBtCXc",
    "papermill": {
     "duration": 0.0092,
     "end_time": "2024-07-10T02:07:33.856797",
     "exception": false,
     "start_time": "2024-07-10T02:07:33.847597",
     "status": "completed"
    },
    "tags": []
   },
   "source": [
    "#### 2.1.1. Load dataset to compute Mean and Std to Normalize Z-score"
   ]
  },
  {
   "cell_type": "code",
   "execution_count": 5,
   "id": "5d7791f8",
   "metadata": {
    "execution": {
     "iopub.execute_input": "2024-07-10T02:07:33.877033Z",
     "iopub.status.busy": "2024-07-10T02:07:33.876658Z",
     "iopub.status.idle": "2024-07-10T02:07:59.696242Z",
     "shell.execute_reply": "2024-07-10T02:07:59.695032Z"
    },
    "executionInfo": {
     "elapsed": 32397,
     "status": "ok",
     "timestamp": 1720535096783,
     "user": {
      "displayName": "Thịnh Nguyễn",
      "userId": "10296234764254197383"
     },
     "user_tz": -420
    },
    "id": "wZlmQGmpYPcr",
    "outputId": "aec39215-95e2-4c1c-c364-aaeb105c6859",
    "papermill": {
     "duration": 25.832043,
     "end_time": "2024-07-10T02:07:59.698380",
     "exception": false,
     "start_time": "2024-07-10T02:07:33.866337",
     "status": "completed"
    },
    "tags": []
   },
   "outputs": [
    {
     "name": "stdout",
     "output_type": "stream",
     "text": [
      "Downloading https://www.cs.toronto.edu/~kriz/cifar-10-python.tar.gz to data/cifar-10-python.tar.gz\n"
     ]
    },
    {
     "name": "stderr",
     "output_type": "stream",
     "text": [
      "100%|██████████| 170498071/170498071 [00:04<00:00, 35125000.62it/s]\n"
     ]
    },
    {
     "name": "stdout",
     "output_type": "stream",
     "text": [
      "Extracting data/cifar-10-python.tar.gz to data\n",
      "tensor([0.4914, 0.4822, 0.4465]) tensor([0.2823, 0.2783, 0.2990])\n"
     ]
    }
   ],
   "source": [
    "# Load dataset with only the ToTensor transform to compute mean and std\n",
    "compute_transform = transforms.Compose([transforms.ToTensor()])\n",
    "dataset = CIFAR10(root='data', train=True, transform=compute_transform, download=True)\n",
    "loader = torch.utils.data.DataLoader(dataset, batch_size=len(dataset), shuffle=False, num_workers=2)\n",
    "\n",
    "mean = 0.0\n",
    "for images, _ in loader:\n",
    "    batch_samples = images.size(0)  # Batch size\n",
    "    images = images.view(batch_samples, images.size(1), -1)\n",
    "    mean += images.mean(2).sum(0)\n",
    "mean = mean / len(loader.dataset)\n",
    "\n",
    "variance = 0.0\n",
    "for images, _ in loader:\n",
    "    batch_samples = images.size(0)\n",
    "    images = images.view(batch_samples, images.size(1), -1)\n",
    "    variance += ((images - mean.unsqueeze(1))**2).sum([0,2])\n",
    "std = torch.sqrt(variance / (len(loader.dataset)*28*28))\n",
    "\n",
    "print(mean, std)"
   ]
  },
  {
   "cell_type": "markdown",
   "id": "f571d2f0",
   "metadata": {
    "id": "exa_gOm0tKJF",
    "papermill": {
     "duration": 0.014082,
     "end_time": "2024-07-10T02:07:59.726335",
     "exception": false,
     "start_time": "2024-07-10T02:07:59.712253",
     "status": "completed"
    },
    "tags": []
   },
   "source": [
    "#### 2.1.2. Load CIFAR10 Dataset"
   ]
  },
  {
   "cell_type": "code",
   "execution_count": 6,
   "id": "48ba796b",
   "metadata": {
    "execution": {
     "iopub.execute_input": "2024-07-10T02:07:59.755236Z",
     "iopub.status.busy": "2024-07-10T02:07:59.754869Z",
     "iopub.status.idle": "2024-07-10T02:08:01.348905Z",
     "shell.execute_reply": "2024-07-10T02:08:01.348051Z"
    },
    "executionInfo": {
     "elapsed": 1996,
     "status": "ok",
     "timestamp": 1720535098775,
     "user": {
      "displayName": "Thịnh Nguyễn",
      "userId": "10296234764254197383"
     },
     "user_tz": -420
    },
    "id": "0ZBIxYHztOu-",
    "outputId": "85bade8d-907e-4ede-bf7b-58630989f8c6",
    "papermill": {
     "duration": 1.611463,
     "end_time": "2024-07-10T02:08:01.351297",
     "exception": false,
     "start_time": "2024-07-10T02:07:59.739834",
     "status": "completed"
    },
    "tags": []
   },
   "outputs": [
    {
     "name": "stdout",
     "output_type": "stream",
     "text": [
      "Files already downloaded and verified\n",
      "Files already downloaded and verified\n"
     ]
    }
   ],
   "source": [
    "batch_size = 64\n",
    "# Load CIFAR10 dataset\n",
    "transform = transforms.Compose(\n",
    "    [\n",
    "        transforms.Resize((224,224)),\n",
    "        transforms.ToTensor(),\n",
    "        transforms.Normalize((0.4914, 0.4822, 0.4465), (0.2823, 0.2783, 0.2990))])\n",
    "\n",
    "trainset = CIFAR10(root='./data', train=True, download=True, transform=transform)\n",
    "testset = CIFAR10(root='./data', train=False, download=True, transform=transform)\n",
    "\n",
    "trainloader = DataLoader(trainset, batch_size=batch_size, shuffle=True, num_workers=2)\n",
    "testloader = DataLoader(testset, batch_size=batch_size, shuffle=False, num_workers=2)"
   ]
  },
  {
   "cell_type": "markdown",
   "id": "2615d338",
   "metadata": {
    "id": "zu2xayHAZ6px",
    "papermill": {
     "duration": 0.013894,
     "end_time": "2024-07-10T02:08:01.379767",
     "exception": false,
     "start_time": "2024-07-10T02:08:01.365873",
     "status": "completed"
    },
    "tags": []
   },
   "source": [
    "### 2.2. Data Information"
   ]
  },
  {
   "cell_type": "code",
   "execution_count": 7,
   "id": "97536a59",
   "metadata": {
    "execution": {
     "iopub.execute_input": "2024-07-10T02:08:01.409011Z",
     "iopub.status.busy": "2024-07-10T02:08:01.408651Z",
     "iopub.status.idle": "2024-07-10T02:08:01.413503Z",
     "shell.execute_reply": "2024-07-10T02:08:01.412622Z"
    },
    "executionInfo": {
     "elapsed": 15,
     "status": "ok",
     "timestamp": 1720535098775,
     "user": {
      "displayName": "Thịnh Nguyễn",
      "userId": "10296234764254197383"
     },
     "user_tz": -420
    },
    "id": "NKGIXwVkZLJl",
    "outputId": "a76cba74-9738-4d24-8e16-4b7d85cc5450",
    "papermill": {
     "duration": 0.021967,
     "end_time": "2024-07-10T02:08:01.415567",
     "exception": false,
     "start_time": "2024-07-10T02:08:01.393600",
     "status": "completed"
    },
    "tags": []
   },
   "outputs": [
    {
     "name": "stdout",
     "output_type": "stream",
     "text": [
      "Number of training samples: 50000\n",
      "Number of testing samples: 10000\n"
     ]
    }
   ],
   "source": [
    "print(f\"Number of training samples: {len(trainset)}\")\n",
    "print(f\"Number of testing samples: {len(testset)}\")"
   ]
  },
  {
   "cell_type": "code",
   "execution_count": 8,
   "id": "ce3d8e7c",
   "metadata": {
    "execution": {
     "iopub.execute_input": "2024-07-10T02:08:01.444881Z",
     "iopub.status.busy": "2024-07-10T02:08:01.444509Z",
     "iopub.status.idle": "2024-07-10T02:08:01.457397Z",
     "shell.execute_reply": "2024-07-10T02:08:01.456446Z"
    },
    "executionInfo": {
     "elapsed": 14,
     "status": "ok",
     "timestamp": 1720535098775,
     "user": {
      "displayName": "Thịnh Nguyễn",
      "userId": "10296234764254197383"
     },
     "user_tz": -420
    },
    "id": "mEchSn6wZw3d",
    "outputId": "529b1dca-c783-43f8-ece9-9e147bb34cce",
    "papermill": {
     "duration": 0.029785,
     "end_time": "2024-07-10T02:08:01.459308",
     "exception": false,
     "start_time": "2024-07-10T02:08:01.429523",
     "status": "completed"
    },
    "tags": []
   },
   "outputs": [
    {
     "name": "stdout",
     "output_type": "stream",
     "text": [
      "Datatype of the 1st training sample: torch.FloatTensor\n",
      "Size of the 1st training sample: torch.Size([3, 224, 224])\n"
     ]
    }
   ],
   "source": [
    "print(f\"Datatype of the 1st training sample: {trainset[0][0].type()}\")\n",
    "print(f\"Size of the 1st training sample: {testset[0][0].size()}\")"
   ]
  },
  {
   "cell_type": "markdown",
   "id": "f7403ed3",
   "metadata": {
    "id": "VMYEKrRLZ8ht",
    "papermill": {
     "duration": 0.014028,
     "end_time": "2024-07-10T02:08:01.487635",
     "exception": false,
     "start_time": "2024-07-10T02:08:01.473607",
     "status": "completed"
    },
    "tags": []
   },
   "source": [
    "### 2.3. Data Visualization"
   ]
  },
  {
   "cell_type": "code",
   "execution_count": 9,
   "id": "51b4a839",
   "metadata": {
    "execution": {
     "iopub.execute_input": "2024-07-10T02:08:01.517724Z",
     "iopub.status.busy": "2024-07-10T02:08:01.516966Z",
     "iopub.status.idle": "2024-07-10T02:08:02.351813Z",
     "shell.execute_reply": "2024-07-10T02:08:02.350713Z"
    },
    "executionInfo": {
     "elapsed": 2380,
     "status": "ok",
     "timestamp": 1720535101151,
     "user": {
      "displayName": "Thịnh Nguyễn",
      "userId": "10296234764254197383"
     },
     "user_tz": -420
    },
    "id": "mZMW-Ox-Z9pv",
    "outputId": "9f9b744e-9c7c-48be-c3b7-90ac93d1cd6c",
    "papermill": {
     "duration": 0.852673,
     "end_time": "2024-07-10T02:08:02.354336",
     "exception": false,
     "start_time": "2024-07-10T02:08:01.501663",
     "status": "completed"
    },
    "tags": []
   },
   "outputs": [
    {
     "data": {
      "image/png": "[encoded data removed]",
      "text/plain": [
       "<Figure size 640x480 with 1 Axes>"
      ]
     },
     "metadata": {},
     "output_type": "display_data"
    }
   ],
   "source": [
    "import matplotlib.pyplot as plt\n",
    "import numpy as np\n",
    "\n",
    "# Function to display the images\n",
    "def imshow(img):\n",
    "    img = img*0.5 + 0.5\n",
    "    np_img = img.numpy()\n",
    "    plt.imshow(np.transpose(np_img, (1, 2, 0)))\n",
    "    plt.show()\n",
    "\n",
    "for i, (images, labels) in enumerate(trainloader, 0):\n",
    "    # Plot some images\n",
    "    imshow(torchvision.utils.make_grid(images[:8]))  # Display 8 images from the batch\n",
    "    break"
   ]
  },
  {
   "cell_type": "markdown",
   "id": "7695d259",
   "metadata": {
    "id": "32MkQnmuaZT4",
    "papermill": {
     "duration": 0.016275,
     "end_time": "2024-07-10T02:08:02.387452",
     "exception": false,
     "start_time": "2024-07-10T02:08:02.371177",
     "status": "completed"
    },
    "tags": []
   },
   "source": [
    "## 3. Model"
   ]
  },
  {
   "cell_type": "code",
   "execution_count": 10,
   "id": "d07e8e4b",
   "metadata": {
    "execution": {
     "iopub.execute_input": "2024-07-10T02:08:02.422439Z",
     "iopub.status.busy": "2024-07-10T02:08:02.421574Z",
     "iopub.status.idle": "2024-07-10T02:08:02.435073Z",
     "shell.execute_reply": "2024-07-10T02:08:02.434017Z"
    },
    "executionInfo": {
     "elapsed": 374,
     "status": "ok",
     "timestamp": 1720535382030,
     "user": {
      "displayName": "Thịnh Nguyễn",
      "userId": "10296234764254197383"
     },
     "user_tz": -420
    },
    "id": "-k6pAeghaaGv",
    "papermill": {
     "duration": 0.033487,
     "end_time": "2024-07-10T02:08:02.437236",
     "exception": false,
     "start_time": "2024-07-10T02:08:02.403749",
     "status": "completed"
    },
    "tags": []
   },
   "outputs": [],
   "source": [
    "\"\"\" VGG-11 Architecture \"\"\"\n",
    "class VGG11(nn.Module):\n",
    "    def __init__(self, num_classes=1000):\n",
    "        super(VGG11, self).__init__()\n",
    "        self.features = nn.Sequential(\n",
    "            nn.Conv2d(3, 64, kernel_size=3, padding=1),\n",
    "            nn.ReLU(inplace=True),\n",
    "            nn.MaxPool2d(kernel_size=2, stride=2),\n",
    "\n",
    "            nn.Conv2d(64, 128, kernel_size=3, padding=1),\n",
    "            nn.ReLU(inplace=True),\n",
    "            nn.MaxPool2d(kernel_size=2, stride=2),\n",
    "\n",
    "            nn.Conv2d(128, 256, kernel_size=3, padding=1),\n",
    "            nn.ReLU(inplace=True),\n",
    "            nn.Conv2d(256, 256, kernel_size=3, padding=1),\n",
    "            nn.ReLU(inplace=True),\n",
    "            nn.MaxPool2d(kernel_size=2, stride=2),\n",
    "\n",
    "            nn.Conv2d(256, 512, kernel_size=3, padding=1),\n",
    "            nn.ReLU(inplace=True),\n",
    "            nn.Conv2d(512, 512, kernel_size=3, padding=1),\n",
    "            nn.ReLU(inplace=True),\n",
    "            nn.MaxPool2d(kernel_size=2, stride=2),\n",
    "\n",
    "            nn.Conv2d(512, 512, kernel_size=3, padding=1),\n",
    "            nn.ReLU(inplace=True),\n",
    "            nn.Conv2d(512, 512, kernel_size=3, padding=1),\n",
    "            nn.ReLU(inplace=True),\n",
    "            nn.MaxPool2d(kernel_size=2, stride=2)\n",
    "        )\n",
    "\n",
    "        self.classifier = nn.Sequential(\n",
    "            nn.Linear(512 * 7 * 7, 4096),\n",
    "            nn.ReLU(inplace=True),\n",
    "            nn.Dropout(),\n",
    "            nn.Linear(4096, 4096),\n",
    "            nn.ReLU(inplace=True),\n",
    "            nn.Dropout(),\n",
    "            nn.Linear(4096, num_classes)\n",
    "        )\n",
    "\n",
    "    def forward(self, x):\n",
    "        x = self.features(x)\n",
    "        x = torch.flatten(x, 1)\n",
    "        x = self.classifier(x)\n",
    "        return x"
   ]
  },
  {
   "cell_type": "code",
   "execution_count": 11,
   "id": "f701c0dd",
   "metadata": {
    "execution": {
     "iopub.execute_input": "2024-07-10T02:08:02.472011Z",
     "iopub.status.busy": "2024-07-10T02:08:02.471126Z",
     "iopub.status.idle": "2024-07-10T02:08:04.054585Z",
     "shell.execute_reply": "2024-07-10T02:08:04.053579Z"
    },
    "executionInfo": {
     "elapsed": 1821,
     "status": "ok",
     "timestamp": 1720535385512,
     "user": {
      "displayName": "Thịnh Nguyễn",
      "userId": "10296234764254197383"
     },
     "user_tz": -420
    },
    "id": "vdmDzHLUjWjh",
    "papermill": {
     "duration": 1.603424,
     "end_time": "2024-07-10T02:08:04.057087",
     "exception": false,
     "start_time": "2024-07-10T02:08:02.453663",
     "status": "completed"
    },
    "tags": []
   },
   "outputs": [],
   "source": [
    "model = VGG11(num_classes=10).to(device)"
   ]
  },
  {
   "cell_type": "code",
   "execution_count": 12,
   "id": "cfb5722d",
   "metadata": {
    "execution": {
     "iopub.execute_input": "2024-07-10T02:08:04.092739Z",
     "iopub.status.busy": "2024-07-10T02:08:04.092345Z",
     "iopub.status.idle": "2024-07-10T02:08:04.665257Z",
     "shell.execute_reply": "2024-07-10T02:08:04.663875Z"
    },
    "executionInfo": {
     "elapsed": 1002,
     "status": "ok",
     "timestamp": 1720535386511,
     "user": {
      "displayName": "Thịnh Nguyễn",
      "userId": "10296234764254197383"
     },
     "user_tz": -420
    },
    "id": "fpGOw4_4chX6",
    "outputId": "67e11596-da9c-4fa6-cda1-4a04c0df1530",
    "papermill": {
     "duration": 0.593382,
     "end_time": "2024-07-10T02:08:04.667697",
     "exception": false,
     "start_time": "2024-07-10T02:08:04.074315",
     "status": "completed"
    },
    "tags": []
   },
   "outputs": [
    {
     "name": "stdout",
     "output_type": "stream",
     "text": [
      "----------------------------------------------------------------\n",
      "        Layer (type)               Output Shape         Param #\n",
      "================================================================\n",
      "            Conv2d-1         [-1, 64, 224, 224]           1,792\n",
      "              ReLU-2         [-1, 64, 224, 224]               0\n",
      "         MaxPool2d-3         [-1, 64, 112, 112]               0\n",
      "            Conv2d-4        [-1, 128, 112, 112]          73,856\n",
      "              ReLU-5        [-1, 128, 112, 112]               0\n",
      "         MaxPool2d-6          [-1, 128, 56, 56]               0\n",
      "            Conv2d-7          [-1, 256, 56, 56]         295,168\n",
      "              ReLU-8          [-1, 256, 56, 56]               0\n",
      "            Conv2d-9          [-1, 256, 56, 56]         590,080\n",
      "             ReLU-10          [-1, 256, 56, 56]               0\n",
      "        MaxPool2d-11          [-1, 256, 28, 28]               0\n",
      "           Conv2d-12          [-1, 512, 28, 28]       1,180,160\n",
      "             ReLU-13          [-1, 512, 28, 28]               0\n",
      "           Conv2d-14          [-1, 512, 28, 28]       2,359,808\n",
      "             ReLU-15          [-1, 512, 28, 28]               0\n",
      "        MaxPool2d-16          [-1, 512, 14, 14]               0\n",
      "           Conv2d-17          [-1, 512, 14, 14]       2,359,808\n",
      "             ReLU-18          [-1, 512, 14, 14]               0\n",
      "           Conv2d-19          [-1, 512, 14, 14]       2,359,808\n",
      "             ReLU-20          [-1, 512, 14, 14]               0\n",
      "        MaxPool2d-21            [-1, 512, 7, 7]               0\n",
      "           Linear-22                 [-1, 4096]     102,764,544\n",
      "             ReLU-23                 [-1, 4096]               0\n",
      "          Dropout-24                 [-1, 4096]               0\n",
      "           Linear-25                 [-1, 4096]      16,781,312\n",
      "             ReLU-26                 [-1, 4096]               0\n",
      "          Dropout-27                 [-1, 4096]               0\n",
      "           Linear-28                   [-1, 10]          40,970\n",
      "================================================================\n",
      "Total params: 128,807,306\n",
      "Trainable params: 128,807,306\n",
      "Non-trainable params: 0\n",
      "----------------------------------------------------------------\n",
      "Input size (MB): 0.57\n",
      "Forward/backward pass size (MB): 125.18\n",
      "Params size (MB): 491.36\n",
      "Estimated Total Size (MB): 617.11\n",
      "----------------------------------------------------------------\n"
     ]
    }
   ],
   "source": [
    "summary(model, (3, 224, 224))"
   ]
  },
  {
   "cell_type": "code",
   "execution_count": 13,
   "id": "2300d206",
   "metadata": {
    "execution": {
     "iopub.execute_input": "2024-07-10T02:08:04.703188Z",
     "iopub.status.busy": "2024-07-10T02:08:04.702238Z",
     "iopub.status.idle": "2024-07-10T02:08:04.778105Z",
     "shell.execute_reply": "2024-07-10T02:08:04.776633Z"
    },
    "executionInfo": {
     "elapsed": 396,
     "status": "ok",
     "timestamp": 1720535390184,
     "user": {
      "displayName": "Thịnh Nguyễn",
      "userId": "10296234764254197383"
     },
     "user_tz": -420
    },
    "id": "eJWETXAot1y1",
    "outputId": "50d4267e-aeeb-475e-d248-c3eb0e8811f7",
    "papermill": {
     "duration": 0.096454,
     "end_time": "2024-07-10T02:08:04.780631",
     "exception": false,
     "start_time": "2024-07-10T02:08:04.684177",
     "status": "completed"
    },
    "tags": []
   },
   "outputs": [
    {
     "name": "stdout",
     "output_type": "stream",
     "text": [
      "torch.Size([1, 10])\n"
     ]
    }
   ],
   "source": [
    "# Generating a random tensor\n",
    "input_tensor = torch.rand(1, 3, 224, 224).to(device)\n",
    "\n",
    "# Feeding the tensor into the model\n",
    "output = model(input_tensor)\n",
    "print(output.shape)"
   ]
  },
  {
   "cell_type": "markdown",
   "id": "cab5e3c5",
   "metadata": {
    "id": "LSc4P6BLjtGd",
    "papermill": {
     "duration": 0.017637,
     "end_time": "2024-07-10T02:08:04.815339",
     "exception": false,
     "start_time": "2024-07-10T02:08:04.797702",
     "status": "completed"
    },
    "tags": []
   },
   "source": [
    "## 4. Loss Function and Optimization"
   ]
  },
  {
   "cell_type": "code",
   "execution_count": 14,
   "id": "1d862aec",
   "metadata": {
    "execution": {
     "iopub.execute_input": "2024-07-10T02:08:04.851423Z",
     "iopub.status.busy": "2024-07-10T02:08:04.851012Z",
     "iopub.status.idle": "2024-07-10T02:08:04.856016Z",
     "shell.execute_reply": "2024-07-10T02:08:04.854921Z"
    },
    "id": "5e5mUCrqjvo6",
    "papermill": {
     "duration": 0.025709,
     "end_time": "2024-07-10T02:08:04.858302",
     "exception": false,
     "start_time": "2024-07-10T02:08:04.832593",
     "status": "completed"
    },
    "tags": []
   },
   "outputs": [],
   "source": [
    "LR = 2e-4\n",
    "EPOCHS = 150"
   ]
  },
  {
   "cell_type": "code",
   "execution_count": 15,
   "id": "8a99856d",
   "metadata": {
    "execution": {
     "iopub.execute_input": "2024-07-10T02:08:04.895125Z",
     "iopub.status.busy": "2024-07-10T02:08:04.894108Z",
     "iopub.status.idle": "2024-07-10T02:08:04.900285Z",
     "shell.execute_reply": "2024-07-10T02:08:04.899189Z"
    },
    "id": "HyefEJxQjyOs",
    "papermill": {
     "duration": 0.027226,
     "end_time": "2024-07-10T02:08:04.902585",
     "exception": false,
     "start_time": "2024-07-10T02:08:04.875359",
     "status": "completed"
    },
    "tags": []
   },
   "outputs": [],
   "source": [
    "criterion = torch.nn.CrossEntropyLoss()\n",
    "optimizer = Adam(model.parameters(), lr=LR)"
   ]
  },
  {
   "cell_type": "markdown",
   "id": "d503ba00",
   "metadata": {
    "id": "zMIMDD5sj4EO",
    "papermill": {
     "duration": 0.016954,
     "end_time": "2024-07-10T02:08:04.936741",
     "exception": false,
     "start_time": "2024-07-10T02:08:04.919787",
     "status": "completed"
    },
    "tags": []
   },
   "source": [
    "## 5. Train"
   ]
  },
  {
   "cell_type": "markdown",
   "id": "18f63949",
   "metadata": {
    "id": "yOYmV8NYuZG7",
    "papermill": {
     "duration": 0.079944,
     "end_time": "2024-07-10T02:08:05.034057",
     "exception": false,
     "start_time": "2024-07-10T02:08:04.954113",
     "status": "completed"
    },
    "tags": []
   },
   "source": [
    "### 5.1. Evaluation Function"
   ]
  },
  {
   "cell_type": "code",
   "execution_count": 16,
   "id": "58bb31bb",
   "metadata": {
    "execution": {
     "iopub.execute_input": "2024-07-10T02:08:05.071322Z",
     "iopub.status.busy": "2024-07-10T02:08:05.070145Z",
     "iopub.status.idle": "2024-07-10T02:08:05.078896Z",
     "shell.execute_reply": "2024-07-10T02:08:05.077760Z"
    },
    "id": "5UWFs8k_ucr7",
    "papermill": {
     "duration": 0.029803,
     "end_time": "2024-07-10T02:08:05.081271",
     "exception": false,
     "start_time": "2024-07-10T02:08:05.051468",
     "status": "completed"
    },
    "tags": []
   },
   "outputs": [],
   "source": [
    "# Function to compute loss and accuracy for test set\n",
    "def evaluate(model, testloader, criterion):\n",
    "    model.eval()\n",
    "    test_loss = 0.0\n",
    "    correct = 0\n",
    "    total = 0\n",
    "    with torch.no_grad():\n",
    "        for images, labels in testloader:\n",
    "            # Move inputs and labels to the device\n",
    "            images, labels = images.to(device), labels.to(device)\n",
    "\n",
    "            outputs = model(images)\n",
    "            loss = criterion(outputs, labels)\n",
    "            test_loss += loss.item()\n",
    "\n",
    "            _, predicted = torch.max(outputs.data, 1)\n",
    "            total += labels.size(0)\n",
    "            correct += (predicted == labels).sum().item()\n",
    "\n",
    "    accuracy = 100 * correct / total\n",
    "    test_loss = test_loss / len(testloader)\n",
    "    return test_loss, accuracy"
   ]
  },
  {
   "cell_type": "code",
   "execution_count": 17,
   "id": "90845e7b",
   "metadata": {
    "execution": {
     "iopub.execute_input": "2024-07-10T02:08:05.118350Z",
     "iopub.status.busy": "2024-07-10T02:08:05.117934Z",
     "iopub.status.idle": "2024-07-10T02:08:21.424768Z",
     "shell.execute_reply": "2024-07-10T02:08:21.423615Z"
    },
    "id": "tvx2cDxlue5d",
    "papermill": {
     "duration": 16.328089,
     "end_time": "2024-07-10T02:08:21.426893",
     "exception": false,
     "start_time": "2024-07-10T02:08:05.098804",
     "status": "completed"
    },
    "tags": []
   },
   "outputs": [
    {
     "name": "stdout",
     "output_type": "stream",
     "text": [
      "Test_loss: 2.3026241679100474\n",
      "Test_accuracy: 10.0\n"
     ]
    }
   ],
   "source": [
    "test_loss, test_accuracy = evaluate(model, testloader, criterion)\n",
    "print(f'Test_loss: {test_loss}')\n",
    "print(f'Test_accuracy: {test_accuracy}')"
   ]
  },
  {
   "cell_type": "code",
   "execution_count": 18,
   "id": "3bbc4493",
   "metadata": {
    "execution": {
     "iopub.execute_input": "2024-07-10T02:08:21.460428Z",
     "iopub.status.busy": "2024-07-10T02:08:21.460097Z",
     "iopub.status.idle": "2024-07-10T02:08:21.465031Z",
     "shell.execute_reply": "2024-07-10T02:08:21.464099Z"
    },
    "id": "P3MU3h7Muql0",
    "papermill": {
     "duration": 0.024104,
     "end_time": "2024-07-10T02:08:21.467075",
     "exception": false,
     "start_time": "2024-07-10T02:08:21.442971",
     "status": "completed"
    },
    "tags": []
   },
   "outputs": [],
   "source": [
    "# some parameter\n",
    "train_losses = []\n",
    "train_accuracies = []\n",
    "test_losses = []\n",
    "test_accuracies = []"
   ]
  },
  {
   "cell_type": "code",
   "execution_count": 19,
   "id": "d325fb13",
   "metadata": {
    "execution": {
     "iopub.execute_input": "2024-07-10T02:08:21.500778Z",
     "iopub.status.busy": "2024-07-10T02:08:21.499952Z",
     "iopub.status.idle": "2024-07-10T11:56:56.669532Z",
     "shell.execute_reply": "2024-07-10T11:56:56.668413Z"
    },
    "id": "eALWXZMTj3PR",
    "papermill": {
     "duration": 35315.217941,
     "end_time": "2024-07-10T11:56:56.700888",
     "exception": false,
     "start_time": "2024-07-10T02:08:21.482947",
     "status": "completed"
    },
    "tags": []
   },
   "outputs": [
    {
     "name": "stdout",
     "output_type": "stream",
     "text": [
      "Epoch [1/150], Loss: 1.6057, Accuracy: 40.50%, Test Loss: 1.2250, Test Accuracy: 56.17%, Time: 234.852s\n",
      "Epoch [2/150], Loss: 1.0118, Accuracy: 64.14%, Test Loss: 0.8363, Test Accuracy: 70.77%, Time: 235.262s\n",
      "Epoch [3/150], Loss: 0.7069, Accuracy: 75.33%, Test Loss: 0.7071, Test Accuracy: 75.82%, Time: 234.818s\n",
      "Epoch [4/150], Loss: 0.4948, Accuracy: 82.98%, Test Loss: 0.6471, Test Accuracy: 78.37%, Time: 234.824s\n",
      "Epoch [5/150], Loss: 0.3107, Accuracy: 89.19%, Test Loss: 0.6559, Test Accuracy: 78.57%, Time: 235.125s\n",
      "Epoch [6/150], Loss: 0.1842, Accuracy: 93.75%, Test Loss: 0.7486, Test Accuracy: 79.13%, Time: 235.026s\n",
      "Epoch [7/150], Loss: 0.1233, Accuracy: 95.87%, Test Loss: 0.8763, Test Accuracy: 78.93%, Time: 234.880s\n",
      "Epoch [8/150], Loss: 0.0914, Accuracy: 97.01%, Test Loss: 0.9845, Test Accuracy: 79.07%, Time: 235.014s\n",
      "Epoch [9/150], Loss: 0.0786, Accuracy: 97.44%, Test Loss: 0.9545, Test Accuracy: 79.13%, Time: 235.420s\n",
      "Epoch [10/150], Loss: 0.0635, Accuracy: 97.93%, Test Loss: 0.9542, Test Accuracy: 79.46%, Time: 235.682s\n",
      "Epoch [11/150], Loss: 0.0623, Accuracy: 97.96%, Test Loss: 0.9824, Test Accuracy: 79.49%, Time: 234.850s\n",
      "Epoch [12/150], Loss: 0.0541, Accuracy: 98.31%, Test Loss: 1.0650, Test Accuracy: 79.60%, Time: 235.088s\n",
      "Epoch [13/150], Loss: 0.0477, Accuracy: 98.50%, Test Loss: 1.1394, Test Accuracy: 79.08%, Time: 234.903s\n",
      "Epoch [14/150], Loss: 0.0504, Accuracy: 98.40%, Test Loss: 1.0419, Test Accuracy: 79.44%, Time: 235.013s\n",
      "Epoch [15/150], Loss: 0.0446, Accuracy: 98.58%, Test Loss: 1.1067, Test Accuracy: 79.46%, Time: 234.889s\n",
      "Epoch [16/150], Loss: 0.0397, Accuracy: 98.66%, Test Loss: 1.0561, Test Accuracy: 79.15%, Time: 234.615s\n",
      "Epoch [17/150], Loss: 0.0407, Accuracy: 98.71%, Test Loss: 1.0933, Test Accuracy: 79.87%, Time: 234.776s\n",
      "Epoch [18/150], Loss: 0.0381, Accuracy: 98.77%, Test Loss: 1.0607, Test Accuracy: 79.59%, Time: 234.927s\n",
      "Epoch [19/150], Loss: 0.0329, Accuracy: 98.94%, Test Loss: 1.2061, Test Accuracy: 78.92%, Time: 235.415s\n",
      "Epoch [20/150], Loss: 0.0364, Accuracy: 98.86%, Test Loss: 1.0655, Test Accuracy: 79.71%, Time: 235.508s\n",
      "Epoch [21/150], Loss: 0.0337, Accuracy: 98.96%, Test Loss: 1.1517, Test Accuracy: 79.02%, Time: 234.944s\n",
      "Epoch [22/150], Loss: 0.0325, Accuracy: 98.97%, Test Loss: 1.1444, Test Accuracy: 78.90%, Time: 235.448s\n",
      "Epoch [23/150], Loss: 0.0274, Accuracy: 99.13%, Test Loss: 1.2254, Test Accuracy: 79.31%, Time: 235.272s\n",
      "Epoch [24/150], Loss: 0.0305, Accuracy: 99.06%, Test Loss: 1.1426, Test Accuracy: 80.02%, Time: 235.014s\n",
      "Epoch [25/150], Loss: 0.0301, Accuracy: 99.07%, Test Loss: 1.2235, Test Accuracy: 79.35%, Time: 235.746s\n",
      "Epoch [26/150], Loss: 0.0261, Accuracy: 99.19%, Test Loss: 1.2180, Test Accuracy: 79.12%, Time: 235.281s\n",
      "Epoch [27/150], Loss: 0.0249, Accuracy: 99.19%, Test Loss: 1.1664, Test Accuracy: 79.62%, Time: 235.683s\n",
      "Epoch [28/150], Loss: 0.0278, Accuracy: 99.14%, Test Loss: 1.1273, Test Accuracy: 79.03%, Time: 235.128s\n",
      "Epoch [29/150], Loss: 0.0244, Accuracy: 99.23%, Test Loss: 1.3594, Test Accuracy: 78.48%, Time: 235.242s\n",
      "Epoch [30/150], Loss: 0.0247, Accuracy: 99.27%, Test Loss: 1.1721, Test Accuracy: 79.42%, Time: 235.252s\n",
      "Epoch [31/150], Loss: 0.0225, Accuracy: 99.30%, Test Loss: 1.1943, Test Accuracy: 79.89%, Time: 235.742s\n",
      "Epoch [32/150], Loss: 0.0248, Accuracy: 99.25%, Test Loss: 1.2138, Test Accuracy: 79.16%, Time: 234.994s\n",
      "Epoch [33/150], Loss: 0.0221, Accuracy: 99.29%, Test Loss: 1.1696, Test Accuracy: 79.57%, Time: 235.409s\n",
      "Epoch [34/150], Loss: 0.0218, Accuracy: 99.32%, Test Loss: 1.0975, Test Accuracy: 79.70%, Time: 235.248s\n",
      "Epoch [35/150], Loss: 0.0214, Accuracy: 99.37%, Test Loss: 1.2068, Test Accuracy: 80.23%, Time: 235.522s\n",
      "Epoch [36/150], Loss: 0.0215, Accuracy: 99.32%, Test Loss: 1.1983, Test Accuracy: 80.36%, Time: 235.538s\n",
      "Epoch [37/150], Loss: 0.0186, Accuracy: 99.46%, Test Loss: 1.2792, Test Accuracy: 79.63%, Time: 235.425s\n",
      "Epoch [38/150], Loss: 0.0195, Accuracy: 99.40%, Test Loss: 1.2620, Test Accuracy: 79.63%, Time: 235.250s\n",
      "Epoch [39/150], Loss: 0.0188, Accuracy: 99.41%, Test Loss: 1.3118, Test Accuracy: 79.13%, Time: 235.257s\n",
      "Epoch [40/150], Loss: 0.0193, Accuracy: 99.35%, Test Loss: 1.3741, Test Accuracy: 80.01%, Time: 235.185s\n",
      "Epoch [41/150], Loss: 0.0176, Accuracy: 99.43%, Test Loss: 1.5040, Test Accuracy: 78.83%, Time: 235.753s\n",
      "Epoch [42/150], Loss: 0.0183, Accuracy: 99.46%, Test Loss: 1.4122, Test Accuracy: 78.10%, Time: 235.093s\n",
      "Epoch [43/150], Loss: 0.0191, Accuracy: 99.44%, Test Loss: 1.4316, Test Accuracy: 79.46%, Time: 235.213s\n",
      "Epoch [44/150], Loss: 0.0187, Accuracy: 99.41%, Test Loss: 1.2094, Test Accuracy: 80.53%, Time: 235.101s\n",
      "Epoch [45/150], Loss: 0.0169, Accuracy: 99.51%, Test Loss: 1.3611, Test Accuracy: 80.09%, Time: 235.244s\n",
      "Epoch [46/150], Loss: 0.0181, Accuracy: 99.41%, Test Loss: 1.3022, Test Accuracy: 79.26%, Time: 235.102s\n",
      "Epoch [47/150], Loss: 0.0184, Accuracy: 99.45%, Test Loss: 1.2034, Test Accuracy: 80.38%, Time: 235.638s\n",
      "Epoch [48/150], Loss: 0.0181, Accuracy: 99.46%, Test Loss: 1.2642, Test Accuracy: 80.17%, Time: 235.649s\n",
      "Epoch [49/150], Loss: 0.0146, Accuracy: 99.49%, Test Loss: 1.4042, Test Accuracy: 79.41%, Time: 235.308s\n",
      "Epoch [50/150], Loss: 0.0156, Accuracy: 99.54%, Test Loss: 1.2206, Test Accuracy: 80.38%, Time: 235.349s\n",
      "Epoch [51/150], Loss: 0.0140, Accuracy: 99.60%, Test Loss: 1.2716, Test Accuracy: 80.13%, Time: 235.410s\n",
      "Epoch [52/150], Loss: 0.0193, Accuracy: 99.46%, Test Loss: 1.2170, Test Accuracy: 79.84%, Time: 235.357s\n",
      "Epoch [53/150], Loss: 0.0169, Accuracy: 99.47%, Test Loss: 1.3968, Test Accuracy: 79.62%, Time: 235.330s\n",
      "Epoch [54/150], Loss: 0.0152, Accuracy: 99.50%, Test Loss: 1.3637, Test Accuracy: 79.24%, Time: 235.372s\n",
      "Epoch [55/150], Loss: 0.0179, Accuracy: 99.45%, Test Loss: 1.3817, Test Accuracy: 79.77%, Time: 235.254s\n",
      "Epoch [56/150], Loss: 0.0157, Accuracy: 99.53%, Test Loss: 1.2288, Test Accuracy: 79.56%, Time: 235.740s\n",
      "Epoch [57/150], Loss: 0.0154, Accuracy: 99.53%, Test Loss: 1.2170, Test Accuracy: 80.24%, Time: 235.466s\n",
      "Epoch [58/150], Loss: 0.0120, Accuracy: 99.66%, Test Loss: 1.5121, Test Accuracy: 79.64%, Time: 235.484s\n",
      "Epoch [59/150], Loss: 0.0176, Accuracy: 99.45%, Test Loss: 1.2164, Test Accuracy: 80.29%, Time: 235.597s\n",
      "Epoch [60/150], Loss: 0.0121, Accuracy: 99.67%, Test Loss: 1.3479, Test Accuracy: 79.82%, Time: 235.637s\n",
      "Epoch [61/150], Loss: 0.0132, Accuracy: 99.58%, Test Loss: 1.3186, Test Accuracy: 79.67%, Time: 235.259s\n",
      "Epoch [62/150], Loss: 0.0126, Accuracy: 99.64%, Test Loss: 1.3120, Test Accuracy: 80.15%, Time: 235.188s\n",
      "Epoch [63/150], Loss: 0.0142, Accuracy: 99.58%, Test Loss: 1.4215, Test Accuracy: 79.95%, Time: 235.091s\n",
      "Epoch [64/150], Loss: 0.0133, Accuracy: 99.60%, Test Loss: 1.5350, Test Accuracy: 80.17%, Time: 235.571s\n",
      "Epoch [65/150], Loss: 0.0148, Accuracy: 99.53%, Test Loss: 1.4045, Test Accuracy: 80.38%, Time: 235.474s\n",
      "Epoch [66/150], Loss: 0.0136, Accuracy: 99.59%, Test Loss: 1.4519, Test Accuracy: 80.17%, Time: 235.634s\n",
      "Epoch [67/150], Loss: 0.0119, Accuracy: 99.63%, Test Loss: 1.3138, Test Accuracy: 80.39%, Time: 235.483s\n",
      "Epoch [68/150], Loss: 0.0134, Accuracy: 99.60%, Test Loss: 1.4173, Test Accuracy: 79.75%, Time: 235.594s\n",
      "Epoch [69/150], Loss: 0.0116, Accuracy: 99.63%, Test Loss: 1.3563, Test Accuracy: 79.99%, Time: 235.683s\n",
      "Epoch [70/150], Loss: 0.0146, Accuracy: 99.58%, Test Loss: 1.3439, Test Accuracy: 79.69%, Time: 235.708s\n",
      "Epoch [71/150], Loss: 0.0120, Accuracy: 99.63%, Test Loss: 1.2559, Test Accuracy: 80.47%, Time: 235.602s\n",
      "Epoch [72/150], Loss: 0.0091, Accuracy: 99.72%, Test Loss: 1.5147, Test Accuracy: 80.10%, Time: 235.572s\n",
      "Epoch [73/150], Loss: 0.0135, Accuracy: 99.60%, Test Loss: 1.4450, Test Accuracy: 79.94%, Time: 235.840s\n",
      "Epoch [74/150], Loss: 0.0132, Accuracy: 99.61%, Test Loss: 1.4625, Test Accuracy: 80.03%, Time: 235.420s\n",
      "Epoch [75/150], Loss: 0.0124, Accuracy: 99.62%, Test Loss: 1.5145, Test Accuracy: 79.71%, Time: 234.992s\n",
      "Epoch [76/150], Loss: 0.0135, Accuracy: 99.59%, Test Loss: 1.4065, Test Accuracy: 80.20%, Time: 235.181s\n",
      "Epoch [77/150], Loss: 0.0101, Accuracy: 99.70%, Test Loss: 1.5924, Test Accuracy: 80.05%, Time: 235.654s\n",
      "Epoch [78/150], Loss: 0.0139, Accuracy: 99.63%, Test Loss: 1.4287, Test Accuracy: 80.82%, Time: 235.529s\n",
      "Epoch [79/150], Loss: 0.0103, Accuracy: 99.69%, Test Loss: 1.3494, Test Accuracy: 80.26%, Time: 235.707s\n",
      "Epoch [80/150], Loss: 0.0142, Accuracy: 99.60%, Test Loss: 1.4087, Test Accuracy: 79.55%, Time: 235.019s\n",
      "Epoch [81/150], Loss: 0.0081, Accuracy: 99.77%, Test Loss: 1.6673, Test Accuracy: 78.23%, Time: 235.276s\n",
      "Epoch [82/150], Loss: 0.0113, Accuracy: 99.65%, Test Loss: 1.6786, Test Accuracy: 79.02%, Time: 235.375s\n",
      "Epoch [83/150], Loss: 0.0139, Accuracy: 99.59%, Test Loss: 1.5118, Test Accuracy: 79.49%, Time: 235.429s\n",
      "Epoch [84/150], Loss: 0.0128, Accuracy: 99.63%, Test Loss: 1.4946, Test Accuracy: 80.03%, Time: 235.950s\n",
      "Epoch [85/150], Loss: 0.0095, Accuracy: 99.70%, Test Loss: 1.6671, Test Accuracy: 79.82%, Time: 235.998s\n",
      "Epoch [86/150], Loss: 0.0101, Accuracy: 99.71%, Test Loss: 1.4247, Test Accuracy: 80.12%, Time: 235.269s\n",
      "Epoch [87/150], Loss: 0.0119, Accuracy: 99.66%, Test Loss: 1.6449, Test Accuracy: 79.30%, Time: 235.492s\n",
      "Epoch [88/150], Loss: 0.0166, Accuracy: 99.55%, Test Loss: 1.5634, Test Accuracy: 79.64%, Time: 236.105s\n",
      "Epoch [89/150], Loss: 0.0092, Accuracy: 99.70%, Test Loss: 1.7721, Test Accuracy: 79.26%, Time: 235.708s\n",
      "Epoch [90/150], Loss: 0.0116, Accuracy: 99.65%, Test Loss: 1.5830, Test Accuracy: 80.25%, Time: 235.185s\n",
      "Epoch [91/150], Loss: 0.0125, Accuracy: 99.66%, Test Loss: 1.3826, Test Accuracy: 80.16%, Time: 235.329s\n",
      "Epoch [92/150], Loss: 0.0105, Accuracy: 99.70%, Test Loss: 1.4906, Test Accuracy: 79.98%, Time: 235.526s\n",
      "Epoch [93/150], Loss: 0.0087, Accuracy: 99.71%, Test Loss: 1.6584, Test Accuracy: 78.83%, Time: 235.412s\n",
      "Epoch [94/150], Loss: 0.0116, Accuracy: 99.72%, Test Loss: 1.5361, Test Accuracy: 78.95%, Time: 235.539s\n",
      "Epoch [95/150], Loss: 0.0102, Accuracy: 99.72%, Test Loss: 1.6707, Test Accuracy: 79.34%, Time: 235.189s\n",
      "Epoch [96/150], Loss: 0.0111, Accuracy: 99.69%, Test Loss: 1.6089, Test Accuracy: 80.21%, Time: 235.140s\n",
      "Epoch [97/150], Loss: 0.0126, Accuracy: 99.65%, Test Loss: 1.6755, Test Accuracy: 80.19%, Time: 235.448s\n",
      "Epoch [98/150], Loss: 0.0124, Accuracy: 99.68%, Test Loss: 1.6302, Test Accuracy: 80.01%, Time: 235.261s\n",
      "Epoch [99/150], Loss: 0.0107, Accuracy: 99.70%, Test Loss: 1.5115, Test Accuracy: 79.60%, Time: 235.140s\n",
      "Epoch [100/150], Loss: 0.0081, Accuracy: 99.76%, Test Loss: 1.7084, Test Accuracy: 79.52%, Time: 235.213s\n",
      "Epoch [101/150], Loss: 0.0107, Accuracy: 99.69%, Test Loss: 1.4305, Test Accuracy: 80.72%, Time: 235.235s\n",
      "Epoch [102/150], Loss: 0.0089, Accuracy: 99.73%, Test Loss: 1.6455, Test Accuracy: 79.48%, Time: 235.194s\n",
      "Epoch [103/150], Loss: 0.0160, Accuracy: 99.56%, Test Loss: 1.6682, Test Accuracy: 79.46%, Time: 235.434s\n",
      "Epoch [104/150], Loss: 0.0080, Accuracy: 99.77%, Test Loss: 1.5503, Test Accuracy: 79.76%, Time: 235.408s\n",
      "Epoch [105/150], Loss: 0.0100, Accuracy: 99.74%, Test Loss: 1.5092, Test Accuracy: 79.82%, Time: 235.327s\n",
      "Epoch [106/150], Loss: 0.0108, Accuracy: 99.69%, Test Loss: 1.4614, Test Accuracy: 80.16%, Time: 235.362s\n",
      "Epoch [107/150], Loss: 0.0108, Accuracy: 99.73%, Test Loss: 1.3918, Test Accuracy: 79.71%, Time: 235.322s\n",
      "Epoch [108/150], Loss: 0.0103, Accuracy: 99.71%, Test Loss: 2.1998, Test Accuracy: 78.67%, Time: 235.121s\n",
      "Epoch [109/150], Loss: 0.0096, Accuracy: 99.74%, Test Loss: 1.6196, Test Accuracy: 79.41%, Time: 235.567s\n",
      "Epoch [110/150], Loss: 0.0110, Accuracy: 99.70%, Test Loss: 1.7049, Test Accuracy: 79.49%, Time: 236.013s\n",
      "Epoch [111/150], Loss: 0.0114, Accuracy: 99.68%, Test Loss: 1.5348, Test Accuracy: 80.26%, Time: 235.554s\n",
      "Epoch [112/150], Loss: 0.0078, Accuracy: 99.78%, Test Loss: 1.6502, Test Accuracy: 80.36%, Time: 235.347s\n",
      "Epoch [113/150], Loss: 0.0121, Accuracy: 99.66%, Test Loss: 1.6518, Test Accuracy: 79.31%, Time: 235.623s\n",
      "Epoch [114/150], Loss: 0.0094, Accuracy: 99.73%, Test Loss: 1.6542, Test Accuracy: 80.26%, Time: 236.090s\n",
      "Epoch [115/150], Loss: 0.0092, Accuracy: 99.75%, Test Loss: 1.5446, Test Accuracy: 80.60%, Time: 235.674s\n",
      "Epoch [116/150], Loss: 0.0123, Accuracy: 99.65%, Test Loss: 1.6203, Test Accuracy: 79.26%, Time: 235.451s\n",
      "Epoch [117/150], Loss: 0.0103, Accuracy: 99.72%, Test Loss: 1.6944, Test Accuracy: 79.64%, Time: 235.767s\n",
      "Epoch [118/150], Loss: 0.0091, Accuracy: 99.75%, Test Loss: 1.6259, Test Accuracy: 79.68%, Time: 235.639s\n",
      "Epoch [119/150], Loss: 0.0098, Accuracy: 99.71%, Test Loss: 1.5492, Test Accuracy: 79.48%, Time: 236.167s\n",
      "Epoch [120/150], Loss: 0.0125, Accuracy: 99.68%, Test Loss: 1.3771, Test Accuracy: 79.72%, Time: 235.882s\n",
      "Epoch [121/150], Loss: 0.0082, Accuracy: 99.77%, Test Loss: 1.8401, Test Accuracy: 79.58%, Time: 235.271s\n",
      "Epoch [122/150], Loss: 0.0075, Accuracy: 99.79%, Test Loss: 1.4765, Test Accuracy: 79.22%, Time: 235.452s\n",
      "Epoch [123/150], Loss: 0.0106, Accuracy: 99.71%, Test Loss: 1.6185, Test Accuracy: 80.33%, Time: 235.605s\n",
      "Epoch [124/150], Loss: 0.0107, Accuracy: 99.71%, Test Loss: 1.5995, Test Accuracy: 80.25%, Time: 235.241s\n",
      "Epoch [125/150], Loss: 0.0100, Accuracy: 99.71%, Test Loss: 1.7146, Test Accuracy: 79.65%, Time: 235.521s\n",
      "Epoch [126/150], Loss: 0.0113, Accuracy: 99.70%, Test Loss: 1.7557, Test Accuracy: 79.43%, Time: 235.476s\n",
      "Epoch [127/150], Loss: 0.0104, Accuracy: 99.74%, Test Loss: 1.5250, Test Accuracy: 80.20%, Time: 236.345s\n",
      "Epoch [128/150], Loss: 0.0078, Accuracy: 99.77%, Test Loss: 1.6986, Test Accuracy: 79.83%, Time: 235.726s\n",
      "Epoch [129/150], Loss: 0.0089, Accuracy: 99.76%, Test Loss: 1.5976, Test Accuracy: 80.16%, Time: 236.092s\n",
      "Epoch [130/150], Loss: 0.0080, Accuracy: 99.75%, Test Loss: 1.5905, Test Accuracy: 80.18%, Time: 235.539s\n",
      "Epoch [131/150], Loss: 0.0089, Accuracy: 99.73%, Test Loss: 1.5245, Test Accuracy: 79.46%, Time: 235.406s\n",
      "Epoch [132/150], Loss: 0.0089, Accuracy: 99.73%, Test Loss: 2.0538, Test Accuracy: 79.77%, Time: 235.792s\n",
      "Epoch [133/150], Loss: 0.0081, Accuracy: 99.77%, Test Loss: 1.8771, Test Accuracy: 79.60%, Time: 235.777s\n",
      "Epoch [134/150], Loss: 0.0116, Accuracy: 99.69%, Test Loss: 1.7637, Test Accuracy: 79.25%, Time: 235.503s\n",
      "Epoch [135/150], Loss: 0.0091, Accuracy: 99.76%, Test Loss: 1.7606, Test Accuracy: 80.65%, Time: 236.177s\n",
      "Epoch [136/150], Loss: 0.0098, Accuracy: 99.73%, Test Loss: 1.6541, Test Accuracy: 79.85%, Time: 235.926s\n",
      "Epoch [137/150], Loss: 0.0102, Accuracy: 99.74%, Test Loss: 1.8216, Test Accuracy: 79.98%, Time: 235.714s\n",
      "Epoch [138/150], Loss: 0.0099, Accuracy: 99.76%, Test Loss: 1.7230, Test Accuracy: 79.66%, Time: 235.913s\n",
      "Epoch [139/150], Loss: 0.0103, Accuracy: 99.73%, Test Loss: 1.6872, Test Accuracy: 80.15%, Time: 235.307s\n",
      "Epoch [140/150], Loss: 0.0075, Accuracy: 99.81%, Test Loss: 1.8641, Test Accuracy: 79.41%, Time: 235.404s\n",
      "Epoch [141/150], Loss: 0.0119, Accuracy: 99.73%, Test Loss: 1.5082, Test Accuracy: 80.21%, Time: 235.416s\n",
      "Epoch [142/150], Loss: 0.0097, Accuracy: 99.74%, Test Loss: 1.6372, Test Accuracy: 79.97%, Time: 235.891s\n",
      "Epoch [143/150], Loss: 0.0093, Accuracy: 99.74%, Test Loss: 1.4643, Test Accuracy: 79.54%, Time: 235.919s\n",
      "Epoch [144/150], Loss: 0.0101, Accuracy: 99.75%, Test Loss: 1.4268, Test Accuracy: 80.06%, Time: 235.464s\n",
      "Epoch [145/150], Loss: 0.0081, Accuracy: 99.77%, Test Loss: 1.6442, Test Accuracy: 79.90%, Time: 235.580s\n",
      "Epoch [146/150], Loss: 0.0100, Accuracy: 99.71%, Test Loss: 1.7849, Test Accuracy: 79.27%, Time: 235.775s\n",
      "Epoch [147/150], Loss: 0.0081, Accuracy: 99.78%, Test Loss: 1.7504, Test Accuracy: 80.20%, Time: 235.658s\n",
      "Epoch [148/150], Loss: 0.0097, Accuracy: 99.76%, Test Loss: 1.7952, Test Accuracy: 79.95%, Time: 235.917s\n",
      "Epoch [149/150], Loss: 0.0088, Accuracy: 99.77%, Test Loss: 1.6112, Test Accuracy: 80.39%, Time: 235.863s\n",
      "Epoch [150/150], Loss: 0.0107, Accuracy: 99.71%, Test Loss: 1.5366, Test Accuracy: 80.79%, Time: 235.491s\n"
     ]
    }
   ],
   "source": [
    "# train\n",
    "for epoch in range(EPOCHS):\n",
    "    model.train()\n",
    "    start_time = time.time()\n",
    "    running_loss = 0.0\n",
    "    running_correct = 0   # to track number of correct predictions\n",
    "    total = 0             # to track total number of samples\n",
    "\n",
    "    for i, (inputs, labels) in enumerate(trainloader, 0):\n",
    "        # Move inputs and labels to the device\n",
    "        inputs, labels = inputs.to(device), labels.to(device)\n",
    "\n",
    "        # Zero the parameter gradients\n",
    "        optimizer.zero_grad()\n",
    "\n",
    "        # Forward pass\n",
    "        outputs = model(inputs)\n",
    "        loss = criterion(outputs, labels)\n",
    "        running_loss += loss.item()\n",
    "\n",
    "        # Backward pass and optimization\n",
    "        loss.backward()\n",
    "        optimizer.step()\n",
    "    \n",
    "        # Determine class predictions and track accuracy\n",
    "        _, predicted = torch.max(outputs.data, 1)\n",
    "        total += labels.size(0)\n",
    "        running_correct += (predicted == labels).sum().item()\n",
    "\n",
    "    epoch_accuracy = 100 * running_correct / total\n",
    "    epoch_loss = running_loss / (i + 1)\n",
    "    test_loss, test_accuracy = evaluate(model, testloader, criterion)\n",
    "    print(f\"Epoch [{epoch + 1}/{EPOCHS}], Loss: {epoch_loss:.4f}, Accuracy: {epoch_accuracy:.2f}%, Test Loss: {test_loss:.4f}, Test Accuracy: {test_accuracy:.2f}%, Time: {time.time() - start_time:.3f}s\")\n",
    "\n",
    "    # save for plot\n",
    "    train_losses.append(epoch_loss)\n",
    "    train_accuracies.append(epoch_accuracy)\n",
    "    test_losses.append(test_loss)\n",
    "    test_accuracies.append(test_accuracy)"
   ]
  },
  {
   "cell_type": "markdown",
   "id": "f068851e",
   "metadata": {
    "id": "vzDA7QbbluVY",
    "papermill": {
     "duration": 0.028003,
     "end_time": "2024-07-10T11:56:56.757624",
     "exception": false,
     "start_time": "2024-07-10T11:56:56.729621",
     "status": "completed"
    },
    "tags": []
   },
   "source": [
    "## 6. Inference"
   ]
  },
  {
   "cell_type": "markdown",
   "id": "528b7e7d",
   "metadata": {
    "id": "kdPXIboQmA0U",
    "papermill": {
     "duration": 0.028987,
     "end_time": "2024-07-10T11:56:56.815676",
     "exception": false,
     "start_time": "2024-07-10T11:56:56.786689",
     "status": "completed"
    },
    "tags": []
   },
   "source": [
    "### 6.1. Loss Visualization"
   ]
  },
  {
   "cell_type": "code",
   "execution_count": 20,
   "id": "93108303",
   "metadata": {
    "execution": {
     "iopub.execute_input": "2024-07-10T11:56:56.874696Z",
     "iopub.status.busy": "2024-07-10T11:56:56.874259Z",
     "iopub.status.idle": "2024-07-10T11:56:57.350299Z",
     "shell.execute_reply": "2024-07-10T11:56:57.349422Z"
    },
    "id": "_LN5ErfolFuA",
    "papermill": {
     "duration": 0.509052,
     "end_time": "2024-07-10T11:56:57.352988",
     "exception": false,
     "start_time": "2024-07-10T11:56:56.843936",
     "status": "completed"
    },
    "tags": []
   },
   "outputs": [
    {
     "data": {
      "text/plain": [
       "<matplotlib.legend.Legend at 0x7f8ce19a38b0>"
      ]
     },
     "execution_count": 20,
     "metadata": {},
     "output_type": "execute_result"
    },
    {
     "data": {
      "image/png": "[encoded data removed]",
      "text/plain": [
       "<Figure size 640x480 with 1 Axes>"
      ]
     },
     "metadata": {},
     "output_type": "display_data"
    }
   ],
   "source": [
    "plt.plot(train_losses, label='train_losses')\n",
    "plt.plot(test_losses, label='test_losses')\n",
    "plt.legend()"
   ]
  },
  {
   "cell_type": "markdown",
   "id": "cd2f2c2b",
   "metadata": {
    "id": "c0s_IF0u1rNp",
    "papermill": {
     "duration": 0.029141,
     "end_time": "2024-07-10T11:56:57.411361",
     "exception": false,
     "start_time": "2024-07-10T11:56:57.382220",
     "status": "completed"
    },
    "tags": []
   },
   "source": [
    "### 6.2. Accuracy Visualization"
   ]
  },
  {
   "cell_type": "code",
   "execution_count": 21,
   "id": "b8e309f0",
   "metadata": {
    "execution": {
     "iopub.execute_input": "2024-07-10T11:56:57.471810Z",
     "iopub.status.busy": "2024-07-10T11:56:57.470979Z",
     "iopub.status.idle": "2024-07-10T11:56:57.783624Z",
     "shell.execute_reply": "2024-07-10T11:56:57.782704Z"
    },
    "id": "Kd-hFUdy1uh3",
    "papermill": {
     "duration": 0.345019,
     "end_time": "2024-07-10T11:56:57.786037",
     "exception": false,
     "start_time": "2024-07-10T11:56:57.441018",
     "status": "completed"
    },
    "tags": []
   },
   "outputs": [
    {
     "data": {
      "text/plain": [
       "<matplotlib.legend.Legend at 0x7f8ce052d840>"
      ]
     },
     "execution_count": 21,
     "metadata": {},
     "output_type": "execute_result"
    },
    {
     "data": {
      "image/png": "[encoded data removed]",
      "text/plain": [
       "<Figure size 640x480 with 1 Axes>"
      ]
     },
     "metadata": {},
     "output_type": "display_data"
    }
   ],
   "source": [
    "plt.plot(train_accuracies, label='train_accuracy')\n",
    "plt.plot(test_accuracies, label='test_accuracy')\n",
    "plt.legend()"
   ]
  },
  {
   "cell_type": "markdown",
   "id": "edef4a23",
   "metadata": {
    "id": "J5ySonVfdkox",
    "papermill": {
     "duration": 0.029052,
     "end_time": "2024-07-10T11:56:57.845347",
     "exception": false,
     "start_time": "2024-07-10T11:56:57.816295",
     "status": "completed"
    },
    "tags": []
   },
   "source": [
    "### 6.3. Best Accuracy"
   ]
  },
  {
   "cell_type": "code",
   "execution_count": 22,
   "id": "fbd1ac38",
   "metadata": {
    "execution": {
     "iopub.execute_input": "2024-07-10T11:56:57.907023Z",
     "iopub.status.busy": "2024-07-10T11:56:57.906664Z",
     "iopub.status.idle": "2024-07-10T11:56:57.912984Z",
     "shell.execute_reply": "2024-07-10T11:56:57.912014Z"
    },
    "id": "xLAuChgx1yaS",
    "papermill": {
     "duration": 0.039884,
     "end_time": "2024-07-10T11:56:57.914982",
     "exception": false,
     "start_time": "2024-07-10T11:56:57.875098",
     "status": "completed"
    },
    "tags": []
   },
   "outputs": [
    {
     "name": "stdout",
     "output_type": "stream",
     "text": [
      "\n",
      "Best epoch: 78 with test accuracy: 80.82%\n",
      "\n",
      "Best epoch: 140 with train accuracy: 99.81%\n"
     ]
    }
   ],
   "source": [
    "# the best accuracy\n",
    "best_epoch_test = np.argmax(test_accuracies)\n",
    "print(f\"\\nBest epoch: {best_epoch_test + 1} with test accuracy: {test_accuracies[best_epoch_test]:.2f}%\")\n",
    "best_epoch_train = np.argmax(train_accuracies)\n",
    "print(f\"\\nBest epoch: {best_epoch_train + 1} with train accuracy: {train_accuracies[best_epoch_train]:.2f}%\")"
   ]
  },
  {
   "cell_type": "markdown",
   "id": "62142063",
   "metadata": {
    "id": "rchetQ3DK6Lk",
    "papermill": {
     "duration": 0.031686,
     "end_time": "2024-07-10T11:56:57.976967",
     "exception": false,
     "start_time": "2024-07-10T11:56:57.945281",
     "status": "completed"
    },
    "tags": []
   },
   "source": [
    "## 7. Conclusion\n",
    "- **Accuracy**: 90.91%"
   ]
  }
 ],
 "metadata": {
  "accelerator": "GPU",
  "colab": {
   "authorship_tag": "ABX9TyPZXNowXc6RJYLiDLSZfbNM",
   "gpuType": "T4",
   "provenance": [
    {
     "file_id": "14zaMXhRmTdNN6pI8pmxwsgrB4FAmvEiE",
     "timestamp": 1720363444299
    }
   ]
  },
  "kaggle": {
   "accelerator": "none",
   "dataSources": [],
   "isGpuEnabled": false,
   "isInternetEnabled": true,
   "language": "python",
   "sourceType": "notebook"
  },
  "kernelspec": {
   "display_name": "Python 3",
   "name": "python3"
  },
  "language_info": {
   "codemirror_mode": {
    "name": "ipython",
    "version": 3
   },
   "file_extension": ".py",
   "mimetype": "text/x-python",
   "name": "python",
   "nbconvert_exporter": "python",
   "pygments_lexer": "ipython3",
   "version": "3.10.13"
  },
  "papermill": {
   "default_parameters": {},
   "duration": 35401.830395,
   "end_time": "2024-07-10T11:57:00.383313",
   "environment_variables": {},
   "exception": null,
   "input_path": "__notebook__.ipynb",
   "output_path": "__notebook__.ipynb",
   "parameters": {},
   "start_time": "2024-07-10T02:06:58.552918",
   "version": "2.5.0"
  }
 },
 "nbformat": 4,
 "nbformat_minor": 5
}
