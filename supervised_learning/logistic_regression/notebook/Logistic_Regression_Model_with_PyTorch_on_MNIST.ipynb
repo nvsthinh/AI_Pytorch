{
  "nbformat": 4,
  "nbformat_minor": 0,
  "metadata": {
    "colab": {
      "provenance": [],
      "gpuType": "T4"
    },
    "kernelspec": {
      "name": "python3",
      "display_name": "Python 3"
    },
    "language_info": {
      "name": "python"
    },
    "accelerator": "GPU"
  },
  "cells": [
    {
      "cell_type": "markdown",
      "source": [
        "# Logistic Regression PyTorch with MNIST\n",
        "- **Task**: Classification\n",
        "- **Data**: MNIST Dataset\n",
        "- **Model**: Logistic Regression\n",
        "- **Loss function**: Cross Entropy Loss\n",
        "- **Optimization**: Stochastic Gradient Descent"
      ],
      "metadata": {
        "id": "IwymkzhzYoPa"
      }
    },
    {
      "cell_type": "code",
      "source": [
        "%load_ext watermark\n",
        "%watermark -a 'Nguyen Van Sy Thinh' -v -p torch"
      ],
      "metadata": {
        "colab": {
          "base_uri": "https://localhost:8080/"
        },
        "id": "Ao8nws0Unz3B",
        "outputId": "b9dd31ac-7fe4-49ff-92dd-0a25507433e9"
      },
      "execution_count": 20,
      "outputs": [
        {
          "output_type": "stream",
          "name": "stdout",
          "text": [
            "Author: Nguyen Van Sy Thinh\n",
            "\n",
            "Python implementation: CPython\n",
            "Python version       : 3.10.12\n",
            "IPython version      : 7.34.0\n",
            "\n",
            "torch: 2.3.0+cu121\n",
            "\n"
          ]
        }
      ]
    },
    {
      "cell_type": "markdown",
      "source": [
        "## 1. Import Library"
      ],
      "metadata": {
        "id": "k4Fm8LFQYxJi"
      }
    },
    {
      "cell_type": "code",
      "source": [
        "import torch\n",
        "import torchvision.transforms as transforms\n",
        "from torchvision import datasets\n",
        "import matplotlib.pyplot as plt\n",
        "import time"
      ],
      "metadata": {
        "id": "hdWQADB0ZFYP"
      },
      "execution_count": 14,
      "outputs": []
    },
    {
      "cell_type": "markdown",
      "source": [
        "## 2. Data"
      ],
      "metadata": {
        "id": "DkYKMYX8YygA"
      }
    },
    {
      "cell_type": "markdown",
      "source": [
        "### 2.1. MNIST Dataset"
      ],
      "metadata": {
        "id": "sXZrwCVrZIWw"
      }
    },
    {
      "cell_type": "code",
      "execution_count": 2,
      "metadata": {
        "colab": {
          "base_uri": "https://localhost:8080/"
        },
        "id": "wZlmQGmpYPcr",
        "outputId": "b7e647b7-4422-444e-d920-1578f348a66b"
      },
      "outputs": [
        {
          "output_type": "stream",
          "name": "stdout",
          "text": [
            "Downloading http://yann.lecun.com/exdb/mnist/train-images-idx3-ubyte.gz\n",
            "Failed to download (trying next):\n",
            "HTTP Error 403: Forbidden\n",
            "\n",
            "Downloading https://ossci-datasets.s3.amazonaws.com/mnist/train-images-idx3-ubyte.gz\n",
            "Downloading https://ossci-datasets.s3.amazonaws.com/mnist/train-images-idx3-ubyte.gz to ./data/MNIST/raw/train-images-idx3-ubyte.gz\n"
          ]
        },
        {
          "output_type": "stream",
          "name": "stderr",
          "text": [
            "100%|██████████| 9912422/9912422 [00:01<00:00, 5074370.91it/s]\n"
          ]
        },
        {
          "output_type": "stream",
          "name": "stdout",
          "text": [
            "Extracting ./data/MNIST/raw/train-images-idx3-ubyte.gz to ./data/MNIST/raw\n",
            "\n",
            "Downloading http://yann.lecun.com/exdb/mnist/train-labels-idx1-ubyte.gz\n",
            "Failed to download (trying next):\n",
            "HTTP Error 403: Forbidden\n",
            "\n",
            "Downloading https://ossci-datasets.s3.amazonaws.com/mnist/train-labels-idx1-ubyte.gz\n",
            "Downloading https://ossci-datasets.s3.amazonaws.com/mnist/train-labels-idx1-ubyte.gz to ./data/MNIST/raw/train-labels-idx1-ubyte.gz\n"
          ]
        },
        {
          "output_type": "stream",
          "name": "stderr",
          "text": [
            "100%|██████████| 28881/28881 [00:00<00:00, 137519.02it/s]\n"
          ]
        },
        {
          "output_type": "stream",
          "name": "stdout",
          "text": [
            "Extracting ./data/MNIST/raw/train-labels-idx1-ubyte.gz to ./data/MNIST/raw\n",
            "\n",
            "Downloading http://yann.lecun.com/exdb/mnist/t10k-images-idx3-ubyte.gz\n",
            "Failed to download (trying next):\n",
            "HTTP Error 403: Forbidden\n",
            "\n",
            "Downloading https://ossci-datasets.s3.amazonaws.com/mnist/t10k-images-idx3-ubyte.gz\n",
            "Downloading https://ossci-datasets.s3.amazonaws.com/mnist/t10k-images-idx3-ubyte.gz to ./data/MNIST/raw/t10k-images-idx3-ubyte.gz\n"
          ]
        },
        {
          "output_type": "stream",
          "name": "stderr",
          "text": [
            "100%|██████████| 1648877/1648877 [00:01<00:00, 1097291.84it/s]\n"
          ]
        },
        {
          "output_type": "stream",
          "name": "stdout",
          "text": [
            "Extracting ./data/MNIST/raw/t10k-images-idx3-ubyte.gz to ./data/MNIST/raw\n",
            "\n",
            "Downloading http://yann.lecun.com/exdb/mnist/t10k-labels-idx1-ubyte.gz\n",
            "Failed to download (trying next):\n",
            "HTTP Error 403: Forbidden\n",
            "\n",
            "Downloading https://ossci-datasets.s3.amazonaws.com/mnist/t10k-labels-idx1-ubyte.gz\n",
            "Downloading https://ossci-datasets.s3.amazonaws.com/mnist/t10k-labels-idx1-ubyte.gz to ./data/MNIST/raw/t10k-labels-idx1-ubyte.gz\n"
          ]
        },
        {
          "output_type": "stream",
          "name": "stderr",
          "text": [
            "100%|██████████| 4542/4542 [00:00<00:00, 9037252.74it/s]"
          ]
        },
        {
          "output_type": "stream",
          "name": "stdout",
          "text": [
            "Extracting ./data/MNIST/raw/t10k-labels-idx1-ubyte.gz to ./data/MNIST/raw\n",
            "\n"
          ]
        },
        {
          "output_type": "stream",
          "name": "stderr",
          "text": [
            "\n"
          ]
        }
      ],
      "source": [
        "# Loading training data\n",
        "train_dataset = datasets.MNIST(root='./data',\n",
        "                               train=True,\n",
        "                               transform=transforms.ToTensor(),\n",
        "                               download=True)\n",
        "# Loading test data\n",
        "test_dataset = datasets.MNIST(root='./data',\n",
        "                              train=False,\n",
        "                              transform=transforms.ToTensor())"
      ]
    },
    {
      "cell_type": "markdown",
      "source": [
        "### 2.2. Data Information"
      ],
      "metadata": {
        "id": "zu2xayHAZ6px"
      }
    },
    {
      "cell_type": "code",
      "source": [
        "print(f\"Number of training samples: {len(train_dataset)}\")\n",
        "print(f\"Number of testing samples: {len(test_dataset)}\")"
      ],
      "metadata": {
        "colab": {
          "base_uri": "https://localhost:8080/"
        },
        "id": "NKGIXwVkZLJl",
        "outputId": "0e06d47c-0bb8-4729-cd00-beac6c0dcd2a"
      },
      "execution_count": 3,
      "outputs": [
        {
          "output_type": "stream",
          "name": "stdout",
          "text": [
            "Number of training samples: 60000\n",
            "Number of testing samples: 10000\n"
          ]
        }
      ]
    },
    {
      "cell_type": "code",
      "source": [
        "print(f\"Datatype of the 1st training sample: {train_dataset[0][0].type()}\")\n",
        "print(f\"Size of the 1st training sample: {train_dataset[0][0].size()}\")"
      ],
      "metadata": {
        "colab": {
          "base_uri": "https://localhost:8080/"
        },
        "id": "mEchSn6wZw3d",
        "outputId": "aa35357c-e95d-4691-d155-6bcdce9cdcf5"
      },
      "execution_count": 4,
      "outputs": [
        {
          "output_type": "stream",
          "name": "stdout",
          "text": [
            "Datatype of the 1st training sample: torch.FloatTensor\n",
            "Size of the 1st training sample: torch.Size([1, 28, 28])\n"
          ]
        }
      ]
    },
    {
      "cell_type": "markdown",
      "source": [
        "### 2.3. Data Visualization"
      ],
      "metadata": {
        "id": "VMYEKrRLZ8ht"
      }
    },
    {
      "cell_type": "code",
      "source": [
        "img_5 = train_dataset[0][0].numpy().reshape(28, 28)\n",
        "plt.imshow(img_5, cmap='gray')\n",
        "plt.show()"
      ],
      "metadata": {
        "colab": {
          "base_uri": "https://localhost:8080/",
          "height": 430
        },
        "id": "mZMW-Ox-Z9pv",
        "outputId": "647624a6-b52b-40cd-a2ff-126cf2637ac2"
      },
      "execution_count": 5,
      "outputs": [
        {
          "output_type": "display_data",
          "data": {
            "text/plain": [
              "<Figure size 640x480 with 1 Axes>"
            ],
            "image/png": "[encoded data removed]"
          },
          "metadata": {}
        }
      ]
    },
    {
      "cell_type": "markdown",
      "source": [
        "### 2.4. Load Dataset into DataLoader"
      ],
      "metadata": {
        "id": "D5vH5DHDaSpE"
      }
    },
    {
      "cell_type": "code",
      "source": [
        "from torch.utils.data import DataLoader\n",
        "\n",
        "# Load train and test data samples into dataloader\n",
        "batach_size = 32\n",
        "train_loader = DataLoader(dataset=train_dataset, batch_size=batach_size, shuffle=True)\n",
        "test_loader = DataLoader(dataset=test_dataset, batch_size=batach_size, shuffle=False)"
      ],
      "metadata": {
        "id": "xsZmSX64aVF4"
      },
      "execution_count": 6,
      "outputs": []
    },
    {
      "cell_type": "markdown",
      "source": [
        "## 3. Model"
      ],
      "metadata": {
        "id": "32MkQnmuaZT4"
      }
    },
    {
      "cell_type": "code",
      "source": [
        "import torch\n",
        "import torch.nn as nn\n",
        "\n",
        "class LinearRegressionModel(nn.Module):\n",
        "    def __init__(self, n_inputs, n_outputs):\n",
        "        super().__init__()\n",
        "        self.linear = nn.Linear(n_inputs, n_outputs)\n",
        "\n",
        "    def forward(self, x):\n",
        "        output = torch.sigmoid(self.linear(x))\n",
        "        return output"
      ],
      "metadata": {
        "id": "-k6pAeghaaGv"
      },
      "execution_count": 7,
      "outputs": []
    },
    {
      "cell_type": "code",
      "source": [
        "N_INPUTS = 28*28 # makes a 1D vector of 784\n",
        "N_OUTPUTS = 10"
      ],
      "metadata": {
        "id": "gNOq0pHdjmeY"
      },
      "execution_count": 8,
      "outputs": []
    },
    {
      "cell_type": "code",
      "source": [
        "model = LinearRegressionModel(n_inputs=N_INPUTS, n_outputs=N_OUTPUTS)"
      ],
      "metadata": {
        "id": "vdmDzHLUjWjh"
      },
      "execution_count": 9,
      "outputs": []
    },
    {
      "cell_type": "markdown",
      "source": [
        "## 4. Loss Function and Optimization"
      ],
      "metadata": {
        "id": "LSc4P6BLjtGd"
      }
    },
    {
      "cell_type": "code",
      "source": [
        "LR = 0.001\n",
        "EPOCHS = 50"
      ],
      "metadata": {
        "id": "5e5mUCrqjvo6"
      },
      "execution_count": 10,
      "outputs": []
    },
    {
      "cell_type": "code",
      "source": [
        "criterion = torch.nn.CrossEntropyLoss()\n",
        "optimizer = torch.optim.SGD(model.parameters(), lr=LR)"
      ],
      "metadata": {
        "id": "HyefEJxQjyOs"
      },
      "execution_count": 11,
      "outputs": []
    },
    {
      "cell_type": "markdown",
      "source": [
        "## 5. Train"
      ],
      "metadata": {
        "id": "zMIMDD5sj4EO"
      }
    },
    {
      "cell_type": "code",
      "source": [
        "losses = []\n",
        "accs = []\n",
        "for epoch in range(EPOCHS):\n",
        "    start_time = time.time()\n",
        "    # Train\n",
        "    for i, (images, labels) in enumerate(train_loader):\n",
        "        outputs = model(images.view(-1, 28*28))\n",
        "        loss = criterion(outputs, labels)\n",
        "        optimizer.zero_grad()\n",
        "        loss.backward()\n",
        "        optimizer.step()\n",
        "\n",
        "    # Validation\n",
        "    losses.append(loss.item())\n",
        "    correct = 0\n",
        "    for images, labels in test_loader:\n",
        "        outputs = model(images.view(-1, 28*28))\n",
        "        _, predicted = torch.max(outputs.data, 1)\n",
        "        correct += (predicted == labels).sum().item()\n",
        "    accuracy = 100 * correct / len(test_dataset)\n",
        "    accs.append(accuracy)\n",
        "    print(f'[{epoch}/{EPOCHS}] Epoch, Loss {loss.item():.4f}, Accuracy {accuracy:.4f}, Time: {time.time() - start_time:.4f}')"
      ],
      "metadata": {
        "colab": {
          "base_uri": "https://localhost:8080/"
        },
        "id": "eALWXZMTj3PR",
        "outputId": "2d5d3b6b-c351-455d-e4bd-45aad1c1cdf4"
      },
      "execution_count": 15,
      "outputs": [
        {
          "output_type": "stream",
          "name": "stdout",
          "text": [
            "[0/50] Epoch, Loss 1.9626, Accuracy 80.1600, Time: 9.3828\n",
            "[1/50] Epoch, Loss 1.9348, Accuracy 81.1200, Time: 10.0477\n",
            "[2/50] Epoch, Loss 1.9150, Accuracy 81.8100, Time: 11.4044\n",
            "[3/50] Epoch, Loss 1.8844, Accuracy 82.2400, Time: 11.0906\n",
            "[4/50] Epoch, Loss 1.8787, Accuracy 82.5300, Time: 11.3849\n",
            "[5/50] Epoch, Loss 1.8330, Accuracy 82.8600, Time: 8.3539\n",
            "[6/50] Epoch, Loss 1.8042, Accuracy 83.1000, Time: 9.4537\n",
            "[7/50] Epoch, Loss 1.8456, Accuracy 83.2900, Time: 9.5351\n",
            "[8/50] Epoch, Loss 1.8171, Accuracy 83.4600, Time: 9.8143\n",
            "[9/50] Epoch, Loss 1.8805, Accuracy 83.7900, Time: 8.6857\n",
            "[10/50] Epoch, Loss 1.7479, Accuracy 83.8900, Time: 9.2616\n",
            "[11/50] Epoch, Loss 1.7503, Accuracy 84.0700, Time: 9.2904\n",
            "[12/50] Epoch, Loss 1.7684, Accuracy 84.2300, Time: 10.2136\n",
            "[13/50] Epoch, Loss 1.7758, Accuracy 84.3600, Time: 8.4900\n",
            "[14/50] Epoch, Loss 1.7613, Accuracy 84.4900, Time: 9.1829\n",
            "[15/50] Epoch, Loss 1.7904, Accuracy 84.5500, Time: 9.2315\n",
            "[16/50] Epoch, Loss 1.7845, Accuracy 84.7400, Time: 10.0184\n",
            "[17/50] Epoch, Loss 1.7263, Accuracy 84.8500, Time: 8.8006\n",
            "[18/50] Epoch, Loss 1.7484, Accuracy 84.9000, Time: 9.0129\n",
            "[19/50] Epoch, Loss 1.7570, Accuracy 85.0500, Time: 9.3725\n",
            "[20/50] Epoch, Loss 1.7019, Accuracy 85.1000, Time: 9.3219\n",
            "[21/50] Epoch, Loss 1.6873, Accuracy 85.1700, Time: 8.7389\n",
            "[22/50] Epoch, Loss 1.7462, Accuracy 85.2800, Time: 9.4875\n",
            "[23/50] Epoch, Loss 1.7291, Accuracy 85.3400, Time: 9.3243\n",
            "[24/50] Epoch, Loss 1.7806, Accuracy 85.4200, Time: 9.4271\n",
            "[25/50] Epoch, Loss 1.7169, Accuracy 85.5000, Time: 8.9811\n",
            "[26/50] Epoch, Loss 1.7076, Accuracy 85.5600, Time: 9.2837\n",
            "[27/50] Epoch, Loss 1.7438, Accuracy 85.6400, Time: 9.5539\n",
            "[28/50] Epoch, Loss 1.7231, Accuracy 85.6800, Time: 9.5315\n",
            "[29/50] Epoch, Loss 1.7254, Accuracy 85.7100, Time: 9.3539\n",
            "[30/50] Epoch, Loss 1.7510, Accuracy 85.7200, Time: 8.8396\n",
            "[31/50] Epoch, Loss 1.7146, Accuracy 85.7500, Time: 9.3801\n",
            "[32/50] Epoch, Loss 1.7354, Accuracy 85.8400, Time: 9.4713\n",
            "[33/50] Epoch, Loss 1.7304, Accuracy 85.8900, Time: 9.1726\n",
            "[34/50] Epoch, Loss 1.7551, Accuracy 85.9800, Time: 8.8184\n",
            "[35/50] Epoch, Loss 1.6945, Accuracy 86.0100, Time: 9.5139\n",
            "[36/50] Epoch, Loss 1.6871, Accuracy 86.0700, Time: 9.4074\n",
            "[37/50] Epoch, Loss 1.7499, Accuracy 86.1200, Time: 9.4447\n",
            "[38/50] Epoch, Loss 1.7104, Accuracy 86.2300, Time: 8.8122\n",
            "[39/50] Epoch, Loss 1.6837, Accuracy 86.2800, Time: 9.3688\n",
            "[40/50] Epoch, Loss 1.7155, Accuracy 86.3100, Time: 9.3448\n",
            "[41/50] Epoch, Loss 1.6987, Accuracy 86.3300, Time: 9.3562\n",
            "[42/50] Epoch, Loss 1.6947, Accuracy 86.3500, Time: 8.8460\n",
            "[43/50] Epoch, Loss 1.7761, Accuracy 86.4000, Time: 9.4177\n",
            "[44/50] Epoch, Loss 1.6400, Accuracy 86.4300, Time: 9.4220\n",
            "[45/50] Epoch, Loss 1.6688, Accuracy 86.4700, Time: 9.5489\n",
            "[46/50] Epoch, Loss 1.7348, Accuracy 86.5200, Time: 8.6245\n",
            "[47/50] Epoch, Loss 1.7179, Accuracy 86.5800, Time: 9.4587\n",
            "[48/50] Epoch, Loss 1.7066, Accuracy 86.6700, Time: 9.5140\n",
            "[49/50] Epoch, Loss 1.6551, Accuracy 86.6900, Time: 9.3674\n"
          ]
        }
      ]
    },
    {
      "cell_type": "markdown",
      "source": [
        "## 6. Inference"
      ],
      "metadata": {
        "id": "vzDA7QbbluVY"
      }
    },
    {
      "cell_type": "markdown",
      "source": [
        "### 6.1. Loss Visualization"
      ],
      "metadata": {
        "id": "kdPXIboQmA0U"
      }
    },
    {
      "cell_type": "code",
      "source": [
        "plt.plot(losses)\n",
        "plt.xlabel(\"no. of epochs\")\n",
        "plt.ylabel(\"total loss\")\n",
        "plt.title(\"Loss\")\n",
        "plt.show()"
      ],
      "metadata": {
        "colab": {
          "base_uri": "https://localhost:8080/",
          "height": 472
        },
        "id": "_LN5ErfolFuA",
        "outputId": "95a5ce92-b779-412f-d0f3-6d0a6a045f88"
      },
      "execution_count": 16,
      "outputs": [
        {
          "output_type": "display_data",
          "data": {
            "text/plain": [
              "<Figure size 640x480 with 1 Axes>"
            ],
            "image/png": "[encoded data removed]"
          },
          "metadata": {}
        }
      ]
    },
    {
      "cell_type": "markdown",
      "source": [
        "### 6.2. Accuracy"
      ],
      "metadata": {
        "id": "K2WdvMVomFp7"
      }
    },
    {
      "cell_type": "code",
      "source": [
        "plt.plot(accs)\n",
        "plt.xlabel(\"no. of epochs\")\n",
        "plt.ylabel(\"total accuracy\")\n",
        "plt.title(\"Accuracy\")\n",
        "plt.show()"
      ],
      "metadata": {
        "colab": {
          "base_uri": "https://localhost:8080/",
          "height": 472
        },
        "id": "vZhkDhgrmEcS",
        "outputId": "f151ce6b-ad63-47df-fa20-e6a0aaae5f8f"
      },
      "execution_count": 17,
      "outputs": [
        {
          "output_type": "display_data",
          "data": {
            "text/plain": [
              "<Figure size 640x480 with 1 Axes>"
            ],
            "image/png": "[encoded data removed]"
          },
          "metadata": {}
        }
      ]
    }
  ]
}