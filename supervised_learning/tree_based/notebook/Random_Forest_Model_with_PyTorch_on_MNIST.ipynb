{
  "cells": [
    {
      "cell_type": "markdown",
      "metadata": {
        "id": "IwymkzhzYoPa"
      },
      "source": [
        "# Random Forest PyTorch with MNIST 1000\n",
        "- **Task**: Classification\n",
        "- **Data**: MNIST 1000 Dataset\n",
        "- **Model**: Random Forest\n",
        "- **Criterion**: Entropy"
      ]
    },
    {
      "cell_type": "code",
      "execution_count": 1,
      "metadata": {
        "colab": {
          "base_uri": "https://localhost:8080/"
        },
        "id": "FNIoDYe9jagE",
        "outputId": "98de9c39-4c1a-4871-a44c-02e888a34045"
      },
      "outputs": [
        {
          "name": "stdout",
          "output_type": "stream",
          "text": [
            "\u001b[2K     \u001b[90m━━━━━━━━━━━━━━━━━━━━━━━━━━━━━━━━━━━━━━━━\u001b[0m \u001b[32m1.6/1.6 MB\u001b[0m \u001b[31m5.8 MB/s\u001b[0m eta \u001b[36m0:00:00\u001b[0m\n",
            "\u001b[?25h"
          ]
        }
      ],
      "source": [
        "!pip install -q watermark"
      ]
    },
    {
      "cell_type": "code",
      "execution_count": 2,
      "metadata": {
        "colab": {
          "base_uri": "https://localhost:8080/"
        },
        "id": "qhCkB6xkjY6A",
        "outputId": "14724d3e-0215-43cf-c767-b76cfea52895"
      },
      "outputs": [
        {
          "name": "stdout",
          "output_type": "stream",
          "text": [
            "Author: Nguyen Van Sy Thinh\n",
            "\n",
            "Python implementation: CPython\n",
            "Python version       : 3.10.12\n",
            "IPython version      : 7.34.0\n",
            "\n",
            "torch: 2.3.0+cu121\n",
            "\n"
          ]
        }
      ],
      "source": [
        "%load_ext watermark\n",
        "%watermark -a 'Nguyen Van Sy Thinh' -v -p torch"
      ]
    },
    {
      "cell_type": "markdown",
      "metadata": {
        "id": "k4Fm8LFQYxJi"
      },
      "source": [
        "## 1. Import Library"
      ]
    },
    {
      "cell_type": "code",
      "execution_count": 3,
      "metadata": {
        "id": "hdWQADB0ZFYP"
      },
      "outputs": [],
      "source": [
        "import torch\n",
        "import torch.nn as nn\n",
        "import torchvision.transforms as transforms\n",
        "from torchvision import datasets\n",
        "import matplotlib.pyplot as plt\n",
        "import time\n",
        "from math import log, sqrt\n",
        "import random\n",
        "device = torch.device('cuda' if torch.cuda.is_available() else 'cpu')"
      ]
    },
    {
      "cell_type": "markdown",
      "metadata": {
        "id": "DkYKMYX8YygA"
      },
      "source": [
        "## 2. Data"
      ]
    },
    {
      "cell_type": "markdown",
      "metadata": {
        "id": "sXZrwCVrZIWw"
      },
      "source": [
        "### 2.1. MNIST Dataset"
      ]
    },
    {
      "cell_type": "code",
      "execution_count": 4,
      "metadata": {
        "colab": {
          "base_uri": "https://localhost:8080/"
        },
        "id": "wZlmQGmpYPcr",
        "outputId": "b951e651-ccb8-4eeb-995d-991417883c44"
      },
      "outputs": [
        {
          "name": "stdout",
          "output_type": "stream",
          "text": [
            "Downloading http://yann.lecun.com/exdb/mnist/train-images-idx3-ubyte.gz\n",
            "Failed to download (trying next):\n",
            "HTTP Error 403: Forbidden\n",
            "\n",
            "Downloading https://ossci-datasets.s3.amazonaws.com/mnist/train-images-idx3-ubyte.gz\n",
            "Downloading https://ossci-datasets.s3.amazonaws.com/mnist/train-images-idx3-ubyte.gz to ./data/MNIST/raw/train-images-idx3-ubyte.gz\n"
          ]
        },
        {
          "name": "stderr",
          "output_type": "stream",
          "text": [
            "100%|██████████| 9912422/9912422 [00:00<00:00, 51407943.02it/s]\n"
          ]
        },
        {
          "name": "stdout",
          "output_type": "stream",
          "text": [
            "Extracting ./data/MNIST/raw/train-images-idx3-ubyte.gz to ./data/MNIST/raw\n",
            "\n",
            "Downloading http://yann.lecun.com/exdb/mnist/train-labels-idx1-ubyte.gz\n",
            "Failed to download (trying next):\n",
            "HTTP Error 403: Forbidden\n",
            "\n",
            "Downloading https://ossci-datasets.s3.amazonaws.com/mnist/train-labels-idx1-ubyte.gz\n",
            "Downloading https://ossci-datasets.s3.amazonaws.com/mnist/train-labels-idx1-ubyte.gz to ./data/MNIST/raw/train-labels-idx1-ubyte.gz\n"
          ]
        },
        {
          "name": "stderr",
          "output_type": "stream",
          "text": [
            "100%|██████████| 28881/28881 [00:00<00:00, 1860620.44it/s]\n"
          ]
        },
        {
          "name": "stdout",
          "output_type": "stream",
          "text": [
            "Extracting ./data/MNIST/raw/train-labels-idx1-ubyte.gz to ./data/MNIST/raw\n",
            "\n",
            "Downloading http://yann.lecun.com/exdb/mnist/t10k-images-idx3-ubyte.gz\n",
            "Failed to download (trying next):\n",
            "HTTP Error 403: Forbidden\n",
            "\n",
            "Downloading https://ossci-datasets.s3.amazonaws.com/mnist/t10k-images-idx3-ubyte.gz\n",
            "Downloading https://ossci-datasets.s3.amazonaws.com/mnist/t10k-images-idx3-ubyte.gz to ./data/MNIST/raw/t10k-images-idx3-ubyte.gz\n"
          ]
        },
        {
          "name": "stderr",
          "output_type": "stream",
          "text": [
            "100%|██████████| 1648877/1648877 [00:00<00:00, 13606540.13it/s]\n"
          ]
        },
        {
          "name": "stdout",
          "output_type": "stream",
          "text": [
            "Extracting ./data/MNIST/raw/t10k-images-idx3-ubyte.gz to ./data/MNIST/raw\n",
            "\n",
            "Downloading http://yann.lecun.com/exdb/mnist/t10k-labels-idx1-ubyte.gz\n",
            "Failed to download (trying next):\n",
            "HTTP Error 403: Forbidden\n",
            "\n",
            "Downloading https://ossci-datasets.s3.amazonaws.com/mnist/t10k-labels-idx1-ubyte.gz\n",
            "Downloading https://ossci-datasets.s3.amazonaws.com/mnist/t10k-labels-idx1-ubyte.gz to ./data/MNIST/raw/t10k-labels-idx1-ubyte.gz\n"
          ]
        },
        {
          "name": "stderr",
          "output_type": "stream",
          "text": [
            "100%|██████████| 4542/4542 [00:00<00:00, 1561006.95it/s]\n"
          ]
        },
        {
          "name": "stdout",
          "output_type": "stream",
          "text": [
            "Extracting ./data/MNIST/raw/t10k-labels-idx1-ubyte.gz to ./data/MNIST/raw\n",
            "\n"
          ]
        }
      ],
      "source": [
        "transform = transforms.Compose([\n",
        "    transforms.ToTensor(),\n",
        "    nn.Flatten()\n",
        "])\n",
        "\n",
        "# Loading training data\n",
        "train_dataset = datasets.MNIST(root='./data',\n",
        "                               train=True,\n",
        "                               transform=transform,\n",
        "                               download=True)\n",
        "# Loading test data\n",
        "test_dataset = datasets.MNIST(root='./data',\n",
        "                              train=False,\n",
        "                              transform=transform)"
      ]
    },
    {
      "cell_type": "markdown",
      "metadata": {
        "id": "zu2xayHAZ6px"
      },
      "source": [
        "### 2.2. Data Information"
      ]
    },
    {
      "cell_type": "code",
      "execution_count": 5,
      "metadata": {
        "colab": {
          "base_uri": "https://localhost:8080/"
        },
        "id": "NKGIXwVkZLJl",
        "outputId": "abf4ef5e-8fe3-4553-bc14-03ee1da37e48"
      },
      "outputs": [
        {
          "name": "stdout",
          "output_type": "stream",
          "text": [
            "Number of training samples: 60000\n",
            "Number of testing samples: 10000\n"
          ]
        }
      ],
      "source": [
        "print(f\"Number of training samples: {len(train_dataset)}\")\n",
        "print(f\"Number of testing samples: {len(test_dataset)}\")"
      ]
    },
    {
      "cell_type": "code",
      "execution_count": 6,
      "metadata": {
        "colab": {
          "base_uri": "https://localhost:8080/"
        },
        "id": "mEchSn6wZw3d",
        "outputId": "4ae9e059-638e-4e80-ebd4-58e9c9f1f0c9"
      },
      "outputs": [
        {
          "name": "stdout",
          "output_type": "stream",
          "text": [
            "Datatype of the 1st training sample: torch.FloatTensor\n",
            "Size of the 1st training sample: torch.Size([1, 784])\n"
          ]
        }
      ],
      "source": [
        "print(f\"Datatype of the 1st training sample: {train_dataset[0][0].type()}\")\n",
        "print(f\"Size of the 1st training sample: {train_dataset[0][0].size()}\")"
      ]
    },
    {
      "cell_type": "markdown",
      "metadata": {
        "id": "VMYEKrRLZ8ht"
      },
      "source": [
        "### 2.3. Data Visualization"
      ]
    },
    {
      "cell_type": "code",
      "execution_count": 7,
      "metadata": {
        "colab": {
          "base_uri": "https://localhost:8080/",
          "height": 430
        },
        "id": "mZMW-Ox-Z9pv",
        "outputId": "549c684c-8991-4029-83b8-bbb5250b43cb"
      },
      "outputs": [
        {
          "data": {
            "image/png": "[encoded data removed]",
            "text/plain": [
              "<Figure size 640x480 with 1 Axes>"
            ]
          },
          "metadata": {},
          "output_type": "display_data"
        }
      ],
      "source": [
        "img_5 = train_dataset[0][0].numpy().reshape(28, 28)\n",
        "plt.imshow(img_5, cmap='gray')\n",
        "plt.show()"
      ]
    },
    {
      "cell_type": "markdown",
      "metadata": {
        "id": "D5vH5DHDaSpE"
      },
      "source": [
        "### 2.4. Load Dataset into TorchTensor"
      ]
    },
    {
      "cell_type": "code",
      "execution_count": 8,
      "metadata": {
        "id": "xsZmSX64aVF4"
      },
      "outputs": [],
      "source": [
        "x_train = torch.stack([train_dataset[i][0].squeeze() for i in range(len(train_dataset))]).to(device)\n",
        "y_train = torch.tensor([train_dataset[i][1] for i in range(len(train_dataset))], dtype=torch.int64).to(device)\n",
        "x_test = torch.stack([test_dataset[i][0].squeeze() for i in range(len(test_dataset))]).to(device)\n",
        "y_test = torch.tensor([test_dataset[i][1] for i in range(len(test_dataset))], dtype=torch.int64).to(device)"
      ]
    },
    {
      "cell_type": "code",
      "execution_count": 9,
      "metadata": {
        "colab": {
          "base_uri": "https://localhost:8080/"
        },
        "id": "ox9WiuV0hZXK",
        "outputId": "22cf4431-4ac9-4b49-f22f-1263c18ecfa5"
      },
      "outputs": [
        {
          "name": "stdout",
          "output_type": "stream",
          "text": [
            "x_train.shape = torch.Size([60000, 784])\n",
            "x_train.dtype = torch.float32\n",
            "y_train.shape = torch.Size([60000])\n",
            "y_train.dtype = torch.int64\n"
          ]
        }
      ],
      "source": [
        "print(f\"{x_train.shape = }\")\n",
        "print(f\"{x_train.dtype = }\")\n",
        "print(f\"{y_train.shape = }\")\n",
        "print(f\"{y_train.dtype = }\")"
      ]
    },
    {
      "cell_type": "markdown",
      "metadata": {
        "id": "32MkQnmuaZT4"
      },
      "source": [
        "## 3. Model"
      ]
    },
    {
      "cell_type": "markdown",
      "metadata": {
        "id": "uzPWEOWjiCrJ"
      },
      "source": [
        "### 3.1. Utils"
      ]
    },
    {
      "cell_type": "code",
      "execution_count": 10,
      "metadata": {
        "id": "VyG7gsI4e3Ew"
      },
      "outputs": [],
      "source": [
        "from math import log, sqrt\n",
        "import torch\n",
        "import random\n",
        "\n",
        "\n",
        "def unique_counts(labels):\n",
        "    \"\"\"\n",
        "    Unique count function used to count labels.\n",
        "    \"\"\"\n",
        "    results = {}\n",
        "    for label in labels:\n",
        "        value = label.item()\n",
        "        if value not in results.keys():\n",
        "            results[value] = 0\n",
        "        results[value] += 1\n",
        "    return results\n",
        "\n",
        "\n",
        "def divide_set(vectors, labels, column, value):\n",
        "    \"\"\"\n",
        "    Divide the sets into two different sets along a specific dimension and value.\n",
        "    \"\"\"\n",
        "    set_1 = [(vector, label) for vector, label in zip(vectors, labels) if split_function(vector, column, value)]\n",
        "    set_2 = [(vector, label) for vector, label in zip(vectors, labels) if not split_function(vector, column, value)]\n",
        "\n",
        "    vectors_set_1 = [element[0] for element in set_1]\n",
        "    vectors_set_2 = [element[0] for element in set_2]\n",
        "    label_set_1 = [element[1] for element in set_1]\n",
        "    label_set_2 = [element[1] for element in set_2]\n",
        "\n",
        "    return vectors_set_1, label_set_1, vectors_set_2, label_set_2\n",
        "\n",
        "\n",
        "def split_function(vector, column, value):\n",
        "    \"\"\"\n",
        "    Split function\n",
        "    \"\"\"\n",
        "    return vector[column] >= value\n",
        "\n",
        "\n",
        "def log2(x):\n",
        "    \"\"\"\n",
        "    Log2 function\n",
        "    \"\"\"\n",
        "    return log(x) / log(2)\n",
        "\n",
        "\n",
        "def sample_vectors(vectors, labels, nb_samples):\n",
        "    \"\"\"\n",
        "    Sample vectors and labels uniformly.\n",
        "    \"\"\"\n",
        "    sampled_indices = torch.LongTensor(random.sample(range(len(vectors)), nb_samples))\n",
        "    sampled_vectors = torch.index_select(vectors,0, sampled_indices)\n",
        "    sampled_labels = torch.index_select(labels,0, sampled_indices)\n",
        "\n",
        "    return sampled_vectors, sampled_labels\n",
        "\n",
        "\n",
        "def sample_dimensions(vectors):\n",
        "    \"\"\"\n",
        "    Sample vectors along dimension uniformly.\n",
        "    \"\"\"\n",
        "    sample_dimension = torch.LongTensor(random.sample(range(len(vectors[0])), int(sqrt(len(vectors[0])))))\n",
        "\n",
        "    return sample_dimension\n",
        "\n",
        "\n",
        "def entropy(labels):\n",
        "    \"\"\"\n",
        "    Entropy function.\n",
        "    \"\"\"\n",
        "    results = unique_counts(labels)\n",
        "    ent = 0.0\n",
        "    for r in results.keys():\n",
        "        p = float(results[r]) / len(labels)\n",
        "        ent = ent - p * log2(p)\n",
        "    return ent\n",
        "\n",
        "\n",
        "def variance(values):\n",
        "    \"\"\"\n",
        "    Variance function.\n",
        "    \"\"\"\n",
        "    mean_value = mean(values)\n",
        "    var = 0.0\n",
        "    for value in values:\n",
        "        var = var + torch.sum(torch.sqrt(torch.pow(value-mean_value,2))).item()/len(values)\n",
        "    return var\n",
        "\n",
        "\n",
        "def mean(values):\n",
        "    \"\"\"\n",
        "    Mean function.\n",
        "    \"\"\"\n",
        "    m = 0.0\n",
        "    for value in values:\n",
        "        m = m + value/len(values)\n",
        "    return m"
      ]
    },
    {
      "cell_type": "markdown",
      "metadata": {
        "id": "zSwOCAlxiEHO"
      },
      "source": [
        "### 3.2. Decision Node"
      ]
    },
    {
      "cell_type": "code",
      "execution_count": 11,
      "metadata": {
        "id": "9oiUh-sYevoh"
      },
      "outputs": [],
      "source": [
        "class DecisionNode:\n",
        "    \"\"\"\n",
        "    Node decision object which is used to build a binary tree. It groups the splitting function and either the different\n",
        "    nodes below (left and right) or a result value to return.\n",
        "\n",
        "    Args:\n",
        "        col (:class:`int`): The dimension along which the splitting is performed.\n",
        "        value (:class:`float`): The value which splits the space into two different spaces for the dimension specified\n",
        "            above.\n",
        "        results (:class:`dict` or :class:`torch.FloatTensor`): The results value to return if no splitting function is\n",
        "            given. It can be either a dictionary where the keys correspond to the labels returned and the different\n",
        "            count associated, either a value tensor to return.\n",
        "        tb (:class:`DecisionNode`): The node to call recursively in the case the splitting function returns true.\n",
        "        fb (:class:`DecisionNode`): The node to call recursively in the case the splitting function returns false.\n",
        "    \"\"\"\n",
        "    def __init__(self, col=-1, value=None, results=None, tb=None, fb=None):\n",
        "        self.col = col\n",
        "        self.value = value\n",
        "        self.results = results\n",
        "        self.tb = tb\n",
        "        self.fb = fb"
      ]
    },
    {
      "cell_type": "markdown",
      "metadata": {
        "id": "N1E1Su4yiFrF"
      },
      "source": [
        "### 3.3. Decision Tree Classifier"
      ]
    },
    {
      "cell_type": "code",
      "execution_count": 12,
      "metadata": {
        "id": "COaUdKVAesQF"
      },
      "outputs": [],
      "source": [
        "class DecisionTreeClassifier(torch.nn.Module):\n",
        "    \"\"\"\n",
        "    Torch decision tree object used to solve classification problem. This object implements the fitting and prediction\n",
        "    function which can be used with torch tensors. The binary tree is based on\n",
        "    :class:`decision_node.DecisionNode` which are built during the :func:`fit` and called recursively during the\n",
        "    :func:`predict`.\n",
        "\n",
        "    Args:\n",
        "        max_depth (:class:`int`): The maximum depth which corresponds to the maximum successive number of\n",
        "            :class:`decision_node.DecisionNode`.\n",
        "\n",
        "    \"\"\"\n",
        "    def __init__(self, max_depth=-1):\n",
        "        self._root_node = None\n",
        "        self.max_depth = max_depth\n",
        "\n",
        "    def fit(self, vectors, labels, criterion=None):\n",
        "        \"\"\"\n",
        "        Function which must be used after the initialisation to fit the binary tree and build the successive\n",
        "        :class:`decision_node.DecisionNode` to solve a specific classification problem.\n",
        "\n",
        "        Args:\n",
        "            vectors (:class:`torch.FloatTensor`): Vectors tensor used to fit the decision tree. It represents the data\n",
        "                and must correspond to the following shape [num_vectors, num_dimensions].\n",
        "            labels (:class:`torch.LongTensor`): Labels tensor used to fit the decision tree. It represents the labels\n",
        "                associated to each vectors and must correspond to the following shape [num_vectors].\n",
        "            criterion (:class:`function`): Optional function used to optimize the splitting for each\n",
        "                :class:`decision_node.DecisionNode`. If none given, the entropy function is used.\n",
        "        \"\"\"\n",
        "        if len(vectors) < 1:\n",
        "            raise ValueError(\"Not enough samples in the given dataset\")\n",
        "        if len(vectors) != len(labels):\n",
        "            raise ValueError(\"Labels and data vectors must have the same number of elements\")\n",
        "        if not criterion:\n",
        "            criterion = entropy\n",
        "\n",
        "        self._root_node = self._build_tree(vectors, labels, criterion, self.max_depth)\n",
        "\n",
        "    def _build_tree(self, vectors, labels, func, depth):\n",
        "        \"\"\"\n",
        "        Private recursive function used to build the tree.\n",
        "        \"\"\"\n",
        "        if len(vectors) == 0:\n",
        "            return DecisionNode()\n",
        "        if depth == 0:\n",
        "            return DecisionNode(results=unique_counts(labels))\n",
        "\n",
        "        current_score = func(labels)\n",
        "        best_gain = 0.0\n",
        "        best_criteria = None\n",
        "        best_sets = None\n",
        "        column_count = len(vectors[0])\n",
        "\n",
        "        for col in range(0, column_count):\n",
        "            column_values = {}\n",
        "            for vector in vectors:\n",
        "                column_values[vector[col]] = 1\n",
        "            for value in column_values.keys():\n",
        "                vectors_set_1, label_set_1, vectors_set_2, label_set_2 = divide_set(vectors, labels, col, value)\n",
        "\n",
        "                p = float(len(vectors_set_1)) / len(vectors)\n",
        "                gain = current_score - p * func(label_set_1) - (1 - p) * func(label_set_2)\n",
        "                if gain > best_gain and len(vectors_set_1) > 0 and len(vectors_set_2) > 0:\n",
        "                    best_gain = gain\n",
        "                    best_criteria = (col, value)\n",
        "                    best_sets = ((vectors_set_1,label_set_1), (vectors_set_2,label_set_2))\n",
        "\n",
        "        if best_gain > 0:\n",
        "            true_branch = self._build_tree(best_sets[0][0], best_sets[0][1], func, depth - 1)\n",
        "            false_branch = self._build_tree(best_sets[1][0], best_sets[1][1], func, depth - 1)\n",
        "            return DecisionNode(col=best_criteria[0],\n",
        "                                value=best_criteria[1],\n",
        "                                tb=true_branch, fb=false_branch)\n",
        "        else:\n",
        "            return DecisionNode(results=unique_counts(labels))\n",
        "\n",
        "    def predict(self, vector):\n",
        "        \"\"\"\n",
        "        Function which must be used after the the fitting of the binary tree. It calls recursively the different\n",
        "        :class:`decision_node.DecisionNode` to classify the vector.\n",
        "\n",
        "        Args:\n",
        "            vector(:class:`torch.FloatTensor`): Vectors tensor which must be classified. It represents the data\n",
        "                and must correspond to the following shape (num_dimensions).\n",
        "\n",
        "        Returns:\n",
        "            :class:`torch.LongTensor`: Tensor which corresponds to the label predicted by the binary tree.\n",
        "\n",
        "        \"\"\"\n",
        "        return self._classify(vector, self._root_node)\n",
        "\n",
        "    def _classify(self, vector, node):\n",
        "        \"\"\"\n",
        "        Private recursive function used to classify with the tree.\n",
        "        \"\"\"\n",
        "        if node.results is not None:\n",
        "            return list(node.results.keys())[0]\n",
        "        else:\n",
        "            if split_function(vector, node.col, node.value):\n",
        "                branch = node.tb\n",
        "            else:\n",
        "                branch = node.fb\n",
        "\n",
        "            return self._classify(vector, branch)"
      ]
    },
    {
      "cell_type": "markdown",
      "metadata": {
        "id": "XD0VB4Ncse6J"
      },
      "source": [
        "### 3.4. Random Forest Classifier"
      ]
    },
    {
      "cell_type": "code",
      "execution_count": 13,
      "metadata": {
        "id": "CRM_-63xsdzT"
      },
      "outputs": [],
      "source": [
        "class RandomForestClassifier(torch.nn.Module):\n",
        "    \"\"\"\n",
        "    Torch random forest object used to solve classification problem. This object implements the fitting and prediction\n",
        "    function which can be used with torch tensors. The random forest is based on\n",
        "    :class:`binary_tree.DecisionTreeClassifier` which are built during the :func:`fit` and called\n",
        "    recursively during the :func:`predict`.\n",
        "\n",
        "    Args:\n",
        "        nb_trees (:class:`int`): Number of :class:`binary_tree.DecisionTreeClassifier` used to fit the\n",
        "            classification problem.\n",
        "        nb_samples (:class:`int`): Number of vector samples used to fit each\n",
        "            :class:`binary_tree.DecisionTreeClassifier`.\n",
        "        max_depth (:class:`int`): The maximum depth which corresponds to the maximum successive number of\n",
        "            :class:`DecisionNode`.\n",
        "        bootstrap (:class:`bool`): If set to true, a sample of the dimensions of the input vectors are made during the\n",
        "            fitting and the prediction.\n",
        "\n",
        "    \"\"\"\n",
        "    def __init__(self,  nb_trees, nb_samples, max_depth=-1, bootstrap=True):\n",
        "        self.trees = []\n",
        "        self.trees_features = []\n",
        "        self.nb_trees = nb_trees\n",
        "        self.nb_samples = nb_samples\n",
        "        self.max_depth = max_depth\n",
        "        self.bootstrap = bootstrap\n",
        "\n",
        "    def fit(self, vectors, labels):\n",
        "        \"\"\"\n",
        "        Function which must be used after the initialisation to fit the random forest and build the successive\n",
        "        :class:`binary_tree.DecisionTreeClassifier` to solve a specific classification problem.\n",
        "\n",
        "        Args:\n",
        "            vectors(:class:`torch.FloatTensor`): Vectors tensor used to fit the random forest. It represents the data\n",
        "                and must correspond to the following shape (num_vectors, num_dimensions).\n",
        "            labels (:class:`torch.LongTensor`): Labels tensor used to fit the decision tree. It represents the labels\n",
        "                associated to each vectors and must correspond to the following shape (num_vectors).\n",
        "\n",
        "        \"\"\"\n",
        "        for _ in range(self.nb_trees):\n",
        "            tree = DecisionTreeClassifier(self.max_depth)\n",
        "            list_features = sample_dimensions(vectors)\n",
        "            self.trees_features.append(list_features)\n",
        "            if self.bootstrap:\n",
        "                sampled_vectors, sample_labels = sample_vectors(vectors, labels, self.nb_samples)\n",
        "                sampled_featured_vectors = torch.index_select(sampled_vectors, 1, list_features)\n",
        "                tree.fit(sampled_featured_vectors, sample_labels)\n",
        "            else:\n",
        "                sampled_featured_vectors = torch.index_select(vectors, 1, list_features)\n",
        "                tree.fit(sampled_featured_vectors, labels)\n",
        "            self.trees.append(tree)\n",
        "\n",
        "    def predict(self, vector):\n",
        "        \"\"\"\n",
        "        Function which must be used after the the fitting of the random forest. It calls recursively the different\n",
        "        :class:`binary_tree.DecisionTreeClassifier` to classify the vector.\n",
        "\n",
        "        Args:\n",
        "            vector(:class:`torch.FloatTensor`): Vectors tensor which must be classified. It represents the data\n",
        "                and must correspond to the following shape (num_dimensions).\n",
        "\n",
        "        Returns:\n",
        "            :class:`torch.LongTensor`: Tensor which corresponds to the label predicted by the random forest.\n",
        "\n",
        "        \"\"\"\n",
        "        predictions = []\n",
        "        for tree, index_features in zip(self.trees, self.trees_features):\n",
        "            sampled_vector = torch.index_select(vector, 0, index_features)\n",
        "            predictions.append(tree.predict(sampled_vector))\n",
        "\n",
        "        return max(set(predictions), key=predictions.count)"
      ]
    },
    {
      "cell_type": "markdown",
      "metadata": {
        "id": "n_FnpPe2shbo"
      },
      "source": [
        "### Model"
      ]
    },
    {
      "cell_type": "code",
      "execution_count": 14,
      "metadata": {
        "id": "wWO1ZGwjedZf"
      },
      "outputs": [],
      "source": [
        "# Initialisation of the model\n",
        "my_model = RandomForestClassifier(nb_trees=10000, nb_samples=3, max_depth=10, bootstrap=True)"
      ]
    },
    {
      "cell_type": "markdown",
      "metadata": {
        "id": "zMIMDD5sj4EO"
      },
      "source": [
        "## 4. Fit model"
      ]
    },
    {
      "cell_type": "code",
      "execution_count": 15,
      "metadata": {
        "id": "qWfgyMpfiydQ"
      },
      "outputs": [],
      "source": [
        "# Fitting function\n",
        "my_model.fit(x_train, y_train)"
      ]
    },
    {
      "cell_type": "markdown",
      "metadata": {
        "id": "vzDA7QbbluVY"
      },
      "source": [
        "## 5. Inference"
      ]
    },
    {
      "cell_type": "code",
      "execution_count": null,
      "metadata": {
        "collapsed": true,
        "id": "x1Eh57Kai0Of"
      },
      "outputs": [],
      "source": [
        "# # Prediction function\n",
        "count = 0\n",
        "for i in range(len(x_test)):\n",
        "    print(i)\n",
        "    y_pred = my_model.predict(x_test[i])\n",
        "    if y_pred == y_test[i]:\n",
        "        count += 1\n",
        "print(f\"Accuracy: {count/len(x_test)}%\")"
      ]
    },
    {
      "cell_type": "code",
      "execution_count": 18,
      "metadata": {
        "colab": {
          "base_uri": "https://localhost:8080/"
        },
        "id": "h7q1eEl5bSjb",
        "outputId": "756ad04e-5df0-4c99-9b18-9e2e8beadc47"
      },
      "outputs": [
        {
          "name": "stdout",
          "output_type": "stream",
          "text": [
            "Accuracy: 0.2451%\n"
          ]
        }
      ],
      "source": [
        "print(f\"Accuracy: {count/len(x_test)}%\")"
      ]
    }
  ],
  "metadata": {
    "colab": {
      "provenance": []
    },
    "kernelspec": {
      "display_name": "Python 3",
      "name": "python3"
    },
    "language_info": {
      "name": "python"
    }
  },
  "nbformat": 4,
  "nbformat_minor": 0
}
