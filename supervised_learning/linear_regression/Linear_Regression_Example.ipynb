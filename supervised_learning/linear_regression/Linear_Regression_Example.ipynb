{
  "nbformat": 4,
  "nbformat_minor": 0,
  "metadata": {
    "colab": {
      "provenance": []
    },
    "kernelspec": {
      "name": "python3",
      "display_name": "Python 3"
    },
    "language_info": {
      "name": "python"
    }
  },
  "cells": [
    {
      "cell_type": "markdown",
      "source": [
        "# Linear Regression PyTorch"
      ],
      "metadata": {
        "id": "gqw0MuCkQ3cH"
      }
    },
    {
      "cell_type": "markdown",
      "source": [
        "## 1. Import Library"
      ],
      "metadata": {
        "id": "DsKlWLeyQ5Ry"
      }
    },
    {
      "cell_type": "code",
      "execution_count": 10,
      "metadata": {
        "id": "x46aIkyNQpR_"
      },
      "outputs": [],
      "source": [
        "import torch\n",
        "import torch.nn as nn\n",
        "from torch.autograd import Variable"
      ]
    },
    {
      "cell_type": "markdown",
      "source": [
        "## 2. Data"
      ],
      "metadata": {
        "id": "gv83LEOTQ_Lm"
      }
    },
    {
      "cell_type": "code",
      "source": [
        "# Data sample\n",
        "x = Variable(torch.Tensor([[1.0], [2.0], [3.0]]))\n",
        "y = Variable(torch.Tensor([[2.0], [4.0], [6.0]]))"
      ],
      "metadata": {
        "id": "jq0SUSGPRCOs"
      },
      "execution_count": 11,
      "outputs": []
    },
    {
      "cell_type": "markdown",
      "source": [
        "## 3. Model"
      ],
      "metadata": {
        "id": "bhD00wUxRGH9"
      }
    },
    {
      "cell_type": "code",
      "source": [
        "class LinearRegressionModel(torch.nn.Module):\n",
        "\n",
        "    def __init__(self):\n",
        "        super(LinearRegressionModel, self).__init__()\n",
        "        self.linear = torch.nn.Linear(1, 1)\n",
        "\n",
        "    def forward(self, x):\n",
        "        y_pred = self.linear(x)\n",
        "        return y_pred"
      ],
      "metadata": {
        "id": "CpAeK-MHRDLh"
      },
      "execution_count": 12,
      "outputs": []
    },
    {
      "cell_type": "code",
      "source": [
        "model = LinearRegressionModel()"
      ],
      "metadata": {
        "id": "NVfiYmJQRZQI"
      },
      "execution_count": 13,
      "outputs": []
    },
    {
      "cell_type": "markdown",
      "source": [
        "## 4. Loss Function and Optimization"
      ],
      "metadata": {
        "id": "FvC7sDKjRKYs"
      }
    },
    {
      "cell_type": "code",
      "source": [
        "LR = 0.01\n",
        "EPOCHS = 10"
      ],
      "metadata": {
        "id": "PQE4EfNIRNmG"
      },
      "execution_count": 14,
      "outputs": []
    },
    {
      "cell_type": "code",
      "source": [
        "criterion = torch.nn.MSELoss(reduction='sum')\n",
        "optimizer = torch.optim.SGD(model.parameters(), lr=LR)"
      ],
      "metadata": {
        "id": "7oqoRRW1RJQ1"
      },
      "execution_count": 15,
      "outputs": []
    },
    {
      "cell_type": "markdown",
      "source": [
        "## 5. Train"
      ],
      "metadata": {
        "id": "nck2a-W6RhKX"
      }
    },
    {
      "cell_type": "code",
      "source": [
        "for epoch in range(EPOCHS):\n",
        "\n",
        "    # Forward pass: Compute predicted y by passing\n",
        "    # x to the model\n",
        "    output = model(x)\n",
        "\n",
        "    # Compute and print loss\n",
        "    loss = criterion(output, y)\n",
        "\n",
        "    # Zero gradients, perform a backward pass,\n",
        "    # and update the weights.\n",
        "    optimizer.zero_grad()\n",
        "    loss.backward()\n",
        "    optimizer.step()\n",
        "    print(f'[{epoch}/{EPOCHS}] Epoch, Loss {loss.item():.4f}')"
      ],
      "metadata": {
        "colab": {
          "base_uri": "https://localhost:8080/"
        },
        "id": "c5gHiXF5Rh_0",
        "outputId": "7d4c4473-923c-4fd9-dcb9-06d27fbeebba"
      },
      "execution_count": 16,
      "outputs": [
        {
          "output_type": "stream",
          "name": "stdout",
          "text": [
            "[0/10] Epoch, Loss 83.3818\n",
            "[1/10] Epoch, Loss 37.1593\n",
            "[2/10] Epoch, Loss 16.5818\n",
            "[3/10] Epoch, Loss 7.4207\n",
            "[4/10] Epoch, Loss 3.3419\n",
            "[5/10] Epoch, Loss 1.5255\n",
            "[6/10] Epoch, Loss 0.7164\n",
            "[7/10] Epoch, Loss 0.3557\n",
            "[8/10] Epoch, Loss 0.1946\n",
            "[9/10] Epoch, Loss 0.1223\n"
          ]
        }
      ]
    },
    {
      "cell_type": "markdown",
      "source": [
        "## 6. Inference"
      ],
      "metadata": {
        "id": "VJ-b_p7STJfP"
      }
    },
    {
      "cell_type": "code",
      "source": [
        "sample = Variable(torch.Tensor([[4.0]]))\n",
        "print(f\"Predict (after training),  x = 4 -> output = {model(sample).item()}\")"
      ],
      "metadata": {
        "colab": {
          "base_uri": "https://localhost:8080/"
        },
        "id": "qfLpHR4kS_nY",
        "outputId": "15753634-23ac-4d38-bc2a-93bb41a091e3"
      },
      "execution_count": 19,
      "outputs": [
        {
          "output_type": "stream",
          "name": "stdout",
          "text": [
            "Predict (after training),  x = 4 -> output = 7.547685623168945\n"
          ]
        }
      ]
    }
  ]
}