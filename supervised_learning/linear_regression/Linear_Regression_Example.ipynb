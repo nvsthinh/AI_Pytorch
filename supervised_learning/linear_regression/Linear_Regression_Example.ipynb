{
  "cells": [
    {
      "cell_type": "markdown",
      "metadata": {
        "id": "gqw0MuCkQ3cH"
      },
      "source": [
        "# Linear Regression PyTorch with One Sample\n",
        "- **Task**: Regression\n",
        "- **Model**: Linear Regression\n",
        "- **Loss function**: Mean Square Error\n",
        "- **Optimization**: Stochastic Gradient Descent"
      ]
    },
    {
      "cell_type": "markdown",
      "metadata": {
        "id": "DsKlWLeyQ5Ry"
      },
      "source": [
        "## 1. Import Library"
      ]
    },
    {
      "cell_type": "code",
      "execution_count": 10,
      "metadata": {
        "id": "x46aIkyNQpR_"
      },
      "outputs": [],
      "source": [
        "import torch\n",
        "import torch.nn as nn\n",
        "from torch.autograd import Variable"
      ]
    },
    {
      "cell_type": "markdown",
      "metadata": {
        "id": "gv83LEOTQ_Lm"
      },
      "source": [
        "## 2. Data"
      ]
    },
    {
      "cell_type": "code",
      "execution_count": 11,
      "metadata": {
        "id": "jq0SUSGPRCOs"
      },
      "outputs": [],
      "source": [
        "# Data sample\n",
        "x = Variable(torch.Tensor([[1.0], [2.0], [3.0]]))\n",
        "y = Variable(torch.Tensor([[2.0], [4.0], [6.0]]))"
      ]
    },
    {
      "cell_type": "markdown",
      "metadata": {
        "id": "bhD00wUxRGH9"
      },
      "source": [
        "## 3. Model"
      ]
    },
    {
      "cell_type": "code",
      "execution_count": 12,
      "metadata": {
        "id": "CpAeK-MHRDLh"
      },
      "outputs": [],
      "source": [
        "class LinearRegressionModel(torch.nn.Module):\n",
        "\n",
        "    def __init__(self):\n",
        "        super(LinearRegressionModel, self).__init__()\n",
        "        self.linear = torch.nn.Linear(1, 1)\n",
        "\n",
        "    def forward(self, x):\n",
        "        y_pred = self.linear(x)\n",
        "        return y_pred"
      ]
    },
    {
      "cell_type": "code",
      "execution_count": 13,
      "metadata": {
        "id": "NVfiYmJQRZQI"
      },
      "outputs": [],
      "source": [
        "model = LinearRegressionModel()"
      ]
    },
    {
      "cell_type": "markdown",
      "metadata": {
        "id": "FvC7sDKjRKYs"
      },
      "source": [
        "## 4. Loss Function and Optimization"
      ]
    },
    {
      "cell_type": "code",
      "execution_count": 14,
      "metadata": {
        "id": "PQE4EfNIRNmG"
      },
      "outputs": [],
      "source": [
        "LR = 0.01\n",
        "EPOCHS = 10"
      ]
    },
    {
      "cell_type": "code",
      "execution_count": 15,
      "metadata": {
        "id": "7oqoRRW1RJQ1"
      },
      "outputs": [],
      "source": [
        "criterion = torch.nn.MSELoss(reduction='sum')\n",
        "optimizer = torch.optim.SGD(model.parameters(), lr=LR)"
      ]
    },
    {
      "cell_type": "markdown",
      "metadata": {
        "id": "nck2a-W6RhKX"
      },
      "source": [
        "## 5. Train"
      ]
    },
    {
      "cell_type": "code",
      "execution_count": 16,
      "metadata": {
        "colab": {
          "base_uri": "https://localhost:8080/"
        },
        "id": "c5gHiXF5Rh_0",
        "outputId": "7d4c4473-923c-4fd9-dcb9-06d27fbeebba"
      },
      "outputs": [
        {
          "name": "stdout",
          "output_type": "stream",
          "text": [
            "[0/10] Epoch, Loss 83.3818\n",
            "[1/10] Epoch, Loss 37.1593\n",
            "[2/10] Epoch, Loss 16.5818\n",
            "[3/10] Epoch, Loss 7.4207\n",
            "[4/10] Epoch, Loss 3.3419\n",
            "[5/10] Epoch, Loss 1.5255\n",
            "[6/10] Epoch, Loss 0.7164\n",
            "[7/10] Epoch, Loss 0.3557\n",
            "[8/10] Epoch, Loss 0.1946\n",
            "[9/10] Epoch, Loss 0.1223\n"
          ]
        }
      ],
      "source": [
        "for epoch in range(EPOCHS):\n",
        "\n",
        "    # Forward pass: Compute predicted y by passing\n",
        "    # x to the model\n",
        "    output = model(x)\n",
        "\n",
        "    # Compute and print loss\n",
        "    loss = criterion(output, y)\n",
        "\n",
        "    # Zero gradients, perform a backward pass,\n",
        "    # and update the weights.\n",
        "    optimizer.zero_grad()\n",
        "    loss.backward()\n",
        "    optimizer.step()\n",
        "    print(f'[{epoch}/{EPOCHS}] Epoch, Loss {loss.item():.4f}')"
      ]
    },
    {
      "cell_type": "markdown",
      "metadata": {
        "id": "VJ-b_p7STJfP"
      },
      "source": [
        "## 6. Inference"
      ]
    },
    {
      "cell_type": "code",
      "execution_count": 19,
      "metadata": {
        "colab": {
          "base_uri": "https://localhost:8080/"
        },
        "id": "qfLpHR4kS_nY",
        "outputId": "15753634-23ac-4d38-bc2a-93bb41a091e3"
      },
      "outputs": [
        {
          "name": "stdout",
          "output_type": "stream",
          "text": [
            "Predict (after training),  x = 4 -> output = 7.547685623168945\n"
          ]
        }
      ],
      "source": [
        "sample = Variable(torch.Tensor([[4.0]]))\n",
        "print(f\"Predict (after training),  x = 4 -> output = {model(sample).item()}\")"
      ]
    }
  ],
  "metadata": {
    "colab": {
      "provenance": []
    },
    "kernelspec": {
      "display_name": "Python 3",
      "name": "python3"
    },
    "language_info": {
      "name": "python"
    }
  },
  "nbformat": 4,
  "nbformat_minor": 0
}
