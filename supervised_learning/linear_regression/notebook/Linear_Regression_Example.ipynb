{
  "cells": [
    {
      "cell_type": "markdown",
      "metadata": {
        "id": "gqw0MuCkQ3cH"
      },
      "source": [
        "# Linear Regression PyTorch with One Sample\n",
        "- **Task**: Regression\n",
        "- **Data**: Sample Dataset\n",
        "- **Model**: Linear Regression\n",
        "- **Loss function**: Mean Square Error\n",
        "- **Optimization**: Stochastic Gradient Descent"
      ]
    },
    {
      "cell_type": "markdown",
      "metadata": {
        "id": "DsKlWLeyQ5Ry"
      },
      "source": [
        "## 1. Import Library"
      ]
    },
    {
      "cell_type": "code",
      "execution_count": 55,
      "metadata": {
        "id": "x46aIkyNQpR_"
      },
      "outputs": [],
      "source": [
        "import torch\n",
        "import torch.nn as nn\n",
        "import matplotlib.pyplot as plt\n",
        "from torch.autograd import Variable"
      ]
    },
    {
      "cell_type": "markdown",
      "metadata": {
        "id": "gv83LEOTQ_Lm"
      },
      "source": [
        "## 2. Data"
      ]
    },
    {
      "cell_type": "markdown",
      "metadata": {
        "id": "QMwgR5WHbRXA"
      },
      "source": [
        "### 2.1. Sample Dataset"
      ]
    },
    {
      "cell_type": "code",
      "execution_count": 56,
      "metadata": {
        "id": "jq0SUSGPRCOs"
      },
      "outputs": [],
      "source": [
        "# Data sample\n",
        "x = Variable(torch.Tensor([[1.0], [2.0], [3.0]]))\n",
        "y = Variable(torch.Tensor([[2.0], [4.0], [6.0]]))"
      ]
    },
    {
      "cell_type": "markdown",
      "metadata": {
        "id": "bLvDatAAbanB"
      },
      "source": [
        "### 2.2. Data Information"
      ]
    },
    {
      "cell_type": "code",
      "execution_count": 57,
      "metadata": {
        "colab": {
          "base_uri": "https://localhost:8080/"
        },
        "id": "uKyzCQhrbc0n",
        "outputId": "8f631078-3432-4dc9-e6e2-8f47f408612c"
      },
      "outputs": [
        {
          "name": "stdout",
          "output_type": "stream",
          "text": [
            "Number of sample: 3\n"
          ]
        }
      ],
      "source": [
        "print(f\"Number of sample: {len(x)}\")"
      ]
    },
    {
      "cell_type": "code",
      "execution_count": 58,
      "metadata": {
        "colab": {
          "base_uri": "https://localhost:8080/"
        },
        "id": "wuju4o9abglD",
        "outputId": "f5c8f5fa-add7-416b-8a87-e93c9c3de5fd"
      },
      "outputs": [
        {
          "name": "stdout",
          "output_type": "stream",
          "text": [
            "Datatype of sample: torch.FloatTensor\n",
            "Size of sample: torch.Size([3, 1])\n"
          ]
        }
      ],
      "source": [
        "print(f\"Datatype of sample: {x.type()}\")\n",
        "print(f\"Size of sample: {x.size()}\")"
      ]
    },
    {
      "cell_type": "markdown",
      "metadata": {
        "id": "gYx92vOlbohM"
      },
      "source": [
        "### 2.3. Data Visualization"
      ]
    },
    {
      "cell_type": "code",
      "execution_count": 59,
      "metadata": {
        "colab": {
          "base_uri": "https://localhost:8080/",
          "height": 449
        },
        "id": "4UF4lxmAcCRU",
        "outputId": "ae6d5ace-596f-40da-d2d0-c2b30d8d28bd"
      },
      "outputs": [
        {
          "data": {
            "image/png": "[encoded data removed]",
            "text/plain": [
              "<Figure size 640x480 with 1 Axes>"
            ]
          },
          "metadata": {},
          "output_type": "display_data"
        }
      ],
      "source": [
        "plt.scatter(x, y)\n",
        "plt.xlabel('x')\n",
        "plt.ylabel('y')\n",
        "plt.show()"
      ]
    },
    {
      "cell_type": "markdown",
      "metadata": {
        "id": "bhD00wUxRGH9"
      },
      "source": [
        "## 3. Model"
      ]
    },
    {
      "cell_type": "code",
      "execution_count": 60,
      "metadata": {
        "id": "CpAeK-MHRDLh"
      },
      "outputs": [],
      "source": [
        "class LinearRegressionModel(torch.nn.Module):\n",
        "\n",
        "    def __init__(self):\n",
        "        super(LinearRegressionModel, self).__init__()\n",
        "        self.linear = torch.nn.Linear(1, 1)\n",
        "\n",
        "    def forward(self, x):\n",
        "        y_pred = self.linear(x)\n",
        "        return y_pred"
      ]
    },
    {
      "cell_type": "code",
      "execution_count": 61,
      "metadata": {
        "id": "NVfiYmJQRZQI"
      },
      "outputs": [],
      "source": [
        "model = LinearRegressionModel()"
      ]
    },
    {
      "cell_type": "markdown",
      "metadata": {
        "id": "FvC7sDKjRKYs"
      },
      "source": [
        "## 4. Loss Function and Optimization"
      ]
    },
    {
      "cell_type": "code",
      "execution_count": 62,
      "metadata": {
        "id": "PQE4EfNIRNmG"
      },
      "outputs": [],
      "source": [
        "LR = 0.01\n",
        "EPOCHS = 500"
      ]
    },
    {
      "cell_type": "code",
      "execution_count": 63,
      "metadata": {
        "id": "7oqoRRW1RJQ1"
      },
      "outputs": [],
      "source": [
        "criterion = torch.nn.MSELoss(reduction='sum')\n",
        "optimizer = torch.optim.SGD(model.parameters(), lr=LR)"
      ]
    },
    {
      "cell_type": "markdown",
      "metadata": {
        "id": "nck2a-W6RhKX"
      },
      "source": [
        "## 5. Train"
      ]
    },
    {
      "cell_type": "code",
      "execution_count": 64,
      "metadata": {
        "colab": {
          "base_uri": "https://localhost:8080/"
        },
        "id": "c5gHiXF5Rh_0",
        "outputId": "b4f0d963-f62b-44a5-c5cc-eb6d22831fcb"
      },
      "outputs": [
        {
          "name": "stdout",
          "output_type": "stream",
          "text": [
            "[0/500] Epoch, Loss 45.9982\n",
            "[1/500] Epoch, Loss 20.4799\n",
            "[2/500] Epoch, Loss 9.1198\n",
            "[3/500] Epoch, Loss 4.0626\n",
            "[4/500] Epoch, Loss 1.8113\n",
            "[5/500] Epoch, Loss 0.8090\n",
            "[6/500] Epoch, Loss 0.3627\n",
            "[7/500] Epoch, Loss 0.1641\n",
            "[8/500] Epoch, Loss 0.0756\n",
            "[9/500] Epoch, Loss 0.0362\n",
            "[10/500] Epoch, Loss 0.0186\n",
            "[11/500] Epoch, Loss 0.0107\n",
            "[12/500] Epoch, Loss 0.0072\n",
            "[13/500] Epoch, Loss 0.0056\n",
            "[14/500] Epoch, Loss 0.0048\n",
            "[15/500] Epoch, Loss 0.0044\n",
            "[16/500] Epoch, Loss 0.0042\n",
            "[17/500] Epoch, Loss 0.0041\n",
            "[18/500] Epoch, Loss 0.0040\n",
            "[19/500] Epoch, Loss 0.0040\n",
            "[20/500] Epoch, Loss 0.0039\n",
            "[21/500] Epoch, Loss 0.0038\n",
            "[22/500] Epoch, Loss 0.0038\n",
            "[23/500] Epoch, Loss 0.0037\n",
            "[24/500] Epoch, Loss 0.0037\n",
            "[25/500] Epoch, Loss 0.0036\n",
            "[26/500] Epoch, Loss 0.0036\n",
            "[27/500] Epoch, Loss 0.0035\n",
            "[28/500] Epoch, Loss 0.0035\n",
            "[29/500] Epoch, Loss 0.0034\n",
            "[30/500] Epoch, Loss 0.0034\n",
            "[31/500] Epoch, Loss 0.0033\n",
            "[32/500] Epoch, Loss 0.0033\n",
            "[33/500] Epoch, Loss 0.0032\n",
            "[34/500] Epoch, Loss 0.0032\n",
            "[35/500] Epoch, Loss 0.0031\n",
            "[36/500] Epoch, Loss 0.0031\n",
            "[37/500] Epoch, Loss 0.0030\n",
            "[38/500] Epoch, Loss 0.0030\n",
            "[39/500] Epoch, Loss 0.0030\n",
            "[40/500] Epoch, Loss 0.0029\n",
            "[41/500] Epoch, Loss 0.0029\n",
            "[42/500] Epoch, Loss 0.0028\n",
            "[43/500] Epoch, Loss 0.0028\n",
            "[44/500] Epoch, Loss 0.0028\n",
            "[45/500] Epoch, Loss 0.0027\n",
            "[46/500] Epoch, Loss 0.0027\n",
            "[47/500] Epoch, Loss 0.0026\n",
            "[48/500] Epoch, Loss 0.0026\n",
            "[49/500] Epoch, Loss 0.0026\n",
            "[50/500] Epoch, Loss 0.0025\n",
            "[51/500] Epoch, Loss 0.0025\n",
            "[52/500] Epoch, Loss 0.0025\n",
            "[53/500] Epoch, Loss 0.0024\n",
            "[54/500] Epoch, Loss 0.0024\n",
            "[55/500] Epoch, Loss 0.0023\n",
            "[56/500] Epoch, Loss 0.0023\n",
            "[57/500] Epoch, Loss 0.0023\n",
            "[58/500] Epoch, Loss 0.0022\n",
            "[59/500] Epoch, Loss 0.0022\n",
            "[60/500] Epoch, Loss 0.0022\n",
            "[61/500] Epoch, Loss 0.0022\n",
            "[62/500] Epoch, Loss 0.0021\n",
            "[63/500] Epoch, Loss 0.0021\n",
            "[64/500] Epoch, Loss 0.0021\n",
            "[65/500] Epoch, Loss 0.0020\n",
            "[66/500] Epoch, Loss 0.0020\n",
            "[67/500] Epoch, Loss 0.0020\n",
            "[68/500] Epoch, Loss 0.0019\n",
            "[69/500] Epoch, Loss 0.0019\n",
            "[70/500] Epoch, Loss 0.0019\n",
            "[71/500] Epoch, Loss 0.0019\n",
            "[72/500] Epoch, Loss 0.0018\n",
            "[73/500] Epoch, Loss 0.0018\n",
            "[74/500] Epoch, Loss 0.0018\n",
            "[75/500] Epoch, Loss 0.0018\n",
            "[76/500] Epoch, Loss 0.0017\n",
            "[77/500] Epoch, Loss 0.0017\n",
            "[78/500] Epoch, Loss 0.0017\n",
            "[79/500] Epoch, Loss 0.0017\n",
            "[80/500] Epoch, Loss 0.0016\n",
            "[81/500] Epoch, Loss 0.0016\n",
            "[82/500] Epoch, Loss 0.0016\n",
            "[83/500] Epoch, Loss 0.0016\n",
            "[84/500] Epoch, Loss 0.0015\n",
            "[85/500] Epoch, Loss 0.0015\n",
            "[86/500] Epoch, Loss 0.0015\n",
            "[87/500] Epoch, Loss 0.0015\n",
            "[88/500] Epoch, Loss 0.0015\n",
            "[89/500] Epoch, Loss 0.0014\n",
            "[90/500] Epoch, Loss 0.0014\n",
            "[91/500] Epoch, Loss 0.0014\n",
            "[92/500] Epoch, Loss 0.0014\n",
            "[93/500] Epoch, Loss 0.0014\n",
            "[94/500] Epoch, Loss 0.0013\n",
            "[95/500] Epoch, Loss 0.0013\n",
            "[96/500] Epoch, Loss 0.0013\n",
            "[97/500] Epoch, Loss 0.0013\n",
            "[98/500] Epoch, Loss 0.0013\n",
            "[99/500] Epoch, Loss 0.0012\n",
            "[100/500] Epoch, Loss 0.0012\n",
            "[101/500] Epoch, Loss 0.0012\n",
            "[102/500] Epoch, Loss 0.0012\n",
            "[103/500] Epoch, Loss 0.0012\n",
            "[104/500] Epoch, Loss 0.0012\n",
            "[105/500] Epoch, Loss 0.0011\n",
            "[106/500] Epoch, Loss 0.0011\n",
            "[107/500] Epoch, Loss 0.0011\n",
            "[108/500] Epoch, Loss 0.0011\n",
            "[109/500] Epoch, Loss 0.0011\n",
            "[110/500] Epoch, Loss 0.0011\n",
            "[111/500] Epoch, Loss 0.0010\n",
            "[112/500] Epoch, Loss 0.0010\n",
            "[113/500] Epoch, Loss 0.0010\n",
            "[114/500] Epoch, Loss 0.0010\n",
            "[115/500] Epoch, Loss 0.0010\n",
            "[116/500] Epoch, Loss 0.0010\n",
            "[117/500] Epoch, Loss 0.0010\n",
            "[118/500] Epoch, Loss 0.0009\n",
            "[119/500] Epoch, Loss 0.0009\n",
            "[120/500] Epoch, Loss 0.0009\n",
            "[121/500] Epoch, Loss 0.0009\n",
            "[122/500] Epoch, Loss 0.0009\n",
            "[123/500] Epoch, Loss 0.0009\n",
            "[124/500] Epoch, Loss 0.0009\n",
            "[125/500] Epoch, Loss 0.0009\n",
            "[126/500] Epoch, Loss 0.0008\n",
            "[127/500] Epoch, Loss 0.0008\n",
            "[128/500] Epoch, Loss 0.0008\n",
            "[129/500] Epoch, Loss 0.0008\n",
            "[130/500] Epoch, Loss 0.0008\n",
            "[131/500] Epoch, Loss 0.0008\n",
            "[132/500] Epoch, Loss 0.0008\n",
            "[133/500] Epoch, Loss 0.0008\n",
            "[134/500] Epoch, Loss 0.0007\n",
            "[135/500] Epoch, Loss 0.0007\n",
            "[136/500] Epoch, Loss 0.0007\n",
            "[137/500] Epoch, Loss 0.0007\n",
            "[138/500] Epoch, Loss 0.0007\n",
            "[139/500] Epoch, Loss 0.0007\n",
            "[140/500] Epoch, Loss 0.0007\n",
            "[141/500] Epoch, Loss 0.0007\n",
            "[142/500] Epoch, Loss 0.0007\n",
            "[143/500] Epoch, Loss 0.0007\n",
            "[144/500] Epoch, Loss 0.0006\n",
            "[145/500] Epoch, Loss 0.0006\n",
            "[146/500] Epoch, Loss 0.0006\n",
            "[147/500] Epoch, Loss 0.0006\n",
            "[148/500] Epoch, Loss 0.0006\n",
            "[149/500] Epoch, Loss 0.0006\n",
            "[150/500] Epoch, Loss 0.0006\n",
            "[151/500] Epoch, Loss 0.0006\n",
            "[152/500] Epoch, Loss 0.0006\n",
            "[153/500] Epoch, Loss 0.0006\n",
            "[154/500] Epoch, Loss 0.0006\n",
            "[155/500] Epoch, Loss 0.0006\n",
            "[156/500] Epoch, Loss 0.0005\n",
            "[157/500] Epoch, Loss 0.0005\n",
            "[158/500] Epoch, Loss 0.0005\n",
            "[159/500] Epoch, Loss 0.0005\n",
            "[160/500] Epoch, Loss 0.0005\n",
            "[161/500] Epoch, Loss 0.0005\n",
            "[162/500] Epoch, Loss 0.0005\n",
            "[163/500] Epoch, Loss 0.0005\n",
            "[164/500] Epoch, Loss 0.0005\n",
            "[165/500] Epoch, Loss 0.0005\n",
            "[166/500] Epoch, Loss 0.0005\n",
            "[167/500] Epoch, Loss 0.0005\n",
            "[168/500] Epoch, Loss 0.0005\n",
            "[169/500] Epoch, Loss 0.0005\n",
            "[170/500] Epoch, Loss 0.0004\n",
            "[171/500] Epoch, Loss 0.0004\n",
            "[172/500] Epoch, Loss 0.0004\n",
            "[173/500] Epoch, Loss 0.0004\n",
            "[174/500] Epoch, Loss 0.0004\n",
            "[175/500] Epoch, Loss 0.0004\n",
            "[176/500] Epoch, Loss 0.0004\n",
            "[177/500] Epoch, Loss 0.0004\n",
            "[178/500] Epoch, Loss 0.0004\n",
            "[179/500] Epoch, Loss 0.0004\n",
            "[180/500] Epoch, Loss 0.0004\n",
            "[181/500] Epoch, Loss 0.0004\n",
            "[182/500] Epoch, Loss 0.0004\n",
            "[183/500] Epoch, Loss 0.0004\n",
            "[184/500] Epoch, Loss 0.0004\n",
            "[185/500] Epoch, Loss 0.0004\n",
            "[186/500] Epoch, Loss 0.0004\n",
            "[187/500] Epoch, Loss 0.0003\n",
            "[188/500] Epoch, Loss 0.0003\n",
            "[189/500] Epoch, Loss 0.0003\n",
            "[190/500] Epoch, Loss 0.0003\n",
            "[191/500] Epoch, Loss 0.0003\n",
            "[192/500] Epoch, Loss 0.0003\n",
            "[193/500] Epoch, Loss 0.0003\n",
            "[194/500] Epoch, Loss 0.0003\n",
            "[195/500] Epoch, Loss 0.0003\n",
            "[196/500] Epoch, Loss 0.0003\n",
            "[197/500] Epoch, Loss 0.0003\n",
            "[198/500] Epoch, Loss 0.0003\n",
            "[199/500] Epoch, Loss 0.0003\n",
            "[200/500] Epoch, Loss 0.0003\n",
            "[201/500] Epoch, Loss 0.0003\n",
            "[202/500] Epoch, Loss 0.0003\n",
            "[203/500] Epoch, Loss 0.0003\n",
            "[204/500] Epoch, Loss 0.0003\n",
            "[205/500] Epoch, Loss 0.0003\n",
            "[206/500] Epoch, Loss 0.0003\n",
            "[207/500] Epoch, Loss 0.0003\n",
            "[208/500] Epoch, Loss 0.0003\n",
            "[209/500] Epoch, Loss 0.0003\n",
            "[210/500] Epoch, Loss 0.0002\n",
            "[211/500] Epoch, Loss 0.0002\n",
            "[212/500] Epoch, Loss 0.0002\n",
            "[213/500] Epoch, Loss 0.0002\n",
            "[214/500] Epoch, Loss 0.0002\n",
            "[215/500] Epoch, Loss 0.0002\n",
            "[216/500] Epoch, Loss 0.0002\n",
            "[217/500] Epoch, Loss 0.0002\n",
            "[218/500] Epoch, Loss 0.0002\n",
            "[219/500] Epoch, Loss 0.0002\n",
            "[220/500] Epoch, Loss 0.0002\n",
            "[221/500] Epoch, Loss 0.0002\n",
            "[222/500] Epoch, Loss 0.0002\n",
            "[223/500] Epoch, Loss 0.0002\n",
            "[224/500] Epoch, Loss 0.0002\n",
            "[225/500] Epoch, Loss 0.0002\n",
            "[226/500] Epoch, Loss 0.0002\n",
            "[227/500] Epoch, Loss 0.0002\n",
            "[228/500] Epoch, Loss 0.0002\n",
            "[229/500] Epoch, Loss 0.0002\n",
            "[230/500] Epoch, Loss 0.0002\n",
            "[231/500] Epoch, Loss 0.0002\n",
            "[232/500] Epoch, Loss 0.0002\n",
            "[233/500] Epoch, Loss 0.0002\n",
            "[234/500] Epoch, Loss 0.0002\n",
            "[235/500] Epoch, Loss 0.0002\n",
            "[236/500] Epoch, Loss 0.0002\n",
            "[237/500] Epoch, Loss 0.0002\n",
            "[238/500] Epoch, Loss 0.0002\n",
            "[239/500] Epoch, Loss 0.0002\n",
            "[240/500] Epoch, Loss 0.0002\n",
            "[241/500] Epoch, Loss 0.0002\n",
            "[242/500] Epoch, Loss 0.0002\n",
            "[243/500] Epoch, Loss 0.0002\n",
            "[244/500] Epoch, Loss 0.0002\n",
            "[245/500] Epoch, Loss 0.0002\n",
            "[246/500] Epoch, Loss 0.0001\n",
            "[247/500] Epoch, Loss 0.0001\n",
            "[248/500] Epoch, Loss 0.0001\n",
            "[249/500] Epoch, Loss 0.0001\n",
            "[250/500] Epoch, Loss 0.0001\n",
            "[251/500] Epoch, Loss 0.0001\n",
            "[252/500] Epoch, Loss 0.0001\n",
            "[253/500] Epoch, Loss 0.0001\n",
            "[254/500] Epoch, Loss 0.0001\n",
            "[255/500] Epoch, Loss 0.0001\n",
            "[256/500] Epoch, Loss 0.0001\n",
            "[257/500] Epoch, Loss 0.0001\n",
            "[258/500] Epoch, Loss 0.0001\n",
            "[259/500] Epoch, Loss 0.0001\n",
            "[260/500] Epoch, Loss 0.0001\n",
            "[261/500] Epoch, Loss 0.0001\n",
            "[262/500] Epoch, Loss 0.0001\n",
            "[263/500] Epoch, Loss 0.0001\n",
            "[264/500] Epoch, Loss 0.0001\n",
            "[265/500] Epoch, Loss 0.0001\n",
            "[266/500] Epoch, Loss 0.0001\n",
            "[267/500] Epoch, Loss 0.0001\n",
            "[268/500] Epoch, Loss 0.0001\n",
            "[269/500] Epoch, Loss 0.0001\n",
            "[270/500] Epoch, Loss 0.0001\n",
            "[271/500] Epoch, Loss 0.0001\n",
            "[272/500] Epoch, Loss 0.0001\n",
            "[273/500] Epoch, Loss 0.0001\n",
            "[274/500] Epoch, Loss 0.0001\n",
            "[275/500] Epoch, Loss 0.0001\n",
            "[276/500] Epoch, Loss 0.0001\n",
            "[277/500] Epoch, Loss 0.0001\n",
            "[278/500] Epoch, Loss 0.0001\n",
            "[279/500] Epoch, Loss 0.0001\n",
            "[280/500] Epoch, Loss 0.0001\n",
            "[281/500] Epoch, Loss 0.0001\n",
            "[282/500] Epoch, Loss 0.0001\n",
            "[283/500] Epoch, Loss 0.0001\n",
            "[284/500] Epoch, Loss 0.0001\n",
            "[285/500] Epoch, Loss 0.0001\n",
            "[286/500] Epoch, Loss 0.0001\n",
            "[287/500] Epoch, Loss 0.0001\n",
            "[288/500] Epoch, Loss 0.0001\n",
            "[289/500] Epoch, Loss 0.0001\n",
            "[290/500] Epoch, Loss 0.0001\n",
            "[291/500] Epoch, Loss 0.0001\n",
            "[292/500] Epoch, Loss 0.0001\n",
            "[293/500] Epoch, Loss 0.0001\n",
            "[294/500] Epoch, Loss 0.0001\n",
            "[295/500] Epoch, Loss 0.0001\n",
            "[296/500] Epoch, Loss 0.0001\n",
            "[297/500] Epoch, Loss 0.0001\n",
            "[298/500] Epoch, Loss 0.0001\n",
            "[299/500] Epoch, Loss 0.0001\n",
            "[300/500] Epoch, Loss 0.0001\n",
            "[301/500] Epoch, Loss 0.0001\n",
            "[302/500] Epoch, Loss 0.0001\n",
            "[303/500] Epoch, Loss 0.0001\n",
            "[304/500] Epoch, Loss 0.0001\n",
            "[305/500] Epoch, Loss 0.0001\n",
            "[306/500] Epoch, Loss 0.0001\n",
            "[307/500] Epoch, Loss 0.0001\n",
            "[308/500] Epoch, Loss 0.0001\n",
            "[309/500] Epoch, Loss 0.0001\n",
            "[310/500] Epoch, Loss 0.0001\n",
            "[311/500] Epoch, Loss 0.0001\n",
            "[312/500] Epoch, Loss 0.0001\n",
            "[313/500] Epoch, Loss 0.0001\n",
            "[314/500] Epoch, Loss 0.0001\n",
            "[315/500] Epoch, Loss 0.0001\n",
            "[316/500] Epoch, Loss 0.0001\n",
            "[317/500] Epoch, Loss 0.0001\n",
            "[318/500] Epoch, Loss 0.0001\n",
            "[319/500] Epoch, Loss 0.0001\n",
            "[320/500] Epoch, Loss 0.0001\n",
            "[321/500] Epoch, Loss 0.0000\n",
            "[322/500] Epoch, Loss 0.0000\n",
            "[323/500] Epoch, Loss 0.0000\n",
            "[324/500] Epoch, Loss 0.0000\n",
            "[325/500] Epoch, Loss 0.0000\n",
            "[326/500] Epoch, Loss 0.0000\n",
            "[327/500] Epoch, Loss 0.0000\n",
            "[328/500] Epoch, Loss 0.0000\n",
            "[329/500] Epoch, Loss 0.0000\n",
            "[330/500] Epoch, Loss 0.0000\n",
            "[331/500] Epoch, Loss 0.0000\n",
            "[332/500] Epoch, Loss 0.0000\n",
            "[333/500] Epoch, Loss 0.0000\n",
            "[334/500] Epoch, Loss 0.0000\n",
            "[335/500] Epoch, Loss 0.0000\n",
            "[336/500] Epoch, Loss 0.0000\n",
            "[337/500] Epoch, Loss 0.0000\n",
            "[338/500] Epoch, Loss 0.0000\n",
            "[339/500] Epoch, Loss 0.0000\n",
            "[340/500] Epoch, Loss 0.0000\n",
            "[341/500] Epoch, Loss 0.0000\n",
            "[342/500] Epoch, Loss 0.0000\n",
            "[343/500] Epoch, Loss 0.0000\n",
            "[344/500] Epoch, Loss 0.0000\n",
            "[345/500] Epoch, Loss 0.0000\n",
            "[346/500] Epoch, Loss 0.0000\n",
            "[347/500] Epoch, Loss 0.0000\n",
            "[348/500] Epoch, Loss 0.0000\n",
            "[349/500] Epoch, Loss 0.0000\n",
            "[350/500] Epoch, Loss 0.0000\n",
            "[351/500] Epoch, Loss 0.0000\n",
            "[352/500] Epoch, Loss 0.0000\n",
            "[353/500] Epoch, Loss 0.0000\n",
            "[354/500] Epoch, Loss 0.0000\n",
            "[355/500] Epoch, Loss 0.0000\n",
            "[356/500] Epoch, Loss 0.0000\n",
            "[357/500] Epoch, Loss 0.0000\n",
            "[358/500] Epoch, Loss 0.0000\n",
            "[359/500] Epoch, Loss 0.0000\n",
            "[360/500] Epoch, Loss 0.0000\n",
            "[361/500] Epoch, Loss 0.0000\n",
            "[362/500] Epoch, Loss 0.0000\n",
            "[363/500] Epoch, Loss 0.0000\n",
            "[364/500] Epoch, Loss 0.0000\n",
            "[365/500] Epoch, Loss 0.0000\n",
            "[366/500] Epoch, Loss 0.0000\n",
            "[367/500] Epoch, Loss 0.0000\n",
            "[368/500] Epoch, Loss 0.0000\n",
            "[369/500] Epoch, Loss 0.0000\n",
            "[370/500] Epoch, Loss 0.0000\n",
            "[371/500] Epoch, Loss 0.0000\n",
            "[372/500] Epoch, Loss 0.0000\n",
            "[373/500] Epoch, Loss 0.0000\n",
            "[374/500] Epoch, Loss 0.0000\n",
            "[375/500] Epoch, Loss 0.0000\n",
            "[376/500] Epoch, Loss 0.0000\n",
            "[377/500] Epoch, Loss 0.0000\n",
            "[378/500] Epoch, Loss 0.0000\n",
            "[379/500] Epoch, Loss 0.0000\n",
            "[380/500] Epoch, Loss 0.0000\n",
            "[381/500] Epoch, Loss 0.0000\n",
            "[382/500] Epoch, Loss 0.0000\n",
            "[383/500] Epoch, Loss 0.0000\n",
            "[384/500] Epoch, Loss 0.0000\n",
            "[385/500] Epoch, Loss 0.0000\n",
            "[386/500] Epoch, Loss 0.0000\n",
            "[387/500] Epoch, Loss 0.0000\n",
            "[388/500] Epoch, Loss 0.0000\n",
            "[389/500] Epoch, Loss 0.0000\n",
            "[390/500] Epoch, Loss 0.0000\n",
            "[391/500] Epoch, Loss 0.0000\n",
            "[392/500] Epoch, Loss 0.0000\n",
            "[393/500] Epoch, Loss 0.0000\n",
            "[394/500] Epoch, Loss 0.0000\n",
            "[395/500] Epoch, Loss 0.0000\n",
            "[396/500] Epoch, Loss 0.0000\n",
            "[397/500] Epoch, Loss 0.0000\n",
            "[398/500] Epoch, Loss 0.0000\n",
            "[399/500] Epoch, Loss 0.0000\n",
            "[400/500] Epoch, Loss 0.0000\n",
            "[401/500] Epoch, Loss 0.0000\n",
            "[402/500] Epoch, Loss 0.0000\n",
            "[403/500] Epoch, Loss 0.0000\n",
            "[404/500] Epoch, Loss 0.0000\n",
            "[405/500] Epoch, Loss 0.0000\n",
            "[406/500] Epoch, Loss 0.0000\n",
            "[407/500] Epoch, Loss 0.0000\n",
            "[408/500] Epoch, Loss 0.0000\n",
            "[409/500] Epoch, Loss 0.0000\n",
            "[410/500] Epoch, Loss 0.0000\n",
            "[411/500] Epoch, Loss 0.0000\n",
            "[412/500] Epoch, Loss 0.0000\n",
            "[413/500] Epoch, Loss 0.0000\n",
            "[414/500] Epoch, Loss 0.0000\n",
            "[415/500] Epoch, Loss 0.0000\n",
            "[416/500] Epoch, Loss 0.0000\n",
            "[417/500] Epoch, Loss 0.0000\n",
            "[418/500] Epoch, Loss 0.0000\n",
            "[419/500] Epoch, Loss 0.0000\n",
            "[420/500] Epoch, Loss 0.0000\n",
            "[421/500] Epoch, Loss 0.0000\n",
            "[422/500] Epoch, Loss 0.0000\n",
            "[423/500] Epoch, Loss 0.0000\n",
            "[424/500] Epoch, Loss 0.0000\n",
            "[425/500] Epoch, Loss 0.0000\n",
            "[426/500] Epoch, Loss 0.0000\n",
            "[427/500] Epoch, Loss 0.0000\n",
            "[428/500] Epoch, Loss 0.0000\n",
            "[429/500] Epoch, Loss 0.0000\n",
            "[430/500] Epoch, Loss 0.0000\n",
            "[431/500] Epoch, Loss 0.0000\n",
            "[432/500] Epoch, Loss 0.0000\n",
            "[433/500] Epoch, Loss 0.0000\n",
            "[434/500] Epoch, Loss 0.0000\n",
            "[435/500] Epoch, Loss 0.0000\n",
            "[436/500] Epoch, Loss 0.0000\n",
            "[437/500] Epoch, Loss 0.0000\n",
            "[438/500] Epoch, Loss 0.0000\n",
            "[439/500] Epoch, Loss 0.0000\n",
            "[440/500] Epoch, Loss 0.0000\n",
            "[441/500] Epoch, Loss 0.0000\n",
            "[442/500] Epoch, Loss 0.0000\n",
            "[443/500] Epoch, Loss 0.0000\n",
            "[444/500] Epoch, Loss 0.0000\n",
            "[445/500] Epoch, Loss 0.0000\n",
            "[446/500] Epoch, Loss 0.0000\n",
            "[447/500] Epoch, Loss 0.0000\n",
            "[448/500] Epoch, Loss 0.0000\n",
            "[449/500] Epoch, Loss 0.0000\n",
            "[450/500] Epoch, Loss 0.0000\n",
            "[451/500] Epoch, Loss 0.0000\n",
            "[452/500] Epoch, Loss 0.0000\n",
            "[453/500] Epoch, Loss 0.0000\n",
            "[454/500] Epoch, Loss 0.0000\n",
            "[455/500] Epoch, Loss 0.0000\n",
            "[456/500] Epoch, Loss 0.0000\n",
            "[457/500] Epoch, Loss 0.0000\n",
            "[458/500] Epoch, Loss 0.0000\n",
            "[459/500] Epoch, Loss 0.0000\n",
            "[460/500] Epoch, Loss 0.0000\n",
            "[461/500] Epoch, Loss 0.0000\n",
            "[462/500] Epoch, Loss 0.0000\n",
            "[463/500] Epoch, Loss 0.0000\n",
            "[464/500] Epoch, Loss 0.0000\n",
            "[465/500] Epoch, Loss 0.0000\n",
            "[466/500] Epoch, Loss 0.0000\n",
            "[467/500] Epoch, Loss 0.0000\n",
            "[468/500] Epoch, Loss 0.0000\n",
            "[469/500] Epoch, Loss 0.0000\n",
            "[470/500] Epoch, Loss 0.0000\n",
            "[471/500] Epoch, Loss 0.0000\n",
            "[472/500] Epoch, Loss 0.0000\n",
            "[473/500] Epoch, Loss 0.0000\n",
            "[474/500] Epoch, Loss 0.0000\n",
            "[475/500] Epoch, Loss 0.0000\n",
            "[476/500] Epoch, Loss 0.0000\n",
            "[477/500] Epoch, Loss 0.0000\n",
            "[478/500] Epoch, Loss 0.0000\n",
            "[479/500] Epoch, Loss 0.0000\n",
            "[480/500] Epoch, Loss 0.0000\n",
            "[481/500] Epoch, Loss 0.0000\n",
            "[482/500] Epoch, Loss 0.0000\n",
            "[483/500] Epoch, Loss 0.0000\n",
            "[484/500] Epoch, Loss 0.0000\n",
            "[485/500] Epoch, Loss 0.0000\n",
            "[486/500] Epoch, Loss 0.0000\n",
            "[487/500] Epoch, Loss 0.0000\n",
            "[488/500] Epoch, Loss 0.0000\n",
            "[489/500] Epoch, Loss 0.0000\n",
            "[490/500] Epoch, Loss 0.0000\n",
            "[491/500] Epoch, Loss 0.0000\n",
            "[492/500] Epoch, Loss 0.0000\n",
            "[493/500] Epoch, Loss 0.0000\n",
            "[494/500] Epoch, Loss 0.0000\n",
            "[495/500] Epoch, Loss 0.0000\n",
            "[496/500] Epoch, Loss 0.0000\n",
            "[497/500] Epoch, Loss 0.0000\n",
            "[498/500] Epoch, Loss 0.0000\n",
            "[499/500] Epoch, Loss 0.0000\n"
          ]
        }
      ],
      "source": [
        "for epoch in range(EPOCHS):\n",
        "\n",
        "    # Forward pass: Compute predicted y by passing\n",
        "    # x to the model\n",
        "    output = model(x)\n",
        "\n",
        "    # Compute and print loss\n",
        "    loss = criterion(output, y)\n",
        "\n",
        "    # Zero gradients, perform a backward pass,\n",
        "    # and update the weights.\n",
        "    optimizer.zero_grad()\n",
        "    loss.backward()\n",
        "    optimizer.step()\n",
        "    print(f'[{epoch}/{EPOCHS}] Epoch, Loss {loss.item():.4f}')"
      ]
    },
    {
      "cell_type": "markdown",
      "metadata": {
        "id": "8KCrQji_brk5"
      },
      "source": [
        "## 6. Inference"
      ]
    },
    {
      "cell_type": "markdown",
      "metadata": {
        "id": "Evht3NtObtPk"
      },
      "source": [
        "### 6.1. Test"
      ]
    },
    {
      "cell_type": "code",
      "execution_count": 65,
      "metadata": {
        "colab": {
          "base_uri": "https://localhost:8080/"
        },
        "id": "qfLpHR4kS_nY",
        "outputId": "4127568e-30af-4149-cae1-e9921422cf8e"
      },
      "outputs": [
        {
          "name": "stdout",
          "output_type": "stream",
          "text": [
            "Predict (after training),  x = 4 -> output = 7.99776029586792\n"
          ]
        }
      ],
      "source": [
        "sample = Variable(torch.Tensor([[4.0]]))\n",
        "print(f\"Predict (after training),  x = 4 -> output = {model(sample).item()}\")"
      ]
    },
    {
      "cell_type": "markdown",
      "metadata": {
        "id": "wM6t9y3Xbwxd"
      },
      "source": [
        "### 6.2. Visualization"
      ]
    },
    {
      "cell_type": "code",
      "execution_count": 66,
      "metadata": {
        "colab": {
          "base_uri": "https://localhost:8080/",
          "height": 449
        },
        "id": "sAxnF6eZcmV8",
        "outputId": "2722914f-8deb-489c-aaed-b1f4d26d7056"
      },
      "outputs": [
        {
          "data": {
            "image/png": "[encoded data removed]",
            "text/plain": [
              "<Figure size 640x480 with 1 Axes>"
            ]
          },
          "metadata": {},
          "output_type": "display_data"
        }
      ],
      "source": [
        "plt.scatter(x, y)\n",
        "plt.xlabel('x')\n",
        "plt.ylabel('y')\n",
        "output = model(x)\n",
        "plt.plot(x.detach().numpy(), output.detach().numpy(), 'r')\n",
        "plt.show()"
      ]
    }
  ],
  "metadata": {
    "colab": {
      "provenance": []
    },
    "kernelspec": {
      "display_name": "Python 3",
      "name": "python3"
    },
    "language_info": {
      "name": "python"
    }
  },
  "nbformat": 4,
  "nbformat_minor": 0
}
